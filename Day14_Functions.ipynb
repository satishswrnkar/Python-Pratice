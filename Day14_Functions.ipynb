{
 "cells": [
  {
   "cell_type": "markdown",
   "metadata": {},
   "source": [
    "### Functions in Python"
   ]
  },
  {
   "cell_type": "markdown",
   "metadata": {},
   "source": [
    "    tqdm, time"
   ]
  },
  {
   "cell_type": "code",
   "execution_count": 10,
   "metadata": {},
   "outputs": [],
   "source": [
    "s = [ 'line1', 'line2', 'line3', 'line4']\n",
    "\n",
    "# 4\n",
    "\n",
    "# 100 % \n",
    "\n",
    "# 100 / 4 --> 25 % "
   ]
  },
  {
   "cell_type": "code",
   "execution_count": 2,
   "metadata": {},
   "outputs": [],
   "source": [
    "from tqdm import tqdm"
   ]
  },
  {
   "cell_type": "code",
   "execution_count": 14,
   "metadata": {},
   "outputs": [
    {
     "name": "stderr",
     "output_type": "stream",
     "text": [
      "  0%|                                                                                              | 0/4 [00:00<?, ?it/s]"
     ]
    }
   ],
   "source": [
    "t = tqdm(s) # s is an sequential object"
   ]
  },
  {
   "cell_type": "code",
   "execution_count": 7,
   "metadata": {},
   "outputs": [],
   "source": [
    "import time"
   ]
  },
  {
   "cell_type": "code",
   "execution_count": 15,
   "metadata": {},
   "outputs": [
    {
     "name": "stderr",
     "output_type": "stream",
     "text": [
      " 25%|█████████████████████▌                                                                | 1/4 [00:04<00:13,  4.59s/it]"
     ]
    },
    {
     "name": "stdout",
     "output_type": "stream",
     "text": [
      "line1\n"
     ]
    },
    {
     "name": "stderr",
     "output_type": "stream",
     "text": [
      " 50%|███████████████████████████████████████████                                           | 2/4 [00:05<00:07,  3.52s/it]"
     ]
    },
    {
     "name": "stdout",
     "output_type": "stream",
     "text": [
      "line2\n"
     ]
    },
    {
     "name": "stderr",
     "output_type": "stream",
     "text": [
      " 75%|████████████████████████████████████████████████████████████████▌                     | 3/4 [00:06<00:02,  2.77s/it]"
     ]
    },
    {
     "name": "stdout",
     "output_type": "stream",
     "text": [
      "line3\n"
     ]
    },
    {
     "name": "stderr",
     "output_type": "stream",
     "text": [
      "100%|██████████████████████████████████████████████████████████████████████████████████████| 4/4 [00:07<00:00,  1.90s/it]"
     ]
    },
    {
     "name": "stdout",
     "output_type": "stream",
     "text": [
      "line4\n"
     ]
    },
    {
     "name": "stderr",
     "output_type": "stream",
     "text": [
      "\n"
     ]
    }
   ],
   "source": [
    "\n",
    "for value in t:\n",
    "    time.sleep(1)\n",
    "    print(value)"
   ]
  },
  {
   "cell_type": "code",
   "execution_count": 9,
   "metadata": {},
   "outputs": [
    {
     "data": {
      "text/plain": [
       "['line1', 'line2', 'line3', 'line4']"
      ]
     },
     "execution_count": 9,
     "metadata": {},
     "output_type": "execute_result"
    }
   ],
   "source": [
    "data"
   ]
  },
  {
   "cell_type": "code",
   "execution_count": 19,
   "metadata": {},
   "outputs": [
    {
     "data": {
      "text/plain": [
       "100"
      ]
     },
     "execution_count": 19,
     "metadata": {},
     "output_type": "execute_result"
    }
   ],
   "source": [
    "len(range(100))"
   ]
  },
  {
   "cell_type": "code",
   "execution_count": 21,
   "metadata": {},
   "outputs": [
    {
     "data": {
      "text/plain": [
       "1.0"
      ]
     },
     "execution_count": 21,
     "metadata": {},
     "output_type": "execute_result"
    }
   ],
   "source": [
    "100 /100"
   ]
  },
  {
   "cell_type": "code",
   "execution_count": 22,
   "metadata": {},
   "outputs": [
    {
     "name": "stderr",
     "output_type": "stream",
     "text": [
      "100%|██████████████████████████████████████████████████████████████████████████████████| 100/100 [01:40<00:00,  1.01s/it]\n"
     ]
    }
   ],
   "source": [
    "for value in tqdm(range(100)):\n",
    "    time.sleep(1)"
   ]
  },
  {
   "cell_type": "markdown",
   "metadata": {},
   "source": [
    "### Modules and Packages"
   ]
  },
  {
   "cell_type": "code",
   "execution_count": 23,
   "metadata": {},
   "outputs": [],
   "source": [
    "import time\n",
    "\n",
    "# time whole module\n",
    "\n",
    "# time.sleep\n",
    "\n",
    "# time.ctime\n",
    "\n",
    "# time.time\n",
    "\n",
    "from time import sleep\n",
    "\n",
    "#"
   ]
  },
  {
   "cell_type": "code",
   "execution_count": 24,
   "metadata": {},
   "outputs": [
    {
     "name": "stdout",
     "output_type": "stream",
     "text": [
      "Hello world\n",
      "Each Print Statemetn\n",
      "Will Provide us with a new line\n"
     ]
    }
   ],
   "source": [
    "print(\"Hello world\")\n",
    "print(\"Each Print Statemetn\")\n",
    "print(\"Will Provide us with a new line\")"
   ]
  },
  {
   "cell_type": "code",
   "execution_count": 25,
   "metadata": {},
   "outputs": [
    {
     "name": "stdout",
     "output_type": "stream",
     "text": [
      "Help on built-in function print in module builtins:\n",
      "\n",
      "print(...)\n",
      "    print(value, ..., sep=' ', end='\\n', file=sys.stdout, flush=False)\n",
      "    \n",
      "    Prints the values to a stream, or to sys.stdout by default.\n",
      "    Optional keyword arguments:\n",
      "    file:  a file-like object (stream); defaults to the current sys.stdout.\n",
      "    sep:   string inserted between values, default a space.\n",
      "    end:   string appended after the last value, default a newline.\n",
      "    flush: whether to forcibly flush the stream.\n",
      "\n"
     ]
    }
   ],
   "source": [
    "help(print)"
   ]
  },
  {
   "cell_type": "code",
   "execution_count": 27,
   "metadata": {},
   "outputs": [
    {
     "name": "stdout",
     "output_type": "stream",
     "text": [
      "Hello world---Each Print Statemetn Will Provide us with a new line\n"
     ]
    }
   ],
   "source": [
    "print(\"Hello world\", end='---')\n",
    "print(\"Each Print Statemetn\", end=' ')\n",
    "print(\"Will Provide us with a new line\")"
   ]
  },
  {
   "cell_type": "code",
   "execution_count": 30,
   "metadata": {},
   "outputs": [
    {
     "name": "stdout",
     "output_type": "stream",
     "text": [
      "0 1 2 3 4 5 6 7 8 9 "
     ]
    }
   ],
   "source": [
    "for col in range(10):\n",
    "    print(col, end=' ')"
   ]
  },
  {
   "cell_type": "code",
   "execution_count": 34,
   "metadata": {},
   "outputs": [
    {
     "name": "stdout",
     "output_type": "stream",
     "text": [
      "0 1 2 3 "
     ]
    }
   ],
   "source": [
    "for col in range(4):\n",
    "    print(col, end=' ')"
   ]
  },
  {
   "cell_type": "code",
   "execution_count": 39,
   "metadata": {},
   "outputs": [
    {
     "name": "stdout",
     "output_type": "stream",
     "text": [
      "*\n",
      "**\n",
      "***\n",
      "****\n",
      "*****\n",
      "******\n",
      "*******\n",
      "********\n",
      "*********\n",
      "**********\n"
     ]
    }
   ],
   "source": [
    "for row in range(1, 11):\n",
    "    for col in range(row): # row = 3 # 0, 1, 2\n",
    "        print(\"*\", end='')\n",
    "    print()\n",
    "        "
   ]
  },
  {
   "cell_type": "code",
   "execution_count": 41,
   "metadata": {},
   "outputs": [
    {
     "name": "stdout",
     "output_type": "stream",
     "text": [
      "number: 10\n",
      "number: 40\n",
      "number: 20\n",
      "number: 30\n",
      "number: 50\n"
     ]
    }
   ],
   "source": [
    "i = 1\n",
    "values = []\n",
    "while i <= 5:\n",
    "    num = int(input(\"number: \"))\n",
    "    values.append(num)\n",
    "    i += 1"
   ]
  },
  {
   "cell_type": "code",
   "execution_count": 42,
   "metadata": {},
   "outputs": [
    {
     "data": {
      "text/plain": [
       "[10, 40, 20, 30, 50]"
      ]
     },
     "execution_count": 42,
     "metadata": {},
     "output_type": "execute_result"
    }
   ],
   "source": [
    "values"
   ]
  },
  {
   "cell_type": "markdown",
   "metadata": {},
   "source": [
    "### Guess Game "
   ]
  },
  {
   "cell_type": "code",
   "execution_count": 43,
   "metadata": {},
   "outputs": [],
   "source": [
    "# chances 5\n",
    "# guess "
   ]
  },
  {
   "cell_type": "code",
   "execution_count": 1,
   "metadata": {},
   "outputs": [
    {
     "name": "stdout",
     "output_type": "stream",
     "text": [
      "\n",
      "\n",
      "You have Left 5 to win this game.\n",
      "\n",
      "Enter your Guess (1-50): 719437497394\n",
      "Warning!! GUESS Between 1-50 Only!!\n",
      "\n",
      "\n",
      "You have Left 5 to win this game.\n",
      "\n",
      "Enter your Guess (1-50): 25\n",
      "Hint: Be Big Think Big\n",
      "\n",
      "\n",
      "You have Left 4 to win this game.\n",
      "\n",
      "Enter your Guess (1-50): 35\n",
      "Hint: Be Big Think Big\n",
      "\n",
      "\n",
      "You have Left 3 to win this game.\n",
      "\n",
      "Enter your Guess (1-50): 45\n",
      "Hint: Be in Limit, Think Lower\n",
      "\n",
      "\n",
      "You have Left 2 to win this game.\n",
      "\n",
      "Enter your Guess (1-50): 40\n",
      "Hint: Be Big Think Big\n",
      "\n",
      "\n",
      "You have Left 1 to win this game.\n",
      "\n",
      "Enter your Guess (1-50): 43\n",
      "Hint: Be in Limit, Think Lower\n",
      "Shame on You!!! You Such a LOOSER!!! Computer Guess Was: 41\n"
     ]
    }
   ],
   "source": [
    "from random import randint\n",
    "comGuess = randint(1, 50)\n",
    "chances = 5\n",
    "\n",
    "while chances != 0:\n",
    "    print(f\"\\n\\nYou have Left {chances} to win this game.\\n\")\n",
    "    userGuess = int(input(\"Enter your Guess (1-50): \"))\n",
    "    \n",
    "    if userGuess < 1 or userGuess > 50:\n",
    "        \n",
    "        print(\"Warning!! GUESS Between 1-50 Only!!\")\n",
    "        continue\n",
    "    \n",
    "    if userGuess == comGuess:\n",
    "            \n",
    "        print(\"Whola You such a Master!!! You Have Won The Game\")\n",
    "        break\n",
    "    \n",
    "    elif userGuess > comGuess:\n",
    "        \n",
    "        print(\"Hint: Be in Limit, Think Lower\")\n",
    "        \n",
    "    else:\n",
    "        \n",
    "        print(\"Hint: Be Big Think Big\")\n",
    "        \n",
    "    chances = chances - 1\n",
    "        \n",
    "else:\n",
    "    \n",
    "    print(f\"Shame on You!!! You Such a LOOSER!!! Computer Guess Was: {comGuess}\")\n",
    "    \n"
   ]
  },
  {
   "cell_type": "code",
   "execution_count": 2,
   "metadata": {},
   "outputs": [
    {
     "name": "stdout",
     "output_type": "stream",
     "text": [
      "Do you want to play Guess Game ? write yes to play: yes\n",
      "\n",
      "\n",
      "You have Left 5 to win this game.\n",
      "\n",
      "Enter your Guess (1-50): 25\n",
      "Hint: Be Big Think Big\n",
      "\n",
      "\n",
      "You have Left 4 to win this game.\n",
      "\n",
      "Enter your Guess (1-50): 40\n",
      "Hint: Be Big Think Big\n",
      "\n",
      "\n",
      "You have Left 3 to win this game.\n",
      "\n",
      "Enter your Guess (1-50): 45\n",
      "Hint: Be in Limit, Think Lower\n",
      "\n",
      "\n",
      "You have Left 2 to win this game.\n",
      "\n",
      "Enter your Guess (1-50): 43\n",
      "Hint: Be Big Think Big\n",
      "\n",
      "\n",
      "You have Left 1 to win this game.\n",
      "\n",
      "Enter your Guess (1-50): 44\n",
      "Whola You such a Master!!! You Have Won The Game\n",
      "Do you want to play Guess Game ? write yes to play: yes\n",
      "\n",
      "\n",
      "You have Left 5 to win this game.\n",
      "\n",
      "Enter your Guess (1-50): 25\n",
      "Hint: Be in Limit, Think Lower\n",
      "\n",
      "\n",
      "You have Left 4 to win this game.\n",
      "\n",
      "Enter your Guess (1-50): 15\n",
      "Hint: Be Big Think Big\n",
      "\n",
      "\n",
      "You have Left 3 to win this game.\n",
      "\n",
      "Enter your Guess (1-50): 20\n",
      "Whola You such a Master!!! You Have Won The Game\n",
      "Do you want to play Guess Game ? write yes to play: no\n"
     ]
    }
   ],
   "source": [
    "from random import randint\n",
    "\n",
    "while input(\"Do you want to play Guess Game ? write yes to play: \").strip().lower() == 'yes':\n",
    "\n",
    "    comGuess = randint(1, 50)\n",
    "    chances = 5\n",
    "\n",
    "    while chances != 0:\n",
    "        print(f\"\\n\\nYou have Left {chances} to win this game.\\n\")\n",
    "        userGuess = int(input(\"Enter your Guess (1-50): \"))\n",
    "\n",
    "        if userGuess < 1 or userGuess > 50:\n",
    "\n",
    "            print(\"Warning!! GUESS Between 1-50 Only!!\")\n",
    "            continue\n",
    "\n",
    "        if userGuess == comGuess:\n",
    "\n",
    "            print(\"Whola You such a Master!!! You Have Won The Game\")\n",
    "            break\n",
    "\n",
    "        elif userGuess > comGuess:\n",
    "\n",
    "            print(\"Hint: Be in Limit, Think Lower\")\n",
    "\n",
    "        else:\n",
    "\n",
    "            print(\"Hint: Be Big Think Big\")\n",
    "\n",
    "        chances = chances - 1\n",
    "\n",
    "    else:\n",
    "\n",
    "        print(f\"Shame on You!!! You Such a LOOSER!!! Computer Guess Was: {comGuess}\")\n",
    "\n"
   ]
  },
  {
   "cell_type": "code",
   "execution_count": 2,
   "metadata": {},
   "outputs": [
    {
     "name": "stdout",
     "output_type": "stream",
     "text": [
      "Overwriting guess_game.py\n"
     ]
    }
   ],
   "source": [
    "%%writefile guess_game.py\n",
    "import os\n",
    "from random import randint\n",
    "\n",
    "os.system('cls') # clearing output screen\n",
    "\n",
    "print(\"\\n\\n\")\n",
    "\n",
    "print(\"_\"*100)\n",
    "print(\"_\"*100)\n",
    "\n",
    "print(\"\\n\\n\")\n",
    "\n",
    "while input(\"\\n\\n\\t\\tDo you want to play Guess Game ? write yes to play: \").strip().lower() == 'yes':\n",
    "\n",
    "    comGuess = randint(1, 50)\n",
    "    chances = 5\n",
    "\n",
    "    while chances != 0:\n",
    "        print(\"\\n\\n\")\n",
    "        print(f\"You have Left {chances} to win this game.\".center(100))\n",
    "        userGuess = int(input(\"\\nEnter your Guess (1-50): \"))\n",
    "\n",
    "        if userGuess < 1 or userGuess > 50:\n",
    "            print(\"\\n\")\n",
    "            print(\"Warning!! GUESS Between 1-50 Only!!\".center(100))\n",
    "            continue\n",
    "\n",
    "        if userGuess == comGuess:\n",
    "            print(\"\\n\")\n",
    "            print(\"Whola You such a Master!!! You Have Won The Game\".center(100))\n",
    "            break\n",
    "\n",
    "        elif userGuess > comGuess:\n",
    "            print(\"\\n\")\n",
    "            print(\"Hint: Be in Limit, Think Lower\".center(100))\n",
    "\n",
    "        else:\n",
    "            print(\"\\n\")\n",
    "            print(\"Hint: Be Big Think Big\".center(100))\n",
    "\n",
    "        chances = chances - 1\n",
    "\n",
    "    else:\n",
    "        print(\"\\n\")\n",
    "        print(f\"Shame on You!!! You Such a LOOSER!!! Computer Guess Was: {comGuess}\".center(100))\n",
    "\n",
    "print(\"\\n\\n\")\n",
    "\n",
    "print(\"_\"*100)\n",
    "print(\"_\"*100)\n",
    "\n",
    "print(\"\\n\\n\")"
   ]
  },
  {
   "cell_type": "markdown",
   "metadata": {},
   "source": [
    "    how to install package\n",
    "\n",
    "    how to create exe files from python code "
   ]
  },
  {
   "cell_type": "code",
   "execution_count": 6,
   "metadata": {},
   "outputs": [],
   "source": [
    "from tqdm import tqdm \n",
    "from time import sleep"
   ]
  },
  {
   "cell_type": "code",
   "execution_count": 7,
   "metadata": {},
   "outputs": [
    {
     "name": "stderr",
     "output_type": "stream",
     "text": [
      "100%|██████████████████████████████████████████████████████████████████████████████████| 300/300 [05:03<00:00,  1.01s/it]\n"
     ]
    }
   ],
   "source": [
    "for _ in tqdm(range(300)):\n",
    "    sleep(1)"
   ]
  },
  {
   "cell_type": "code",
   "execution_count": null,
   "metadata": {},
   "outputs": [],
   "source": []
  },
  {
   "cell_type": "markdown",
   "metadata": {},
   "source": [
    "#### Functions \n",
    "\n",
    "* __functions are block of statemetns to perform a specific task__\n",
    "* __it helps to reduce code length, better reusable coding__\n"
   ]
  },
  {
   "cell_type": "markdown",
   "metadata": {},
   "source": [
    "### Defination\n",
    "\n",
    "    This is also called function body, where we put all statements necessory to perform specific task\n",
    "    \n",
    "\n",
    "### Calling\n",
    "\n",
    "    executing a functions body whenever we need to run that task"
   ]
  },
  {
   "cell_type": "code",
   "execution_count": 8,
   "metadata": {},
   "outputs": [
    {
     "name": "stdout",
     "output_type": "stream",
     "text": [
      "hello world\n"
     ]
    }
   ],
   "source": [
    "data = print('hello world') # without return type "
   ]
  },
  {
   "cell_type": "code",
   "execution_count": 9,
   "metadata": {},
   "outputs": [
    {
     "name": "stdout",
     "output_type": "stream",
     "text": [
      "None\n"
     ]
    }
   ],
   "source": [
    "print(data)"
   ]
  },
  {
   "cell_type": "code",
   "execution_count": 10,
   "metadata": {},
   "outputs": [
    {
     "name": "stdout",
     "output_type": "stream",
     "text": [
      "name: Sachin Yadav\n"
     ]
    }
   ],
   "source": [
    "name = input(\"name: \") # with return type "
   ]
  },
  {
   "cell_type": "code",
   "execution_count": 11,
   "metadata": {},
   "outputs": [
    {
     "name": "stdout",
     "output_type": "stream",
     "text": [
      "Sachin Yadav\n"
     ]
    }
   ],
   "source": [
    "print(name)"
   ]
  },
  {
   "cell_type": "markdown",
   "metadata": {},
   "source": [
    "__Syntax:__\n",
    "\n",
    "    to define a function\n",
    "    \n",
    "    \n",
    "    def function_name(para1, para2, ... ): # variables --> formal parameters\n",
    "        statement-1\n",
    "        statement-2\n",
    "        statement-3\n",
    "          ...\n",
    "        statement-n\n",
    "        \n",
    "        return value\n",
    "        \n",
    "    to call functions\n",
    "    \n",
    "    output = function_name(value-1, value-2, ...) # values --> actual parameters \n",
    "    \n",
    "    "
   ]
  },
  {
   "cell_type": "code",
   "execution_count": null,
   "metadata": {},
   "outputs": [],
   "source": []
  },
  {
   "cell_type": "code",
   "execution_count": 25,
   "metadata": {},
   "outputs": [],
   "source": [
    "# defination of function\n",
    "# doc-string / documentation string\n",
    "def welcome(name):\n",
    "    \"\"\"\n",
    "    welcome function prints a welcome messege to a user\n",
    "    \"\"\"\n",
    "    print(\"__\"*30, '\\n')\n",
    "    print(f\"Hello {name}, Welcome to Python Programming.\".center(60))\n",
    "    print(\"__\"*30, '\\n')\n",
    "    return\n",
    "\n"
   ]
  },
  {
   "cell_type": "code",
   "execution_count": 26,
   "metadata": {},
   "outputs": [
    {
     "name": "stdout",
     "output_type": "stream",
     "text": [
      "Help on function welcome in module __main__:\n",
      "\n",
      "welcome(name)\n",
      "    welcome function prints a welcome messege to a user\n",
      "\n"
     ]
    }
   ],
   "source": [
    "help(welcome)"
   ]
  },
  {
   "cell_type": "code",
   "execution_count": 27,
   "metadata": {},
   "outputs": [
    {
     "name": "stdout",
     "output_type": "stream",
     "text": [
      "____________________________________________________________ \n",
      "\n",
      "     Hello Sachin Yadav, Welcome to Python Programming.     \n",
      "____________________________________________________________ \n",
      "\n"
     ]
    }
   ],
   "source": [
    "# calling of fuction\n",
    "\n",
    "value = welcome(\"Sachin Yadav\")"
   ]
  },
  {
   "cell_type": "code",
   "execution_count": 22,
   "metadata": {},
   "outputs": [
    {
     "name": "stdout",
     "output_type": "stream",
     "text": [
      "None\n"
     ]
    }
   ],
   "source": [
    "print(value)"
   ]
  },
  {
   "cell_type": "code",
   "execution_count": 28,
   "metadata": {},
   "outputs": [],
   "source": [
    "names = [ 'Rajat Goyal', 'Nidhi Sharma', 'Simran Grover', 'Sachin Yadav', 'Kushal Samota',]"
   ]
  },
  {
   "cell_type": "code",
   "execution_count": 29,
   "metadata": {},
   "outputs": [
    {
     "name": "stdout",
     "output_type": "stream",
     "text": [
      "____________________________________________________________ \n",
      "\n",
      "     Hello Rajat Goyal, Welcome to Python Programming.      \n",
      "____________________________________________________________ \n",
      "\n",
      "____________________________________________________________ \n",
      "\n",
      "     Hello Nidhi Sharma, Welcome to Python Programming.     \n",
      "____________________________________________________________ \n",
      "\n",
      "____________________________________________________________ \n",
      "\n",
      "    Hello Simran Grover, Welcome to Python Programming.     \n",
      "____________________________________________________________ \n",
      "\n",
      "____________________________________________________________ \n",
      "\n",
      "     Hello Sachin Yadav, Welcome to Python Programming.     \n",
      "____________________________________________________________ \n",
      "\n",
      "____________________________________________________________ \n",
      "\n",
      "    Hello Kushal Samota, Welcome to Python Programming.     \n",
      "____________________________________________________________ \n",
      "\n"
     ]
    }
   ],
   "source": [
    "for name in names:\n",
    "    \n",
    "    welcome(name)\n",
    "    "
   ]
  },
  {
   "cell_type": "code",
   "execution_count": 36,
   "metadata": {},
   "outputs": [],
   "source": [
    "def is_even(number):\n",
    "    \"\"\"\n",
    "        This functions return True if given number is EVEN else it returns False\n",
    "    \"\"\"\n",
    "    if number % 2 == 0:\n",
    "        value = True\n",
    "    else:\n",
    "        value = False  \n",
    "    return value"
   ]
  },
  {
   "cell_type": "code",
   "execution_count": 40,
   "metadata": {},
   "outputs": [],
   "source": [
    "from random import randint"
   ]
  },
  {
   "cell_type": "markdown",
   "metadata": {},
   "source": [
    "__List Comprehension__"
   ]
  },
  {
   "cell_type": "code",
   "execution_count": 42,
   "metadata": {},
   "outputs": [],
   "source": [
    "l = [ 1, 2, 3, 4, 5 ]"
   ]
  },
  {
   "cell_type": "code",
   "execution_count": 43,
   "metadata": {},
   "outputs": [
    {
     "data": {
      "text/plain": [
       "[1, 2, 3, 4, 5]"
      ]
     },
     "execution_count": 43,
     "metadata": {},
     "output_type": "execute_result"
    }
   ],
   "source": [
    "l = [ value for value in range(1, 6)]\n",
    "l"
   ]
  },
  {
   "cell_type": "code",
   "execution_count": 45,
   "metadata": {},
   "outputs": [
    {
     "name": "stdout",
     "output_type": "stream",
     "text": [
      "JAVA\n",
      "C\n",
      "C++\n",
      "RUBY\n",
      "REDHAT\n"
     ]
    }
   ],
   "source": [
    "name = [ 'java', 'c', 'c++', 'ruby', 'redhat']\n",
    "\n",
    "for item in name:\n",
    "    print(item.upper())"
   ]
  },
  {
   "cell_type": "code",
   "execution_count": 46,
   "metadata": {},
   "outputs": [
    {
     "name": "stdout",
     "output_type": "stream",
     "text": [
      "Hello World\n",
      "Hello World\n",
      "Hello World\n",
      "Hello World\n",
      "Hello World\n",
      "Hello World\n",
      "Hello World\n",
      "Hello World\n",
      "Hello World\n",
      "Hello World\n"
     ]
    }
   ],
   "source": [
    "for _ in range(10):\n",
    "    print(\"Hello World\")"
   ]
  },
  {
   "cell_type": "code",
   "execution_count": 44,
   "metadata": {},
   "outputs": [
    {
     "data": {
      "text/plain": [
       "[30, 10, 35, 11, 6, 5, 24, 39, 42, 4]"
      ]
     },
     "execution_count": 44,
     "metadata": {},
     "output_type": "execute_result"
    }
   ],
   "source": [
    "l = [ randint(1, 50) for _ in range(10) ]\n",
    "l"
   ]
  },
  {
   "cell_type": "code",
   "execution_count": 47,
   "metadata": {},
   "outputs": [
    {
     "data": {
      "text/plain": [
       "[30, 35, 41, 20, 45, 21, 30, 43, 32, 10]"
      ]
     },
     "execution_count": 47,
     "metadata": {},
     "output_type": "execute_result"
    }
   ],
   "source": [
    "l = [ randint(1, 50) for item in range(10) ]\n",
    "l"
   ]
  },
  {
   "cell_type": "code",
   "execution_count": 37,
   "metadata": {},
   "outputs": [
    {
     "name": "stdout",
     "output_type": "stream",
     "text": [
      "Help on function is_even in module __main__:\n",
      "\n",
      "is_even(number)\n",
      "    This functions return True if given number is EVEN else it returns False\n",
      "\n"
     ]
    }
   ],
   "source": [
    "help(is_even)"
   ]
  },
  {
   "cell_type": "code",
   "execution_count": 38,
   "metadata": {},
   "outputs": [
    {
     "name": "stdout",
     "output_type": "stream",
     "text": [
      "True\n"
     ]
    }
   ],
   "source": [
    "output = is_even(10)\n",
    "print(output)"
   ]
  },
  {
   "cell_type": "code",
   "execution_count": 39,
   "metadata": {},
   "outputs": [
    {
     "name": "stdout",
     "output_type": "stream",
     "text": [
      "False\n"
     ]
    }
   ],
   "source": [
    "output = is_even(111)\n",
    "print(output)"
   ]
  },
  {
   "cell_type": "code",
   "execution_count": 48,
   "metadata": {},
   "outputs": [
    {
     "name": "stdout",
     "output_type": "stream",
     "text": [
      "Input[1]34\n",
      "Input[2]25\n",
      "Input[3]17\n",
      "Input[4]30\n",
      "Input[5]10\n"
     ]
    }
   ],
   "source": [
    "numbers = [ int(input(f\"Input[{i}]\")) for i in range(1, 6) ]"
   ]
  },
  {
   "cell_type": "code",
   "execution_count": 49,
   "metadata": {},
   "outputs": [
    {
     "data": {
      "text/plain": [
       "[34, 25, 17, 30, 10]"
      ]
     },
     "execution_count": 49,
     "metadata": {},
     "output_type": "execute_result"
    }
   ],
   "source": [
    "numbers"
   ]
  },
  {
   "cell_type": "code",
   "execution_count": 50,
   "metadata": {},
   "outputs": [],
   "source": [
    "nums = [ randint(1, 50) for _ in range(10)]"
   ]
  },
  {
   "cell_type": "code",
   "execution_count": 51,
   "metadata": {},
   "outputs": [],
   "source": [
    "def is_even(number):\n",
    "    \"\"\"\n",
    "        This functions return True if given number is EVEN else it returns False\n",
    "    \"\"\"\n",
    "    if number % 2 == 0:\n",
    "        value = True\n",
    "    else:\n",
    "        value = False  \n",
    "    return value"
   ]
  },
  {
   "cell_type": "code",
   "execution_count": 52,
   "metadata": {},
   "outputs": [
    {
     "data": {
      "text/plain": [
       "[29, 10, 18, 4, 35, 5, 6, 49, 45, 21]"
      ]
     },
     "execution_count": 52,
     "metadata": {},
     "output_type": "execute_result"
    }
   ],
   "source": [
    "nums"
   ]
  },
  {
   "cell_type": "code",
   "execution_count": 53,
   "metadata": {},
   "outputs": [
    {
     "name": "stdout",
     "output_type": "stream",
     "text": [
      "10\n",
      "18\n",
      "4\n",
      "6\n"
     ]
    }
   ],
   "source": [
    "for num in nums:\n",
    "    if is_even(num):\n",
    "        print(num)"
   ]
  },
  {
   "cell_type": "code",
   "execution_count": 54,
   "metadata": {},
   "outputs": [],
   "source": [
    "even = [] # 10, 18, 4, 6\n",
    "odd = []\n",
    "\n",
    "for num in nums:\n",
    "    if is_even(num):\n",
    "        even.append(num)\n",
    "    else:\n",
    "        odd.append(num)"
   ]
  },
  {
   "cell_type": "code",
   "execution_count": 55,
   "metadata": {},
   "outputs": [
    {
     "data": {
      "text/plain": [
       "[29, 10, 18, 4, 35, 5, 6, 49, 45, 21]"
      ]
     },
     "execution_count": 55,
     "metadata": {},
     "output_type": "execute_result"
    }
   ],
   "source": [
    "nums"
   ]
  },
  {
   "cell_type": "code",
   "execution_count": 56,
   "metadata": {},
   "outputs": [
    {
     "data": {
      "text/plain": [
       "[10, 18, 4, 6]"
      ]
     },
     "execution_count": 56,
     "metadata": {},
     "output_type": "execute_result"
    }
   ],
   "source": [
    "even"
   ]
  },
  {
   "cell_type": "code",
   "execution_count": 57,
   "metadata": {},
   "outputs": [
    {
     "data": {
      "text/plain": [
       "[29, 35, 5, 49, 45, 21]"
      ]
     },
     "execution_count": 57,
     "metadata": {},
     "output_type": "execute_result"
    }
   ],
   "source": [
    "odd"
   ]
  },
  {
   "cell_type": "code",
   "execution_count": 58,
   "metadata": {},
   "outputs": [],
   "source": [
    "name = []"
   ]
  },
  {
   "cell_type": "code",
   "execution_count": 59,
   "metadata": {},
   "outputs": [],
   "source": [
    "name.append('sachin')"
   ]
  },
  {
   "cell_type": "code",
   "execution_count": 60,
   "metadata": {},
   "outputs": [
    {
     "data": {
      "text/plain": [
       "['sachin']"
      ]
     },
     "execution_count": 60,
     "metadata": {},
     "output_type": "execute_result"
    }
   ],
   "source": [
    "name"
   ]
  },
  {
   "cell_type": "code",
   "execution_count": 61,
   "metadata": {},
   "outputs": [],
   "source": [
    "name.append('rajat')"
   ]
  },
  {
   "cell_type": "code",
   "execution_count": 62,
   "metadata": {},
   "outputs": [
    {
     "data": {
      "text/plain": [
       "['sachin', 'rajat']"
      ]
     },
     "execution_count": 62,
     "metadata": {},
     "output_type": "execute_result"
    }
   ],
   "source": [
    "name"
   ]
  },
  {
   "cell_type": "code",
   "execution_count": 63,
   "metadata": {},
   "outputs": [],
   "source": [
    "name.append('kushal')"
   ]
  },
  {
   "cell_type": "code",
   "execution_count": 64,
   "metadata": {},
   "outputs": [
    {
     "data": {
      "text/plain": [
       "['sachin', 'rajat', 'kushal']"
      ]
     },
     "execution_count": 64,
     "metadata": {},
     "output_type": "execute_result"
    }
   ],
   "source": [
    "name"
   ]
  },
  {
   "cell_type": "code",
   "execution_count": null,
   "metadata": {},
   "outputs": [],
   "source": [
    "%%writefile guess_game.py\n",
    "import os\n",
    "from random import randint\n",
    "\n",
    "os.system('cls') # clearing output screen\n",
    "\n",
    "print(\"\\n\\n\")\n",
    "\n",
    "print(\"_\"*100)\n",
    "print(\"_\"*100)\n",
    "\n",
    "print(\"\\n\\n\")\n",
    "\n",
    "while input(\"\\n\\n\\t\\tDo you want to play Guess Game ? write yes to play: \").strip().lower() == 'yes':\n",
    "\n",
    "    comGuess = randint(1, 50)\n",
    "    chances = 5\n",
    "\n",
    "    while chances != 0:\n",
    "        print(\"\\n\\n\")\n",
    "        print(f\"You have Left {chances} to win this game.\".center(100))\n",
    "        userGuess = int(input(\"\\nEnter your Guess (1-50): \"))\n",
    "\n",
    "        if userGuess < 1 or userGuess > 50:\n",
    "            print(\"\\n\")\n",
    "            print(\"Warning!! GUESS Between 1-50 Only!!\".center(100))\n",
    "            continue\n",
    "\n",
    "        if userGuess == comGuess:\n",
    "            print(\"\\n\")\n",
    "            print(\"Whola You such a Master!!! You Have Won The Game\".center(100))\n",
    "            break\n",
    "\n",
    "        elif userGuess > comGuess:\n",
    "            print(\"\\n\")\n",
    "            print(\"Hint: Be in Limit, Think Lower\".center(100))\n",
    "\n",
    "        else:\n",
    "            print(\"\\n\")\n",
    "            print(\"Hint: Be Big Think Big\".center(100))\n",
    "\n",
    "        chances = chances - 1\n",
    "\n",
    "    else:\n",
    "        print(\"\\n\")\n",
    "        print(f\"Shame on You!!! You Such a LOOSER!!! Computer Guess Was: {comGuess}\".center(100))\n",
    "\n",
    "print(\"\\n\\n\")\n",
    "\n",
    "print(\"_\"*100)\n",
    "print(\"_\"*100)\n",
    "\n",
    "print(\"\\n\\n\")"
   ]
  },
  {
   "cell_type": "code",
   "execution_count": 71,
   "metadata": {},
   "outputs": [
    {
     "name": "stdout",
     "output_type": "stream",
     "text": [
      "1\n",
      "2\n",
      "3\n",
      "4\n",
      "ha ha ah\n"
     ]
    }
   ],
   "source": [
    "num = [ 1, 2, 3, 4]\n",
    "\n",
    "for num in num:\n",
    "    print(num)\n",
    "else:\n",
    "    print('ha ha ah')"
   ]
  },
  {
   "cell_type": "code",
   "execution_count": 72,
   "metadata": {},
   "outputs": [
    {
     "data": {
      "text/plain": [
       "4"
      ]
     },
     "execution_count": 72,
     "metadata": {},
     "output_type": "execute_result"
    }
   ],
   "source": [
    "num"
   ]
  },
  {
   "cell_type": "code",
   "execution_count": 69,
   "metadata": {},
   "outputs": [],
   "source": [
    "def is_player_win(comGuess, userGuess):\n",
    "    \"\"\"\n",
    "        Guess Game Player Win Condition Testing\n",
    "    \"\"\"\n",
    "    flag = False\n",
    "    \n",
    "    if comGuess > userGuess:\n",
    "        print(\"\\n\\n\")\n",
    "        print(\"Hint: Be Big Think Big\".center(100))\n",
    "    \n",
    "    elif comGuess < userGuess:\n",
    "        print(\"\\n\\n\")\n",
    "        print(\"Hint: Be in Limits Think Lower\".center(100))\n",
    "    \n",
    "    else:\n",
    "        print(\"\\n\\n\")\n",
    "        print(\"!!!Winner Winner Chicken Dinner!!!\".center(100))\n",
    "        flag = True\n",
    "    \n",
    "    return flag"
   ]
  },
  {
   "cell_type": "code",
   "execution_count": 68,
   "metadata": {},
   "outputs": [
    {
     "name": "stdout",
     "output_type": "stream",
     "text": [
      "\n",
      "\n",
      "\n",
      "!!!Winner Winner Chicken Dinner!!!\n"
     ]
    },
    {
     "data": {
      "text/plain": [
       "True"
      ]
     },
     "execution_count": 68,
     "metadata": {},
     "output_type": "execute_result"
    }
   ],
   "source": [
    "is_player_win(23, 23)"
   ]
  },
  {
   "cell_type": "code",
   "execution_count": 73,
   "metadata": {},
   "outputs": [],
   "source": [
    "def is_valid(num):\n",
    "    \"\"\"\n",
    "        it will check whether a num is in range 1-50 or not\n",
    "    \"\"\"\n",
    "    flag = True\n",
    "    if num < 1 or num > 50:\n",
    "        print(\"\\n\\n\")\n",
    "        print(f\"Warning!!!Guess in Between 1-50 only\".center(100))\n",
    "        flag = False\n",
    "    return flag"
   ]
  },
  {
   "cell_type": "code",
   "execution_count": 75,
   "metadata": {},
   "outputs": [
    {
     "name": "stdout",
     "output_type": "stream",
     "text": [
      "\n",
      "\n",
      "\n",
      "                                Warning!!!Guess in Between 1-50 only                                \n"
     ]
    },
    {
     "data": {
      "text/plain": [
       "False"
      ]
     },
     "execution_count": 75,
     "metadata": {},
     "output_type": "execute_result"
    }
   ],
   "source": [
    "is_valid(-10)"
   ]
  },
  {
   "cell_type": "code",
   "execution_count": 76,
   "metadata": {},
   "outputs": [
    {
     "name": "stdout",
     "output_type": "stream",
     "text": [
      "\n",
      "\n",
      "\n",
      "                                Warning!!!Guess in Between 1-50 only                                \n"
     ]
    },
    {
     "data": {
      "text/plain": [
       "False"
      ]
     },
     "execution_count": 76,
     "metadata": {},
     "output_type": "execute_result"
    }
   ],
   "source": [
    "is_valid(100)"
   ]
  },
  {
   "cell_type": "code",
   "execution_count": 78,
   "metadata": {},
   "outputs": [
    {
     "name": "stdout",
     "output_type": "stream",
     "text": [
      "Overwriting guess_game.py\n"
     ]
    }
   ],
   "source": [
    "%%writefile guess_game.py\n",
    "\n",
    "import random\n",
    "import os\n",
    "\n",
    "\n",
    "def is_player_win(comGuess, userGuess):\n",
    "    \"\"\"\n",
    "        Guess Game Player Win Condition Testing\n",
    "    \"\"\"\n",
    "    flag = False\n",
    "    \n",
    "    if comGuess > userGuess:\n",
    "        print(\"\\n\\n\")\n",
    "        print(\"Hint: Be Big Think Big\".center(100))\n",
    "    \n",
    "    elif comGuess < userGuess:\n",
    "        print(\"\\n\\n\")\n",
    "        print(\"Hint: Be in Limits Think Lower\".center(100))\n",
    "    \n",
    "    else:\n",
    "        print(\"\\n\\n\")\n",
    "        print(\"!!!Winner Winner Chicken Dinner!!!\".center(100))\n",
    "        flag = True\n",
    "    \n",
    "    return flag\n",
    "\n",
    "\n",
    "def is_valid(num):\n",
    "    \"\"\"\n",
    "        it will check whether a num is in range 1-50 or not\n",
    "    \"\"\"\n",
    "    flag = True\n",
    "    if num < 1 or num > 50:\n",
    "        print(\"\\n\\n\")\n",
    "        print(f\"Warning!!!Guess in Between 1-50 only\".center(100))\n",
    "        flag = False\n",
    "    return flag\n",
    "\n",
    "def decorate():\n",
    "    print(\"\\n\\n\")\n",
    "    print(\"__\"*50)\n",
    "    print(\"__\"*50)\n",
    "    print(\"\\n\\n\")\n",
    "\n",
    "def guess_game():\n",
    "    os.system('cls')\n",
    "    decorate()\n",
    "    comGuess = random.randint(1, 50)\n",
    "    chances = 5\n",
    "    while chances != 0:\n",
    "        print('\\n\\n')\n",
    "        print(f\"You have left {chances} to win this game\".center(100))\n",
    "        userGuess = int(input(\"Your Guess (1-50): \"))\n",
    "        if not is_valid(userGuess):\n",
    "            continue\n",
    "        if  is_player_win(comGuess, userGuess):\n",
    "            break\n",
    "        chances -= 1\n",
    "    else:\n",
    "        print(\"\\n\\n\")\n",
    "        print(f\"Shame on You!!! You Such a LOOSER!!! Computer Guess Was: {comGuess}\".center(100))\n",
    "    decorate()\n",
    "    \n",
    "    \n",
    "while True:\n",
    "    guess_game()\n",
    "    \n",
    "    ch = input(\"Write Yes to Play Again ? \").lower().strip()\n",
    "    if ch != 'yes':\n",
    "        break"
   ]
  },
  {
   "cell_type": "markdown",
   "metadata": {},
   "source": [
    "###### type of parameters\n",
    "\n",
    "###### Scopping & Recursion\n",
    "\n",
    "###### Advance Function"
   ]
  },
  {
   "cell_type": "code",
   "execution_count": null,
   "metadata": {},
   "outputs": [],
   "source": []
  }
 ],
 "metadata": {
  "kernelspec": {
   "display_name": "Python 3",
   "language": "python",
   "name": "python3"
  },
  "language_info": {
   "codemirror_mode": {
    "name": "ipython",
    "version": 3
   },
   "file_extension": ".py",
   "mimetype": "text/x-python",
   "name": "python",
   "nbconvert_exporter": "python",
   "pygments_lexer": "ipython3",
   "version": "3.8.3"
  }
 },
 "nbformat": 4,
 "nbformat_minor": 4
}
