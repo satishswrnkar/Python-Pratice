{
 "cells": [
  {
   "cell_type": "code",
   "execution_count": 1,
   "metadata": {},
   "outputs": [],
   "source": [
    "### last character \n",
    "\n",
    "s = \"Hello World!\" # \"Hello World\\n\"\n",
    "\n",
    "# jump -> +1 [L-R]\n",
    "# start -> None\n",
    "# End -> 10+1 "
   ]
  },
  {
   "cell_type": "code",
   "execution_count": 11,
   "metadata": {},
   "outputs": [
    {
     "data": {
      "text/plain": [
       "'HelloWorld!'"
      ]
     },
     "execution_count": 11,
     "metadata": {},
     "output_type": "execute_result"
    }
   ],
   "source": [
    "s[:5]+s[-6:]"
   ]
  },
  {
   "cell_type": "code",
   "execution_count": 12,
   "metadata": {},
   "outputs": [
    {
     "data": {
      "text/plain": [
       "8"
      ]
     },
     "execution_count": 12,
     "metadata": {},
     "output_type": "execute_result"
    }
   ],
   "source": [
    "s.find('r')"
   ]
  },
  {
   "cell_type": "code",
   "execution_count": 14,
   "metadata": {},
   "outputs": [
    {
     "data": {
      "text/plain": [
       "'Hello Wold!'"
      ]
     },
     "execution_count": 14,
     "metadata": {},
     "output_type": "execute_result"
    }
   ],
   "source": [
    "s[:8]+s[9:]"
   ]
  },
  {
   "cell_type": "code",
   "execution_count": 9,
   "metadata": {},
   "outputs": [
    {
     "data": {
      "text/plain": [
       "'Hello Wor'"
      ]
     },
     "execution_count": 9,
     "metadata": {},
     "output_type": "execute_result"
    }
   ],
   "source": [
    "s[:-3]"
   ]
  },
  {
   "cell_type": "code",
   "execution_count": 2,
   "metadata": {},
   "outputs": [
    {
     "name": "stdout",
     "output_type": "stream",
     "text": [
      "Hello World!\n"
     ]
    }
   ],
   "source": [
    "print(s)"
   ]
  },
  {
   "cell_type": "code",
   "execution_count": 3,
   "metadata": {},
   "outputs": [
    {
     "data": {
      "text/plain": [
       "'Hello World'"
      ]
     },
     "execution_count": 3,
     "metadata": {},
     "output_type": "execute_result"
    }
   ],
   "source": [
    "s[:11]"
   ]
  },
  {
   "cell_type": "code",
   "execution_count": 4,
   "metadata": {},
   "outputs": [
    {
     "data": {
      "text/plain": [
       "12"
      ]
     },
     "execution_count": 4,
     "metadata": {},
     "output_type": "execute_result"
    }
   ],
   "source": [
    "len(s)"
   ]
  },
  {
   "cell_type": "code",
   "execution_count": 5,
   "metadata": {},
   "outputs": [
    {
     "data": {
      "text/plain": [
       "11"
      ]
     },
     "execution_count": 5,
     "metadata": {},
     "output_type": "execute_result"
    }
   ],
   "source": [
    "len(s) - 1"
   ]
  },
  {
   "cell_type": "code",
   "execution_count": 6,
   "metadata": {},
   "outputs": [
    {
     "data": {
      "text/plain": [
       "'Hello World'"
      ]
     },
     "execution_count": 6,
     "metadata": {},
     "output_type": "execute_result"
    }
   ],
   "source": [
    "s[:len(s)-1]"
   ]
  },
  {
   "cell_type": "code",
   "execution_count": 7,
   "metadata": {},
   "outputs": [
    {
     "data": {
      "text/plain": [
       "'Hello World'"
      ]
     },
     "execution_count": 7,
     "metadata": {},
     "output_type": "execute_result"
    }
   ],
   "source": [
    "s[:-1]"
   ]
  },
  {
   "cell_type": "markdown",
   "metadata": {},
   "source": [
    "#### Data Type - tuple, list, set, frozen set "
   ]
  },
  {
   "cell_type": "code",
   "execution_count": 15,
   "metadata": {},
   "outputs": [
    {
     "name": "stderr",
     "output_type": "stream",
     "text": [
      "100%|███████████████████████████████████████████████████████████████████████████████████████████████| 120/120 [02:01<00:00,  1.01s/it]\n"
     ]
    }
   ],
   "source": [
    "import time\n",
    "import tqdm \n",
    "\n",
    "for _ in tqdm.tqdm(range(120)):\n",
    "    time.sleep(1)"
   ]
  },
  {
   "cell_type": "code",
   "execution_count": 16,
   "metadata": {},
   "outputs": [
    {
     "name": "stdout",
     "output_type": "stream",
     "text": [
      "!\n",
      "d\n",
      "l\n",
      "r\n",
      "o\n",
      "W\n",
      " \n",
      "o\n",
      "l\n",
      "l\n",
      "e\n",
      "H\n"
     ]
    }
   ],
   "source": [
    "## output of this code \n",
    "s = \"Hello World!\"\n",
    "\n",
    "while s:\n",
    "    print(s[-1])\n",
    "    s = s[:-1]\n",
    "    "
   ]
  },
  {
   "cell_type": "code",
   "execution_count": 21,
   "metadata": {},
   "outputs": [
    {
     "name": "stdout",
     "output_type": "stream",
     "text": [
      "\n"
     ]
    }
   ],
   "source": [
    "print(s)"
   ]
  },
  {
   "cell_type": "code",
   "execution_count": 20,
   "metadata": {},
   "outputs": [
    {
     "name": "stdout",
     "output_type": "stream",
     "text": [
      "! d l r o W   o l l e H "
     ]
    }
   ],
   "source": [
    "## output of this code \n",
    "s = \"Hello World!\"\n",
    "\n",
    "while s:\n",
    "    print(s[-1], end=\" \")\n",
    "    s = s[:-1]\n",
    "    "
   ]
  },
  {
   "cell_type": "code",
   "execution_count": 19,
   "metadata": {},
   "outputs": [
    {
     "name": "stdout",
     "output_type": "stream",
     "text": [
      "Hello Hello Hello Hello Hello "
     ]
    }
   ],
   "source": [
    "c = 1\n",
    "while c <= 5:\n",
    "    print(\"Hello\", end=\" \") # sep=\" \", end=\"\\n\"\n",
    "    c = c + 1"
   ]
  },
  {
   "cell_type": "markdown",
   "metadata": {},
   "source": [
    "    s[:-1]"
   ]
  },
  {
   "cell_type": "code",
   "execution_count": 22,
   "metadata": {},
   "outputs": [
    {
     "name": "stderr",
     "output_type": "stream",
     "text": [
      "100%|███████████████████████████████████████████████████████████████████████████████████████████████| 120/120 [02:01<00:00,  1.01s/it]\n"
     ]
    }
   ],
   "source": [
    "import time\n",
    "import tqdm \n",
    "\n",
    "for _ in tqdm.tqdm(range(120)):\n",
    "    time.sleep(1)"
   ]
  },
  {
   "cell_type": "code",
   "execution_count": 23,
   "metadata": {},
   "outputs": [
    {
     "name": "stdout",
     "output_type": "stream",
     "text": [
      "Java\n",
      "Java\n",
      "Java\n",
      "Java\n",
      "Java\n",
      "Java\n"
     ]
    }
   ],
   "source": [
    "l = [ \"Java\", \"C\", \"C++\", \"Ruby\", \"Perl\", \"Python\"]\n",
    "\n",
    "while l:\n",
    "    print(l[0])\n",
    "    l.pop() # last element\n",
    "    \n",
    "    "
   ]
  },
  {
   "cell_type": "code",
   "execution_count": 24,
   "metadata": {},
   "outputs": [
    {
     "name": "stderr",
     "output_type": "stream",
     "text": [
      "100%|███████████████████████████████████████████████████████████████████████████████████████████████| 120/120 [02:01<00:00,  1.01s/it]\n"
     ]
    }
   ],
   "source": [
    "import time\n",
    "import tqdm \n",
    "\n",
    "for _ in tqdm.tqdm(range(120)):\n",
    "    time.sleep(1)"
   ]
  },
  {
   "cell_type": "code",
   "execution_count": 25,
   "metadata": {},
   "outputs": [
    {
     "name": "stdout",
     "output_type": "stream",
     "text": [
      "Java\n",
      "C\n",
      "C++\n",
      "Ruby\n",
      "Perl\n",
      "Python\n",
      "Original:  []\n",
      "What is this :  ['Java', 'C', 'C++', 'Ruby', 'Perl', 'Python']\n"
     ]
    }
   ],
   "source": [
    "l = [ \"Java\", \"C\", \"C++\", \"Ruby\", \"Perl\", \"Python\"]\n",
    "nl = []\n",
    "while l:\n",
    "    print(l[0])\n",
    "    item = l.pop(0)# 0th element\n",
    "    nl.append(item)\n",
    "    \n",
    "print(\"Original: \", l)\n",
    "print(\"What is this : \", nl)\n",
    "    \n",
    "    "
   ]
  },
  {
   "cell_type": "markdown",
   "metadata": {},
   "source": [
    "    Condition --> True / False\n",
    "    \n",
    "            [ 'java', 'c', 'c++' ]  --> True\n",
    "            \n",
    "            [] --> False\n",
    "            \n",
    "            \"hello\" --> True\n",
    "            \n",
    "            \"\" --> False\n",
    "            \n",
    "            5 > 6 --> False"
   ]
  },
  {
   "cell_type": "code",
   "execution_count": null,
   "metadata": {},
   "outputs": [],
   "source": [
    "while True:\n",
    "    print(\"Hello World!\")\n",
    "    \n",
    "# infinite time Hello  World!"
   ]
  },
  {
   "cell_type": "code",
   "execution_count": 26,
   "metadata": {},
   "outputs": [
    {
     "name": "stdout",
     "output_type": "stream",
     "text": [
      "Hello World\n"
     ]
    }
   ],
   "source": [
    "while True:\n",
    "    print(\"Hello World\")\n",
    "    break"
   ]
  },
  {
   "cell_type": "code",
   "execution_count": null,
   "metadata": {},
   "outputs": [],
   "source": []
  },
  {
   "cell_type": "code",
   "execution_count": null,
   "metadata": {},
   "outputs": [],
   "source": []
  },
  {
   "cell_type": "markdown",
   "metadata": {},
   "source": [
    "    Give me output "
   ]
  },
  {
   "cell_type": "code",
   "execution_count": 27,
   "metadata": {},
   "outputs": [
    {
     "name": "stdout",
     "output_type": "stream",
     "text": [
      "Hello World! Times 1\n",
      "Hello World! Times 2\n",
      "Hello World! Times 3\n"
     ]
    }
   ],
   "source": [
    "c = 1\n",
    "\n",
    "while c <= 10:\n",
    "\n",
    "    if c % 4 == 0:\n",
    "        break\n",
    "    \n",
    "    print(f\"Hello World! Times {c}\")\n",
    "    \n",
    "    c = c + 1"
   ]
  },
  {
   "attachments": {},
   "cell_type": "markdown",
   "metadata": {},
   "source": [
    "    "
   ]
  },
  {
   "cell_type": "code",
   "execution_count": 28,
   "metadata": {},
   "outputs": [
    {
     "name": "stderr",
     "output_type": "stream",
     "text": [
      "100%|███████████████████████████████████████████████████████████████████████████████████████████████| 120/120 [02:01<00:00,  1.01s/it]\n"
     ]
    }
   ],
   "source": [
    "from tqdm import tqdm \n",
    "from time import sleep\n",
    "for _ in tqdm(range(120)):\n",
    "    sleep(1)"
   ]
  },
  {
   "cell_type": "code",
   "execution_count": 29,
   "metadata": {},
   "outputs": [
    {
     "name": "stdout",
     "output_type": "stream",
     "text": [
      "H\n",
      "e\n",
      "l\n",
      "l\n",
      "o\n"
     ]
    }
   ],
   "source": [
    "# task 1\n",
    "s = \"Hello World!\"\n",
    "c = 0\n",
    "while s:\n",
    "    print(s[c])\n",
    "    if s[c] == 'o':\n",
    "        break\n",
    "    c = c + 1\n"
   ]
  },
  {
   "cell_type": "code",
   "execution_count": 30,
   "metadata": {},
   "outputs": [
    {
     "name": "stdout",
     "output_type": "stream",
     "text": [
      "H\n",
      "e\n",
      "l\n",
      "l\n"
     ]
    }
   ],
   "source": [
    "# task 1\n",
    "s = \"Hello World!\"\n",
    "c = 0\n",
    "while s:\n",
    "    \n",
    "    if s[c] == 'o':\n",
    "        break\n",
    "    print(s[c])\n",
    "    c = c + 1\n"
   ]
  },
  {
   "cell_type": "code",
   "execution_count": 33,
   "metadata": {},
   "outputs": [
    {
     "name": "stdout",
     "output_type": "stream",
     "text": [
      "Enter item to be searched in list: python\n",
      "Item at Position 0 is c.\n",
      "Item at Position 1 is c++.\n",
      "Item at Position 2 is python.\n",
      "We have Found Your Item Congrats!!\n"
     ]
    }
   ],
   "source": [
    "# task 2\n",
    "search = input(\"Enter item to be searched in list: \") # python\n",
    "mylist =  [ 'c', 'c++', 'python', 'ruby', 'perl', 'python', 'bash']\n",
    "c = 0\n",
    "while c < len(mylist):\n",
    "    \n",
    "    item = mylist[c]\n",
    "    print(f\"Item at Position {c} is {item}.\")\n",
    "    if item == search:\n",
    "        print(\"We have Found Your Item Congrats!!\")\n",
    "        break\n",
    "    c = c + 1\n",
    "\n",
    "        "
   ]
  },
  {
   "cell_type": "markdown",
   "metadata": {},
   "source": [
    "#### else with loop (works only in python)"
   ]
  },
  {
   "cell_type": "code",
   "execution_count": 34,
   "metadata": {},
   "outputs": [
    {
     "name": "stdout",
     "output_type": "stream",
     "text": [
      "I will if condition is False\n"
     ]
    }
   ],
   "source": [
    "if False:\n",
    "    print(\"Hello World\")\n",
    "else:\n",
    "    print(\"I will if condition is False\")"
   ]
  },
  {
   "cell_type": "code",
   "execution_count": 35,
   "metadata": {},
   "outputs": [
    {
     "name": "stdout",
     "output_type": "stream",
     "text": [
      "Hello, value of c is 1\n",
      "Hello, value of c is 2\n",
      "Hello, value of c is 3\n",
      "I will run if while condition is False\n"
     ]
    }
   ],
   "source": [
    "c = 1\n",
    "\n",
    "while c <= 3:\n",
    "    \n",
    "    print(f\"Hello, value of c is {c}\")\n",
    "    \n",
    "    c = c + 1\n",
    "\n",
    "else:\n",
    "    \n",
    "    print(\"I will run if while condition is False\")\n",
    "\n"
   ]
  },
  {
   "cell_type": "code",
   "execution_count": 36,
   "metadata": {},
   "outputs": [
    {
     "name": "stdout",
     "output_type": "stream",
     "text": [
      "Ohh This Is How else statement works with loop ?  !!!This is Easy!!!\n"
     ]
    }
   ],
   "source": [
    "items = [ 'Ohh', \"This\", \"Is\", \"How\", \"else\", \"statement\", \"works\", \"with\", \"loop ? \"]\n",
    "\n",
    "i = 0\n",
    "\n",
    "while i < len(items):\n",
    "    \n",
    "    print(items[i], end=\" \")\n",
    "    \n",
    "    i = i + 1\n",
    "    \n",
    "else:\n",
    "    \n",
    "    print(\"!!!This is Easy!!!\")"
   ]
  },
  {
   "cell_type": "code",
   "execution_count": 37,
   "metadata": {},
   "outputs": [
    {
     "name": "stdout",
     "output_type": "stream",
     "text": [
      "9\n"
     ]
    }
   ],
   "source": [
    "print(i)"
   ]
  },
  {
   "cell_type": "code",
   "execution_count": null,
   "metadata": {},
   "outputs": [],
   "source": [
    "languages = [ 'Python', 'c', 'c++', 'ruby', 'perl', 'python']\n",
    "\n",
    "i = 0\n",
    "\n",
    "while i < len(languages):\n",
    "    \n",
    "    item = languages[i]\n",
    "    print(f\"{item} is Awesome Language.\")\n",
    "    if item == 'c++':\n",
    "        break\n",
    "else:\n",
    "    print(\"I am Confused :-(\")\n",
    "    \n",
    "# infinite time Python is Awesome Language"
   ]
  },
  {
   "cell_type": "code",
   "execution_count": null,
   "metadata": {},
   "outputs": [],
   "source": []
  },
  {
   "cell_type": "code",
   "execution_count": null,
   "metadata": {},
   "outputs": [],
   "source": []
  },
  {
   "cell_type": "code",
   "execution_count": null,
   "metadata": {},
   "outputs": [],
   "source": []
  },
  {
   "cell_type": "code",
   "execution_count": null,
   "metadata": {},
   "outputs": [],
   "source": []
  },
  {
   "cell_type": "code",
   "execution_count": null,
   "metadata": {},
   "outputs": [],
   "source": []
  },
  {
   "cell_type": "code",
   "execution_count": null,
   "metadata": {},
   "outputs": [],
   "source": []
  },
  {
   "cell_type": "code",
   "execution_count": 39,
   "metadata": {},
   "outputs": [
    {
     "name": "stdout",
     "output_type": "stream",
     "text": [
      "Python is Awesome Language.\n",
      "c is Awesome Language.\n",
      "c++ is Awesome Language.\n"
     ]
    }
   ],
   "source": [
    "languages = [ 'Python', 'c', 'c++', 'ruby', 'perl', 'python']\n",
    "\n",
    "i = 0\n",
    "\n",
    "while i < len(languages):\n",
    "    \n",
    "    item = languages[i]\n",
    "    print(f\"{item} is Awesome Language.\")\n",
    "    if item == 'c++':\n",
    "        break \n",
    "    i += 1 # i += 1 == i = i+ 1\n",
    "else:\n",
    "    print(\"I am Confused :-(\")\n",
    "    \n",
    "# infinite time Python is Awesome Language"
   ]
  },
  {
   "cell_type": "code",
   "execution_count": 40,
   "metadata": {},
   "outputs": [],
   "source": [
    "i = 0\n",
    "\n",
    "while i <= 10:\n",
    "    \n",
    "    if i % 2 == 0:\n",
    "        break\n",
    "    \n",
    "    print(f\"Value of i is {i}\")\n",
    "    \n",
    "    i = i + 1\n",
    "\n",
    "else:\n",
    "    \n",
    "    print(\"Final Value of I is \", i)\n",
    "    \n",
    "# No Output "
   ]
  },
  {
   "cell_type": "code",
   "execution_count": 41,
   "metadata": {},
   "outputs": [
    {
     "name": "stdout",
     "output_type": "stream",
     "text": [
      "Value of i is 1\n",
      "Value of i is 3\n",
      "Value of i is 5\n",
      "Value of i is 7\n",
      "Value of i is 9\n",
      "Final Value of I is  11\n"
     ]
    }
   ],
   "source": [
    "i = 1\n",
    "\n",
    "while i <= 10:\n",
    "    \n",
    "    if i % 2 == 0:\n",
    "        break\n",
    "    \n",
    "    print(f\"Value of i is {i}\")\n",
    "    \n",
    "    i = i + 2\n",
    "\n",
    "else:\n",
    "    \n",
    "    print(\"Final Value of I is \", i)\n",
    "    \n",
    "# No Output "
   ]
  },
  {
   "cell_type": "markdown",
   "metadata": {},
   "source": [
    "#### Continue with Loop "
   ]
  },
  {
   "cell_type": "code",
   "execution_count": null,
   "metadata": {},
   "outputs": [],
   "source": [
    "c = 1 \n",
    "\n",
    "while c <= 5:\n",
    "    \n",
    "    print(f\"Value of c is {c}\")\n",
    "    \n",
    "    if c % 2 == 0:\n",
    "    \n",
    "        continue\n",
    "    \n",
    "    c = c + 1\n",
    "    \n",
    "else:\n",
    "    print(\"Smjh m aaya kya ? \")\n",
    "    \n",
    "# to stop pres ESC + II\n",
    "\n",
    "# ESC + M\n",
    "\n",
    "# ESC + Y"
   ]
  },
  {
   "cell_type": "code",
   "execution_count": null,
   "metadata": {},
   "outputs": [],
   "source": [
    "c = 1 \n",
    "\n",
    "while c <= 5:\n",
    "    \n",
    "    c = c + 1\n",
    "    \n",
    "    if c % 2 == 0:\n",
    "        \n",
    "        continue\n",
    "    \n",
    "    print(f\"Value of c is {c}\")\n",
    "\n",
    "else:\n",
    "    \n",
    "    print(\"Smjh m aaya kya ? \")\n",
    "    \n"
   ]
  },
  {
   "cell_type": "markdown",
   "metadata": {},
   "source": [
    "#### Doubt ? "
   ]
  },
  {
   "cell_type": "markdown",
   "metadata": {},
   "source": [
    "`break` and `continue` are the property of loops only"
   ]
  },
  {
   "cell_type": "code",
   "execution_count": 44,
   "metadata": {},
   "outputs": [
    {
     "name": "stdout",
     "output_type": "stream",
     "text": [
      "The Value of i,j is 1, 1\n",
      "Hello World\n",
      "Continue\n",
      "The Value of i,j is 2, 1\n",
      "The Value of i,j is 2, 2\n",
      "Continue\n",
      "The Value of i,j is 3, 1\n",
      "The Value of i,j is 3, 2\n",
      "Continue\n",
      "The Value of i,j is 4, 1\n",
      "The Value of i,j is 4, 2\n",
      "Continue\n",
      "The Value of i,j is 5, 1\n",
      "The Value of i,j is 5, 2\n",
      "Continue\n",
      "ha ha ha ha\n"
     ]
    }
   ],
   "source": [
    "i = 1\n",
    "\n",
    "while i <= 5:\n",
    "    j = 1\n",
    "    while j <= i:\n",
    "        print(f\"The Value of i,j is {i}, {j}\")\n",
    "        if j % 2 == 0:\n",
    "            break\n",
    "        j = j + 1\n",
    "    else:\n",
    "        print(\"Hello World\")\n",
    "        \n",
    "    print(\"Continue\")\n",
    "    i = i + 1\n",
    "else:\n",
    "    print(\"ha ha ha ha\")"
   ]
  },
  {
   "cell_type": "markdown",
   "metadata": {},
   "source": [
    "https://infytq.infosys.com/"
   ]
  },
  {
   "cell_type": "code",
   "execution_count": null,
   "metadata": {},
   "outputs": [],
   "source": []
  }
 ],
 "metadata": {
  "kernelspec": {
   "display_name": "Python 3",
   "language": "python",
   "name": "python3"
  },
  "language_info": {
   "codemirror_mode": {
    "name": "ipython",
    "version": 3
   },
   "file_extension": ".py",
   "mimetype": "text/x-python",
   "name": "python",
   "nbconvert_exporter": "python",
   "pygments_lexer": "ipython3",
   "version": "3.8.3"
  }
 },
 "nbformat": 4,
 "nbformat_minor": 4
}
