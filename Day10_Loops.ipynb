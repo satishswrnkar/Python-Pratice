{
 "cells": [
  {
   "cell_type": "markdown",
   "metadata": {},
   "source": [
    "### Count Total Number of Notes in Given Amount"
   ]
  },
  {
   "cell_type": "code",
   "execution_count": 1,
   "metadata": {},
   "outputs": [],
   "source": [
    "\n",
    "\n",
    "item_price = 567\n",
    "\n",
    "amount = 1000\n",
    "\n",
    "\n",
    "change = \"How The Shopkeeper will return you money ?\""
   ]
  },
  {
   "cell_type": "code",
   "execution_count": 2,
   "metadata": {},
   "outputs": [],
   "source": [
    "change = amount - item_price"
   ]
  },
  {
   "cell_type": "code",
   "execution_count": 3,
   "metadata": {},
   "outputs": [
    {
     "name": "stdout",
     "output_type": "stream",
     "text": [
      "433\n"
     ]
    }
   ],
   "source": [
    "print(change)"
   ]
  },
  {
   "cell_type": "markdown",
   "metadata": {},
   "source": [
    "    Valid Notes \n",
    "    \n",
    "    2000\n",
    "    \n",
    "    500\n",
    "    \n",
    "    200\n",
    "    \n",
    "    100\n",
    "    \n",
    "    50\n",
    "    \n",
    "    20\n",
    "    \n",
    "    10\n",
    "    \n",
    "    5\n",
    "    \n",
    "    2\n",
    "    \n",
    "    1"
   ]
  },
  {
   "cell_type": "markdown",
   "metadata": {},
   "source": [
    "200 - 2 \n",
    "\n",
    "20 - 1 \n",
    "\n",
    "10 - 1\n",
    "\n",
    "2 - 1\n",
    "\n",
    "1 - 1\n",
    "\n",
    "total price = 433\n",
    "\n",
    "\n"
   ]
  },
  {
   "cell_type": "code",
   "execution_count": 7,
   "metadata": {},
   "outputs": [
    {
     "name": "stdout",
     "output_type": "stream",
     "text": [
      "Name:              SaCHIN YaDAV         \n",
      "Age: 23\n",
      "\n",
      "My Name is sachin yadav.\n",
      "My Age is 23.\n",
      "\n"
     ]
    }
   ],
   "source": [
    "name = input(\"Name: \")\n",
    "\n",
    "age = input(\"Age: \")\n",
    "\n",
    "s = f\"\"\"\n",
    "My Name is {name.lower().strip()}.\n",
    "My Age is {age}.\n",
    "\"\"\"\n",
    "\n",
    "print(s)"
   ]
  },
  {
   "cell_type": "markdown",
   "metadata": {},
   "source": [
    "#### Loop "
   ]
  },
  {
   "cell_type": "markdown",
   "metadata": {},
   "source": [
    "if\n",
    "\n",
    "    choice 1 Government \n",
    "\n",
    "    choice 2 Business\n",
    "\n",
    "    choice 3 Private\n",
    "\n",
    "else \n",
    "\n",
    "    Invalid Choice\n",
    "    \n",
    "    Repeat Untill Valid Choice "
   ]
  },
  {
   "cell_type": "markdown",
   "metadata": {},
   "source": [
    "    loop == Repeatation"
   ]
  },
  {
   "cell_type": "markdown",
   "metadata": {},
   "source": [
    "syntax \n",
    "\n",
    "    x = some_value [ Initlization]\n",
    "    \n",
    "    while condition:\n",
    "        # statement-1\n",
    "        # statement-2\n",
    "        # loop body \n",
    "        # increment decrement\n",
    "        x = x + 1"
   ]
  },
  {
   "cell_type": "code",
   "execution_count": null,
   "metadata": {},
   "outputs": [],
   "source": [
    "# infinite loop \n",
    "x = 1\n",
    "\n",
    "while x <= 10:\n",
    "    print(x)"
   ]
  },
  {
   "cell_type": "code",
   "execution_count": null,
   "metadata": {},
   "outputs": [],
   "source": [
    "# infinite loop\n",
    "x = 5\n",
    "\n",
    "while x <= 20:\n",
    "    \n",
    "    print(x+5)"
   ]
  },
  {
   "cell_type": "code",
   "execution_count": 9,
   "metadata": {},
   "outputs": [
    {
     "name": "stdout",
     "output_type": "stream",
     "text": [
      "4\n",
      "6\n",
      "8\n",
      "10\n"
     ]
    }
   ],
   "source": [
    "x = 1\n",
    "while x <= 10:\n",
    "    if x % 2 == 0:\n",
    "        print(x)\n",
    "    else:\n",
    "        x = x + 1\n",
    "    x = x + 2"
   ]
  },
  {
   "cell_type": "code",
   "execution_count": null,
   "metadata": {},
   "outputs": [],
   "source": [
    "x = 100  # x = 100\n",
    "while x >= 0: # x > 0 --> \n",
    "    print(x) # \n",
    "    x = x / 10 # 1 / 10 -> 0.1\n",
    "\n",
    "# Interrput ->  Esc key + (I I) \n",
    "# 100 \n",
    "# 10\n",
    "# 1\n",
    "# 0.1\n",
    "# 0.01\n",
    "# 0.001\n",
    "# 0.000000001\n",
    "# 0.00000000000000000000"
   ]
  },
  {
   "cell_type": "code",
   "execution_count": 11,
   "metadata": {},
   "outputs": [
    {
     "name": "stdout",
     "output_type": "stream",
     "text": [
      "1\n",
      "2\n",
      "3\n",
      "4\n",
      "5\n",
      "6\n",
      "7\n",
      "8\n",
      "9\n",
      "10\n"
     ]
    }
   ],
   "source": [
    "# task 1\n",
    "c = 1\n",
    "while c <= 10:\n",
    "    print(c)\n",
    "    c = c +  1"
   ]
  },
  {
   "cell_type": "code",
   "execution_count": 12,
   "metadata": {},
   "outputs": [
    {
     "name": "stdout",
     "output_type": "stream",
     "text": [
      "2\n",
      "4\n",
      "6\n",
      "8\n",
      "10\n"
     ]
    }
   ],
   "source": [
    "# task 2\n",
    "c = 1  # 1 , 2 , 3, 4, 5, 6, 7, 8, 9, 10 \n",
    "while c <= 10:\n",
    "    if c % 2 == 0:\n",
    "        print(c)\n",
    "    c = c + 1\n",
    "    "
   ]
  },
  {
   "cell_type": "code",
   "execution_count": 13,
   "metadata": {},
   "outputs": [
    {
     "name": "stdout",
     "output_type": "stream",
     "text": [
      "10\n",
      "8\n",
      "6\n",
      "4\n",
      "2\n"
     ]
    }
   ],
   "source": [
    "# task 3\n",
    "c = 10\n",
    "while c > 1: # c = 0 -> False, c = 1 -> False, c = 2 -> True, c = 3 True\n",
    "    print(c)\n",
    "    c = c - 2\n",
    "    \n",
    "# c = 10 \n",
    "# c = 10 - 8 # 8 - 2 #6 - 2 # 4 -> 2 #2 - 2 # 0\n",
    "\n",
    "# 10 8 6 4 2"
   ]
  },
  {
   "cell_type": "code",
   "execution_count": 17,
   "metadata": {},
   "outputs": [
    {
     "name": "stdout",
     "output_type": "stream",
     "text": [
      "4\n",
      "8\n",
      "16\n",
      "32\n",
      "64\n",
      "128\n",
      "256\n"
     ]
    }
   ],
   "source": [
    "# task 4\n",
    "c = 2\n",
    "while c <= 8:\n",
    "    print(2 ** c)\n",
    "    c = c + 1\n",
    "    \n",
    "# c = 2, 3, 4, 5, 6, 7, 8\n",
    "# 4, 8, 16, 32, 64, 128, 256"
   ]
  },
  {
   "cell_type": "code",
   "execution_count": 21,
   "metadata": {},
   "outputs": [
    {
     "name": "stdout",
     "output_type": "stream",
     "text": [
      "3\n"
     ]
    }
   ],
   "source": [
    "l = [ 1, 2, 3]\n",
    "print(len(l))"
   ]
  },
  {
   "cell_type": "code",
   "execution_count": 1,
   "metadata": {},
   "outputs": [
    {
     "name": "stdout",
     "output_type": "stream",
     "text": [
      "java is Awesome in every Manner.\n",
      "Old c  is Gold\n",
      "Old c++  is Gold\n",
      "ruby is ment for some specific work only.\n",
      "perl is ment for some specific work only.\n",
      "python is Awesome in every Manner.\n"
     ]
    }
   ],
   "source": [
    "language = [ 'java', 'c', 'c++', 'ruby', 'perl', 'python']\n",
    "\n",
    "index = 0\n",
    "\n",
    "while index < len(language):\n",
    "    if language[index] == 'python' or language[index] == 'java':\n",
    "        print(language[index], \"is Awesome in every Manner.\")\n",
    "    elif language[index] == 'c' or language[index] == 'c++':\n",
    "        print(\"Old\", language[index], \" is Gold\")\n",
    "    else:\n",
    "        print(f\"{language[index]} is ment for some specific work only.\")\n",
    "        \n",
    "    index = index + 1\n",
    "    \n",
    "# home work "
   ]
  },
  {
   "cell_type": "markdown",
   "metadata": {},
   "source": [
    "## Doubt Session"
   ]
  },
  {
   "cell_type": "markdown",
   "metadata": {},
   "source": [
    "    num % 5 \n",
    "    \n",
    "    num % 5 == 0 "
   ]
  },
  {
   "cell_type": "markdown",
   "metadata": {},
   "source": [
    "    False -> None, False, 0, \"\", {}, []"
   ]
  },
  {
   "cell_type": "code",
   "execution_count": null,
   "metadata": {},
   "outputs": [],
   "source": []
  }
 ],
 "metadata": {
  "kernelspec": {
   "display_name": "Python 3",
   "language": "python",
   "name": "python3"
  },
  "language_info": {
   "codemirror_mode": {
    "name": "ipython",
    "version": 3
   },
   "file_extension": ".py",
   "mimetype": "text/x-python",
   "name": "python",
   "nbconvert_exporter": "python",
   "pygments_lexer": "ipython3",
   "version": "3.8.3"
  }
 },
 "nbformat": 4,
 "nbformat_minor": 4
}
