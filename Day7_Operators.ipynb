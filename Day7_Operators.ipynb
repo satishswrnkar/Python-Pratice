{
 "cells": [
  {
   "cell_type": "markdown",
   "metadata": {},
   "source": [
    "### Data Type\n",
    "\n",
    "    Builtin Data Types in Python\n",
    "\n",
    "1. `Numbers` - int, complex, float\n",
    "2. `Strings` - single line ('', \"\"), multiline string (\"\"\"...\"\"\"), Ordered\n",
    "3. `List` - Homogenous(array) & Hetrogenous, Collection of objects (elements)\n",
    "4. `Tuple` - Immutable List, Ordered (indexing & slicing possible)\n",
    "5. `Dictionary` - Collection Key-Value Pairs, Map Type Object, Un-Ordered\n",
    "6. `Set` - Collection of unique immutable object, Un-Ordered\n",
    "7. `FrozenSet` - Immutable Sets\n",
    "8. `Boolean Type`\n",
    "9. `None Type`"
   ]
  },
  {
   "cell_type": "markdown",
   "metadata": {},
   "source": [
    "### Numbers"
   ]
  },
  {
   "cell_type": "code",
   "execution_count": 1,
   "metadata": {},
   "outputs": [
    {
     "name": "stdout",
     "output_type": "stream",
     "text": [
      "50 <class 'int'>\n"
     ]
    }
   ],
   "source": [
    "x = 50\n",
    "print(x, type(x))"
   ]
  },
  {
   "cell_type": "code",
   "execution_count": 2,
   "metadata": {},
   "outputs": [],
   "source": [
    "x = 22\n",
    "y = 7"
   ]
  },
  {
   "cell_type": "code",
   "execution_count": null,
   "metadata": {},
   "outputs": [],
   "source": []
  },
  {
   "cell_type": "code",
   "execution_count": 4,
   "metadata": {},
   "outputs": [
    {
     "name": "stdout",
     "output_type": "stream",
     "text": [
      "1 2 3 4\n"
     ]
    }
   ],
   "source": [
    "print(1, 2, 3, 4)\n",
    "# by default sepration is ' '"
   ]
  },
  {
   "cell_type": "code",
   "execution_count": 5,
   "metadata": {},
   "outputs": [
    {
     "name": "stdout",
     "output_type": "stream",
     "text": [
      "value1 value2\n"
     ]
    }
   ],
   "source": [
    "print(\"value1\", \"value2\")"
   ]
  },
  {
   "cell_type": "code",
   "execution_count": 7,
   "metadata": {},
   "outputs": [
    {
     "name": "stdout",
     "output_type": "stream",
     "text": [
      "Help on built-in function print in module builtins:\n",
      "\n",
      "print(...)\n",
      "    print(value, ..., sep=' ', end='\\n', file=sys.stdout, flush=False)\n",
      "    \n",
      "    Prints the values to a stream, or to sys.stdout by default.\n",
      "    Optional keyword arguments:\n",
      "    file:  a file-like object (stream); defaults to the current sys.stdout.\n",
      "    sep:   string inserted between values, default a space.\n",
      "    end:   string appended after the last value, default a newline.\n",
      "    flush: whether to forcibly flush the stream.\n",
      "\n"
     ]
    }
   ],
   "source": [
    "help(print)\n",
    "\n",
    "# Default Parameters of Print sep=' ', end='\\n', file=sys.stdout, flush=False"
   ]
  },
  {
   "cell_type": "code",
   "execution_count": null,
   "metadata": {},
   "outputs": [],
   "source": []
  },
  {
   "cell_type": "code",
   "execution_count": 10,
   "metadata": {},
   "outputs": [
    {
     "name": "stdout",
     "output_type": "stream",
     "text": [
      "Without Sep:  1 2 3 4\n",
      "1-2-3-4\n"
     ]
    }
   ],
   "source": [
    "print(\"Without Sep: \", 1, 2, 3, 4)\n",
    "\n",
    "print(1, 2, 3, 4, sep='-')"
   ]
  },
  {
   "cell_type": "code",
   "execution_count": 11,
   "metadata": {},
   "outputs": [
    {
     "name": "stdout",
     "output_type": "stream",
     "text": [
      "1\t2\t3\t4\n"
     ]
    }
   ],
   "source": [
    "print(1, 2, 3, 4, sep=\"\\t\") # Escape Characters"
   ]
  },
  {
   "cell_type": "code",
   "execution_count": 12,
   "metadata": {},
   "outputs": [
    {
     "name": "stdout",
     "output_type": "stream",
     "text": [
      "1 <-> 2 <-> 3 <-> 4\n"
     ]
    }
   ],
   "source": [
    "print(1, 2, 3, 4, sep=' <-> ')"
   ]
  },
  {
   "cell_type": "code",
   "execution_count": 13,
   "metadata": {},
   "outputs": [
    {
     "name": "stdout",
     "output_type": "stream",
     "text": [
      "Hello World\n",
      "How are you ? \n",
      "Python is Awesome.\n"
     ]
    }
   ],
   "source": [
    "print(\"Hello World\", \"How are you ? \", \"Python is Awesome.\", sep='\\n')\n",
    "# Hello World\n",
    "# How are you ? \n",
    "# Python is Awesome."
   ]
  },
  {
   "cell_type": "code",
   "execution_count": 14,
   "metadata": {},
   "outputs": [
    {
     "name": "stdout",
     "output_type": "stream",
     "text": [
      "Help on built-in function print in module builtins:\n",
      "\n",
      "print(...)\n",
      "    print(value, ..., sep=' ', end='\\n', file=sys.stdout, flush=False)\n",
      "    \n",
      "    Prints the values to a stream, or to sys.stdout by default.\n",
      "    Optional keyword arguments:\n",
      "    file:  a file-like object (stream); defaults to the current sys.stdout.\n",
      "    sep:   string inserted between values, default a space.\n",
      "    end:   string appended after the last value, default a newline.\n",
      "    flush: whether to forcibly flush the stream.\n",
      "\n"
     ]
    }
   ],
   "source": [
    "help(print)"
   ]
  },
  {
   "cell_type": "code",
   "execution_count": 15,
   "metadata": {},
   "outputs": [
    {
     "name": "stdout",
     "output_type": "stream",
     "text": [
      "Hello World This is Python.\n",
      "This is End Parameter of Print.\n"
     ]
    }
   ],
   "source": [
    "print(\"Hello World\", \"This is Python.\")\n",
    "print(\"This is End Parameter of Print.\")"
   ]
  },
  {
   "cell_type": "code",
   "execution_count": 16,
   "metadata": {},
   "outputs": [
    {
     "name": "stdout",
     "output_type": "stream",
     "text": [
      "Hello World This is Python.\tThis is End Parameter of Print.\n"
     ]
    }
   ],
   "source": [
    "print(\"Hello World\", \"This is Python.\", end=\"\\t\")\n",
    "print(\"This is End Parameter of Print.\")\n",
    "\n",
    "# Hello World This is Python.    This is End Parameter of Print."
   ]
  },
  {
   "cell_type": "markdown",
   "metadata": {},
   "source": [
    "00### String Formatting"
   ]
  },
  {
   "cell_type": "markdown",
   "metadata": {},
   "source": [
    "1. Old School Way"
   ]
  },
  {
   "cell_type": "code",
   "execution_count": 22,
   "metadata": {},
   "outputs": [
    {
     "name": "stdout",
     "output_type": "stream",
     "text": [
      "Name: Sachin Yadav\n",
      "Age: 26\n",
      "my name is Sachin Yadav and my age is 26.\n"
     ]
    }
   ],
   "source": [
    "# %s -> string, %i --> integer, %f --> float\n",
    "\n",
    "name = input(\"Name: \") # ? name -> String \n",
    "age = int(input(\"Age: \")) # ? age -> int\n",
    "string = \"My Name is %s and my age is %i.\"%(name, age)\n",
    "print(string)"
   ]
  },
  {
   "cell_type": "markdown",
   "metadata": {},
   "source": [
    "2. Before Python 3.5 and less "
   ]
  },
  {
   "cell_type": "code",
   "execution_count": 23,
   "metadata": {},
   "outputs": [
    {
     "name": "stdout",
     "output_type": "stream",
     "text": [
      "Name: Sachin Yadav\n",
      "Age: 26\n",
      "My Name is Sachin Yadav and my age is 26.\n"
     ]
    }
   ],
   "source": [
    "# %s -> string, %i --> integer, %f --> float\n",
    "\n",
    "name = input(\"Name: \") # ? name -> String \n",
    "age = int(input(\"Age: \")) # ? age -> int\n",
    "# {} --> palace holder / buffer\n",
    "string = \"My Name is {} and my age is {}.\"\n",
    "print(string.format(name, age))"
   ]
  },
  {
   "cell_type": "code",
   "execution_count": 24,
   "metadata": {},
   "outputs": [
    {
     "name": "stdout",
     "output_type": "stream",
     "text": [
      "Name: Sachin Yadav\n",
      "Age: 26\n",
      "My Name is Sachin Yadav and my age is 26.\n"
     ]
    }
   ],
   "source": [
    "# %s -> string, %i --> integer, %f --> float\n",
    "\n",
    "name = input(\"Name: \") # ? name -> String \n",
    "age = int(input(\"Age: \")) # ? age -> int\n",
    "# {} --> palace holder / buffer\n",
    "string = \"My Name is {} and my age is {}.\".format(name, age)\n",
    "print(string)"
   ]
  },
  {
   "cell_type": "markdown",
   "metadata": {},
   "source": [
    "#### 3. For Python version 3.6 and above"
   ]
  },
  {
   "cell_type": "code",
   "execution_count": 25,
   "metadata": {},
   "outputs": [
    {
     "name": "stdout",
     "output_type": "stream",
     "text": [
      "Name: Sachin Yadav\n",
      "Age: 26\n",
      "My Name is Sachin Yadav and my age is 26.\n"
     ]
    }
   ],
   "source": [
    "# %s -> string, %i --> integer, %f --> float\n",
    "\n",
    "name = input(\"Name: \") # ? name -> String \n",
    "age = int(input(\"Age: \")) # ? age -> int\n",
    "# {} --> palace holder / buffer\n",
    "string = f\"My Name is {name} and my age is {age}.\"\n",
    "print(string)"
   ]
  },
  {
   "cell_type": "code",
   "execution_count": 26,
   "metadata": {},
   "outputs": [
    {
     "name": "stdout",
     "output_type": "stream",
     "text": [
      "Name: Sachin Yadav\n",
      "Age: 26\n",
      "My Name is Sachin Yadav and my age is 26.\n"
     ]
    }
   ],
   "source": [
    "\n",
    "name = input(\"Name: \") # ? name -> String \n",
    "age = int(input(\"Age: \")) # ? age -> int\n",
    "# {} --> palace holder / buffer\n",
    "print(f\"My Name is {name} and my age is {age}.\")\n"
   ]
  },
  {
   "cell_type": "code",
   "execution_count": 27,
   "metadata": {},
   "outputs": [
    {
     "name": "stdout",
     "output_type": "stream",
     "text": [
      "Name: Sachin Yadav\n",
      "Age: 26\n",
      "My Name is {name} and my age is {age}.\n"
     ]
    }
   ],
   "source": [
    "\n",
    "name = input(\"Name: \") # ? name -> String \n",
    "age = int(input(\"Age: \")) # ? age -> int\n",
    "# {} --> palace holder / buffer\n",
    "print(\"My Name is {name} and my age is {age}.\")\n"
   ]
  },
  {
   "cell_type": "markdown",
   "metadata": {},
   "source": [
    "    set frozen --> apne kaam k nh --> mathematics\n",
    "\n",
    "    complex --> apne kaam --> mathematics"
   ]
  },
  {
   "cell_type": "markdown",
   "metadata": {},
   "source": [
    "`Problem` - you should be very clear what you have to do with your code ? \n",
    "\n",
    "`Language` - you should know about language to implement your solution \n",
    "\n",
    "`Problem 1:` Format your string to print beautifully this message \n",
    "\n",
    "`code` : \n",
    "\n",
    "        x = 22\n",
    "        y = 7\n",
    "        \n",
    "`output` : \n",
    "\n",
    "        The value of x is 22.\n",
    "        The value of y is 7.\n",
    "        \n",
    "        if we divide 22 with 7 result will be 3.14..."
   ]
  },
  {
   "cell_type": "code",
   "execution_count": null,
   "metadata": {},
   "outputs": [],
   "source": []
  },
  {
   "cell_type": "code",
   "execution_count": 21,
   "metadata": {},
   "outputs": [
    {
     "name": "stdout",
     "output_type": "stream",
     "text": [
      "The value of x is 22.\n",
      "The value of y is 7.\n",
      "if we divide 22 with 7 result will be 3.142857142857143.\n"
     ]
    }
   ],
   "source": [
    "# given by question\n",
    "x = 22\n",
    "y = 7\n",
    "# my answer\n",
    "\n",
    "print(\"The value of x is \", x, \".\", sep='')\n",
    "print(\"The value of y is \", y, \".\", sep='')\n",
    "print(\"if we divide \", x, \" with \", y, \" result will be \", x/y, \".\", sep='')"
   ]
  },
  {
   "cell_type": "code",
   "execution_count": 28,
   "metadata": {},
   "outputs": [
    {
     "name": "stdout",
     "output_type": "stream",
     "text": [
      "Enter x: 22\n",
      "Enter y: 7\n",
      "The value of x is 22.\n",
      "The value of y is 7.\n",
      "\n",
      "if we divide 22 with 7 result will be 3.142857142857143.\n",
      "\n"
     ]
    }
   ],
   "source": [
    "# given\n",
    "\n",
    "x = int(input(\"Enter x: \"))#22\n",
    "y = int(input(\"Enter y: \")) # 7\n",
    "\n",
    "# my output\n",
    "string = f\"\"\"The value of x is {x}.\n",
    "The value of y is {y}.\n",
    "\n",
    "if we divide {x} with {y} result will be {x/y}.\n",
    "\"\"\"\n",
    "\n",
    "print(string)"
   ]
  },
  {
   "cell_type": "markdown",
   "metadata": {},
   "source": [
    "Assignment1. \n",
    "        \n",
    "        As a student you have write an application for leave to your school adminstration.\n",
    "        if you look closely every application is almost same besides some changes such that\n",
    "        school name, student name, class, reason of absense and no of days.\n",
    "        \n",
    "        Your task is to create a format of application that can take these variable input\n",
    "        and prints out the whole aplication every time."
   ]
  },
  {
   "cell_type": "markdown",
   "metadata": {},
   "source": [
    "    To, \n",
    "        The headmaster,\n",
    "        AVM School,\n",
    "        diggi, tonk\n",
    "    Sir\n",
    "        respected sir, my name is sachin yadav i am student of class 10B. I want to inform \n",
    "        that i have fever so I am unable to come to school for next 3 days.\n",
    "        Kindly Grant Me leave for 3 Days.\n",
    "\n",
    "        Thank You,\n",
    "\n",
    "        Your Student\n",
    "        Sachin\n",
    "        10B"
   ]
  },
  {
   "cell_type": "markdown",
   "metadata": {},
   "source": [
    "#### List "
   ]
  },
  {
   "cell_type": "code",
   "execution_count": 29,
   "metadata": {},
   "outputs": [],
   "source": [
    "player_name = [ 'Rohit', 'Virat', 'KL Rahul', 'Dhoni']\n",
    "\n",
    "runs = [ 123, 78, 0, 56]\n",
    "\n"
   ]
  },
  {
   "cell_type": "code",
   "execution_count": 30,
   "metadata": {},
   "outputs": [
    {
     "name": "stdout",
     "output_type": "stream",
     "text": [
      "['Rohit', 'Virat', 'KL Rahul', 'Dhoni']\n"
     ]
    }
   ],
   "source": [
    "print(player_name)"
   ]
  },
  {
   "cell_type": "code",
   "execution_count": 31,
   "metadata": {},
   "outputs": [
    {
     "name": "stdout",
     "output_type": "stream",
     "text": [
      "[123, 78, 0, 56]\n"
     ]
    }
   ],
   "source": [
    "print(runs)"
   ]
  },
  {
   "cell_type": "code",
   "execution_count": 32,
   "metadata": {},
   "outputs": [],
   "source": [
    "player_name.append(\"Raina\")\n",
    "runs.append(89)"
   ]
  },
  {
   "cell_type": "code",
   "execution_count": 33,
   "metadata": {},
   "outputs": [
    {
     "name": "stdout",
     "output_type": "stream",
     "text": [
      "['Rohit', 'Virat', 'KL Rahul', 'Dhoni', 'Raina']\n"
     ]
    }
   ],
   "source": [
    "print(player_name)"
   ]
  },
  {
   "cell_type": "code",
   "execution_count": 34,
   "metadata": {},
   "outputs": [
    {
     "name": "stdout",
     "output_type": "stream",
     "text": [
      "[123, 78, 0, 56, 89]\n"
     ]
    }
   ],
   "source": [
    "print(runs)"
   ]
  },
  {
   "cell_type": "code",
   "execution_count": 35,
   "metadata": {},
   "outputs": [],
   "source": [
    "player_name.insert(3, \"Hardik Pandya\")\n",
    "runs.insert(3, 45)"
   ]
  },
  {
   "cell_type": "code",
   "execution_count": 36,
   "metadata": {},
   "outputs": [
    {
     "name": "stdout",
     "output_type": "stream",
     "text": [
      "['Rohit', 'Virat', 'KL Rahul', 'Hardik Pandya', 'Dhoni', 'Raina']\n"
     ]
    }
   ],
   "source": [
    "print(player_name)"
   ]
  },
  {
   "cell_type": "code",
   "execution_count": 37,
   "metadata": {},
   "outputs": [
    {
     "name": "stdout",
     "output_type": "stream",
     "text": [
      "[123, 78, 0, 45, 56, 89]\n"
     ]
    }
   ],
   "source": [
    "print(runs)"
   ]
  },
  {
   "cell_type": "code",
   "execution_count": 38,
   "metadata": {},
   "outputs": [],
   "source": [
    "player_name.extend([ 'Bumrah', 'Shami', 'Ishant' ])\n",
    "runs.extend([ 20, 30, 10])"
   ]
  },
  {
   "cell_type": "code",
   "execution_count": 39,
   "metadata": {},
   "outputs": [
    {
     "name": "stdout",
     "output_type": "stream",
     "text": [
      "['Rohit', 'Virat', 'KL Rahul', 'Hardik Pandya', 'Dhoni', 'Raina', 'Bumrah', 'Shami', 'Ishant']\n"
     ]
    }
   ],
   "source": [
    "print(player_name)"
   ]
  },
  {
   "cell_type": "code",
   "execution_count": 40,
   "metadata": {},
   "outputs": [
    {
     "name": "stdout",
     "output_type": "stream",
     "text": [
      "[123, 78, 0, 45, 56, 89, 20, 30, 10]\n"
     ]
    }
   ],
   "source": [
    "print(runs)"
   ]
  },
  {
   "cell_type": "code",
   "execution_count": 41,
   "metadata": {},
   "outputs": [],
   "source": [
    "player = \"Player {} has Scored {}.\""
   ]
  },
  {
   "cell_type": "code",
   "execution_count": 42,
   "metadata": {},
   "outputs": [
    {
     "name": "stdout",
     "output_type": "stream",
     "text": [
      "Player {} has Scored {}.\n"
     ]
    }
   ],
   "source": [
    "print(player)"
   ]
  },
  {
   "cell_type": "code",
   "execution_count": 43,
   "metadata": {},
   "outputs": [
    {
     "name": "stdout",
     "output_type": "stream",
     "text": [
      "Dhoni is at location:  4\n"
     ]
    }
   ],
   "source": [
    "loc = player_name.index(\"Dhoni\")\n",
    "print(\"Dhoni is at location: \", loc)"
   ]
  },
  {
   "cell_type": "markdown",
   "metadata": {},
   "source": [
    "### Inventory Application"
   ]
  },
  {
   "cell_type": "code",
   "execution_count": 44,
   "metadata": {},
   "outputs": [
    {
     "name": "stdout",
     "output_type": "stream",
     "text": [
      "Player Name: Dhoni\n",
      "Player Dhoni has Scored 56.\n"
     ]
    }
   ],
   "source": [
    "name = input(\"Player Name: \").strip().capitalize()\n",
    "loc = player_name.index(name)\n",
    "\n",
    "print(player.format(player_name[loc], runs[loc]))\n"
   ]
  },
  {
   "cell_type": "code",
   "execution_count": 45,
   "metadata": {},
   "outputs": [
    {
     "name": "stdout",
     "output_type": "stream",
     "text": [
      "Player Name:            VIrAt         \n",
      "Player Virat has Scored 78.\n"
     ]
    }
   ],
   "source": [
    "name = input(\"Player Name: \").strip().capitalize()\n",
    "loc = player_name.index(name)\n",
    "\n",
    "print(player.format(player_name[loc], runs[loc]))\n"
   ]
  },
  {
   "cell_type": "markdown",
   "metadata": {},
   "source": [
    "`How to remove Elements from List`\n"
   ]
  },
  {
   "cell_type": "code",
   "execution_count": 46,
   "metadata": {},
   "outputs": [
    {
     "data": {
      "text/plain": [
       "['Rohit',\n",
       " 'Virat',\n",
       " 'KL Rahul',\n",
       " 'Hardik Pandya',\n",
       " 'Dhoni',\n",
       " 'Raina',\n",
       " 'Bumrah',\n",
       " 'Shami',\n",
       " 'Ishant']"
      ]
     },
     "execution_count": 46,
     "metadata": {},
     "output_type": "execute_result"
    }
   ],
   "source": [
    "player_name"
   ]
  },
  {
   "cell_type": "code",
   "execution_count": 47,
   "metadata": {},
   "outputs": [
    {
     "name": "stdout",
     "output_type": "stream",
     "text": [
      "Before:  ['Rohit', 'Virat', 'KL Rahul', 'Hardik Pandya', 'Dhoni', 'Raina', 'Bumrah', 'Shami', 'Ishant']\n",
      "After:  ['Rohit', 'Virat', 'Hardik Pandya', 'Dhoni', 'Raina', 'Bumrah', 'Shami', 'Ishant']\n"
     ]
    }
   ],
   "source": [
    "# mutable \n",
    "print(\"Before: \", player_name)\n",
    "player_name.remove(\"KL Rahul\")\n",
    "print(\"After: \", player_name)"
   ]
  },
  {
   "cell_type": "code",
   "execution_count": 48,
   "metadata": {},
   "outputs": [
    {
     "data": {
      "text/plain": [
       "[123, 78, 0, 45, 56, 89, 20, 30, 10]"
      ]
     },
     "execution_count": 48,
     "metadata": {},
     "output_type": "execute_result"
    }
   ],
   "source": [
    "runs"
   ]
  },
  {
   "cell_type": "code",
   "execution_count": 50,
   "metadata": {},
   "outputs": [
    {
     "name": "stdout",
     "output_type": "stream",
     "text": [
      "Before:  [123, 78, 0, 45, 56, 89, 20, 30, 10]\n",
      "After:  [123, 78, 45, 56, 89, 20, 30, 10]\n"
     ]
    }
   ],
   "source": [
    "print(\"Before: \", runs)\n",
    "runs.pop(2)\n",
    "print(\"After: \", runs)"
   ]
  },
  {
   "cell_type": "code",
   "execution_count": 51,
   "metadata": {},
   "outputs": [
    {
     "data": {
      "text/plain": [
       "['Rohit',\n",
       " 'Virat',\n",
       " 'Hardik Pandya',\n",
       " 'Dhoni',\n",
       " 'Raina',\n",
       " 'Bumrah',\n",
       " 'Shami',\n",
       " 'Ishant']"
      ]
     },
     "execution_count": 51,
     "metadata": {},
     "output_type": "execute_result"
    }
   ],
   "source": [
    "player_name"
   ]
  },
  {
   "cell_type": "code",
   "execution_count": 52,
   "metadata": {},
   "outputs": [
    {
     "data": {
      "text/plain": [
       "'Ishant'"
      ]
     },
     "execution_count": 52,
     "metadata": {},
     "output_type": "execute_result"
    }
   ],
   "source": [
    "player_name.pop()"
   ]
  },
  {
   "cell_type": "code",
   "execution_count": 53,
   "metadata": {},
   "outputs": [
    {
     "data": {
      "text/plain": [
       "10"
      ]
     },
     "execution_count": 53,
     "metadata": {},
     "output_type": "execute_result"
    }
   ],
   "source": [
    "runs.pop()"
   ]
  },
  {
   "cell_type": "markdown",
   "metadata": {},
   "source": [
    "`List Functions`\n",
    "\n",
    "    append - add at last\n",
    "    \n",
    "    insert - add at loc\n",
    "    \n",
    "    extend - to add multiple values at last\n",
    "    \n",
    "    pop - to delete from location or from last\n",
    "    \n",
    "    remove - to search & delete element from list\n",
    "    \n",
    "    index - to find location of any element in list \n",
    "    \n",
    "    \n",
    "    sort - to sort list [ ascending, descending ]\n",
    "    \n",
    "    reverse - to flip your list\n",
    "    \n",
    "    count - to count no of element in a list\n",
    "    \n",
    "    clear - to delete all elements from list\n",
    "    \n",
    "    copy - to make a copy of list \n",
    "    "
   ]
  },
  {
   "cell_type": "code",
   "execution_count": 55,
   "metadata": {},
   "outputs": [
    {
     "name": "stdout",
     "output_type": "stream",
     "text": [
      "append, clear, copy, count, extend, index, insert, pop, remove, reverse, sort\n"
     ]
    }
   ],
   "source": [
    "print(*[ func for func in dir(list) if '__' not in func ], sep=', ')"
   ]
  },
  {
   "cell_type": "code",
   "execution_count": 56,
   "metadata": {},
   "outputs": [],
   "source": [
    "names = [ 'sachin', 'rajat', 'nidhi', 'rahul', 'harshit', 'balan', 'ramkishore', 'radha', 'simran']"
   ]
  },
  {
   "cell_type": "code",
   "execution_count": 57,
   "metadata": {},
   "outputs": [
    {
     "name": "stdout",
     "output_type": "stream",
     "text": [
      "['sachin', 'rajat', 'nidhi', 'rahul', 'harshit', 'balan', 'ramkishore', 'radha', 'simran']\n"
     ]
    }
   ],
   "source": [
    "print(names)"
   ]
  },
  {
   "cell_type": "code",
   "execution_count": 58,
   "metadata": {},
   "outputs": [],
   "source": [
    "names.sort() # ascending "
   ]
  },
  {
   "cell_type": "code",
   "execution_count": 59,
   "metadata": {},
   "outputs": [
    {
     "data": {
      "text/plain": [
       "['balan',\n",
       " 'harshit',\n",
       " 'nidhi',\n",
       " 'radha',\n",
       " 'rahul',\n",
       " 'rajat',\n",
       " 'ramkishore',\n",
       " 'sachin',\n",
       " 'simran']"
      ]
     },
     "execution_count": 59,
     "metadata": {},
     "output_type": "execute_result"
    }
   ],
   "source": [
    "names"
   ]
  },
  {
   "cell_type": "code",
   "execution_count": 61,
   "metadata": {},
   "outputs": [],
   "source": [
    "names.sort(reverse=True) # descending"
   ]
  },
  {
   "cell_type": "code",
   "execution_count": 62,
   "metadata": {},
   "outputs": [
    {
     "data": {
      "text/plain": [
       "['simran',\n",
       " 'sachin',\n",
       " 'ramkishore',\n",
       " 'rajat',\n",
       " 'rahul',\n",
       " 'radha',\n",
       " 'nidhi',\n",
       " 'harshit',\n",
       " 'balan']"
      ]
     },
     "execution_count": 62,
     "metadata": {},
     "output_type": "execute_result"
    }
   ],
   "source": [
    "names"
   ]
  },
  {
   "cell_type": "code",
   "execution_count": 63,
   "metadata": {},
   "outputs": [],
   "source": [
    "numbers = [ 10, 50, 30, 20, 40, 57, 98, 23 , 40]"
   ]
  },
  {
   "cell_type": "code",
   "execution_count": 64,
   "metadata": {},
   "outputs": [],
   "source": [
    "numbers.sort()"
   ]
  },
  {
   "cell_type": "code",
   "execution_count": 65,
   "metadata": {},
   "outputs": [
    {
     "data": {
      "text/plain": [
       "[10, 20, 23, 30, 40, 40, 50, 57, 98]"
      ]
     },
     "execution_count": 65,
     "metadata": {},
     "output_type": "execute_result"
    }
   ],
   "source": [
    "numbers"
   ]
  },
  {
   "cell_type": "code",
   "execution_count": 66,
   "metadata": {},
   "outputs": [],
   "source": [
    "numbers.sort(reverse=True)"
   ]
  },
  {
   "cell_type": "code",
   "execution_count": 67,
   "metadata": {},
   "outputs": [
    {
     "data": {
      "text/plain": [
       "[98, 57, 50, 40, 40, 30, 23, 20, 10]"
      ]
     },
     "execution_count": 67,
     "metadata": {},
     "output_type": "execute_result"
    }
   ],
   "source": [
    "numbers"
   ]
  },
  {
   "cell_type": "code",
   "execution_count": 68,
   "metadata": {},
   "outputs": [],
   "source": [
    "data = [ 'hello', 'hi', 'bye', 'good']"
   ]
  },
  {
   "cell_type": "code",
   "execution_count": 69,
   "metadata": {},
   "outputs": [],
   "source": [
    "data.reverse()"
   ]
  },
  {
   "cell_type": "code",
   "execution_count": 70,
   "metadata": {},
   "outputs": [
    {
     "data": {
      "text/plain": [
       "['good', 'bye', 'hi', 'hello']"
      ]
     },
     "execution_count": 70,
     "metadata": {},
     "output_type": "execute_result"
    }
   ],
   "source": [
    "data"
   ]
  },
  {
   "cell_type": "code",
   "execution_count": 71,
   "metadata": {},
   "outputs": [
    {
     "data": {
      "text/plain": [
       "['hello', 'hi', 'bye', 'good']"
      ]
     },
     "execution_count": 71,
     "metadata": {},
     "output_type": "execute_result"
    }
   ],
   "source": [
    "data[::-1]"
   ]
  },
  {
   "cell_type": "code",
   "execution_count": 72,
   "metadata": {},
   "outputs": [],
   "source": [
    "org = [ 'some', 'important', 'data']"
   ]
  },
  {
   "cell_type": "code",
   "execution_count": 73,
   "metadata": {},
   "outputs": [
    {
     "data": {
      "text/plain": [
       "['some', 'important', 'data']"
      ]
     },
     "execution_count": 73,
     "metadata": {},
     "output_type": "execute_result"
    }
   ],
   "source": [
    "org"
   ]
  },
  {
   "cell_type": "code",
   "execution_count": 74,
   "metadata": {},
   "outputs": [],
   "source": [
    "copy = org"
   ]
  },
  {
   "cell_type": "code",
   "execution_count": 77,
   "metadata": {},
   "outputs": [
    {
     "name": "stdout",
     "output_type": "stream",
     "text": [
      "['some', 'important', 'data'] 2206107757568\n"
     ]
    }
   ],
   "source": [
    "print(org, id(org))"
   ]
  },
  {
   "cell_type": "code",
   "execution_count": 78,
   "metadata": {},
   "outputs": [
    {
     "name": "stdout",
     "output_type": "stream",
     "text": [
      "['some', 'important', 'data'] 2206107757568\n"
     ]
    }
   ],
   "source": [
    "print(copy, id(copy))"
   ]
  },
  {
   "cell_type": "code",
   "execution_count": 79,
   "metadata": {},
   "outputs": [],
   "source": [
    "copy.append(\"Change\")"
   ]
  },
  {
   "cell_type": "code",
   "execution_count": 80,
   "metadata": {},
   "outputs": [
    {
     "data": {
      "text/plain": [
       "['some', 'important', 'data', 'Change']"
      ]
     },
     "execution_count": 80,
     "metadata": {},
     "output_type": "execute_result"
    }
   ],
   "source": [
    "copy"
   ]
  },
  {
   "cell_type": "code",
   "execution_count": 81,
   "metadata": {},
   "outputs": [
    {
     "data": {
      "text/plain": [
       "['some', 'important', 'data', 'Change']"
      ]
     },
     "execution_count": 81,
     "metadata": {},
     "output_type": "execute_result"
    }
   ],
   "source": [
    "org"
   ]
  },
  {
   "cell_type": "code",
   "execution_count": 82,
   "metadata": {},
   "outputs": [
    {
     "data": {
      "text/plain": [
       "True"
      ]
     },
     "execution_count": 82,
     "metadata": {},
     "output_type": "execute_result"
    }
   ],
   "source": [
    "copy is org"
   ]
  },
  {
   "cell_type": "code",
   "execution_count": 83,
   "metadata": {},
   "outputs": [
    {
     "data": {
      "text/plain": [
       "True"
      ]
     },
     "execution_count": 83,
     "metadata": {},
     "output_type": "execute_result"
    }
   ],
   "source": [
    "org is copy"
   ]
  },
  {
   "cell_type": "code",
   "execution_count": 84,
   "metadata": {},
   "outputs": [],
   "source": [
    "org = [ 'some', 'important', 'data']"
   ]
  },
  {
   "cell_type": "code",
   "execution_count": 85,
   "metadata": {},
   "outputs": [],
   "source": [
    "copy = org.copy()"
   ]
  },
  {
   "cell_type": "code",
   "execution_count": 86,
   "metadata": {},
   "outputs": [
    {
     "name": "stdout",
     "output_type": "stream",
     "text": [
      "['some', 'important', 'data'] 2206106873280\n",
      "['some', 'important', 'data'] 2206108603904\n"
     ]
    }
   ],
   "source": [
    "print(org, id(org))\n",
    "print(copy, id(copy))"
   ]
  },
  {
   "cell_type": "code",
   "execution_count": 87,
   "metadata": {},
   "outputs": [],
   "source": [
    "copy.append(\"Change\")"
   ]
  },
  {
   "cell_type": "code",
   "execution_count": 88,
   "metadata": {},
   "outputs": [
    {
     "name": "stdout",
     "output_type": "stream",
     "text": [
      "['some', 'important', 'data', 'Change']\n"
     ]
    }
   ],
   "source": [
    "print(copy)"
   ]
  },
  {
   "cell_type": "code",
   "execution_count": 89,
   "metadata": {},
   "outputs": [
    {
     "name": "stdout",
     "output_type": "stream",
     "text": [
      "['some', 'important', 'data']\n"
     ]
    }
   ],
   "source": [
    "print(org)"
   ]
  },
  {
   "cell_type": "markdown",
   "metadata": {},
   "source": [
    "#### Shallow & Deep Copy"
   ]
  },
  {
   "cell_type": "code",
   "execution_count": 90,
   "metadata": {},
   "outputs": [
    {
     "data": {
      "text/plain": [
       "['some', 'important', 'data']"
      ]
     },
     "execution_count": 90,
     "metadata": {},
     "output_type": "execute_result"
    }
   ],
   "source": [
    "org"
   ]
  },
  {
   "cell_type": "code",
   "execution_count": 91,
   "metadata": {},
   "outputs": [],
   "source": [
    "org.clear()"
   ]
  },
  {
   "cell_type": "code",
   "execution_count": 92,
   "metadata": {},
   "outputs": [
    {
     "name": "stdout",
     "output_type": "stream",
     "text": [
      "[]\n"
     ]
    }
   ],
   "source": [
    "print(org)"
   ]
  },
  {
   "cell_type": "code",
   "execution_count": 93,
   "metadata": {},
   "outputs": [],
   "source": [
    "chai_khata = [\n",
    "    \n",
    "    'sachin', 'ram', 'simran',\n",
    "    'sachin', 'rajat', 'sachin',\n",
    "    'rajat', 'simran', 'ram',\n",
    "    'sachin', 'rajat'\n",
    "    \n",
    "]"
   ]
  },
  {
   "cell_type": "markdown",
   "metadata": {},
   "source": [
    "#### bill ? "
   ]
  },
  {
   "cell_type": "code",
   "execution_count": 94,
   "metadata": {},
   "outputs": [],
   "source": [
    "c = chai_khata.count('sachin')"
   ]
  },
  {
   "cell_type": "code",
   "execution_count": 95,
   "metadata": {},
   "outputs": [
    {
     "data": {
      "text/plain": [
       "4"
      ]
     },
     "execution_count": 95,
     "metadata": {},
     "output_type": "execute_result"
    }
   ],
   "source": [
    "c"
   ]
  },
  {
   "cell_type": "code",
   "execution_count": 96,
   "metadata": {},
   "outputs": [],
   "source": [
    "price = 5"
   ]
  },
  {
   "cell_type": "code",
   "execution_count": 98,
   "metadata": {},
   "outputs": [
    {
     "name": "stdout",
     "output_type": "stream",
     "text": [
      "name: sachin\n",
      "you have to pay:  20\n"
     ]
    }
   ],
   "source": [
    "name = input(\"name: \")\n",
    "amount = price * chai_khata.count(name)\n",
    "print(\"you have to pay: \", amount)"
   ]
  },
  {
   "cell_type": "code",
   "execution_count": 99,
   "metadata": {},
   "outputs": [
    {
     "name": "stdout",
     "output_type": "stream",
     "text": [
      "name: simran\n",
      "you have to pay:  10\n"
     ]
    }
   ],
   "source": [
    "name = input(\"name: \")\n",
    "amount = price * chai_khata.count(name)\n",
    "print(\"you have to pay: \", amount)"
   ]
  },
  {
   "cell_type": "code",
   "execution_count": 100,
   "metadata": {},
   "outputs": [
    {
     "name": "stdout",
     "output_type": "stream",
     "text": [
      "name: rajat\n",
      "you have to pay:  15\n"
     ]
    }
   ],
   "source": [
    "name = input(\"name: \")\n",
    "amount = price * chai_khata.count(name)\n",
    "print(\"you have to pay: \", amount)"
   ]
  },
  {
   "cell_type": "markdown",
   "metadata": {},
   "source": [
    "## Dictionary"
   ]
  },
  {
   "cell_type": "markdown",
   "metadata": {},
   "source": [
    "    collection of Key - value pairs "
   ]
  },
  {
   "cell_type": "markdown",
   "metadata": {},
   "source": [
    "`It is Map type object, each value has it's unique key`\n",
    "\n",
    "`values can be any valid python object / variable`\n",
    "\n",
    "`strings should be used as keys`\n",
    "\n"
   ]
  },
  {
   "cell_type": "code",
   "execution_count": 101,
   "metadata": {},
   "outputs": [
    {
     "name": "stdout",
     "output_type": "stream",
     "text": [
      "['python', 3.8, 'Guidio Van Rossum', 1994]\n"
     ]
    }
   ],
   "source": [
    "# name, version, father, launch_year\n",
    "detail = [ 'python', 3.8, 'Guidio Van Rossum', 1994]\n",
    "print(detail)"
   ]
  },
  {
   "cell_type": "code",
   "execution_count": 102,
   "metadata": {},
   "outputs": [],
   "source": [
    "info = { 'name': 'python', 'version': 3.8, \n",
    "       'father': 'Guido Van Rossum', 'launch_year': 1994}"
   ]
  },
  {
   "cell_type": "code",
   "execution_count": 103,
   "metadata": {},
   "outputs": [
    {
     "name": "stdout",
     "output_type": "stream",
     "text": [
      "{'name': 'python', 'version': 3.8, 'father': 'Guido Van Rossum', 'launch_year': 1994}\n"
     ]
    }
   ],
   "source": [
    "print(info)"
   ]
  },
  {
   "cell_type": "code",
   "execution_count": 104,
   "metadata": {},
   "outputs": [
    {
     "data": {
      "text/plain": [
       "['python', 3.8, 'Guidio Van Rossum', 1994]"
      ]
     },
     "execution_count": 104,
     "metadata": {},
     "output_type": "execute_result"
    }
   ],
   "source": [
    "detail"
   ]
  },
  {
   "cell_type": "code",
   "execution_count": 105,
   "metadata": {},
   "outputs": [
    {
     "data": {
      "text/plain": [
       "3.8"
      ]
     },
     "execution_count": 105,
     "metadata": {},
     "output_type": "execute_result"
    }
   ],
   "source": [
    "detail[1]"
   ]
  },
  {
   "cell_type": "code",
   "execution_count": 106,
   "metadata": {},
   "outputs": [
    {
     "data": {
      "text/plain": [
       "3.8"
      ]
     },
     "execution_count": 106,
     "metadata": {},
     "output_type": "execute_result"
    }
   ],
   "source": [
    "info['version']"
   ]
  },
  {
   "cell_type": "code",
   "execution_count": 107,
   "metadata": {},
   "outputs": [
    {
     "ename": "KeyError",
     "evalue": "'abrakadabara'",
     "output_type": "error",
     "traceback": [
      "\u001b[1;31m---------------------------------------------------------------------------\u001b[0m",
      "\u001b[1;31mKeyError\u001b[0m                                  Traceback (most recent call last)",
      "\u001b[1;32m<ipython-input-107-b5530b56e293>\u001b[0m in \u001b[0;36m<module>\u001b[1;34m\u001b[0m\n\u001b[1;32m----> 1\u001b[1;33m \u001b[0minfo\u001b[0m\u001b[1;33m[\u001b[0m\u001b[1;34m'abrakadabara'\u001b[0m\u001b[1;33m]\u001b[0m\u001b[1;33m\u001b[0m\u001b[1;33m\u001b[0m\u001b[0m\n\u001b[0m",
      "\u001b[1;31mKeyError\u001b[0m: 'abrakadabara'"
     ]
    }
   ],
   "source": [
    "info['abrakadabara']"
   ]
  },
  {
   "cell_type": "code",
   "execution_count": 108,
   "metadata": {},
   "outputs": [
    {
     "data": {
      "text/plain": [
       "dict_keys(['name', 'version', 'father', 'launch_year'])"
      ]
     },
     "execution_count": 108,
     "metadata": {},
     "output_type": "execute_result"
    }
   ],
   "source": [
    "info.keys()"
   ]
  },
  {
   "cell_type": "code",
   "execution_count": 109,
   "metadata": {},
   "outputs": [
    {
     "data": {
      "text/plain": [
       "dict_values(['python', 3.8, 'Guido Van Rossum', 1994])"
      ]
     },
     "execution_count": 109,
     "metadata": {},
     "output_type": "execute_result"
    }
   ],
   "source": [
    "info.values()"
   ]
  },
  {
   "cell_type": "code",
   "execution_count": 111,
   "metadata": {},
   "outputs": [
    {
     "data": {
      "text/plain": [
       "dict_items([('name', 'python'), ('version', 3.8), ('father', 'Guido Van Rossum'), ('launch_year', 1994)])"
      ]
     },
     "execution_count": 111,
     "metadata": {},
     "output_type": "execute_result"
    }
   ],
   "source": [
    "info.items() # key-value pairs"
   ]
  },
  {
   "cell_type": "code",
   "execution_count": 112,
   "metadata": {},
   "outputs": [
    {
     "data": {
      "text/plain": [
       "{'name': 'python',\n",
       " 'version': 3.8,\n",
       " 'father': 'Guido Van Rossum',\n",
       " 'launch_year': 1994}"
      ]
     },
     "execution_count": 112,
     "metadata": {},
     "output_type": "execute_result"
    }
   ],
   "source": [
    "info"
   ]
  },
  {
   "cell_type": "code",
   "execution_count": 113,
   "metadata": {},
   "outputs": [
    {
     "data": {
      "text/plain": [
       "'python'"
      ]
     },
     "execution_count": 113,
     "metadata": {},
     "output_type": "execute_result"
    }
   ],
   "source": [
    "info['name']"
   ]
  },
  {
   "cell_type": "code",
   "execution_count": 114,
   "metadata": {},
   "outputs": [],
   "source": [
    "info['website'] = 'python.org'"
   ]
  },
  {
   "cell_type": "code",
   "execution_count": 115,
   "metadata": {},
   "outputs": [
    {
     "data": {
      "text/plain": [
       "{'name': 'python',\n",
       " 'version': 3.8,\n",
       " 'father': 'Guido Van Rossum',\n",
       " 'launch_year': 1994,\n",
       " 'website': 'python.org'}"
      ]
     },
     "execution_count": 115,
     "metadata": {},
     "output_type": "execute_result"
    }
   ],
   "source": [
    "info"
   ]
  },
  {
   "cell_type": "code",
   "execution_count": 116,
   "metadata": {},
   "outputs": [],
   "source": [
    "info['name'] = 'Python Programming'"
   ]
  },
  {
   "cell_type": "code",
   "execution_count": 117,
   "metadata": {},
   "outputs": [
    {
     "name": "stdout",
     "output_type": "stream",
     "text": [
      "{'name': 'Python Programming', 'version': 3.8, 'father': 'Guido Van Rossum', 'launch_year': 1994, 'website': 'python.org'}\n"
     ]
    }
   ],
   "source": [
    "print(info)"
   ]
  },
  {
   "cell_type": "code",
   "execution_count": 118,
   "metadata": {},
   "outputs": [],
   "source": [
    "info.update(name='Python', company='Python Software Foundation')"
   ]
  },
  {
   "cell_type": "code",
   "execution_count": 119,
   "metadata": {},
   "outputs": [
    {
     "data": {
      "text/plain": [
       "{'name': 'Python',\n",
       " 'version': 3.8,\n",
       " 'father': 'Guido Van Rossum',\n",
       " 'launch_year': 1994,\n",
       " 'website': 'python.org',\n",
       " 'company': 'Python Software Foundation'}"
      ]
     },
     "execution_count": 119,
     "metadata": {},
     "output_type": "execute_result"
    }
   ],
   "source": [
    "info"
   ]
  },
  {
   "cell_type": "code",
   "execution_count": 120,
   "metadata": {},
   "outputs": [
    {
     "name": "stdout",
     "output_type": "stream",
     "text": [
      "['__class__', '__contains__', '__delattr__', '__delitem__', '__dir__', '__doc__', '__eq__', '__format__', '__ge__', '__getattribute__', '__getitem__', '__gt__', '__hash__', '__init__', '__init_subclass__', '__iter__', '__le__', '__len__', '__lt__', '__ne__', '__new__', '__reduce__', '__reduce_ex__', '__repr__', '__reversed__', '__setattr__', '__setitem__', '__sizeof__', '__str__', '__subclasshook__', 'clear', 'copy', 'fromkeys', 'get', 'items', 'keys', 'pop', 'popitem', 'setdefault', 'update', 'values']\n"
     ]
    }
   ],
   "source": [
    "print(dir(dict))"
   ]
  },
  {
   "cell_type": "markdown",
   "metadata": {},
   "source": [
    "    tuple, set, frozenset, boolean None "
   ]
  },
  {
   "cell_type": "markdown",
   "metadata": {},
   "source": [
    "### Conditional Statements / Control Statement / Decesion Statement "
   ]
  },
  {
   "cell_type": "code",
   "execution_count": 121,
   "metadata": {},
   "outputs": [
    {
     "name": "stderr",
     "output_type": "stream",
     "text": [
      "100%|███████████████████████████████████████████████████████████████████████████████████████████████| 120/120 [02:01<00:00,  1.01s/it]\n"
     ]
    }
   ],
   "source": [
    "from tqdm import tqdm\n",
    "from time import sleep\n",
    "for _ in tqdm(range(120)):\n",
    "    sleep(1)"
   ]
  },
  {
   "cell_type": "markdown",
   "metadata": {},
   "source": [
    "### Operator "
   ]
  },
  {
   "cell_type": "markdown",
   "metadata": {},
   "source": [
    "    problem print you can drink if age > 18 else print you can not drink "
   ]
  },
  {
   "cell_type": "markdown",
   "metadata": {},
   "source": [
    "    pocket --> money\n",
    "    \n",
    "    \n",
    "                \n",
    "                        Go for a Movie & than dinner   ( if money is above 1000 rs )\n",
    "        Decision \n",
    "                        Go for dinner"
   ]
  },
  {
   "cell_type": "code",
   "execution_count": 122,
   "metadata": {},
   "outputs": [
    {
     "name": "stdout",
     "output_type": "stream",
     "text": [
      "Drink Test\n",
      "Your Name: sachin\n",
      "Your Age: 23\n",
      "sachin can Drink Alcohol\n",
      "sachin can not Drink Alcohol\n",
      "Test Sucessfull\n"
     ]
    }
   ],
   "source": [
    "# sequential programming \n",
    "\n",
    "print(\"Drink Test\")\n",
    "\n",
    "name = input(\"Your Name: \")\n",
    "age = int(input(\"Your Age: \"))\n",
    "\n",
    "print(f\"{name} can Drink Alcohol\")\n",
    "\n",
    "print(f\"{name} can not Drink Alcohol\")\n",
    "\n",
    "print(\"Test Sucessfull\")"
   ]
  },
  {
   "cell_type": "markdown",
   "metadata": {},
   "source": [
    "`if else statements for decision making`"
   ]
  },
  {
   "cell_type": "markdown",
   "metadata": {},
   "source": [
    "`Identation` space before your statement "
   ]
  },
  {
   "cell_type": "code",
   "execution_count": 123,
   "metadata": {},
   "outputs": [
    {
     "name": "stdout",
     "output_type": "stream",
     "text": [
      "hello\n",
      "Hi\n",
      "bye\n"
     ]
    }
   ],
   "source": [
    "print(\"hello\")\n",
    "print(\"Hi\")\n",
    "print(\"bye\")"
   ]
  },
  {
   "cell_type": "code",
   "execution_count": 124,
   "metadata": {},
   "outputs": [
    {
     "ename": "IndentationError",
     "evalue": "unexpected indent (<ipython-input-124-b8d66be7871f>, line 2)",
     "output_type": "error",
     "traceback": [
      "\u001b[1;36m  File \u001b[1;32m\"<ipython-input-124-b8d66be7871f>\"\u001b[1;36m, line \u001b[1;32m2\u001b[0m\n\u001b[1;33m    print(\"Hi\")\u001b[0m\n\u001b[1;37m    ^\u001b[0m\n\u001b[1;31mIndentationError\u001b[0m\u001b[1;31m:\u001b[0m unexpected indent\n"
     ]
    }
   ],
   "source": [
    "print(\"hello\")\n",
    "    print(\"Hi\")\n",
    "print(\"bye\")"
   ]
  },
  {
   "cell_type": "code",
   "execution_count": 125,
   "metadata": {},
   "outputs": [
    {
     "name": "stdout",
     "output_type": "stream",
     "text": [
      "The Zen of Python, by Tim Peters\n",
      "\n",
      "Beautiful is better than ugly.\n",
      "Explicit is better than implicit.\n",
      "Simple is better than complex.\n",
      "Complex is better than complicated.\n",
      "Flat is better than nested.\n",
      "Sparse is better than dense.\n",
      "Readability counts.\n",
      "Special cases aren't special enough to break the rules.\n",
      "Although practicality beats purity.\n",
      "Errors should never pass silently.\n",
      "Unless explicitly silenced.\n",
      "In the face of ambiguity, refuse the temptation to guess.\n",
      "There should be one-- and preferably only one --obvious way to do it.\n",
      "Although that way may not be obvious at first unless you're Dutch.\n",
      "Now is better than never.\n",
      "Although never is often better than *right* now.\n",
      "If the implementation is hard to explain, it's a bad idea.\n",
      "If the implementation is easy to explain, it may be a good idea.\n",
      "Namespaces are one honking great idea -- let's do more of those!\n"
     ]
    }
   ],
   "source": [
    "import this\n",
    "# Zen of Python, Design Principle of Python"
   ]
  },
  {
   "cell_type": "code",
   "execution_count": null,
   "metadata": {},
   "outputs": [],
   "source": []
  },
  {
   "cell_type": "code",
   "execution_count": 126,
   "metadata": {},
   "outputs": [
    {
     "name": "stdout",
     "output_type": "stream",
     "text": [
      "Drink Test\n",
      "Your Name: Sachin\n",
      "Your Age: 15\n",
      "Sachin can not Drink Alcohol\n",
      "Test Sucessfull\n"
     ]
    }
   ],
   "source": [
    "# sequential programming \n",
    "\n",
    "print(\"Drink Test\")\n",
    "\n",
    "name = input(\"Your Name: \")\n",
    "age = int(input(\"Your Age: \"))\n",
    "\n",
    "if age >= 18: # yes / True\n",
    "    print(f\"{name} can Drink Alcohol\")\n",
    "else: # no / False\n",
    "    print(f\"{name} can not Drink Alcohol\")\n",
    "\n",
    "print(\"Test Sucessfull\")"
   ]
  },
  {
   "cell_type": "code",
   "execution_count": 128,
   "metadata": {},
   "outputs": [
    {
     "name": "stdout",
     "output_type": "stream",
     "text": [
      "Drink Test\n",
      "Your Name: Sachin\n",
      "Your Age: 26\n",
      "Sachin can Drink Alcohol\n",
      "Test Sucessfull\n"
     ]
    }
   ],
   "source": [
    "# sequential programming \n",
    "\n",
    "print(\"Drink Test\")\n",
    "\n",
    "name = input(\"Your Name: \")\n",
    "age = int(input(\"Your Age: \"))\n",
    "\n",
    "if age >= 18: # yes / True\n",
    "    print(f\"{name} can Drink Alcohol\")\n",
    "else: # no / False\n",
    "    print(f\"{name} can not Drink Alcohol\")\n",
    "\n",
    "print(\"Test Sucessfull\")"
   ]
  },
  {
   "cell_type": "markdown",
   "metadata": {},
   "source": [
    "### Tomorrow Topic \n",
    "\n",
    "    algorithm\n",
    "    flow chart\n",
    "    Operators\n",
    "    if-else"
   ]
  },
  {
   "cell_type": "markdown",
   "metadata": {},
   "source": [
    "`Doubt Solving`"
   ]
  },
  {
   "cell_type": "code",
   "execution_count": 134,
   "metadata": {},
   "outputs": [],
   "source": [
    "lang = [ 'java', 'c', 'c++', 'ruby']"
   ]
  },
  {
   "cell_type": "code",
   "execution_count": 135,
   "metadata": {},
   "outputs": [
    {
     "name": "stdout",
     "output_type": "stream",
     "text": [
      "2206106803520\n"
     ]
    }
   ],
   "source": [
    "print(id(lang))"
   ]
  },
  {
   "cell_type": "markdown",
   "metadata": {},
   "source": [
    "    list is mutable, we can change it. \n",
    "    "
   ]
  },
  {
   "cell_type": "code",
   "execution_count": 136,
   "metadata": {},
   "outputs": [],
   "source": [
    "lang.reverse()"
   ]
  },
  {
   "cell_type": "code",
   "execution_count": 137,
   "metadata": {},
   "outputs": [
    {
     "name": "stdout",
     "output_type": "stream",
     "text": [
      "['ruby', 'c++', 'c', 'java'] 2206106803520\n"
     ]
    }
   ],
   "source": [
    "print(lang, id(lang))"
   ]
  },
  {
   "cell_type": "code",
   "execution_count": 138,
   "metadata": {},
   "outputs": [],
   "source": [
    "lang.reverse()"
   ]
  },
  {
   "cell_type": "code",
   "execution_count": 139,
   "metadata": {},
   "outputs": [
    {
     "name": "stdout",
     "output_type": "stream",
     "text": [
      "['java', 'c', 'c++', 'ruby'] 2206106803520\n"
     ]
    }
   ],
   "source": [
    "print(lang, id(lang))"
   ]
  },
  {
   "cell_type": "code",
   "execution_count": 140,
   "metadata": {},
   "outputs": [],
   "source": [
    "lang1 = lang[::-1] # we are creating a new list object "
   ]
  },
  {
   "cell_type": "code",
   "execution_count": 141,
   "metadata": {},
   "outputs": [
    {
     "name": "stdout",
     "output_type": "stream",
     "text": [
      "['java', 'c', 'c++', 'ruby'] 2206106803520\n"
     ]
    }
   ],
   "source": [
    "print(lang, id(lang))"
   ]
  },
  {
   "cell_type": "code",
   "execution_count": 142,
   "metadata": {},
   "outputs": [
    {
     "name": "stdout",
     "output_type": "stream",
     "text": [
      "['ruby', 'c++', 'c', 'java'] 2206108563264\n"
     ]
    }
   ],
   "source": [
    "print(lang1, id(lang1))"
   ]
  },
  {
   "cell_type": "code",
   "execution_count": 143,
   "metadata": {},
   "outputs": [],
   "source": [
    "lang = lang[::-1]"
   ]
  },
  {
   "cell_type": "code",
   "execution_count": 144,
   "metadata": {},
   "outputs": [
    {
     "name": "stdout",
     "output_type": "stream",
     "text": [
      "['ruby', 'c++', 'c', 'java'] 2206106614784\n"
     ]
    }
   ],
   "source": [
    "print(lang, id(lang))"
   ]
  },
  {
   "cell_type": "code",
   "execution_count": 145,
   "metadata": {},
   "outputs": [],
   "source": [
    "name = \"sachin\""
   ]
  },
  {
   "cell_type": "code",
   "execution_count": 146,
   "metadata": {
    "scrolled": true
   },
   "outputs": [
    {
     "data": {
      "text/plain": [
       "'sachin'"
      ]
     },
     "execution_count": 146,
     "metadata": {},
     "output_type": "execute_result"
    }
   ],
   "source": [
    "name # shell output"
   ]
  },
  {
   "cell_type": "code",
   "execution_count": 147,
   "metadata": {
    "scrolled": true
   },
   "outputs": [
    {
     "name": "stdout",
     "output_type": "stream",
     "text": [
      "sachin\n"
     ]
    }
   ],
   "source": [
    "print(name) # standard output"
   ]
  },
  {
   "cell_type": "code",
   "execution_count": 148,
   "metadata": {},
   "outputs": [],
   "source": [
    "d = { 'name': 'sachin', 'age': 26, 'language': 'python', 'blood_group': 'B+ive', 'address': 'jaipur', 'color': 'fair'}"
   ]
  },
  {
   "cell_type": "code",
   "execution_count": 149,
   "metadata": {},
   "outputs": [
    {
     "name": "stdout",
     "output_type": "stream",
     "text": [
      "{'name': 'sachin', 'age': 26, 'language': 'python', 'blood_group': 'B+ive', 'address': 'jaipur', 'color': 'fair'}\n"
     ]
    }
   ],
   "source": [
    "print(d)# standard output"
   ]
  },
  {
   "cell_type": "code",
   "execution_count": 150,
   "metadata": {},
   "outputs": [
    {
     "data": {
      "text/plain": [
       "{'name': 'sachin',\n",
       " 'age': 26,\n",
       " 'language': 'python',\n",
       " 'blood_group': 'B+ive',\n",
       " 'address': 'jaipur',\n",
       " 'color': 'fair'}"
      ]
     },
     "execution_count": 150,
     "metadata": {},
     "output_type": "execute_result"
    }
   ],
   "source": [
    "d # shell output"
   ]
  },
  {
   "cell_type": "code",
   "execution_count": 1,
   "metadata": {},
   "outputs": [
    {
     "data": {
      "text/plain": [
       "True"
      ]
     },
     "execution_count": 1,
     "metadata": {},
     "output_type": "execute_result"
    }
   ],
   "source": [
    "'Hello'.upper().isupper()"
   ]
  },
  {
   "cell_type": "code",
   "execution_count": 2,
   "metadata": {},
   "outputs": [
    {
     "data": {
      "text/plain": [
       "'HELLO'"
      ]
     },
     "execution_count": 2,
     "metadata": {},
     "output_type": "execute_result"
    }
   ],
   "source": [
    "'Hello'.upper()"
   ]
  },
  {
   "cell_type": "code",
   "execution_count": 3,
   "metadata": {},
   "outputs": [
    {
     "data": {
      "text/plain": [
       "'hello'"
      ]
     },
     "execution_count": 3,
     "metadata": {},
     "output_type": "execute_result"
    }
   ],
   "source": [
    "'Hello'.upper().lower()\n"
   ]
  },
  {
   "cell_type": "code",
   "execution_count": null,
   "metadata": {},
   "outputs": [],
   "source": []
  }
 ],
 "metadata": {
  "kernelspec": {
   "display_name": "Python 3",
   "language": "python",
   "name": "python3"
  },
  "language_info": {
   "codemirror_mode": {
    "name": "ipython",
    "version": 3
   },
   "file_extension": ".py",
   "mimetype": "text/x-python",
   "name": "python",
   "nbconvert_exporter": "python",
   "pygments_lexer": "ipython3",
   "version": "3.8.3"
  }
 },
 "nbformat": 4,
 "nbformat_minor": 4
}
