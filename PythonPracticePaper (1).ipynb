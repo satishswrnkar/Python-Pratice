{
 "cells": [
  {
   "cell_type": "markdown",
   "metadata": {},
   "source": [
    "## Question 1 "
   ]
  },
  {
   "cell_type": "markdown",
   "metadata": {},
   "source": [
    "    You are writting a program that calculates a users's year of birth. The program asks users for their age and the current year, then outputs the user's year of birth. You write the following code. Line numbers are included for reference onely \n",
    "\n"
   ]
  },
  {
   "cell_type": "markdown",
   "metadata": {},
   "source": [
    "    01 age = input(\"Enter your age: \")\n",
    "    02 year = input(\"Enter the four digit year: \")\n",
    "    03 born = eval(year) - eval(age)\n",
    "    04 messege = \"You are born in \" + str(born)\n",
    "    05 print(message)"
   ]
  },
  {
   "cell_type": "markdown",
   "metadata": {},
   "source": [
    "you need to ensure that the program uses the appropriate data types."
   ]
  },
  {
   "cell_type": "markdown",
   "metadata": {},
   "source": [
    "Select Answere from int, float, str, list, dict, set , tuple\n",
    "\n",
    "    1. What data type is age in line 01 ? \n",
    "    \n",
    "    2. What data type is born in line 03 ? \n",
    "    \n",
    "    3. what data type is message in line 04 ? "
   ]
  },
  {
   "cell_type": "code",
   "execution_count": 1,
   "metadata": {},
   "outputs": [],
   "source": [
    "# 24\n",
    "# 2020\n",
    "# 2020 - 24 -> 1996\n",
    "\n",
    "# birth year - 1996\n",
    "\n",
    "# answer1 : string\n",
    "    \n",
    "# answer2 : int\n",
    "    \n",
    "# answer3 : string\n",
    "    "
   ]
  },
  {
   "cell_type": "code",
   "execution_count": null,
   "metadata": {},
   "outputs": [],
   "source": []
  },
  {
   "cell_type": "markdown",
   "metadata": {},
   "source": [
    "### Question 2"
   ]
  },
  {
   "cell_type": "markdown",
   "metadata": {},
   "source": [
    "```numList = [ 0, 1, 2, 3, 4]\n",
    "print( 5 in numList )\n",
    "```\n",
    "\n",
    "What is the output of the print statement ? "
   ]
  },
  {
   "cell_type": "markdown",
   "metadata": {},
   "source": [
    "    A. 5\n",
    "    B. 4\n",
    "    C. True\n",
    "    D. False"
   ]
  },
  {
   "cell_type": "code",
   "execution_count": 1,
   "metadata": {},
   "outputs": [],
   "source": [
    "# Answer: \n",
    "\n",
    "# C False"
   ]
  },
  {
   "cell_type": "code",
   "execution_count": null,
   "metadata": {},
   "outputs": [],
   "source": []
  },
  {
   "cell_type": "markdown",
   "metadata": {},
   "source": [
    "### Question 3"
   ]
  },
  {
   "cell_type": "markdown",
   "metadata": {},
   "source": [
    "You write the following code: \n",
    "\n",
    "```\n",
    "a = \"Config1\"\n",
    "print(a)\n",
    "b = a\n",
    "a += \"Config2\"\n",
    "print(a)\n",
    "print(b)\n",
    "\n",
    "```\n",
    "\n",
    "select the answer choice that answers each question based on the information presented in the code segment. "
   ]
  },
  {
   "cell_type": "markdown",
   "metadata": {},
   "source": [
    "1. What is displayed after first print ? \n",
    "\n",
    "        A. Config1\n",
    "        B. Config2\n",
    "        C. config2Config1\n",
    "        D. config1Config2\n",
    "\n",
    "2. What is displayed after second print ? \n",
    "\n",
    "        A. Config1\n",
    "        B. Config2\n",
    "        C. config2Config1\n",
    "        D. config1Config2\n",
    "\n",
    "3. what is displated after third print ? \n",
    "\n",
    "        A. Config1\n",
    "        B. Config2\n",
    "        C. config2Config1\n",
    "        D. config1Config2"
   ]
  },
  {
   "cell_type": "code",
   "execution_count": 2,
   "metadata": {},
   "outputs": [
    {
     "name": "stdout",
     "output_type": "stream",
     "text": [
      "Config1\n",
      "Config1Config2\n",
      "Config1\n"
     ]
    }
   ],
   "source": [
    "a = \"Config1\"\n",
    "print(a) # Config1\n",
    "\n",
    "b = a # b = \"Config1\"\n",
    "\n",
    "a += \"Config2\" # \"Config1\"+\"Config2\" -> \"Config1Config2\"\n",
    "\n",
    "# a = \"Config1Config2\"\n",
    "\n",
    "print(a)\n",
    "print(b)\n",
    "\n",
    "# Answer-1   A Config1\n",
    "\n",
    "# Answer-2   D Config1Config2\n",
    "\n",
    "# Answer-3   A config1\n",
    "\n"
   ]
  },
  {
   "cell_type": "code",
   "execution_count": null,
   "metadata": {},
   "outputs": [],
   "source": []
  },
  {
   "cell_type": "code",
   "execution_count": 24,
   "metadata": {},
   "outputs": [
    {
     "data": {
      "text/plain": [
       "140710377597056"
      ]
     },
     "execution_count": 24,
     "metadata": {},
     "output_type": "execute_result"
    }
   ],
   "source": [
    "id(None)"
   ]
  },
  {
   "cell_type": "code",
   "execution_count": 25,
   "metadata": {},
   "outputs": [
    {
     "data": {
      "text/plain": [
       "140710377597056"
      ]
     },
     "execution_count": 25,
     "metadata": {},
     "output_type": "execute_result"
    }
   ],
   "source": [
    "id(None)"
   ]
  },
  {
   "cell_type": "code",
   "execution_count": 26,
   "metadata": {},
   "outputs": [
    {
     "data": {
      "text/plain": [
       "140710377597056"
      ]
     },
     "execution_count": 26,
     "metadata": {},
     "output_type": "execute_result"
    }
   ],
   "source": [
    "id(None)"
   ]
  },
  {
   "cell_type": "code",
   "execution_count": 27,
   "metadata": {},
   "outputs": [
    {
     "data": {
      "text/plain": [
       "1921444743344"
      ]
     },
     "execution_count": 27,
     "metadata": {},
     "output_type": "execute_result"
    }
   ],
   "source": [
    "id('sachin')"
   ]
  },
  {
   "cell_type": "code",
   "execution_count": 29,
   "metadata": {},
   "outputs": [
    {
     "data": {
      "text/plain": [
       "1921444743344"
      ]
     },
     "execution_count": 29,
     "metadata": {},
     "output_type": "execute_result"
    }
   ],
   "source": [
    "id('sachin')"
   ]
  },
  {
   "cell_type": "code",
   "execution_count": 30,
   "metadata": {},
   "outputs": [],
   "source": [
    "s = 'sachin yadav'\n",
    "s1 = 'sachin yadav'"
   ]
  },
  {
   "cell_type": "code",
   "execution_count": 31,
   "metadata": {},
   "outputs": [
    {
     "name": "stdout",
     "output_type": "stream",
     "text": [
      "1921446191536\n",
      "1921446192560\n"
     ]
    }
   ],
   "source": [
    "print(id(s))\n",
    "print(id(s1))"
   ]
  },
  {
   "cell_type": "code",
   "execution_count": 32,
   "metadata": {},
   "outputs": [
    {
     "data": {
      "text/plain": [
       "False"
      ]
     },
     "execution_count": 32,
     "metadata": {},
     "output_type": "execute_result"
    }
   ],
   "source": [
    "s is s1"
   ]
  },
  {
   "cell_type": "code",
   "execution_count": 33,
   "metadata": {},
   "outputs": [],
   "source": [
    "a = None\n",
    "b = None"
   ]
  },
  {
   "cell_type": "code",
   "execution_count": 34,
   "metadata": {},
   "outputs": [
    {
     "name": "stdout",
     "output_type": "stream",
     "text": [
      "140710377597056\n",
      "140710377597056\n"
     ]
    }
   ],
   "source": [
    "print(id(a))\n",
    "print(id(b))"
   ]
  },
  {
   "cell_type": "code",
   "execution_count": 35,
   "metadata": {},
   "outputs": [
    {
     "data": {
      "text/plain": [
       "True"
      ]
     },
     "execution_count": 35,
     "metadata": {},
     "output_type": "execute_result"
    }
   ],
   "source": [
    "a is b"
   ]
  },
  {
   "cell_type": "markdown",
   "metadata": {},
   "source": [
    "### Question 4"
   ]
  },
  {
   "cell_type": "markdown",
   "metadata": {},
   "source": [
    "You are writting a function to perform safe division. \n",
    "\n",
    "You need to ensure that a denominator and numerator are passed to the function and that the denoinator is non zero.\n",
    "\n",
    "How should you complete the code? To answer, select the appropriate code segaments in the answer area. \n"
   ]
  },
  {
   "cell_type": "markdown",
   "metadata": {},
   "source": [
    "```\n",
    "def safe_divide(numerator, denominator):\n",
    "    ... # selection 1\n",
    "    \n",
    "        print(\"A required value is missing.\")\n",
    "    \n",
    "    ... # selection 2\n",
    "        \n",
    "        print(\"The denominator is zero.\")\n",
    "        \n",
    "    else:\n",
    "        \n",
    "        return numerator / denominator \n",
    "    \n",
    "```"
   ]
  },
  {
   "cell_type": "markdown",
   "metadata": {},
   "source": [
    "```\n",
    "\n",
    "    Selection 1 options \n",
    "    \n",
    "    if numerator is None or denominator is None: \n",
    "    \n",
    "    if numerator is None and denominator is None:\n",
    "    \n",
    "    if numerator or denominator:\n",
    "    \n",
    "    \n",
    "    \n",
    "    Selection 2 options\n",
    "    \n",
    "    elif nominator == 0:\n",
    "    \n",
    "    elif denominator == 0\n",
    "    \n",
    "    elif nominator > denominator:\n",
    "    \n",
    "    elif nominator == 0 and denominator == 0\n",
    "    \n",
    "    \n",
    "\n",
    "```"
   ]
  },
  {
   "cell_type": "code",
   "execution_count": 4,
   "metadata": {},
   "outputs": [],
   "source": [
    "### Answer Selection 1\n",
    "\n",
    "# if numerator is None or denominator is None:\n",
    "\n",
    "### Answer Selection 2\n",
    "\n",
    "# elif denominator == 0:\n"
   ]
  },
  {
   "cell_type": "markdown",
   "metadata": {},
   "source": [
    "### Question 5: \n",
    "\n",
    "You are writting a function that returns the data type of the value that is passed in. You write the following code. Line numbers are included for reference only. \n"
   ]
  },
  {
   "cell_type": "markdown",
   "metadata": {},
   "source": [
    "```\n",
    "01    def checkType(value):\n",
    "02        dataType = type(value)\n",
    "03        return dataType\n",
    "04    print(checkType(True))\n",
    "05    print(checkType(1.0))\n",
    "06    print(checkType(1))\n",
    "07    print(checkType(\"True\"))\n",
    "```"
   ]
  },
  {
   "cell_type": "markdown",
   "metadata": {},
   "source": [
    "#### Answer Area\n",
    "\n",
    "        options True, False, bool, float, int, str, list\n",
    "\n",
    "       1.  What is printed at line 04 ? \n",
    "\n",
    "       2.  What is printed at line 05 ?\n",
    "\n",
    "       3.  What is printed at line 06 ? \n",
    "\n",
    "       4.  What is printed at line 07 ? \n"
   ]
  },
  {
   "cell_type": "code",
   "execution_count": 3,
   "metadata": {},
   "outputs": [],
   "source": [
    "# Answer\n",
    "\n",
    "# answer 1   bool\n",
    "\n",
    "# answer 2   float\n",
    "\n",
    "# answer 3   int\n",
    "\n",
    "# answer 4   str"
   ]
  },
  {
   "cell_type": "code",
   "execution_count": null,
   "metadata": {},
   "outputs": [],
   "source": []
  },
  {
   "cell_type": "markdown",
   "metadata": {},
   "source": [
    "### Question 6"
   ]
  },
  {
   "cell_type": "markdown",
   "metadata": {},
   "source": [
    "You work on a team that is developing a game for AdventureWorks.\n",
    "\n",
    "You need to write code that generates a random number that meets the following requirements;\n",
    "\n",
    "        The number is a multiple of 5.\n",
    "        \n",
    "        The lowest number is 5. \n",
    "        \n",
    "        The highest number is 100.\n",
    "        \n",
    "which two code segments will meet the requirements ? Each correct answer presents a complete solution. Choose Two"
   ]
  },
  {
   "cell_type": "markdown",
   "metadata": {},
   "source": [
    "A. \n",
    "\n",
    "    from random import randrange\n",
    "    print(randrange(5, 105, 5))\n",
    "    \n",
    "B. \n",
    "\n",
    "    from random import randint\n",
    "    print(randint(0, 20)*5)\n",
    "    \n",
    "C. \n",
    "\n",
    "    from random import randint\n",
    "    print(randint(1, 20)*5)\n",
    "    \n",
    "D. \n",
    "\n",
    "    from random import randrang\n",
    "    print(randrange(0, 100, 5))\n"
   ]
  },
  {
   "cell_type": "code",
   "execution_count": 19,
   "metadata": {},
   "outputs": [
    {
     "data": {
      "text/plain": [
       "70"
      ]
     },
     "execution_count": 19,
     "metadata": {},
     "output_type": "execute_result"
    }
   ],
   "source": [
    "14 * 5 [ 5, 100]"
   ]
  },
  {
   "cell_type": "code",
   "execution_count": 23,
   "metadata": {},
   "outputs": [
    {
     "name": "stdout",
     "output_type": "stream",
     "text": [
      "Help on method randrange in module random:\n",
      "\n",
      "randrange(start, stop=None, step=1, _int=<class 'int'>) method of random.Random instance\n",
      "    Choose a random item from range(start, stop[, step]).\n",
      "    \n",
      "    This fixes the problem with randint() which includes the\n",
      "    endpoint; in Python this is usually not what you want.\n",
      "\n",
      "0 is selected\n"
     ]
    }
   ],
   "source": [
    "from random import randrange\n",
    "\n",
    "\n",
    "help(randrange)\n",
    "\n",
    "while True:\n",
    "    \n",
    "    num = randrange(0, 105, 5)\n",
    "    if num == 0:\n",
    "        print(\"0 is selected\")\n",
    "        break"
   ]
  },
  {
   "cell_type": "code",
   "execution_count": 8,
   "metadata": {},
   "outputs": [],
   "source": [
    "# answer 6\n",
    "\n",
    "# A, C\n"
   ]
  },
  {
   "cell_type": "code",
   "execution_count": null,
   "metadata": {},
   "outputs": [],
   "source": []
  },
  {
   "cell_type": "markdown",
   "metadata": {},
   "source": [
    "### Question 7\n",
    "\n"
   ]
  },
  {
   "cell_type": "markdown",
   "metadata": {},
   "source": [
    "```\n",
    "item = input(\"Enter the item name: \")\n",
    "sales = input(\"Enter the quantity: \")\n",
    "```\n",
    "\n",
    "The output must meet the following requirements: \n",
    "\n",
    "   * Strings must be enclosed inside of double-quotes\n",
    "   * Numbers must not be enclosed in quotes or other characters\n",
    "   * Each item must be seprated with a comma\n",
    "   \n",
    "You need to complete the code to meet the requirements. \n",
    "\n",
    "Which three code segments should you use? Each correct answer presents a complete solution. Choose three. \n",
    "\n",
    "\n"
   ]
  },
  {
   "cell_type": "markdown",
   "metadata": {},
   "source": [
    "```\n",
    "A. print(item + ', ' + sales)\n",
    "\n",
    "B. print(\"{0}, {1}\".format(item, sales)\n",
    "\n",
    "C. print('\"' + item + '\", ' + sales)\n",
    "\n",
    "D. print('\"%s\", %s'%(item, sales))\n",
    "\n",
    "E. print('\"{0}\", {1}'.format(item, sales))\n",
    "\n",
    "```"
   ]
  },
  {
   "cell_type": "markdown",
   "metadata": {},
   "source": [
    "#### answer 7 \n",
    "\n",
    "item = 'iphone'\n",
    "sales = '50000'\n",
    "\n",
    "A. iphone, 50000\n",
    "\n",
    "B. iphone, 50000\n",
    "\n",
    "C. \"iphone\", 50000\n",
    "\n",
    "D. \"iphone\", 50000\n",
    "\n",
    "E. \"iphone\", 50000"
   ]
  },
  {
   "cell_type": "markdown",
   "metadata": {},
   "source": [
    "answer 7\n",
    "\n",
    "C, D, E"
   ]
  },
  {
   "cell_type": "markdown",
   "metadata": {},
   "source": [
    "### Question 8\n",
    "\n",
    "A Company uses Python to control it's new toy Happy Clown. The program has errors that cause the clown to run around in an infinite circle.\n",
    "\n",
    "You have been hired to help debug the following Happy clown code. Line numbers are included for reference only. \n",
    "\n",
    "\n",
    "```\n",
    "01 import math\n",
    "# default motion for happy clown\n",
    "03 power = True\n",
    "04 move = 0\n",
    "05 while (power):\n",
    "06      if move == 0:\n",
    "07          turnValue = math.pi / move\n",
    "08          move += 5\n",
    "```\n",
    "\n",
    "\n",
    "A. line 08 has a syntax error because += is an invalid statement.\n",
    "\n",
    "B. line 05 causes a runtime error ecause the expression is incomplete.\n",
    "\n",
    "C. line 07 causes a runtime error due to division by zero\n",
    "\n",
    "D. line 05 has a syntax error because it shuold read (power = True)"
   ]
  },
  {
   "cell_type": "code",
   "execution_count": 9,
   "metadata": {},
   "outputs": [],
   "source": [
    "# answer 8   C"
   ]
  },
  {
   "cell_type": "code",
   "execution_count": 36,
   "metadata": {},
   "outputs": [],
   "source": [
    "import math"
   ]
  },
  {
   "cell_type": "code",
   "execution_count": 37,
   "metadata": {},
   "outputs": [
    {
     "data": {
      "text/plain": [
       "3.141592653589793"
      ]
     },
     "execution_count": 37,
     "metadata": {},
     "output_type": "execute_result"
    }
   ],
   "source": [
    "math.pi"
   ]
  },
  {
   "cell_type": "code",
   "execution_count": 38,
   "metadata": {},
   "outputs": [
    {
     "data": {
      "text/plain": [
       "0.479425538604203"
      ]
     },
     "execution_count": 38,
     "metadata": {},
     "output_type": "execute_result"
    }
   ],
   "source": [
    "math.sin(0.5)"
   ]
  },
  {
   "cell_type": "code",
   "execution_count": 39,
   "metadata": {},
   "outputs": [
    {
     "data": {
      "text/plain": [
       "0.955336489125606"
      ]
     },
     "execution_count": 39,
     "metadata": {},
     "output_type": "execute_result"
    }
   ],
   "source": [
    "math.cos(0.3)"
   ]
  },
  {
   "cell_type": "code",
   "execution_count": null,
   "metadata": {},
   "outputs": [],
   "source": []
  },
  {
   "cell_type": "markdown",
   "metadata": {},
   "source": [
    "### Question 9\n",
    "\n",
    "Woodgrove Bank is migrating their legacy bank transcation code to Python.\n",
    "\n",
    "You have ben hired to document the migrted code.\n",
    "\n",
    "Which documentation syntax is correct ? "
   ]
  },
  {
   "cell_type": "markdown",
   "metadata": {},
   "source": [
    "```\n",
    "\n",
    "A. def get_balance():\n",
    "        /* Returns the current balance of the bank account */\n",
    "        return balance \n",
    "        \n",
    "B. Returns the current balance of the bank account.\n",
    "    \n",
    "    def get_balance():\n",
    "        return balance\n",
    "\n",
    "C. //Returns the current balance of the bank account\n",
    "\n",
    "    def get_balance():\n",
    "        return balance\n",
    "        \n",
    "D. get_balance():\n",
    "    \n",
    "    # Returns the current balance of the bank account\n",
    "    return balance\n",
    "```"
   ]
  },
  {
   "cell_type": "code",
   "execution_count": 40,
   "metadata": {},
   "outputs": [],
   "source": [
    "# answer D"
   ]
  },
  {
   "cell_type": "code",
   "execution_count": null,
   "metadata": {},
   "outputs": [],
   "source": []
  },
  {
   "cell_type": "markdown",
   "metadata": {},
   "source": [
    "### Question 10\n",
    "\n",
    "What will be output of following code \n",
    "\n",
    "```\n",
    "x = 10\n",
    "\n",
    "def change(p):\n",
    "    p = x ** 2\n",
    "    return p \n",
    "    \n",
    "x = change(x)\n",
    "\n",
    "print(\"Value of x is : \", x)\n",
    "\n",
    "```"
   ]
  },
  {
   "cell_type": "code",
   "execution_count": null,
   "metadata": {},
   "outputs": [],
   "source": []
  },
  {
   "cell_type": "markdown",
   "metadata": {},
   "source": [
    "#### answer 10 \n",
    "\n",
    "Value of x is : 100"
   ]
  },
  {
   "cell_type": "code",
   "execution_count": 41,
   "metadata": {},
   "outputs": [],
   "source": [
    "x = 10 # global \n",
    "\n",
    "def change(p):\n",
    "    \"\"\"\n",
    "        p is a local variable of function change\n",
    "    \"\"\"\n",
    "    p = x ** 2\n",
    "    \n",
    "    return p"
   ]
  },
  {
   "cell_type": "code",
   "execution_count": 42,
   "metadata": {},
   "outputs": [
    {
     "name": "stdout",
     "output_type": "stream",
     "text": [
      "Value of x is :  100\n"
     ]
    }
   ],
   "source": [
    "x = change(x) # change(10) --> local scope p = 10, p = 100, return p --> 100\n",
    "# x  = 100\n",
    "\n",
    "print(\"Value of x is : \", x)"
   ]
  },
  {
   "cell_type": "code",
   "execution_count": null,
   "metadata": {},
   "outputs": [],
   "source": []
  }
 ],
 "metadata": {
  "kernelspec": {
   "display_name": "Python 3",
   "language": "python",
   "name": "python3"
  },
  "language_info": {
   "codemirror_mode": {
    "name": "ipython",
    "version": 3
   },
   "file_extension": ".py",
   "mimetype": "text/x-python",
   "name": "python",
   "nbconvert_exporter": "python",
   "pygments_lexer": "ipython3",
   "version": "3.8.3"
  }
 },
 "nbformat": 4,
 "nbformat_minor": 4
}
