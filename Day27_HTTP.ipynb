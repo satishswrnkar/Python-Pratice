{
 "cells": [
  {
   "cell_type": "code",
   "execution_count": 1,
   "metadata": {},
   "outputs": [
    {
     "name": "stdout",
     "output_type": "stream",
     "text": [
      "\n",
      "Windows IP Configuration\n",
      "\n",
      "\n",
      "Ethernet adapter Ethernet 2:\n",
      "\n",
      "   Media State . . . . . . . . . . . : Media disconnected\n",
      "   Connection-specific DNS Suffix  . : \n",
      "\n",
      "Wireless LAN adapter Local Area Connection* 1:\n",
      "\n",
      "   Media State . . . . . . . . . . . : Media disconnected\n",
      "   Connection-specific DNS Suffix  . : \n",
      "\n",
      "Wireless LAN adapter Local Area Connection* 3:\n",
      "\n",
      "   Media State . . . . . . . . . . . : Media disconnected\n",
      "   Connection-specific DNS Suffix  . : \n",
      "\n",
      "Ethernet adapter VMware Network Adapter VMnet1:\n",
      "\n",
      "   Connection-specific DNS Suffix  . : \n",
      "   Link-local IPv6 Address . . . . . : fe80::bc85:37f:e4ef:9f72%17\n",
      "   IPv4 Address. . . . . . . . . . . : 172.17.7.96\n",
      "   Subnet Mask . . . . . . . . . . . : 255.255.240.0\n",
      "   Default Gateway . . . . . . . . . : 172.17.0.1\n",
      "\n",
      "Ethernet adapter VMware Network Adapter VMnet8:\n",
      "\n",
      "   Connection-specific DNS Suffix  . : \n",
      "   Link-local IPv6 Address . . . . . : fe80::2072:bd24:9c71:a204%13\n",
      "   IPv4 Address. . . . . . . . . . . : 172.25.5.1\n",
      "   Subnet Mask . . . . . . . . . . . : 255.255.255.0\n",
      "   Default Gateway . . . . . . . . . : \n",
      "\n",
      "Wireless LAN adapter Wi-Fi:\n",
      "\n",
      "   Connection-specific DNS Suffix  . : \n",
      "   IPv6 Address. . . . . . . . . . . : 2405:201:5c05:6bd5:84f2:4cce:4cb0:d2c0\n",
      "   Temporary IPv6 Address. . . . . . : 2405:201:5c05:6bd5:5d27:9e22:bb61:3ff6\n",
      "   Link-local IPv6 Address . . . . . : fe80::84f2:4cce:4cb0:d2c0%9\n",
      "   IPv4 Address. . . . . . . . . . . : 192.168.29.232\n",
      "   Subnet Mask . . . . . . . . . . . : 255.255.255.0\n",
      "   Default Gateway . . . . . . . . . : fe80::3249:50ff:fe2f:723f%9\n",
      "                                       192.168.29.1\n",
      "\n",
      "Ethernet adapter Bluetooth Network Connection:\n",
      "\n",
      "   Media State . . . . . . . . . . . : Media disconnected\n",
      "   Connection-specific DNS Suffix  . : \n"
     ]
    }
   ],
   "source": [
    "!ipconfig\n"
   ]
  },
  {
   "cell_type": "markdown",
   "metadata": {},
   "source": [
    "`DHCP`\n",
    "\n",
    "    Dynamic Host Control Protocol"
   ]
  },
  {
   "cell_type": "markdown",
   "metadata": {},
   "source": [
    "    Ip is unique value for each system\n",
    "    \n",
    "        "
   ]
  },
  {
   "cell_type": "markdown",
   "metadata": {},
   "source": [
    "`Domain Name` or `Host Name`"
   ]
  },
  {
   "cell_type": "code",
   "execution_count": 2,
   "metadata": {},
   "outputs": [
    {
     "name": "stdout",
     "output_type": "stream",
     "text": [
      "\n",
      "Pinging facebook.com [2a03:2880:f144:82:face:b00c:0:25de] with 32 bytes of data:\n",
      "Reply from 2a03:2880:f144:82:face:b00c:0:25de: time=9ms \n",
      "Reply from 2a03:2880:f144:82:face:b00c:0:25de: time=8ms \n",
      "Reply from 2a03:2880:f144:82:face:b00c:0:25de: time=22ms \n",
      "Reply from 2a03:2880:f144:82:face:b00c:0:25de: time=8ms \n",
      "\n",
      "Ping statistics for 2a03:2880:f144:82:face:b00c:0:25de:\n",
      "    Packets: Sent = 4, Received = 4, Lost = 0 (0% loss),\n",
      "Approximate round trip times in milli-seconds:\n",
      "    Minimum = 8ms, Maximum = 22ms, Average = 11ms\n"
     ]
    }
   ],
   "source": [
    "!ping facebook.com"
   ]
  },
  {
   "cell_type": "code",
   "execution_count": 3,
   "metadata": {},
   "outputs": [],
   "source": [
    "import socket"
   ]
  },
  {
   "cell_type": "code",
   "execution_count": 4,
   "metadata": {},
   "outputs": [],
   "source": [
    "ip = socket.gethostbyname('facebook.com')"
   ]
  },
  {
   "cell_type": "code",
   "execution_count": 5,
   "metadata": {},
   "outputs": [
    {
     "name": "stdout",
     "output_type": "stream",
     "text": [
      "157.240.198.35\n"
     ]
    }
   ],
   "source": [
    "print(ip)"
   ]
  },
  {
   "cell_type": "code",
   "execution_count": 6,
   "metadata": {},
   "outputs": [],
   "source": [
    "ip = socket.gethostbyname('fb.com')"
   ]
  },
  {
   "cell_type": "code",
   "execution_count": 7,
   "metadata": {},
   "outputs": [
    {
     "name": "stdout",
     "output_type": "stream",
     "text": [
      "157.240.198.35\n"
     ]
    }
   ],
   "source": [
    "print(ip)"
   ]
  },
  {
   "cell_type": "code",
   "execution_count": 8,
   "metadata": {},
   "outputs": [
    {
     "name": "stdout",
     "output_type": "stream",
     "text": [
      "162.215.248.242\n"
     ]
    }
   ],
   "source": [
    "ip = socket.gethostbyname('fakebook.com')\n",
    "\n",
    "print(ip)"
   ]
  },
  {
   "cell_type": "markdown",
   "metadata": {},
   "source": [
    "    facebook.com"
   ]
  },
  {
   "cell_type": "markdown",
   "metadata": {},
   "source": [
    "`IANA`"
   ]
  },
  {
   "cell_type": "markdown",
   "metadata": {},
   "source": [
    "`Root Directory Server (DNS) `"
   ]
  },
  {
   "cell_type": "markdown",
   "metadata": {},
   "source": [
    "`DNS` Domain Name Server / System\n",
    "\n",
    "\n",
    "    Resource Record\n",
    "    \n",
    "        facebook.com    157.240.198.35\n",
    "        \n",
    "        fb.com          157.240.198.35\n",
    "    \n",
    "        \n",
    "        "
   ]
  },
  {
   "cell_type": "markdown",
   "metadata": {},
   "source": [
    "facebook.com -> browser --> DNS --> ip --> browser --> ip --> server --> data --> client"
   ]
  },
  {
   "cell_type": "code",
   "execution_count": 10,
   "metadata": {},
   "outputs": [
    {
     "name": "stdout",
     "output_type": "stream",
     "text": [
      "hello Value of x is :  100\n",
      "value of x is :  10\n"
     ]
    }
   ],
   "source": [
    "x = 10\n",
    "\n",
    "def hello():\n",
    "    print(\"hello Value of x is : \", x**2)\n",
    "    \n",
    "hello()\n",
    "\n",
    "print(\"value of x is : \", x)"
   ]
  },
  {
   "cell_type": "code",
   "execution_count": null,
   "metadata": {},
   "outputs": [],
   "source": []
  },
  {
   "cell_type": "code",
   "execution_count": 11,
   "metadata": {},
   "outputs": [],
   "source": []
  },
  {
   "cell_type": "code",
   "execution_count": 12,
   "metadata": {},
   "outputs": [],
   "source": []
  },
  {
   "cell_type": "code",
   "execution_count": 2,
   "metadata": {},
   "outputs": [
    {
     "name": "stdout",
     "output_type": "stream",
     "text": [
      "Client Address is :  ('192.168.29.232', 60664)\n",
      "Browser Request\n",
      "\n",
      "\n",
      "GET / HTTP/1.1\r\n",
      "Host: 192.168.29.232\r\n",
      "Connection: keep-alive\r\n",
      "Cache-Control: max-age=0\r\n",
      "DNT: 1\r\n",
      "Upgrade-Insecure-Requests: 1\r\n",
      "User-Agent: Mozilla/5.0 (Windows NT 10.0; Win64; x64) AppleWebKit/537.36 (KHTML, like Gecko) Chrome/85.0.4183.121 Safari/537.36\r\n",
      "Accept: text/html,application/xhtml+xml,application/xml;q=0.9,image/avif,image/webp,image/apng,*/*;q=0.8,application/signed-exchange;v=b3;q=0.9\r\n",
      "Accept-Encoding: gzip, deflate\r\n",
      "Accept-Language: en-US,en;q=0.9\r\n",
      "\r\n",
      "\n"
     ]
    }
   ],
   "source": [
    "import socket\n",
    "server = socket.socket()\n",
    "\n",
    "server.bind( ('192.168.29.232', 80) )\n",
    "\n",
    "server.listen()\n",
    "# client socket, addr\n",
    "client, addr = server.accept()\n",
    "\n",
    "print(\"Client Address is : \", addr)\n",
    "\n",
    "request = client.recv(1024).decode()\n",
    "\n",
    "print(\"Browser Request\\n\\n\")\n",
    "print(request)\n",
    "\n",
    "resp = \"\"\"HTTP/1.1 200 OK\n",
    "Content-type:text/html\n",
    "\n",
    "\n",
    "<h1 style='color:red'>Hello World</h1>\n",
    "\n",
    "<h2 style='color:salmon'>This is how Internet Works</h2>\n",
    "\"\"\"\n",
    "\n",
    "client.send(resp.encode())\n",
    "\n",
    "client.close()\n",
    "\n",
    "server.close()"
   ]
  },
  {
   "cell_type": "code",
   "execution_count": null,
   "metadata": {},
   "outputs": [],
   "source": []
  },
  {
   "cell_type": "markdown",
   "metadata": {},
   "source": [
    "`CHAT Application`"
   ]
  },
  {
   "cell_type": "markdown",
   "metadata": {},
   "source": [
    "`CGI`"
   ]
  },
  {
   "cell_type": "markdown",
   "metadata": {},
   "source": [
    "    how internet works\n",
    "    \n",
    "    what is IP ? \n",
    "    \n",
    "    \n",
    "    what is DNS ? \n",
    "    \n",
    "    \n",
    "    What are port numbers ? \n",
    "    \n",
    "    \n",
    "    what is socket ? \n",
    "    \n",
    "    \n",
    "    HTTP protocol ? \n",
    "    \n",
    "    "
   ]
  },
  {
   "cell_type": "code",
   "execution_count": null,
   "metadata": {},
   "outputs": [],
   "source": []
  },
  {
   "cell_type": "code",
   "execution_count": null,
   "metadata": {},
   "outputs": [],
   "source": []
  },
  {
   "cell_type": "code",
   "execution_count": null,
   "metadata": {},
   "outputs": [],
   "source": []
  },
  {
   "cell_type": "code",
   "execution_count": null,
   "metadata": {},
   "outputs": [],
   "source": []
  }
 ],
 "metadata": {
  "kernelspec": {
   "display_name": "Python 3",
   "language": "python",
   "name": "python3"
  },
  "language_info": {
   "codemirror_mode": {
    "name": "ipython",
    "version": 3
   },
   "file_extension": ".py",
   "mimetype": "text/x-python",
   "name": "python",
   "nbconvert_exporter": "python",
   "pygments_lexer": "ipython3",
   "version": "3.8.3"
  }
 },
 "nbformat": 4,
 "nbformat_minor": 4
}
