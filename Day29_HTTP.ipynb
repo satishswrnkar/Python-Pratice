{
 "cells": [
  {
   "cell_type": "markdown",
   "metadata": {},
   "source": [
    "### working as a Broswer"
   ]
  },
  {
   "cell_type": "code",
   "execution_count": 1,
   "metadata": {},
   "outputs": [
    {
     "name": "stdout",
     "output_type": "stream",
     "text": [
      "Hi\n"
     ]
    }
   ],
   "source": [
    "print(\"Hi\")"
   ]
  },
  {
   "cell_type": "code",
   "execution_count": 11,
   "metadata": {},
   "outputs": [
    {
     "name": "stdout",
     "output_type": "stream",
     "text": [
      "HTTP/1.1 301 Moved Permanently\r\n",
      "Server: CloudFront\r\n",
      "Date: Thu, 08 Oct 2020 14:48:52 GMT\r\n",
      "Content-Type: text/html\r\n",
      "Content-Length: 183\r\n",
      "Connection: keep-alive\r\n",
      "Location: https://developer.mozilla.org/\r\n",
      "X-Cache: Redirect from cloudfront\r\n",
      "Via: 1.1 40254b1fb7ca63138428000102c5d0f0.cloudfront.net (CloudFront)\r\n",
      "X-Amz-Cf-Pop: DEL54-C4\r\n",
      "X-Amz-Cf-Id: dyi2zCF1b0ZBtMd2E7lloO7sgsOoRpHXDr9GH-akXL5PjVuexTFrNg==\r\n",
      "\r\n",
      "<html>\r\n",
      "<head><title>301 Moved Permanently</title></head>\r\n",
      "<body bgcolor=\"white\">\r\n",
      "<center><h1>301 Moved Permanently</h1></center>\r\n",
      "<hr><center>CloudFront</center>\r\n",
      "</body>\r\n",
      "</html>\r\n",
      "\n"
     ]
    }
   ],
   "source": [
    "import socket\n",
    "\n",
    "client = socket.socket()\n",
    "\n",
    "client.connect((\"developer.mozilla.org\", 80))\n",
    "\n",
    "request = \"\"\"GET / HTTP/1.1\n",
    "Accept: text/html,application/xhtml+xml,application/xml;q=0.9,image/avif,image/webp,image/apng,*/*;q=0.8,application/signed-exchange;v=b3;q=0.9\n",
    "Accept-Encoding: gzip, deflate, br\n",
    "Accept-Language: en-US,en;q=0.9\n",
    "Cache-Control: max-age=0\n",
    "Connection: keep-alive\n",
    "Host: developer.mozilla.org\n",
    "User-Agent: Mozilla/5.0 (Windows NT 10.0; Win64; x64) AppleWebKit/537.36 (KHTML, like Gecko) Chrome/85.0.4183.121 Safari/537.36\n",
    "\n",
    "\"\"\"\n",
    "\n",
    "client.send(request.encode())\n",
    "\n",
    "resp = client.recv(2048).decode()\n",
    "\n",
    "print(resp)\n",
    "client.close()"
   ]
  },
  {
   "cell_type": "code",
   "execution_count": 12,
   "metadata": {},
   "outputs": [
    {
     "name": "stdout",
     "output_type": "stream",
     "text": [
      "HTTP/1.1 200 OK\n",
      "Server: Apache\n",
      "Accept-Ranges: bytes\n",
      "Content-Length: 182\n",
      "Content-Type: text/html\n",
      "\n",
      "<!Doctype html>\n",
      "<html>\n",
      "    <body>\n",
      "        <h1 style='color:red'> Hello Welcome Custom Web Server </h1>\n",
      "        <h2 syyle='color:blue'> You are at Home Page</h1>\n",
      "    </body>\n",
      "</html>\n",
      "\n",
      "\n"
     ]
    }
   ],
   "source": [
    "import socket \n",
    "\n",
    "content= \"\"\"<!Doctype html>\n",
    "<html>\n",
    "    <body>\n",
    "        <h1 style='color:red'> Hello Welcome Custom Web Server </h1>\n",
    "        <h2 syyle='color:blue'> You are at Home Page</h1>\n",
    "    </body>\n",
    "</html>\n",
    "\n",
    "\"\"\"\n",
    "c_len = len(content)\n",
    "\n",
    "resp = f\"\"\"HTTP/1.1 200 OK\n",
    "Server: Apache\n",
    "Accept-Ranges: bytes\n",
    "Content-Length: {c_len}\n",
    "Content-Type: text/html\n",
    "\n",
    "{content}\"\"\"\n",
    "\n",
    "print(resp)"
   ]
  },
  {
   "cell_type": "code",
   "execution_count": 14,
   "metadata": {},
   "outputs": [
    {
     "name": "stdout",
     "output_type": "stream",
     "text": [
      "Client Address:  ('127.0.0.1', 55869)\n",
      "Client Request\n",
      " GET / HTTP/1.1\n",
      "Host: localhost\n",
      "Connection: keep-alive\n",
      "DNT: 1\n",
      "Upgrade-Insecure-Requests: 1\n",
      "User-Agent: Mozilla/5.0 (Windows NT 10.0; Win64; x64) AppleWebKit/537.36 (KHTML, like Gecko) Chrome/85.0.4183.121 Safari/537.36\n",
      "Accept: text/html,application/xhtml+xml,application/xml;q=0.9,image/avif,image/webp,image/apng,*/*;q=0.8,application/signed-exchange;v=b3;q=0.9\n",
      "Sec-Fetch-Site: none\n",
      "Sec-Fetch-Mode: navigate\n",
      "Sec-Fetch-User: ?1\n",
      "Sec-Fetch-Dest: document\n",
      "Accept-Encoding: gzip, deflate, br\n",
      "Accept-Language: en-US,en;q=0.9\n",
      "Cookie: _xsrf=2|d5417772|4aa6d4b915e6158fe81ca7ac077e4660|1600775424; username-localhost-8888=\"2|1:0|10:1602153590|23:username-localhost-8888|44:ZTc3OGQzY2RjYjFmNGJkNGJkNTk5YjMxNWZlMjc1NTQ=|1370dd16adf43d32a20dbebedf5ccd02a01f1e54b2e71c0e03aa37d568f87e17\"; username-localhost-8889=\"2|1:0|10:1602164824|23:username-localhost-8889|44:NmU1M2JmNjNkN2Y0NDVkMDg3MzIzZDk4NTJhNzIwOTk=|ac4d5902126e8509a6e91e200b2275d839205fa7b0359373315e7c50258c5c76\"\n",
      "\n",
      "\n",
      "Client Address:  ('127.0.0.1', 55870)\n",
      "Client Request\n",
      " GET /favicon.ico HTTP/1.1\n",
      "Host: localhost\n",
      "Connection: keep-alive\n",
      "User-Agent: Mozilla/5.0 (Windows NT 10.0; Win64; x64) AppleWebKit/537.36 (KHTML, like Gecko) Chrome/85.0.4183.121 Safari/537.36\n",
      "DNT: 1\n",
      "Accept: image/avif,image/webp,image/apng,image/*,*/*;q=0.8\n",
      "Sec-Fetch-Site: same-origin\n",
      "Sec-Fetch-Mode: no-cors\n",
      "Sec-Fetch-Dest: image\n",
      "Referer: http://localhost/\n",
      "Accept-Encoding: gzip, deflate, br\n",
      "Accept-Language: en-US,en;q=0.9\n",
      "Cookie: _xsrf=2|d5417772|4aa6d4b915e6158fe81ca7ac077e4660|1600775424; username-localhost-8888=\"2|1:0|10:1602153590|23:username-localhost-8888|44:ZTc3OGQzY2RjYjFmNGJkNGJkNTk5YjMxNWZlMjc1NTQ=|1370dd16adf43d32a20dbebedf5ccd02a01f1e54b2e71c0e03aa37d568f87e17\"; username-localhost-8889=\"2|1:0|10:1602164824|23:username-localhost-8889|44:NmU1M2JmNjNkN2Y0NDVkMDg3MzIzZDk4NTJhNzIwOTk=|ac4d5902126e8509a6e91e200b2275d839205fa7b0359373315e7c50258c5c76\"\n",
      "\n",
      "\n",
      "Client Address:  ('127.0.0.1', 55872)\n",
      "Client Request\n",
      " GET / HTTP/1.1\n",
      "Host: localhost\n",
      "Connection: keep-alive\n",
      "DNT: 1\n",
      "Upgrade-Insecure-Requests: 1\n",
      "User-Agent: Mozilla/5.0 (Windows NT 10.0; Win64; x64) AppleWebKit/537.36 (KHTML, like Gecko) Chrome/85.0.4183.121 Safari/537.36\n",
      "Accept: text/html,application/xhtml+xml,application/xml;q=0.9,image/avif,image/webp,image/apng,*/*;q=0.8,application/signed-exchange;v=b3;q=0.9\n",
      "Sec-Fetch-Site: none\n",
      "Sec-Fetch-Mode: navigate\n",
      "Sec-Fetch-User: ?1\n",
      "Sec-Fetch-Dest: document\n",
      "Accept-Encoding: gzip, deflate, br\n",
      "Accept-Language: en-US,en;q=0.9\n",
      "Cookie: _xsrf=2|d5417772|4aa6d4b915e6158fe81ca7ac077e4660|1600775424; username-localhost-8888=\"2|1:0|10:1602153590|23:username-localhost-8888|44:ZTc3OGQzY2RjYjFmNGJkNGJkNTk5YjMxNWZlMjc1NTQ=|1370dd16adf43d32a20dbebedf5ccd02a01f1e54b2e71c0e03aa37d568f87e17\"; username-localhost-8889=\"2|1:0|10:1602164824|23:username-localhost-8889|44:NmU1M2JmNjNkN2Y0NDVkMDg3MzIzZDk4NTJhNzIwOTk=|ac4d5902126e8509a6e91e200b2275d839205fa7b0359373315e7c50258c5c76\"\n",
      "\n",
      "\n",
      "Client Address:  ('127.0.0.1', 55884)\n",
      "Client Request\n",
      " GET /favicon.ico HTTP/1.1\n",
      "Host: localhost\n",
      "Connection: keep-alive\n",
      "User-Agent: Mozilla/5.0 (Windows NT 10.0; Win64; x64) AppleWebKit/537.36 (KHTML, like Gecko) Chrome/85.0.4183.121 Safari/537.36\n",
      "DNT: 1\n",
      "Accept: image/avif,image/webp,image/apng,image/*,*/*;q=0.8\n",
      "Sec-Fetch-Site: same-origin\n",
      "Sec-Fetch-Mode: no-cors\n",
      "Sec-Fetch-Dest: image\n",
      "Referer: http://localhost/\n",
      "Accept-Encoding: gzip, deflate, br\n",
      "Accept-Language: en-US,en;q=0.9\n",
      "Cookie: _xsrf=2|d5417772|4aa6d4b915e6158fe81ca7ac077e4660|1600775424; username-localhost-8888=\"2|1:0|10:1602153590|23:username-localhost-8888|44:ZTc3OGQzY2RjYjFmNGJkNGJkNTk5YjMxNWZlMjc1NTQ=|1370dd16adf43d32a20dbebedf5ccd02a01f1e54b2e71c0e03aa37d568f87e17\"; username-localhost-8889=\"2|1:0|10:1602164824|23:username-localhost-8889|44:NmU1M2JmNjNkN2Y0NDVkMDg3MzIzZDk4NTJhNzIwOTk=|ac4d5902126e8509a6e91e200b2275d839205fa7b0359373315e7c50258c5c76\"\n",
      "\n",
      "\n",
      "Client Address:  ('127.0.0.1', 55889)\n",
      "Client Request\n",
      " GET / HTTP/1.1\n",
      "Host: localhost\n",
      "Connection: keep-alive\n",
      "DNT: 1\n",
      "Upgrade-Insecure-Requests: 1\n",
      "User-Agent: Mozilla/5.0 (Windows NT 10.0; Win64; x64) AppleWebKit/537.36 (KHTML, like Gecko) Chrome/85.0.4183.121 Safari/537.36\n",
      "Accept: text/html,application/xhtml+xml,application/xml;q=0.9,image/avif,image/webp,image/apng,*/*;q=0.8,application/signed-exchange;v=b3;q=0.9\n",
      "Purpose: prefetch\n",
      "Sec-Fetch-Site: none\n",
      "Sec-Fetch-Mode: navigate\n",
      "Sec-Fetch-User: ?1\n",
      "Sec-Fetch-Dest: document\n",
      "Accept-Encoding: gzip, deflate, br\n",
      "Accept-Language: en-US,en;q=0.9\n",
      "Cookie: _xsrf=2|d5417772|4aa6d4b915e6158fe81ca7ac077e4660|1600775424; username-localhost-8888=\"2|1:0|10:1602153590|23:username-localhost-8888|44:ZTc3OGQzY2RjYjFmNGJkNGJkNTk5YjMxNWZlMjc1NTQ=|1370dd16adf43d32a20dbebedf5ccd02a01f1e54b2e71c0e03aa37d568f87e17\"; username-localhost-8889=\"2|1:0|10:1602164824|23:username-localhost-8889|44:NmU1M2JmNjNkN2Y0NDVkMDg3MzIzZDk4NTJhNzIwOTk=|ac4d5902126e8509a6e91e200b2275d839205fa7b0359373315e7c50258c5c76\"\n",
      "\n",
      "\n"
     ]
    }
   ],
   "source": [
    "server = socket.socket()\n",
    "\n",
    "server.bind(('localhost', 80))\n",
    "\n",
    "server.listen()\n",
    "\n",
    "for var in range(5):\n",
    "    \n",
    "    client, addr = server.accept()\n",
    "    print(\"Client Address: \", addr)\n",
    "    \n",
    "    req = client.recv(2048).decode()\n",
    "    print(\"Client Request\\n\", req)\n",
    "    \n",
    "    client.send(resp.encode())\n",
    "    client.close()\n",
    "    \n",
    "server.close()\n",
    "    \n",
    "    "
   ]
  },
  {
   "cell_type": "code",
   "execution_count": null,
   "metadata": {},
   "outputs": [],
   "source": []
  },
  {
   "cell_type": "code",
   "execution_count": 15,
   "metadata": {},
   "outputs": [
    {
     "name": "stdout",
     "output_type": "stream",
     "text": [
      "Client Address:  ('127.0.0.1', 55976)\n",
      "Client Request\n",
      " GET / HTTP/1.1\n",
      "Host: localhost\n",
      "Connection: keep-alive\n",
      "Cache-Control: max-age=0\n",
      "Upgrade-Insecure-Requests: 1\n",
      "User-Agent: Mozilla/5.0 (Windows NT 10.0; Win64; x64) AppleWebKit/537.36 (KHTML, like Gecko) Chrome/85.0.4183.121 Safari/537.36 Edg/85.0.564.70\n",
      "Accept: text/html,application/xhtml+xml,application/xml;q=0.9,image/webp,image/apng,*/*;q=0.8,application/signed-exchange;v=b3;q=0.9\n",
      "Sec-Fetch-Site: cross-site\n",
      "Sec-Fetch-Mode: navigate\n",
      "Sec-Fetch-Dest: document\n",
      "Accept-Encoding: gzip, deflate, br\n",
      "Accept-Language: en-US,en;q=0.9\n",
      "Cookie: _xsrf=2|416d500f|272323644652521d8355d6ae94e865c8|1600767400; username-localhost-8888=\"2|1:0|10:1601370445|23:username-localhost-8888|44:OTVmMDgyNGQyOGM1NDA1MTkwNWQ0MzA0N2ZiMjgxZWE=|f68489e5fe79c691c3a5e655672b2494d87c8be020e0c1e26cf45b2846f2cbe4\"\n",
      "\n",
      "\n",
      "Client Address:  ('127.0.0.1', 55973)\n",
      "Client Request\n",
      " GET /favicon.ico HTTP/1.1\n",
      "Host: localhost\n",
      "Connection: keep-alive\n",
      "User-Agent: Mozilla/5.0 (Windows NT 10.0; Win64; x64) AppleWebKit/537.36 (KHTML, like Gecko) Chrome/85.0.4183.121 Safari/537.36 Edg/85.0.564.70\n",
      "Accept: image/webp,image/apng,image/*,*/*;q=0.8\n",
      "Sec-Fetch-Site: same-origin\n",
      "Sec-Fetch-Mode: no-cors\n",
      "Sec-Fetch-Dest: image\n",
      "Referer: http://localhost/\n",
      "Accept-Encoding: gzip, deflate, br\n",
      "Accept-Language: en-US,en;q=0.9\n",
      "Cookie: _xsrf=2|416d500f|272323644652521d8355d6ae94e865c8|1600767400; username-localhost-8888=\"2|1:0|10:1601370445|23:username-localhost-8888|44:OTVmMDgyNGQyOGM1NDA1MTkwNWQ0MzA0N2ZiMjgxZWE=|f68489e5fe79c691c3a5e655672b2494d87c8be020e0c1e26cf45b2846f2cbe4\"\n",
      "\n",
      "\n",
      "Client Address:  ('127.0.0.1', 55975)\n",
      "Client Request\n",
      " \n",
      "Client Address:  ('127.0.0.1', 56035)\n",
      "Client Request\n",
      " GET /data/2019/07/15 HTTP/1.1\n",
      "Host: localhost\n",
      "Connection: keep-alive\n",
      "DNT: 1\n",
      "Upgrade-Insecure-Requests: 1\n",
      "User-Agent: Mozilla/5.0 (Windows NT 10.0; Win64; x64) AppleWebKit/537.36 (KHTML, like Gecko) Chrome/85.0.4183.121 Safari/537.36\n",
      "Accept: text/html,application/xhtml+xml,application/xml;q=0.9,image/avif,image/webp,image/apng,*/*;q=0.8,application/signed-exchange;v=b3;q=0.9\n",
      "Sec-Fetch-Site: none\n",
      "Sec-Fetch-Mode: navigate\n",
      "Sec-Fetch-User: ?1\n",
      "Sec-Fetch-Dest: document\n",
      "Accept-Encoding: gzip, deflate, br\n",
      "Accept-Language: en-US,en;q=0.9\n",
      "Cookie: _xsrf=2|d5417772|4aa6d4b915e6158fe81ca7ac077e4660|1600775424; username-localhost-8888=\"2|1:0|10:1602153590|23:username-localhost-8888|44:ZTc3OGQzY2RjYjFmNGJkNGJkNTk5YjMxNWZlMjc1NTQ=|1370dd16adf43d32a20dbebedf5ccd02a01f1e54b2e71c0e03aa37d568f87e17\"; username-localhost-8889=\"2|1:0|10:1602164824|23:username-localhost-8889|44:NmU1M2JmNjNkN2Y0NDVkMDg3MzIzZDk4NTJhNzIwOTk=|ac4d5902126e8509a6e91e200b2275d839205fa7b0359373315e7c50258c5c76\"\n",
      "\n",
      "\n",
      "Client Address:  ('127.0.0.1', 56036)\n",
      "Client Request\n",
      " GET /favicon.ico HTTP/1.1\n",
      "Host: localhost\n",
      "Connection: keep-alive\n",
      "User-Agent: Mozilla/5.0 (Windows NT 10.0; Win64; x64) AppleWebKit/537.36 (KHTML, like Gecko) Chrome/85.0.4183.121 Safari/537.36\n",
      "DNT: 1\n",
      "Accept: image/avif,image/webp,image/apng,image/*,*/*;q=0.8\n",
      "Sec-Fetch-Site: same-origin\n",
      "Sec-Fetch-Mode: no-cors\n",
      "Sec-Fetch-Dest: image\n",
      "Referer: http://localhost/data/2019/07/15\n",
      "Accept-Encoding: gzip, deflate, br\n",
      "Accept-Language: en-US,en;q=0.9\n",
      "Cookie: _xsrf=2|d5417772|4aa6d4b915e6158fe81ca7ac077e4660|1600775424; username-localhost-8888=\"2|1:0|10:1602153590|23:username-localhost-8888|44:ZTc3OGQzY2RjYjFmNGJkNGJkNTk5YjMxNWZlMjc1NTQ=|1370dd16adf43d32a20dbebedf5ccd02a01f1e54b2e71c0e03aa37d568f87e17\"; username-localhost-8889=\"2|1:0|10:1602164824|23:username-localhost-8889|44:NmU1M2JmNjNkN2Y0NDVkMDg3MzIzZDk4NTJhNzIwOTk=|ac4d5902126e8509a6e91e200b2275d839205fa7b0359373315e7c50258c5c76\"\n",
      "\n",
      "\n"
     ]
    }
   ],
   "source": [
    "server = socket.socket()\n",
    "\n",
    "server.bind(('localhost', 80))\n",
    "\n",
    "server.listen()\n",
    "\n",
    "for var in range(5):\n",
    "    \n",
    "    client, addr = server.accept()\n",
    "    print(\"Client Address: \", addr)\n",
    "    \n",
    "    req = client.recv(2048).decode()\n",
    "    print(\"Client Request\\n\", req)\n",
    "    \n",
    "    client.send(resp.encode())\n",
    "    client.close()\n",
    "    \n",
    "server.close()\n",
    "    \n",
    "    "
   ]
  },
  {
   "cell_type": "code",
   "execution_count": 17,
   "metadata": {},
   "outputs": [
    {
     "name": "stdout",
     "output_type": "stream",
     "text": [
      "HTTP/1.1 200 OK\n",
      "Server: Apache\n",
      "Accept-Ranges: bytes\n",
      "Content-Length: 182\n",
      "Content-Type: text/html\n",
      "\n",
      "<!Doctype html>\n",
      "<html>\n",
      "    <body>\n",
      "        <h1 style='color:red'> Hello Welcome Custom Web Server </h1>\n",
      "        <h2 syyle='color:blue'> You are at Home Page</h2>\n",
      "    </body>\n",
      "</html>\n",
      "\n",
      "\n"
     ]
    }
   ],
   "source": [
    "content= \"\"\"<!Doctype html>\n",
    "<html>\n",
    "    <body>\n",
    "        <h1 style='color:red'> Hello Welcome Custom Web Server </h1>\n",
    "        <h2 syyle='color:blue'> You are at Home Page</h2>\n",
    "    </body>\n",
    "</html>\n",
    "\n",
    "\"\"\"\n",
    "c_len = len(content)\n",
    "\n",
    "home = f\"\"\"HTTP/1.1 200 OK\n",
    "Server: Apache\n",
    "Accept-Ranges: bytes\n",
    "Content-Length: {c_len}\n",
    "Content-Type: text/html\n",
    "\n",
    "{content}\"\"\"\n",
    "\n",
    "print(home)"
   ]
  },
  {
   "cell_type": "code",
   "execution_count": 18,
   "metadata": {},
   "outputs": [
    {
     "name": "stdout",
     "output_type": "stream",
     "text": [
      "HTTP/1.1 200 OK\n",
      "Server: Apache\n",
      "Accept-Ranges: bytes\n",
      "Content-Length: 182\n",
      "Content-Type: text/html\n",
      "\n",
      "<!Doctype html>\n",
      "<html>\n",
      "    <body>\n",
      "        <h1 style='color:red'> Hello Welcome Custom Web Server </h1>\n",
      "        <h2 syyle='color:blue'> You are at Home Page</h1>\n",
      "    </body>\n",
      "</html>\n",
      "\n",
      "\n"
     ]
    }
   ],
   "source": [
    "content= \"\"\"<!Doctype html>\n",
    "<html>\n",
    "    <body>\n",
    "        <h1 style='color:magenta'> This is how a site works </h1>\n",
    "        <h2 syyle='color:green'> You are at DATA PAGE</h2>\n",
    "    </body>\n",
    "</html>\n",
    "\n",
    "\"\"\"\n",
    "c_len = len(content)\n",
    "\n",
    "data = f\"\"\"HTTP/1.1 200 OK\n",
    "Server: Apache\n",
    "Accept-Ranges: bytes\n",
    "Content-Length: {c_len}\n",
    "Content-Type: text/html\n",
    "\n",
    "{content}\"\"\"\n",
    "\n",
    "print(resp)"
   ]
  },
  {
   "cell_type": "code",
   "execution_count": 19,
   "metadata": {},
   "outputs": [
    {
     "name": "stdout",
     "output_type": "stream",
     "text": [
      "HTTP/1.1 200 OK\n",
      "Server: Apache\n",
      "Accept-Ranges: bytes\n",
      "Content-Length: 182\n",
      "Content-Type: text/html\n",
      "\n",
      "<!Doctype html>\n",
      "<html>\n",
      "    <body>\n",
      "        <h1 style='color:red'> Hello Welcome Custom Web Server </h1>\n",
      "        <h2 syyle='color:blue'> You are at Home Page</h1>\n",
      "    </body>\n",
      "</html>\n",
      "\n",
      "\n"
     ]
    }
   ],
   "source": [
    "content= \"\"\"<!Doctype html>\n",
    "<html>\n",
    "    <body>\n",
    "        <h1 style='color:magenta'> Page Not Found </h1>\n",
    "    </body>\n",
    "</html>\n",
    "\n",
    "\"\"\"\n",
    "c_len = len(content)\n",
    "\n",
    "err = f\"\"\"HTTP/1.1 400 OK\n",
    "Server: Apache\n",
    "Accept-Ranges: bytes\n",
    "Content-Length: {c_len}\n",
    "Content-Type: text/html\n",
    "\n",
    "{content}\"\"\"\n",
    "\n",
    "print(resp)"
   ]
  },
  {
   "cell_type": "code",
   "execution_count": 20,
   "metadata": {},
   "outputs": [
    {
     "name": "stdout",
     "output_type": "stream",
     "text": [
      "HTTP/1.1 200 OK\n",
      "Server: Apache\n",
      "Accept-Ranges: bytes\n",
      "Content-Length: 182\n",
      "Content-Type: text/html\n",
      "\n",
      "<!Doctype html>\n",
      "<html>\n",
      "    <body>\n",
      "        <h1 style='color:red'> Hello Welcome Custom Web Server </h1>\n",
      "        <h2 syyle='color:blue'> You are at Home Page</h2>\n",
      "    </body>\n",
      "</html>\n",
      "\n",
      "\n"
     ]
    }
   ],
   "source": [
    "print(home)"
   ]
  },
  {
   "cell_type": "code",
   "execution_count": 21,
   "metadata": {},
   "outputs": [
    {
     "name": "stdout",
     "output_type": "stream",
     "text": [
      "HTTP/1.1 200 OK\n",
      "Server: Apache\n",
      "Accept-Ranges: bytes\n",
      "Content-Length: 180\n",
      "Content-Type: text/html\n",
      "\n",
      "<!Doctype html>\n",
      "<html>\n",
      "    <body>\n",
      "        <h1 style='color:magenta'> This is how a site works </h1>\n",
      "        <h2 syyle='color:green'> You are at DATA PAGE</h2>\n",
      "    </body>\n",
      "</html>\n",
      "\n",
      "\n"
     ]
    }
   ],
   "source": [
    "print(data)"
   ]
  },
  {
   "cell_type": "code",
   "execution_count": 22,
   "metadata": {},
   "outputs": [
    {
     "name": "stdout",
     "output_type": "stream",
     "text": [
      "HTTP/1.1 400 OK\n",
      "Server: Apache\n",
      "Accept-Ranges: bytes\n",
      "Content-Length: 111\n",
      "Content-Type: text/html\n",
      "\n",
      "<!Doctype html>\n",
      "<html>\n",
      "    <body>\n",
      "        <h1 style='color:magenta'> Page Not Found </h1>\n",
      "    </body>\n",
      "</html>\n",
      "\n",
      "\n"
     ]
    }
   ],
   "source": [
    "print(err)"
   ]
  },
  {
   "cell_type": "code",
   "execution_count": 27,
   "metadata": {},
   "outputs": [
    {
     "data": {
      "text/plain": [
       "'/favicon.ico'"
      ]
     },
     "execution_count": 27,
     "metadata": {},
     "output_type": "execute_result"
    }
   ],
   "source": [
    "req.split('\\n')[0].split(' ')[1]"
   ]
  },
  {
   "cell_type": "markdown",
   "metadata": {},
   "source": [
    "`Custom Web Server`"
   ]
  },
  {
   "cell_type": "code",
   "execution_count": 28,
   "metadata": {},
   "outputs": [
    {
     "name": "stdout",
     "output_type": "stream",
     "text": [
      "Client Address:  ('127.0.0.1', 56182)\n",
      "Client Address:  ('127.0.0.1', 56183)\n",
      "Client Address:  ('127.0.0.1', 56184)\n",
      "Client Address:  ('127.0.0.1', 56188)\n",
      "Client Address:  ('127.0.0.1', 56192)\n"
     ]
    }
   ],
   "source": [
    "import socket \n",
    "\n",
    "\n",
    "content= \"\"\"<!Doctype html>\n",
    "<html>\n",
    "    <body>\n",
    "        <h1 style='color:red'> Hello Welcome Custom Web Server </h1>\n",
    "        <h2 syyle='color:blue'> You are at Home Page</h2>\n",
    "        <a href='/'> HOME </a> \n",
    "        <a href='/data/'>Data</a>\n",
    "    </body>\n",
    "</html>\n",
    "\n",
    "\"\"\"\n",
    "c_len = len(content)\n",
    "\n",
    "home = f\"\"\"HTTP/1.1 200 OK\n",
    "Server: Apache\n",
    "Accept-Ranges: bytes\n",
    "Content-Length: {c_len}\n",
    "Content-Type: text/html\n",
    "\n",
    "{content}\"\"\"\n",
    "\n",
    "\n",
    "\n",
    "content= \"\"\"<!Doctype html>\n",
    "<html>\n",
    "    <body>\n",
    "        <h1 style='color:magenta'> This is how a site works </h1>\n",
    "        <h2 syyle='color:green'> You are at DATA PAGE</h2>\n",
    "        <a href='/'> HOME </a> \n",
    "        <a href='/data/'>Data</a>\n",
    "    </body>\n",
    "</html>\n",
    "\n",
    "\"\"\"\n",
    "c_len = len(content)\n",
    "\n",
    "data = f\"\"\"HTTP/1.1 200 OK\n",
    "Server: Apache\n",
    "Accept-Ranges: bytes\n",
    "Content-Length: {c_len}\n",
    "Content-Type: text/html\n",
    "\n",
    "{content}\"\"\"\n",
    "\n",
    "\n",
    "\n",
    "content= \"\"\"<!Doctype html>\n",
    "<html>\n",
    "    <body>\n",
    "        <h1 style='color:magenta'> Page Not Found </h1>\n",
    "        <a href='/'> HOME </a> \n",
    "        <a href='/data/'>Data</a>\n",
    "    </body>\n",
    "</html>\n",
    "\n",
    "\"\"\"\n",
    "c_len = len(content)\n",
    "\n",
    "err = f\"\"\"HTTP/1.1 400 OK\n",
    "Server: Apache\n",
    "Accept-Ranges: bytes\n",
    "Content-Length: {c_len}\n",
    "Content-Type: text/html\n",
    "\n",
    "{content}\"\"\"\n",
    "\n",
    "print(resp)\n",
    "\n",
    "\n",
    "\n",
    "server = socket.socket()\n",
    "\n",
    "server.bind(('localhost', 80))\n",
    "\n",
    "server.listen()\n",
    "\n",
    "for var in range(5):\n",
    "    \n",
    "    client, addr = server.accept()\n",
    "    print(\"Client Address: \", addr)\n",
    "    \n",
    "    req = client.recv(2048).decode()\n",
    "    path = req.split('\\n')[0].split(' ')[1]\n",
    "    \n",
    "    if path == '/':\n",
    "        resp = home\n",
    "    elif path == '/data/' or path == '/data':\n",
    "        resp = data\n",
    "    else:\n",
    "        resp = err\n",
    "    client.send(resp.encode())\n",
    "    client.close()\n",
    "    \n",
    "server.close()\n",
    "    "
   ]
  },
  {
   "cell_type": "markdown",
   "metadata": {},
   "source": [
    "`Machine Learning / Big Data`"
   ]
  },
  {
   "cell_type": "markdown",
   "metadata": {},
   "source": [
    "### CGI"
   ]
  },
  {
   "cell_type": "markdown",
   "metadata": {},
   "source": [
    "### Flask "
   ]
  },
  {
   "cell_type": "code",
   "execution_count": null,
   "metadata": {},
   "outputs": [],
   "source": []
  }
 ],
 "metadata": {
  "kernelspec": {
   "display_name": "Python 3",
   "language": "python",
   "name": "python3"
  },
  "language_info": {
   "codemirror_mode": {
    "name": "ipython",
    "version": 3
   },
   "file_extension": ".py",
   "mimetype": "text/x-python",
   "name": "python",
   "nbconvert_exporter": "python",
   "pygments_lexer": "ipython3",
   "version": "3.8.3"
  }
 },
 "nbformat": 4,
 "nbformat_minor": 4
}
