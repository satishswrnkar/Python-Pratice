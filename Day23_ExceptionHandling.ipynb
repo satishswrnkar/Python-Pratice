{
 "cells": [
  {
   "cell_type": "code",
   "execution_count": null,
   "metadata": {},
   "outputs": [],
   "source": [
    "price = 73\n",
    "\n",
    "amount = 100\n",
    "\n",
    "\n",
    "change = 100 - 73 # 27\n",
    "\n",
    "change = [\n",
    "    \n",
    "    '2000'\n",
    "]"
   ]
  },
  {
   "cell_type": "code",
   "execution_count": 1,
   "metadata": {},
   "outputs": [
    {
     "data": {
      "text/plain": [
       "True"
      ]
     },
     "execution_count": 1,
     "metadata": {},
     "output_type": "execute_result"
    }
   ],
   "source": [
    "2350  > 2000\n"
   ]
  },
  {
   "cell_type": "code",
   "execution_count": 2,
   "metadata": {},
   "outputs": [
    {
     "data": {
      "text/plain": [
       "350"
      ]
     },
     "execution_count": 2,
     "metadata": {},
     "output_type": "execute_result"
    }
   ],
   "source": [
    "2350 - 2000"
   ]
  },
  {
   "cell_type": "code",
   "execution_count": 4,
   "metadata": {},
   "outputs": [
    {
     "data": {
      "text/plain": [
       "20350"
      ]
     },
     "execution_count": 4,
     "metadata": {},
     "output_type": "execute_result"
    }
   ],
   "source": [
    "22350 - 2000"
   ]
  },
  {
   "cell_type": "code",
   "execution_count": 5,
   "metadata": {},
   "outputs": [
    {
     "data": {
      "text/plain": [
       "18350"
      ]
     },
     "execution_count": 5,
     "metadata": {},
     "output_type": "execute_result"
    }
   ],
   "source": [
    "20350 - 2000"
   ]
  },
  {
   "cell_type": "code",
   "execution_count": 8,
   "metadata": {},
   "outputs": [],
   "source": [
    "note_2000 = 2000\n",
    "amount = 22350\n",
    "\n",
    "note_2000_count = 0\n",
    "\n",
    "while amount > note_2000:\n",
    "    amount = amount - note_2000\n",
    "    note_2000_count += 1"
   ]
  },
  {
   "cell_type": "code",
   "execution_count": 9,
   "metadata": {},
   "outputs": [
    {
     "data": {
      "text/plain": [
       "11"
      ]
     },
     "execution_count": 9,
     "metadata": {},
     "output_type": "execute_result"
    }
   ],
   "source": [
    "note_2000_count"
   ]
  },
  {
   "cell_type": "code",
   "execution_count": 10,
   "metadata": {},
   "outputs": [
    {
     "data": {
      "text/plain": [
       "22000"
      ]
     },
     "execution_count": 10,
     "metadata": {},
     "output_type": "execute_result"
    }
   ],
   "source": [
    "11 * 2000 "
   ]
  },
  {
   "cell_type": "code",
   "execution_count": 11,
   "metadata": {},
   "outputs": [
    {
     "data": {
      "text/plain": [
       "350"
      ]
     },
     "execution_count": 11,
     "metadata": {},
     "output_type": "execute_result"
    }
   ],
   "source": [
    "amount"
   ]
  },
  {
   "cell_type": "code",
   "execution_count": 12,
   "metadata": {},
   "outputs": [],
   "source": [
    "note_500 = 500\n",
    "amount = 350\n",
    "\n",
    "note_500_count = 0\n",
    "\n",
    "while amount > note_500:\n",
    "    amount = amount - note_500\n",
    "    note_500_count += 1"
   ]
  },
  {
   "cell_type": "code",
   "execution_count": 13,
   "metadata": {},
   "outputs": [
    {
     "data": {
      "text/plain": [
       "0"
      ]
     },
     "execution_count": 13,
     "metadata": {},
     "output_type": "execute_result"
    }
   ],
   "source": [
    "note_500_count"
   ]
  },
  {
   "cell_type": "code",
   "execution_count": 14,
   "metadata": {},
   "outputs": [
    {
     "name": "stdout",
     "output_type": "stream",
     "text": [
      "key1\n",
      "key2\n"
     ]
    }
   ],
   "source": [
    "d = { 'key1': 'value1', 'key2': 'value2'}\n",
    "for k in d:\n",
    "    print(k)"
   ]
  },
  {
   "cell_type": "code",
   "execution_count": 15,
   "metadata": {},
   "outputs": [
    {
     "name": "stdout",
     "output_type": "stream",
     "text": [
      "2000\n",
      "500\n",
      "200\n",
      "100\n",
      "50\n",
      "20\n",
      "10\n",
      "5\n",
      "2\n",
      "1\n"
     ]
    }
   ],
   "source": [
    "notes = {2000: 0, 500: 0, 200: 0, 100: 0, 50: 0, 20: 0, 10: 0, 5: 0 , 2: 0, 1: 0}\n",
    "for key in notes:\n",
    "    print(key)"
   ]
  },
  {
   "cell_type": "code",
   "execution_count": 20,
   "metadata": {},
   "outputs": [
    {
     "name": "stdout",
     "output_type": "stream",
     "text": [
      "Item Price: 120\n",
      "User Amount: 2000\n"
     ]
    }
   ],
   "source": [
    "notes = {2000: 0, 500: 0, 200: 0, 100: 0, 50: 0, 20: 0, 10: 0, 5: 0 , 2: 0, 1: 0}\n",
    "\n",
    "item_price = int(input(\"Item Price: \"))\n",
    "\n",
    "amount = int(input(\"User Amount: \"))\n",
    "\n",
    "change = amount - item_price\n",
    "\n",
    "for note in notes:\n",
    "    count = 0 \n",
    "    while change >= note:\n",
    "        change = change - note\n",
    "        notes[note] += 1\n",
    "\n",
    "    "
   ]
  },
  {
   "cell_type": "code",
   "execution_count": 23,
   "metadata": {},
   "outputs": [
    {
     "name": "stdout",
     "output_type": "stream",
     "text": [
      "Note 500 count is 3\n",
      "Note 200 count is 1\n",
      "Note 100 count is 1\n",
      "Note 50 count is 1\n",
      "Note 20 count is 1\n",
      "Note 10 count is 1\n"
     ]
    }
   ],
   "source": [
    "for note, count in notes.items():\n",
    "    if count > 0:\n",
    "        print(f\"Note {note} count is {count}\")"
   ]
  },
  {
   "cell_type": "code",
   "execution_count": 22,
   "metadata": {},
   "outputs": [
    {
     "data": {
      "text/plain": [
       "0"
      ]
     },
     "execution_count": 22,
     "metadata": {},
     "output_type": "execute_result"
    }
   ],
   "source": [
    "change"
   ]
  },
  {
   "cell_type": "markdown",
   "metadata": {},
   "source": [
    "`Multiplication is just repetative addition`"
   ]
  },
  {
   "cell_type": "markdown",
   "metadata": {},
   "source": [
    "    5 * 3 # 5 + 5 + 5"
   ]
  },
  {
   "cell_type": "markdown",
   "metadata": {},
   "source": [
    "`Division is just repetative substraction`\n",
    "\n",
    "    20 / 5 # 20 - 5, 15 - 5, 10 - 5, 5 - 5, "
   ]
  },
  {
   "cell_type": "code",
   "execution_count": 27,
   "metadata": {},
   "outputs": [
    {
     "data": {
      "text/plain": [
       "1.18"
      ]
     },
     "execution_count": 27,
     "metadata": {},
     "output_type": "execute_result"
    }
   ],
   "source": [
    "2360 / 2000"
   ]
  },
  {
   "cell_type": "code",
   "execution_count": 28,
   "metadata": {},
   "outputs": [
    {
     "data": {
      "text/plain": [
       "1"
      ]
     },
     "execution_count": 28,
     "metadata": {},
     "output_type": "execute_result"
    }
   ],
   "source": [
    "2360 // 2000 "
   ]
  },
  {
   "cell_type": "code",
   "execution_count": 30,
   "metadata": {},
   "outputs": [
    {
     "data": {
      "text/plain": [
       "22"
      ]
     },
     "execution_count": 30,
     "metadata": {},
     "output_type": "execute_result"
    }
   ],
   "source": [
    "44360 // 2000"
   ]
  },
  {
   "cell_type": "code",
   "execution_count": 31,
   "metadata": {},
   "outputs": [
    {
     "data": {
      "text/plain": [
       "1"
      ]
     },
     "execution_count": 31,
     "metadata": {},
     "output_type": "execute_result"
    }
   ],
   "source": [
    "2750 // 2000"
   ]
  },
  {
   "cell_type": "code",
   "execution_count": 32,
   "metadata": {},
   "outputs": [
    {
     "data": {
      "text/plain": [
       "750"
      ]
     },
     "execution_count": 32,
     "metadata": {},
     "output_type": "execute_result"
    }
   ],
   "source": [
    "2750 % 2000"
   ]
  },
  {
   "cell_type": "code",
   "execution_count": 34,
   "metadata": {},
   "outputs": [],
   "source": [
    "Inventroy = {\n",
    "    2000: 50,\n",
    "    500: 10\n",
    "}"
   ]
  },
  {
   "cell_type": "code",
   "execution_count": 35,
   "metadata": {},
   "outputs": [
    {
     "name": "stdout",
     "output_type": "stream",
     "text": [
      "Item Price: 120\n",
      "Amount: 2000\n",
      "Return 3 Notes of 500.\n",
      "Return 1 Notes of 200.\n",
      "Return 1 Notes of 100.\n",
      "Return 1 Notes of 50.\n",
      "Return 1 Notes of 20.\n",
      "Return 1 Notes of 10.\n"
     ]
    }
   ],
   "source": [
    "item_price = int(input(\"Item Price: \"))\n",
    "amount = int(input(\"Amount: \"))\n",
    "\n",
    "amount = amount - item_price\n",
    "\n",
    "notes = [ 2000, 500, 200, 100, 50, 20, 10, 5, 3, 2, 1]\n",
    "\n",
    "for note in notes:\n",
    "    count = amount // note\n",
    "    amount = amount % note\n",
    "    if count > 0:\n",
    "        print(f\"Return {count} Notes of {note}.\")\n",
    "        "
   ]
  },
  {
   "cell_type": "code",
   "execution_count": 39,
   "metadata": {},
   "outputs": [],
   "source": [
    "def change_value(item_price, amount):\n",
    "    amount = amount - item_price\n",
    "    notes = [ 2000, 500, 200, 100, 50, 20, 10, 5,  2, 1]\n",
    "    for note in notes:\n",
    "        count = amount // note\n",
    "        amount = amount % note\n",
    "        if count > 0:\n",
    "            print(f\"Return {count} Notes of {note}.\")\n"
   ]
  },
  {
   "cell_type": "code",
   "execution_count": 40,
   "metadata": {},
   "outputs": [
    {
     "name": "stdout",
     "output_type": "stream",
     "text": [
      "Return 1 Notes of 200.\n",
      "Return 1 Notes of 100.\n",
      "Return 1 Notes of 50.\n",
      "Return 1 Notes of 20.\n",
      "Return 1 Notes of 5.\n",
      "Return 1 Notes of 2.\n"
     ]
    }
   ],
   "source": [
    "change_value(123, 500)"
   ]
  },
  {
   "cell_type": "code",
   "execution_count": 41,
   "metadata": {},
   "outputs": [
    {
     "name": "stdout",
     "output_type": "stream",
     "text": [
      "Return 1 Notes of 5.\n",
      "Return 1 Notes of 2.\n",
      "Return 1 Notes of 1.\n"
     ]
    }
   ],
   "source": [
    "change_value(2, 10)"
   ]
  },
  {
   "cell_type": "markdown",
   "metadata": {},
   "source": [
    "`before 7 or after 9:30 or on slack or whatsapp`"
   ]
  },
  {
   "cell_type": "markdown",
   "metadata": {},
   "source": [
    "`7:00 pm`"
   ]
  },
  {
   "cell_type": "markdown",
   "metadata": {},
   "source": [
    "#### Exception Handling"
   ]
  },
  {
   "cell_type": "code",
   "execution_count": 42,
   "metadata": {},
   "outputs": [
    {
     "ename": "NameError",
     "evalue": "name 'sachin' is not defined",
     "output_type": "error",
     "traceback": [
      "\u001b[1;31m---------------------------------------------------------------------------\u001b[0m",
      "\u001b[1;31mNameError\u001b[0m                                 Traceback (most recent call last)",
      "\u001b[1;32m<ipython-input-42-709211fbb4ee>\u001b[0m in \u001b[0;36m<module>\u001b[1;34m\u001b[0m\n\u001b[1;32m----> 1\u001b[1;33m \u001b[0msachin\u001b[0m\u001b[1;33m\u001b[0m\u001b[1;33m\u001b[0m\u001b[0m\n\u001b[0m",
      "\u001b[1;31mNameError\u001b[0m: name 'sachin' is not defined"
     ]
    }
   ],
   "source": [
    "sachin\n",
    "# Logical Error or Exception"
   ]
  },
  {
   "cell_type": "code",
   "execution_count": 43,
   "metadata": {},
   "outputs": [
    {
     "ename": "SyntaxError",
     "evalue": "cannot assign to literal (<ipython-input-43-939787135bbf>, line 1)",
     "output_type": "error",
     "traceback": [
      "\u001b[1;36m  File \u001b[1;32m\"<ipython-input-43-939787135bbf>\"\u001b[1;36m, line \u001b[1;32m1\u001b[0m\n\u001b[1;33m    5 = 10\u001b[0m\n\u001b[1;37m    ^\u001b[0m\n\u001b[1;31mSyntaxError\u001b[0m\u001b[1;31m:\u001b[0m cannot assign to literal\n"
     ]
    }
   ],
   "source": [
    "5 = 10\n",
    "# grammer "
   ]
  },
  {
   "cell_type": "code",
   "execution_count": 44,
   "metadata": {},
   "outputs": [
    {
     "ename": "ZeroDivisionError",
     "evalue": "division by zero",
     "output_type": "error",
     "traceback": [
      "\u001b[1;31m---------------------------------------------------------------------------\u001b[0m",
      "\u001b[1;31mZeroDivisionError\u001b[0m                         Traceback (most recent call last)",
      "\u001b[1;32m<ipython-input-44-cd759d3fcf39>\u001b[0m in \u001b[0;36m<module>\u001b[1;34m\u001b[0m\n\u001b[1;32m----> 1\u001b[1;33m \u001b[1;36m10\u001b[0m \u001b[1;33m/\u001b[0m \u001b[1;36m0\u001b[0m\u001b[1;33m\u001b[0m\u001b[1;33m\u001b[0m\u001b[0m\n\u001b[0m",
      "\u001b[1;31mZeroDivisionError\u001b[0m: division by zero"
     ]
    }
   ],
   "source": [
    "10 / 0"
   ]
  },
  {
   "cell_type": "code",
   "execution_count": 45,
   "metadata": {},
   "outputs": [
    {
     "ename": "FileNotFoundError",
     "evalue": "[Errno 2] No such file or directory: 'alksdfj'",
     "output_type": "error",
     "traceback": [
      "\u001b[1;31m---------------------------------------------------------------------------\u001b[0m",
      "\u001b[1;31mFileNotFoundError\u001b[0m                         Traceback (most recent call last)",
      "\u001b[1;32m<ipython-input-45-061d7e9bee90>\u001b[0m in \u001b[0;36m<module>\u001b[1;34m\u001b[0m\n\u001b[1;32m----> 1\u001b[1;33m \u001b[0mopen\u001b[0m\u001b[1;33m(\u001b[0m\u001b[1;34m'alksdfj'\u001b[0m\u001b[1;33m)\u001b[0m\u001b[1;33m\u001b[0m\u001b[1;33m\u001b[0m\u001b[0m\n\u001b[0m",
      "\u001b[1;31mFileNotFoundError\u001b[0m: [Errno 2] No such file or directory: 'alksdfj'"
     ]
    }
   ],
   "source": [
    "open('alksdfj')"
   ]
  },
  {
   "cell_type": "code",
   "execution_count": 46,
   "metadata": {},
   "outputs": [
    {
     "ename": "ValueError",
     "evalue": "invalid literal for int() with base 10: 'alksjdf'",
     "output_type": "error",
     "traceback": [
      "\u001b[1;31m---------------------------------------------------------------------------\u001b[0m",
      "\u001b[1;31mValueError\u001b[0m                                Traceback (most recent call last)",
      "\u001b[1;32m<ipython-input-46-bb260cb81b28>\u001b[0m in \u001b[0;36m<module>\u001b[1;34m\u001b[0m\n\u001b[1;32m----> 1\u001b[1;33m \u001b[0mint\u001b[0m\u001b[1;33m(\u001b[0m\u001b[1;34m'alksjdf'\u001b[0m\u001b[1;33m)\u001b[0m\u001b[1;33m\u001b[0m\u001b[1;33m\u001b[0m\u001b[0m\n\u001b[0m",
      "\u001b[1;31mValueError\u001b[0m: invalid literal for int() with base 10: 'alksjdf'"
     ]
    }
   ],
   "source": [
    "int('alksjdf')"
   ]
  },
  {
   "cell_type": "code",
   "execution_count": 47,
   "metadata": {},
   "outputs": [],
   "source": [
    "l = [ 1, 2, 3, 4]"
   ]
  },
  {
   "cell_type": "code",
   "execution_count": 48,
   "metadata": {},
   "outputs": [
    {
     "ename": "IndexError",
     "evalue": "list index out of range",
     "output_type": "error",
     "traceback": [
      "\u001b[1;31m---------------------------------------------------------------------------\u001b[0m",
      "\u001b[1;31mIndexError\u001b[0m                                Traceback (most recent call last)",
      "\u001b[1;32m<ipython-input-48-61703b2736e0>\u001b[0m in \u001b[0;36m<module>\u001b[1;34m\u001b[0m\n\u001b[1;32m----> 1\u001b[1;33m \u001b[0ml\u001b[0m\u001b[1;33m[\u001b[0m\u001b[1;36m50\u001b[0m\u001b[1;33m]\u001b[0m\u001b[1;33m\u001b[0m\u001b[1;33m\u001b[0m\u001b[0m\n\u001b[0m",
      "\u001b[1;31mIndexError\u001b[0m: list index out of range"
     ]
    }
   ],
   "source": [
    "l[50]"
   ]
  },
  {
   "cell_type": "code",
   "execution_count": 49,
   "metadata": {},
   "outputs": [],
   "source": [
    "d = {\n",
    "    'name': 'python'\n",
    "}"
   ]
  },
  {
   "cell_type": "code",
   "execution_count": 50,
   "metadata": {},
   "outputs": [
    {
     "ename": "KeyError",
     "evalue": "'yahoo'",
     "output_type": "error",
     "traceback": [
      "\u001b[1;31m---------------------------------------------------------------------------\u001b[0m",
      "\u001b[1;31mKeyError\u001b[0m                                  Traceback (most recent call last)",
      "\u001b[1;32m<ipython-input-50-d38ec589b777>\u001b[0m in \u001b[0;36m<module>\u001b[1;34m\u001b[0m\n\u001b[1;32m----> 1\u001b[1;33m \u001b[0md\u001b[0m\u001b[1;33m[\u001b[0m\u001b[1;34m'yahoo'\u001b[0m\u001b[1;33m]\u001b[0m\u001b[1;33m\u001b[0m\u001b[1;33m\u001b[0m\u001b[0m\n\u001b[0m",
      "\u001b[1;31mKeyError\u001b[0m: 'yahoo'"
     ]
    }
   ],
   "source": [
    "d['yahoo']"
   ]
  },
  {
   "cell_type": "code",
   "execution_count": 51,
   "metadata": {},
   "outputs": [],
   "source": [
    "l  = [ 'java', 'c', 'c++', 'ruby']"
   ]
  },
  {
   "cell_type": "code",
   "execution_count": 52,
   "metadata": {},
   "outputs": [
    {
     "ename": "AttributeError",
     "evalue": "'list' object has no attribute 'upper'",
     "output_type": "error",
     "traceback": [
      "\u001b[1;31m---------------------------------------------------------------------------\u001b[0m",
      "\u001b[1;31mAttributeError\u001b[0m                            Traceback (most recent call last)",
      "\u001b[1;32m<ipython-input-52-337e44a12187>\u001b[0m in \u001b[0;36m<module>\u001b[1;34m\u001b[0m\n\u001b[1;32m----> 1\u001b[1;33m \u001b[0ml\u001b[0m\u001b[1;33m.\u001b[0m\u001b[0mupper\u001b[0m\u001b[1;33m(\u001b[0m\u001b[1;33m)\u001b[0m\u001b[1;33m\u001b[0m\u001b[1;33m\u001b[0m\u001b[0m\n\u001b[0m",
      "\u001b[1;31mAttributeError\u001b[0m: 'list' object has no attribute 'upper'"
     ]
    }
   ],
   "source": [
    "l.upper()"
   ]
  },
  {
   "cell_type": "markdown",
   "metadata": {},
   "source": [
    "### These are Exception"
   ]
  },
  {
   "cell_type": "markdown",
   "metadata": {},
   "source": [
    "Development\n",
    "\n",
    "    Project\n",
    "    \n",
    "        coding \n",
    "        \n",
    "        testing\n",
    "        \n",
    "Deployment \n",
    "\n",
    "    any one on internet can use your code\n",
    "    \n",
    "    \n",
    "    bugs"
   ]
  },
  {
   "cell_type": "markdown",
   "metadata": {},
   "source": [
    "__write a program to divide 2 numbers__"
   ]
  },
  {
   "cell_type": "code",
   "execution_count": 54,
   "metadata": {},
   "outputs": [
    {
     "name": "stdout",
     "output_type": "stream",
     "text": [
      "a: 10\n",
      "b: 3\n",
      "Result:  3.33\n"
     ]
    }
   ],
   "source": [
    "def div(a, b):\n",
    "    return a / b\n",
    "\n",
    "a = int(input(\"a: \"))\n",
    "b = int(input(\"b: \"))\n",
    "\n",
    "result = div(a, b)\n",
    "\n",
    "print(f\"Result:  {result:.2f}\")"
   ]
  },
  {
   "cell_type": "code",
   "execution_count": 55,
   "metadata": {},
   "outputs": [
    {
     "name": "stdout",
     "output_type": "stream",
     "text": [
      "a: akdfl\n"
     ]
    },
    {
     "ename": "ValueError",
     "evalue": "invalid literal for int() with base 10: 'akdfl'",
     "output_type": "error",
     "traceback": [
      "\u001b[1;31m---------------------------------------------------------------------------\u001b[0m",
      "\u001b[1;31mValueError\u001b[0m                                Traceback (most recent call last)",
      "\u001b[1;32m<ipython-input-55-30a432ea6c37>\u001b[0m in \u001b[0;36m<module>\u001b[1;34m\u001b[0m\n\u001b[0;32m      2\u001b[0m     \u001b[1;32mreturn\u001b[0m \u001b[0ma\u001b[0m \u001b[1;33m/\u001b[0m \u001b[0mb\u001b[0m\u001b[1;33m\u001b[0m\u001b[1;33m\u001b[0m\u001b[0m\n\u001b[0;32m      3\u001b[0m \u001b[1;33m\u001b[0m\u001b[0m\n\u001b[1;32m----> 4\u001b[1;33m \u001b[0ma\u001b[0m \u001b[1;33m=\u001b[0m \u001b[0mint\u001b[0m\u001b[1;33m(\u001b[0m\u001b[0minput\u001b[0m\u001b[1;33m(\u001b[0m\u001b[1;34m\"a: \"\u001b[0m\u001b[1;33m)\u001b[0m\u001b[1;33m)\u001b[0m\u001b[1;33m\u001b[0m\u001b[1;33m\u001b[0m\u001b[0m\n\u001b[0m\u001b[0;32m      5\u001b[0m \u001b[0mb\u001b[0m \u001b[1;33m=\u001b[0m \u001b[0mint\u001b[0m\u001b[1;33m(\u001b[0m\u001b[0minput\u001b[0m\u001b[1;33m(\u001b[0m\u001b[1;34m\"b: \"\u001b[0m\u001b[1;33m)\u001b[0m\u001b[1;33m)\u001b[0m\u001b[1;33m\u001b[0m\u001b[1;33m\u001b[0m\u001b[0m\n\u001b[0;32m      6\u001b[0m \u001b[1;33m\u001b[0m\u001b[0m\n",
      "\u001b[1;31mValueError\u001b[0m: invalid literal for int() with base 10: 'akdfl'"
     ]
    }
   ],
   "source": [
    "def div(a, b):\n",
    "    return a / b\n",
    "\n",
    "a = int(input(\"a: \"))\n",
    "b = int(input(\"b: \"))\n",
    "\n",
    "result = div(a, b)\n",
    "\n",
    "print(f\"Result:  {result:.2f}\")"
   ]
  },
  {
   "cell_type": "code",
   "execution_count": 56,
   "metadata": {},
   "outputs": [
    {
     "name": "stdout",
     "output_type": "stream",
     "text": [
      "a: 10\n",
      "b: 0\n"
     ]
    },
    {
     "ename": "ZeroDivisionError",
     "evalue": "division by zero",
     "output_type": "error",
     "traceback": [
      "\u001b[1;31m---------------------------------------------------------------------------\u001b[0m",
      "\u001b[1;31mZeroDivisionError\u001b[0m                         Traceback (most recent call last)",
      "\u001b[1;32m<ipython-input-56-30a432ea6c37>\u001b[0m in \u001b[0;36m<module>\u001b[1;34m\u001b[0m\n\u001b[0;32m      5\u001b[0m \u001b[0mb\u001b[0m \u001b[1;33m=\u001b[0m \u001b[0mint\u001b[0m\u001b[1;33m(\u001b[0m\u001b[0minput\u001b[0m\u001b[1;33m(\u001b[0m\u001b[1;34m\"b: \"\u001b[0m\u001b[1;33m)\u001b[0m\u001b[1;33m)\u001b[0m\u001b[1;33m\u001b[0m\u001b[1;33m\u001b[0m\u001b[0m\n\u001b[0;32m      6\u001b[0m \u001b[1;33m\u001b[0m\u001b[0m\n\u001b[1;32m----> 7\u001b[1;33m \u001b[0mresult\u001b[0m \u001b[1;33m=\u001b[0m \u001b[0mdiv\u001b[0m\u001b[1;33m(\u001b[0m\u001b[0ma\u001b[0m\u001b[1;33m,\u001b[0m \u001b[0mb\u001b[0m\u001b[1;33m)\u001b[0m\u001b[1;33m\u001b[0m\u001b[1;33m\u001b[0m\u001b[0m\n\u001b[0m\u001b[0;32m      8\u001b[0m \u001b[1;33m\u001b[0m\u001b[0m\n\u001b[0;32m      9\u001b[0m \u001b[0mprint\u001b[0m\u001b[1;33m(\u001b[0m\u001b[1;34mf\"Result:  {result:.2f}\"\u001b[0m\u001b[1;33m)\u001b[0m\u001b[1;33m\u001b[0m\u001b[1;33m\u001b[0m\u001b[0m\n",
      "\u001b[1;32m<ipython-input-56-30a432ea6c37>\u001b[0m in \u001b[0;36mdiv\u001b[1;34m(a, b)\u001b[0m\n\u001b[0;32m      1\u001b[0m \u001b[1;32mdef\u001b[0m \u001b[0mdiv\u001b[0m\u001b[1;33m(\u001b[0m\u001b[0ma\u001b[0m\u001b[1;33m,\u001b[0m \u001b[0mb\u001b[0m\u001b[1;33m)\u001b[0m\u001b[1;33m:\u001b[0m\u001b[1;33m\u001b[0m\u001b[1;33m\u001b[0m\u001b[0m\n\u001b[1;32m----> 2\u001b[1;33m     \u001b[1;32mreturn\u001b[0m \u001b[0ma\u001b[0m \u001b[1;33m/\u001b[0m \u001b[0mb\u001b[0m\u001b[1;33m\u001b[0m\u001b[1;33m\u001b[0m\u001b[0m\n\u001b[0m\u001b[0;32m      3\u001b[0m \u001b[1;33m\u001b[0m\u001b[0m\n\u001b[0;32m      4\u001b[0m \u001b[0ma\u001b[0m \u001b[1;33m=\u001b[0m \u001b[0mint\u001b[0m\u001b[1;33m(\u001b[0m\u001b[0minput\u001b[0m\u001b[1;33m(\u001b[0m\u001b[1;34m\"a: \"\u001b[0m\u001b[1;33m)\u001b[0m\u001b[1;33m)\u001b[0m\u001b[1;33m\u001b[0m\u001b[1;33m\u001b[0m\u001b[0m\n\u001b[0;32m      5\u001b[0m \u001b[0mb\u001b[0m \u001b[1;33m=\u001b[0m \u001b[0mint\u001b[0m\u001b[1;33m(\u001b[0m\u001b[0minput\u001b[0m\u001b[1;33m(\u001b[0m\u001b[1;34m\"b: \"\u001b[0m\u001b[1;33m)\u001b[0m\u001b[1;33m)\u001b[0m\u001b[1;33m\u001b[0m\u001b[1;33m\u001b[0m\u001b[0m\n",
      "\u001b[1;31mZeroDivisionError\u001b[0m: division by zero"
     ]
    }
   ],
   "source": [
    "def div(a, b):\n",
    "    return a / b\n",
    "\n",
    "a = int(input(\"a: \"))\n",
    "b = int(input(\"b: \"))\n",
    "\n",
    "result = div(a, b)\n",
    "\n",
    "print(f\"Result:  {result:.2f}\")"
   ]
  },
  {
   "cell_type": "code",
   "execution_count": 57,
   "metadata": {},
   "outputs": [
    {
     "name": "stdout",
     "output_type": "stream",
     "text": [
      "a: 10\n",
      "b: 3\n",
      "Division Result:  3.33\n",
      "Square Addtion Result:  109.00\n"
     ]
    }
   ],
   "source": [
    "def div(a, b):\n",
    "    return a / b\n",
    "\n",
    "def sq_add(a, b):\n",
    "    return a**2 + b**2\n",
    "\n",
    "a = int(input(\"a: \"))\n",
    "b = int(input(\"b: \"))\n",
    "\n",
    "r1 = div(a, b)\n",
    "r2 = sq_add(a, b)\n",
    "print(f\"Division Result:  {r1:.2f}\")\n",
    "print(f\"Square Addtion Result:  {r2:.2f}\")"
   ]
  },
  {
   "cell_type": "code",
   "execution_count": 58,
   "metadata": {},
   "outputs": [
    {
     "name": "stdout",
     "output_type": "stream",
     "text": [
      "a: sljf\n"
     ]
    },
    {
     "ename": "ValueError",
     "evalue": "invalid literal for int() with base 10: 'sljf'",
     "output_type": "error",
     "traceback": [
      "\u001b[1;31m---------------------------------------------------------------------------\u001b[0m",
      "\u001b[1;31mValueError\u001b[0m                                Traceback (most recent call last)",
      "\u001b[1;32m<ipython-input-58-a7e9d960b069>\u001b[0m in \u001b[0;36m<module>\u001b[1;34m\u001b[0m\n\u001b[0;32m      5\u001b[0m     \u001b[1;32mreturn\u001b[0m \u001b[0ma\u001b[0m\u001b[1;33m**\u001b[0m\u001b[1;36m2\u001b[0m \u001b[1;33m+\u001b[0m \u001b[0mb\u001b[0m\u001b[1;33m**\u001b[0m\u001b[1;36m2\u001b[0m\u001b[1;33m\u001b[0m\u001b[1;33m\u001b[0m\u001b[0m\n\u001b[0;32m      6\u001b[0m \u001b[1;33m\u001b[0m\u001b[0m\n\u001b[1;32m----> 7\u001b[1;33m \u001b[0ma\u001b[0m \u001b[1;33m=\u001b[0m \u001b[0mint\u001b[0m\u001b[1;33m(\u001b[0m\u001b[0minput\u001b[0m\u001b[1;33m(\u001b[0m\u001b[1;34m\"a: \"\u001b[0m\u001b[1;33m)\u001b[0m\u001b[1;33m)\u001b[0m\u001b[1;33m\u001b[0m\u001b[1;33m\u001b[0m\u001b[0m\n\u001b[0m\u001b[0;32m      8\u001b[0m \u001b[0mb\u001b[0m \u001b[1;33m=\u001b[0m \u001b[0mint\u001b[0m\u001b[1;33m(\u001b[0m\u001b[0minput\u001b[0m\u001b[1;33m(\u001b[0m\u001b[1;34m\"b: \"\u001b[0m\u001b[1;33m)\u001b[0m\u001b[1;33m)\u001b[0m\u001b[1;33m\u001b[0m\u001b[1;33m\u001b[0m\u001b[0m\n\u001b[0;32m      9\u001b[0m \u001b[1;33m\u001b[0m\u001b[0m\n",
      "\u001b[1;31mValueError\u001b[0m: invalid literal for int() with base 10: 'sljf'"
     ]
    }
   ],
   "source": [
    "def div(a, b):\n",
    "    return a / b\n",
    "\n",
    "def sq_add(a, b):\n",
    "    return a**2 + b**2\n",
    "\n",
    "a = int(input(\"a: \"))\n",
    "b = int(input(\"b: \"))\n",
    "\n",
    "r1 = div(a, b)\n",
    "r2 = sq_add(a, b)\n",
    "print(f\"Division Result:  {r1:.2f}\")\n",
    "print(f\"Square Addtion Result:  {r2:.2f}\")"
   ]
  },
  {
   "cell_type": "markdown",
   "metadata": {},
   "source": [
    "#### Exception Handling"
   ]
  },
  {
   "cell_type": "code",
   "execution_count": null,
   "metadata": {},
   "outputs": [],
   "source": [
    "\n",
    "try:\n",
    "    print(\"hello world\")\n",
    "    exit(0)\n",
    "except BaseException:\n",
    "    print(\"you can't exit my friend\")"
   ]
  },
  {
   "cell_type": "code",
   "execution_count": 2,
   "metadata": {},
   "outputs": [
    {
     "name": "stdout",
     "output_type": "stream",
     "text": [
      "name: sachin\n",
      "name:  sachin\n",
      "name: rahul\n",
      "name:  rahul\n",
      "name: \n",
      "name:  \n",
      "name: \n",
      "name:  \n",
      "name: \n",
      "name:  \n",
      "name: \n",
      "name:  \n",
      "name: \n",
      "name:  \n",
      "name: \n",
      "name:  \n",
      "name: \n",
      "name:  \n",
      "name: \n",
      "name:  \n"
     ]
    }
   ],
   "source": [
    "for _ in range(10):\n",
    "    name = input(\"name: \")\n",
    "    print(\"name: \", name)"
   ]
  },
  {
   "cell_type": "markdown",
   "metadata": {},
   "source": [
    "__Exception Handling Syntax__\n",
    "\n",
    "    try:\n",
    "        statements\n",
    "        that can \n",
    "        cause an error\n",
    "    except Error as arg:\n",
    "        statements to \n",
    "        execute whenever\n",
    "        an error occured in try block\n"
   ]
  },
  {
   "cell_type": "code",
   "execution_count": 1,
   "metadata": {},
   "outputs": [
    {
     "name": "stdout",
     "output_type": "stream",
     "text": [
      "name: sachin\n",
      "name:  sachin\n",
      "name: \n",
      "name:  \n",
      "name: adf\n",
      "name:  adf\n",
      "name: \n",
      "name:  \n",
      "name: \n",
      "name:  \n",
      "name: \n",
      "name:  \n",
      "name: \n",
      "name:  \n",
      "name: \n",
      "name:  \n",
      "name: \n",
      "name:  \n",
      "name: \n",
      "name:  \n"
     ]
    }
   ],
   "source": [
    "try:\n",
    "    for _ in range(10):\n",
    "        name = input(\"name: \")\n",
    "        print(\"name: \", name)\n",
    "except KeyboardInterrupt as err:\n",
    "    print(\"You have stop it Forcefully\")"
   ]
  },
  {
   "cell_type": "markdown",
   "metadata": {},
   "source": [
    "__write a program to take an integer input__"
   ]
  },
  {
   "cell_type": "code",
   "execution_count": 2,
   "metadata": {},
   "outputs": [
    {
     "name": "stdout",
     "output_type": "stream",
     "text": [
      "Enter integer: 5\n",
      "Good! you have sucessfully Entered a Integer Number\n"
     ]
    }
   ],
   "source": [
    "num = int(input(\"Enter integer: \"))\n",
    "\n",
    "print(\"Good! you have sucessfully Entered a Integer Number\")"
   ]
  },
  {
   "cell_type": "code",
   "execution_count": 4,
   "metadata": {},
   "outputs": [
    {
     "name": "stdout",
     "output_type": "stream",
     "text": [
      "Enter integer: aksjdfk\n"
     ]
    },
    {
     "ename": "ValueError",
     "evalue": "invalid literal for int() with base 10: 'aksjdfk'",
     "output_type": "error",
     "traceback": [
      "\u001b[1;31m---------------------------------------------------------------------------\u001b[0m",
      "\u001b[1;31mValueError\u001b[0m                                Traceback (most recent call last)",
      "\u001b[1;32m<ipython-input-4-bbe04d8b37cb>\u001b[0m in \u001b[0;36m<module>\u001b[1;34m\u001b[0m\n\u001b[1;32m----> 1\u001b[1;33m \u001b[0mnum\u001b[0m \u001b[1;33m=\u001b[0m \u001b[0mint\u001b[0m\u001b[1;33m(\u001b[0m\u001b[0minput\u001b[0m\u001b[1;33m(\u001b[0m\u001b[1;34m\"Enter integer: \"\u001b[0m\u001b[1;33m)\u001b[0m\u001b[1;33m)\u001b[0m\u001b[1;33m\u001b[0m\u001b[1;33m\u001b[0m\u001b[0m\n\u001b[0m\u001b[0;32m      2\u001b[0m \u001b[1;33m\u001b[0m\u001b[0m\n\u001b[0;32m      3\u001b[0m \u001b[0mprint\u001b[0m\u001b[1;33m(\u001b[0m\u001b[1;34m\"Good! you have sucessfully Entered a Integer Number\"\u001b[0m\u001b[1;33m)\u001b[0m\u001b[1;33m\u001b[0m\u001b[1;33m\u001b[0m\u001b[0m\n",
      "\u001b[1;31mValueError\u001b[0m: invalid literal for int() with base 10: 'aksjdfk'"
     ]
    }
   ],
   "source": [
    "num = int(input(\"Enter integer: \"))\n",
    "\n",
    "print(\"Good! you have sucessfully Entered a Integer Number\")"
   ]
  },
  {
   "cell_type": "code",
   "execution_count": null,
   "metadata": {},
   "outputs": [],
   "source": []
  },
  {
   "cell_type": "code",
   "execution_count": 6,
   "metadata": {},
   "outputs": [],
   "source": [
    "import random as r\n",
    "\n",
    "# alias random -> r"
   ]
  },
  {
   "cell_type": "code",
   "execution_count": 8,
   "metadata": {},
   "outputs": [
    {
     "data": {
      "text/plain": [
       "39"
      ]
     },
     "execution_count": 8,
     "metadata": {},
     "output_type": "execute_result"
    }
   ],
   "source": [
    "r.randint(1, 50)"
   ]
  },
  {
   "cell_type": "code",
   "execution_count": 9,
   "metadata": {},
   "outputs": [
    {
     "name": "stdout",
     "output_type": "stream",
     "text": [
      "Enter integer: 10\n",
      "Good! you have sucessfully Entered a Integer Number\n",
      "I am Boss!!! Error aaye ya na aaye hm to run krenge hi krenge\n"
     ]
    }
   ],
   "source": [
    "try:\n",
    "    # used to test our code for errors\n",
    "    num = int(input(\"Enter integer: \"))\n",
    "    \n",
    "except ValueError as arg:\n",
    "    # what we should do if error comes\n",
    "    print(f\"Error!!!! {arg}\")\n",
    "    print(\"You Doing Some Nesty Task....I told you to enter an integer number.\")\n",
    "\n",
    "except Exception as arg:\n",
    "    # general exception\n",
    "    print(f\"Error!!!Something Went Wrong\", arg)\n",
    "\n",
    "else:\n",
    "    # what we should do if error does not come\n",
    "    print(\"Good! you have sucessfully Entered a Integer Number\")\n",
    "    \n",
    "finally:\n",
    "    # to run some code that you need to run whatever happen\n",
    "    print(\"I am Boss!!! Error aaye ya na aaye hm to run krenge hi krenge\")\n",
    "    # it is used for clean up actions"
   ]
  },
  {
   "cell_type": "code",
   "execution_count": 10,
   "metadata": {},
   "outputs": [
    {
     "name": "stdout",
     "output_type": "stream",
     "text": [
      "Enter integer: alskjdf\n",
      "Error!!!! invalid literal for int() with base 10: 'alskjdf'\n",
      "You Doing Some Nesty Task....I told you to enter an integer number.\n",
      "I am Boss!!! Error aaye ya na aaye hm to run krenge hi krenge\n"
     ]
    }
   ],
   "source": [
    "try:\n",
    "    # used to test our code for errors\n",
    "    num = int(input(\"Enter integer: \"))\n",
    "    \n",
    "except ValueError as arg:\n",
    "    # what we should do if error comes\n",
    "    print(f\"Error!!!! {arg}\")\n",
    "    print(\"You Doing Some Nesty Task....I told you to enter an integer number.\")\n",
    "\n",
    "except Exception as arg:\n",
    "    # general exception\n",
    "    print(f\"Error!!!Something Went Wrong\", arg)\n",
    "\n",
    "else:\n",
    "    # what we should do if error does not come\n",
    "    print(\"Good! you have sucessfully Entered a Integer Number\")\n",
    "    \n",
    "finally:\n",
    "    # to run some code that you need to run whatever happen\n",
    "    print(\"I am Boss!!! Error aaye ya na aaye hm to run krenge hi krenge\")\n",
    "    # it is used for clean up actions"
   ]
  },
  {
   "cell_type": "code",
   "execution_count": 12,
   "metadata": {},
   "outputs": [
    {
     "name": "stdout",
     "output_type": "stream",
     "text": [
      "Enter integer: 10\n",
      "Good! you have sucessfully Entered a Integer Number\n",
      "I am Boss!!! Error aaye ya na aaye hm to run krenge hi krenge\n"
     ]
    }
   ],
   "source": [
    "while True:\n",
    "    try:\n",
    "        # used to test our code for errors\n",
    "        num = int(input(\"Enter integer: \"))\n",
    "        print(\"Good! you have sucessfully Entered a Integer Number\")\n",
    "        break # break will not else part\n",
    "    except ValueError as arg:\n",
    "        # what we should do if error comes\n",
    "        print(f\"Error!!!! {arg}\")\n",
    "        print(\"You Doing Some Nesty Task....I told you to enter an integer number.\")\n",
    "\n",
    "    except Exception as arg:\n",
    "        # general exception\n",
    "        print(f\"Error!!!Something Went Wrong\", arg)\n",
    "\n",
    "    finally:\n",
    "        # to run some code that you need to run whatever happen\n",
    "        print(\"I am Boss!!! Error aaye ya na aaye hm to run krenge hi krenge\")\n",
    "        # it is used for clean up actions"
   ]
  },
  {
   "cell_type": "code",
   "execution_count": 13,
   "metadata": {},
   "outputs": [
    {
     "name": "stdout",
     "output_type": "stream",
     "text": [
      "Enter integer: lk\n",
      "Error!!!! invalid literal for int() with base 10: 'lk'\n",
      "You Doing Some Nesty Task....I told you to enter an integer number.\n",
      "I am Boss!!! Error aaye ya na aaye hm to run krenge hi krenge\n",
      "Enter integer: lkj\n",
      "Error!!!! invalid literal for int() with base 10: 'lkj'\n",
      "You Doing Some Nesty Task....I told you to enter an integer number.\n",
      "I am Boss!!! Error aaye ya na aaye hm to run krenge hi krenge\n",
      "Enter integer: lkj\n",
      "Error!!!! invalid literal for int() with base 10: 'lkj'\n",
      "You Doing Some Nesty Task....I told you to enter an integer number.\n",
      "I am Boss!!! Error aaye ya na aaye hm to run krenge hi krenge\n",
      "Enter integer: jl\n",
      "Error!!!! invalid literal for int() with base 10: 'jl'\n",
      "You Doing Some Nesty Task....I told you to enter an integer number.\n",
      "I am Boss!!! Error aaye ya na aaye hm to run krenge hi krenge\n",
      "Enter integer: jl\n",
      "Error!!!! invalid literal for int() with base 10: 'jl'\n",
      "You Doing Some Nesty Task....I told you to enter an integer number.\n",
      "I am Boss!!! Error aaye ya na aaye hm to run krenge hi krenge\n",
      "Enter integer: 10\n",
      "Good! you have sucessfully Entered a Integer Number\n",
      "I am Boss!!! Error aaye ya na aaye hm to run krenge hi krenge\n"
     ]
    }
   ],
   "source": [
    "while True:\n",
    "    try:\n",
    "        # used to test our code for errors\n",
    "        num = int(input(\"Enter integer: \"))\n",
    "        print(\"Good! you have sucessfully Entered a Integer Number\")\n",
    "        break # break will not else part\n",
    "    except ValueError as arg:\n",
    "        # what we should do if error comes\n",
    "        print(f\"Error!!!! {arg}\")\n",
    "        print(\"You Doing Some Nesty Task....I told you to enter an integer number.\")\n",
    "\n",
    "    except Exception as arg:\n",
    "        # general exception\n",
    "        print(f\"Error!!!Something Went Wrong\", arg)\n",
    "\n",
    "    finally:\n",
    "        # to run some code that you need to run whatever happen\n",
    "        print(\"I am Boss!!! Error aaye ya na aaye hm to run krenge hi krenge\")\n",
    "        # it is used for clean up actions"
   ]
  },
  {
   "cell_type": "code",
   "execution_count": 19,
   "metadata": {},
   "outputs": [
    {
     "name": "stdout",
     "output_type": "stream",
     "text": [
      "Overwriting without_handle.py\n"
     ]
    }
   ],
   "source": [
    "%%writefile without_handle.py\n",
    "\n",
    "num = int(input())\n",
    "print(\"Good number is : \", num)"
   ]
  },
  {
   "cell_type": "code",
   "execution_count": 17,
   "metadata": {},
   "outputs": [
    {
     "name": "stdout",
     "output_type": "stream",
     "text": [
      "Writing with_handle.py\n"
     ]
    }
   ],
   "source": [
    "%%writefile with_handle.py\n",
    "while True:\n",
    "    try:\n",
    "        num = int(input())\n",
    "        print(\"Good number is : \", num)\n",
    "        break\n",
    "    except ValueError as e:\n",
    "        print(\"Bhai Saab integer bola h to integer hi input do\")\n",
    "    "
   ]
  },
  {
   "cell_type": "code",
   "execution_count": 16,
   "metadata": {},
   "outputs": [
    {
     "name": "stdout",
     "output_type": "stream",
     "text": [
      "10\n"
     ]
    }
   ],
   "source": [
    "num = int(input())"
   ]
  },
  {
   "cell_type": "markdown",
   "metadata": {},
   "source": [
    "`break` and `return` will effect your else statemetn in exception handling just beacuse these are last statements\n",
    "respectively in `loop` and in `function`, but finally will run always"
   ]
  },
  {
   "cell_type": "code",
   "execution_count": 20,
   "metadata": {},
   "outputs": [],
   "source": [
    "def func():\n",
    "    try:\n",
    "        x = int(input(\"Enter a number: \"))\n",
    "        return x\n",
    "    except ValueError as e:\n",
    "        print(\"Integer only Please\")\n",
    "    else:\n",
    "        print(\"!!!Correct Input\")\n",
    "    finally:\n",
    "        print('ha ha ha ha ha ha told you i am boss!!')"
   ]
  },
  {
   "cell_type": "code",
   "execution_count": 30,
   "metadata": {},
   "outputs": [
    {
     "name": "stdout",
     "output_type": "stream",
     "text": [
      "Enter a number: 10\n",
      "!!!Correct Input\n",
      "ha ha ha ha ha ha told you i am boss!!\n"
     ]
    }
   ],
   "source": [
    "r = func()"
   ]
  },
  {
   "cell_type": "code",
   "execution_count": 31,
   "metadata": {},
   "outputs": [
    {
     "name": "stdout",
     "output_type": "stream",
     "text": [
      "10\n"
     ]
    }
   ],
   "source": [
    "print(r)"
   ]
  },
  {
   "cell_type": "code",
   "execution_count": 22,
   "metadata": {},
   "outputs": [],
   "source": [
    "def func():\n",
    "    x = None\n",
    "    try:\n",
    "        x = int(input(\"Enter a number: \"))\n",
    "    except ValueError as e:\n",
    "        print(\"Integer only Please\")\n",
    "    else:\n",
    "        print(\"!!!Correct Input\")\n",
    "    finally:\n",
    "        print('ha ha ha ha ha ha told you i am boss!!')\n",
    "        return x"
   ]
  },
  {
   "cell_type": "code",
   "execution_count": 23,
   "metadata": {},
   "outputs": [
    {
     "name": "stdout",
     "output_type": "stream",
     "text": [
      "Enter a number: 10\n",
      "!!!Correct Input\n",
      "ha ha ha ha ha ha told you i am boss!!\n"
     ]
    }
   ],
   "source": [
    "r = func()"
   ]
  },
  {
   "cell_type": "code",
   "execution_count": 24,
   "metadata": {},
   "outputs": [
    {
     "data": {
      "text/plain": [
       "10"
      ]
     },
     "execution_count": 24,
     "metadata": {},
     "output_type": "execute_result"
    }
   ],
   "source": [
    "r"
   ]
  },
  {
   "cell_type": "markdown",
   "metadata": {},
   "source": [
    "#### Exception Handling"
   ]
  },
  {
   "cell_type": "code",
   "execution_count": 32,
   "metadata": {},
   "outputs": [
    {
     "name": "stdout",
     "output_type": "stream",
     "text": [
      "a: 19287\n",
      "b: lasjkf\n",
      "Bhai Saab Integer Input Do.\n",
      "\n",
      "\n",
      "\n",
      "\n",
      "!!!Thanks for using my Program!!!\n"
     ]
    }
   ],
   "source": [
    "try:\n",
    "    a = int(input(\"a: \")) # may user doesn't give an integer, value error\n",
    "    b = int(input(\"b: \")) # may user doesn't give an integer\n",
    "    r = a / b # may user give b = 0, else zero division error \n",
    "except ValueError as e:\n",
    "    print(\"Bhai Saab Integer Input Do.\")\n",
    "except ZeroDivisionError as e:\n",
    "    print(\"Waah Waah Waah!!! 0 se kon divide krta hai bhai bg yha se\")\n",
    "except Exception as e:\n",
    "    print(f\"!!!Something Went Wrong!!! Give this code {e} to our Developers to fix this issue\")\n",
    "else:\n",
    "    print(\"!!!All Good!!!\")\n",
    "    print(\"Result is : \", r)\n",
    "finally:\n",
    "    print(\"\\n\\n\\n\")\n",
    "    print(\"!!!Thanks for using my Program!!!\")"
   ]
  },
  {
   "cell_type": "code",
   "execution_count": 33,
   "metadata": {},
   "outputs": [
    {
     "name": "stdout",
     "output_type": "stream",
     "text": [
      "a: 10\n",
      "b: 0\n",
      "Waah Waah Waah!!! 0 se kon divide krta hai bhai bg yha se\n",
      "\n",
      "\n",
      "\n",
      "\n",
      "!!!Thanks for using my Program!!!\n"
     ]
    }
   ],
   "source": [
    "try:\n",
    "    a = int(input(\"a: \")) # may user doesn't give an integer, value error\n",
    "    b = int(input(\"b: \")) # may user doesn't give an integer\n",
    "    r = a / b # may user give b = 0, else zero division error \n",
    "except ValueError as e:\n",
    "    print(\"Bhai Saab Integer Input Do.\")\n",
    "except ZeroDivisionError as e:\n",
    "    print(\"Waah Waah Waah!!! 0 se kon divide krta hai bhai bg yha se\")\n",
    "except Exception as e:\n",
    "    print(f\"!!!Something Went Wrong!!! Give this code {e} to our Developers to fix this issue\")\n",
    "else:\n",
    "    print(\"!!!All Good!!!\")\n",
    "    print(\"Result is : \", r)\n",
    "finally:\n",
    "    print(\"\\n\\n\\n\")\n",
    "    print(\"!!!Thanks for using my Program!!!\")"
   ]
  },
  {
   "cell_type": "code",
   "execution_count": 34,
   "metadata": {},
   "outputs": [
    {
     "name": "stdout",
     "output_type": "stream",
     "text": [
      "a: 10\n",
      "b: 3\n",
      "!!!All Good!!!\n",
      "Result is :  3.3333333333333335\n",
      "\n",
      "\n",
      "\n",
      "\n",
      "!!!Thanks for using my Program!!!\n"
     ]
    }
   ],
   "source": [
    "try:\n",
    "    a = int(input(\"a: \")) # may user doesn't give an integer, value error\n",
    "    b = int(input(\"b: \")) # may user doesn't give an integer\n",
    "    r = a / b # may user give b = 0, else zero division error \n",
    "except ValueError as e:\n",
    "    print(\"Bhai Saab Integer Input Do.\")\n",
    "except ZeroDivisionError as e:\n",
    "    print(\"Waah Waah Waah!!! 0 se kon divide krta hai bhai bg yha se\")\n",
    "except Exception as e:\n",
    "    print(f\"!!!Something Went Wrong!!! Give this code {e} to our Developers to fix this issue\")\n",
    "else:\n",
    "    print(\"!!!All Good!!!\")\n",
    "    print(\"Result is : \", r)\n",
    "finally:\n",
    "    print(\"\\n\\n\\n\")\n",
    "    print(\"!!!Thanks for using my Program!!!\")"
   ]
  },
  {
   "cell_type": "markdown",
   "metadata": {},
   "source": [
    "#### Custom Errors\n",
    "\n",
    "`assert`\n",
    "    \n",
    "        Commonly used for testing purpose\n",
    "        \n",
    "`raise`\n",
    "\n",
    "        To Raise a Error Intentionally"
   ]
  },
  {
   "cell_type": "code",
   "execution_count": 35,
   "metadata": {},
   "outputs": [
    {
     "ename": "FileNotFoundError",
     "evalue": "[Errno 2] No such file or directory: 'alskdfj'",
     "output_type": "error",
     "traceback": [
      "\u001b[1;31m---------------------------------------------------------------------------\u001b[0m",
      "\u001b[1;31mFileNotFoundError\u001b[0m                         Traceback (most recent call last)",
      "\u001b[1;32m<ipython-input-35-fdf9459171fa>\u001b[0m in \u001b[0;36m<module>\u001b[1;34m\u001b[0m\n\u001b[1;32m----> 1\u001b[1;33m \u001b[0mopen\u001b[0m\u001b[1;33m(\u001b[0m\u001b[1;34m'alskdfj'\u001b[0m\u001b[1;33m)\u001b[0m\u001b[1;33m\u001b[0m\u001b[1;33m\u001b[0m\u001b[0m\n\u001b[0m",
      "\u001b[1;31mFileNotFoundError\u001b[0m: [Errno 2] No such file or directory: 'alskdfj'"
     ]
    }
   ],
   "source": [
    "open('alskdfj')"
   ]
  },
  {
   "cell_type": "code",
   "execution_count": 36,
   "metadata": {},
   "outputs": [
    {
     "name": "stdout",
     "output_type": "stream",
     "text": [
      "hello world!\n"
     ]
    },
    {
     "ename": "MemoryError",
     "evalue": "HA HA HA Fake Error By me",
     "output_type": "error",
     "traceback": [
      "\u001b[1;31m---------------------------------------------------------------------------\u001b[0m",
      "\u001b[1;31mMemoryError\u001b[0m                               Traceback (most recent call last)",
      "\u001b[1;32m<ipython-input-36-34233c6a0a31>\u001b[0m in \u001b[0;36m<module>\u001b[1;34m\u001b[0m\n\u001b[0;32m      1\u001b[0m \u001b[0mprint\u001b[0m\u001b[1;33m(\u001b[0m\u001b[1;34m\"hello world!\"\u001b[0m\u001b[1;33m)\u001b[0m\u001b[1;33m\u001b[0m\u001b[1;33m\u001b[0m\u001b[0m\n\u001b[1;32m----> 2\u001b[1;33m \u001b[1;32mraise\u001b[0m \u001b[0mMemoryError\u001b[0m\u001b[1;33m(\u001b[0m\u001b[1;34m\"HA HA HA Fake Error By me\"\u001b[0m\u001b[1;33m)\u001b[0m\u001b[1;33m\u001b[0m\u001b[1;33m\u001b[0m\u001b[0m\n\u001b[0m\u001b[0;32m      3\u001b[0m \u001b[0mprint\u001b[0m\u001b[1;33m(\u001b[0m\u001b[1;34m\"Uper Error to apun Nh Chalega\"\u001b[0m\u001b[1;33m)\u001b[0m\u001b[1;33m\u001b[0m\u001b[1;33m\u001b[0m\u001b[0m\n",
      "\u001b[1;31mMemoryError\u001b[0m: HA HA HA Fake Error By me"
     ]
    }
   ],
   "source": [
    "print(\"hello world!\")\n",
    "raise MemoryError(\"HA HA HA Fake Error By me\")\n",
    "print(\"Uper Error to apun Nh Chalega\")"
   ]
  },
  {
   "cell_type": "code",
   "execution_count": 38,
   "metadata": {},
   "outputs": [
    {
     "name": "stdout",
     "output_type": "stream",
     "text": [
      "hello world!\n",
      "HA HA HA Fake Error By me !!!Handled Well\n"
     ]
    }
   ],
   "source": [
    "try:\n",
    "    print(\"hello world!\")\n",
    "    raise MemoryError(\"HA HA HA Fake Error By me\")\n",
    "    print(\"Uper Error to apun Nh Chalega\")\n",
    "except MemoryError as e:\n",
    "    print(e, \"!!!Handled Well\")"
   ]
  },
  {
   "cell_type": "markdown",
   "metadata": {},
   "source": [
    "__write a code to take only positive Integer Number input__"
   ]
  },
  {
   "cell_type": "code",
   "execution_count": 44,
   "metadata": {},
   "outputs": [],
   "source": [
    "def int_input():\n",
    "    while True:\n",
    "        try:\n",
    "            num = int(input(\"\\n\\nEnter Positive Integer: \"))\n",
    "            if num < 1:\n",
    "                # on custom condition custom error will trigre\n",
    "                raise ZeroDivisionError(\"!!Only Positive Value Means Only Positive Value!!\")\n",
    "        except ValueError as e:\n",
    "            print(f\"\\n\\nOhh I see you don't know what is an integer number!!! you idiot give a number like 12384\\n\\n\")\n",
    "        except ZeroDivisionError as e:\n",
    "            print(f\"\\n\\nYou Moron What I Said!!!\", e)\n",
    "        else:\n",
    "            print(\"\\n\\nThat's Correct Input Well Done Your number is \", num)\n",
    "            break\n",
    "        finally:\n",
    "            print(f\"\\nha ha ha haha ahahahahah\")"
   ]
  },
  {
   "cell_type": "code",
   "execution_count": 45,
   "metadata": {},
   "outputs": [
    {
     "name": "stdout",
     "output_type": "stream",
     "text": [
      "\n",
      "\n",
      "Enter Positive Integer: alskjf\n",
      "\n",
      "\n",
      "Ohh I see you don't know what is an integer number!!! you idiot give a number like 12384\n",
      "\n",
      "\n",
      "\n",
      "ha ha ha haha ahahahahah\n",
      "\n",
      "\n",
      "Enter Positive Integer: -100\n",
      "\n",
      "\n",
      "You Moron What I Said!!! !!Only Positive Value Means Only Positive Value!!\n",
      "\n",
      "ha ha ha haha ahahahahah\n",
      "\n",
      "\n",
      "Enter Positive Integer: 100\n",
      "\n",
      "\n",
      "That's Correct Input Well Done Your number is  100\n",
      "\n",
      "ha ha ha haha ahahahahah\n"
     ]
    }
   ],
   "source": [
    "int_input()"
   ]
  },
  {
   "cell_type": "code",
   "execution_count": 46,
   "metadata": {},
   "outputs": [
    {
     "name": "stdout",
     "output_type": "stream",
     "text": [
      "Let's See What will happen\n"
     ]
    }
   ],
   "source": [
    "value = 10\n",
    "assert value == 10, \"apki value 10 k barabar nh hai\"\n",
    "print(\"Let's See What will happen\")"
   ]
  },
  {
   "cell_type": "code",
   "execution_count": 47,
   "metadata": {},
   "outputs": [
    {
     "ename": "AssertionError",
     "evalue": "apki value 10 k barabar nh hai",
     "output_type": "error",
     "traceback": [
      "\u001b[1;31m---------------------------------------------------------------------------\u001b[0m",
      "\u001b[1;31mAssertionError\u001b[0m                            Traceback (most recent call last)",
      "\u001b[1;32m<ipython-input-47-9811bddbc916>\u001b[0m in \u001b[0;36m<module>\u001b[1;34m\u001b[0m\n\u001b[0;32m      1\u001b[0m \u001b[0mvalue\u001b[0m \u001b[1;33m=\u001b[0m \u001b[1;36m6\u001b[0m\u001b[1;33m\u001b[0m\u001b[1;33m\u001b[0m\u001b[0m\n\u001b[1;32m----> 2\u001b[1;33m \u001b[1;32massert\u001b[0m \u001b[0mvalue\u001b[0m \u001b[1;33m==\u001b[0m \u001b[1;36m10\u001b[0m\u001b[1;33m,\u001b[0m \u001b[1;34m\"apki value 10 k barabar nh hai\"\u001b[0m\u001b[1;33m\u001b[0m\u001b[1;33m\u001b[0m\u001b[0m\n\u001b[0m\u001b[0;32m      3\u001b[0m \u001b[0mprint\u001b[0m\u001b[1;33m(\u001b[0m\u001b[1;34m\"Let's See What will happen\"\u001b[0m\u001b[1;33m)\u001b[0m\u001b[1;33m\u001b[0m\u001b[1;33m\u001b[0m\u001b[0m\n",
      "\u001b[1;31mAssertionError\u001b[0m: apki value 10 k barabar nh hai"
     ]
    }
   ],
   "source": [
    "value = 6\n",
    "assert value == 10, \"apki value 10 k barabar nh hai\"\n",
    "print(\"Let's See What will happen\")"
   ]
  },
  {
   "cell_type": "code",
   "execution_count": 48,
   "metadata": {},
   "outputs": [],
   "source": [
    "def int_input():\n",
    "    while True:\n",
    "        try:\n",
    "            num = int(input(\"\\n\\nEnter Positive Integer: \"))\n",
    "            assert num > 0, \"!!Only Positive Value Means Only Positive Value!!\"\n",
    "        except ValueError as e:\n",
    "            print(f\"\\n\\nOhh I see you don't know what is an integer number!!! you idiot give a number like 12384\\n\\n\")\n",
    "        except AssertionError as e:\n",
    "            print(f\"\\n\\nYou Moron What I Said!!!\", e)\n",
    "        else:\n",
    "            print(\"\\n\\nThat's Correct Input Well Done Your number is \", num)\n",
    "            break\n",
    "        finally:\n",
    "            print(f\"\\nha ha ha haha ahahahahah\")"
   ]
  },
  {
   "cell_type": "code",
   "execution_count": 49,
   "metadata": {},
   "outputs": [
    {
     "name": "stdout",
     "output_type": "stream",
     "text": [
      "\n",
      "\n",
      "Enter Positive Integer: alsdfj\n",
      "\n",
      "\n",
      "Ohh I see you don't know what is an integer number!!! you idiot give a number like 12384\n",
      "\n",
      "\n",
      "\n",
      "ha ha ha haha ahahahahah\n",
      "\n",
      "\n",
      "Enter Positive Integer: -10\n",
      "\n",
      "\n",
      "You Moron What I Said!!! !!Only Positive Value Means Only Positive Value!!\n",
      "\n",
      "ha ha ha haha ahahahahah\n",
      "\n",
      "\n",
      "Enter Positive Integer: 10\n",
      "\n",
      "\n",
      "That's Correct Input Well Done Your number is  10\n",
      "\n",
      "ha ha ha haha ahahahahah\n"
     ]
    }
   ],
   "source": [
    "int_input()"
   ]
  },
  {
   "cell_type": "markdown",
   "metadata": {},
   "source": [
    "`Custom Error Classes`\n"
   ]
  },
  {
   "cell_type": "markdown",
   "metadata": {},
   "source": [
    "`OOPs`"
   ]
  },
  {
   "cell_type": "markdown",
   "metadata": {},
   "source": [
    "`Tkinter`\n",
    "\n",
    "`Flask`\n",
    "\n",
    "`AWS`\n",
    "\n",
    "`DS & ML`\n",
    "\n",
    "`Extra Classes`"
   ]
  },
  {
   "cell_type": "markdown",
   "metadata": {},
   "source": [
    "### Start Learning Html, CSS, Bootstrap"
   ]
  },
  {
   "cell_type": "markdown",
   "metadata": {},
   "source": [
    "`Programming`\n",
    "\n",
    "`Data Structure`\n",
    "\n",
    "`Database`\n",
    "\n",
    "`Linux`\n",
    "\n",
    "\n",
    "`Cloud Computing`\n",
    "\n",
    "`Data Science`\n",
    "\n",
    "`Machine Learning`\n",
    "\n",
    "`Big Data`\n",
    "\n",
    "`Hacking`\n",
    "\n",
    "`Game Development`\n",
    "\n",
    "`Web Development`"
   ]
  },
  {
   "cell_type": "markdown",
   "metadata": {},
   "source": [
    "`Doesn't matter`"
   ]
  },
  {
   "cell_type": "markdown",
   "metadata": {},
   "source": [
    "pseduo code\n",
    "\n",
    "    if amt > balance\n",
    "        print Insufficient Balace\n",
    "    else\n",
    "        print Do Withdrwal"
   ]
  },
  {
   "cell_type": "markdown",
   "metadata": {},
   "source": [
    "Fresher \n",
    "\n",
    "    oops, file / database, data structure\n",
    "    \n",
    "    domain\n",
    "    \n",
    "        DS, ML"
   ]
  },
  {
   "cell_type": "markdown",
   "metadata": {},
   "source": [
    "    # Bank Application\n",
    "\n",
    "    # TicTacToe"
   ]
  },
  {
   "cell_type": "code",
   "execution_count": null,
   "metadata": {},
   "outputs": [],
   "source": []
  }
 ],
 "metadata": {
  "kernelspec": {
   "display_name": "Python 3",
   "language": "python",
   "name": "python3"
  },
  "language_info": {
   "codemirror_mode": {
    "name": "ipython",
    "version": 3
   },
   "file_extension": ".py",
   "mimetype": "text/x-python",
   "name": "python",
   "nbconvert_exporter": "python",
   "pygments_lexer": "ipython3",
   "version": "3.8.3"
  }
 },
 "nbformat": 4,
 "nbformat_minor": 4
}
