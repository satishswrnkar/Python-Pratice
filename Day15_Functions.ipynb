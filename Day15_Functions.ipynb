{
 "cells": [
  {
   "cell_type": "markdown",
   "metadata": {},
   "source": [
    "#### Function\n",
    "    \n",
    "    A callable block of code to reduce code length and make program reusable"
   ]
  },
  {
   "cell_type": "markdown",
   "metadata": {},
   "source": [
    "`If you have any doubt raise your hand`"
   ]
  },
  {
   "cell_type": "code",
   "execution_count": 1,
   "metadata": {},
   "outputs": [
    {
     "ename": "SyntaxError",
     "evalue": "unexpected EOF while parsing (<ipython-input-1-a3879a6e6dfd>, line 1)",
     "output_type": "error",
     "traceback": [
      "\u001b[1;36m  File \u001b[1;32m\"<ipython-input-1-a3879a6e6dfd>\"\u001b[1;36m, line \u001b[1;32m1\u001b[0m\n\u001b[1;33m    print(\"Hello World\".center(100)\u001b[0m\n\u001b[1;37m                                   ^\u001b[0m\n\u001b[1;31mSyntaxError\u001b[0m\u001b[1;31m:\u001b[0m unexpected EOF while parsing\n"
     ]
    }
   ],
   "source": [
    "print(\"Hello World\".center(100)"
   ]
  },
  {
   "cell_type": "code",
   "execution_count": 2,
   "metadata": {},
   "outputs": [
    {
     "name": "stdout",
     "output_type": "stream",
     "text": [
      "                                            Hello World                                             \n"
     ]
    }
   ],
   "source": [
    "print(\"Hello World\".center(100))"
   ]
  },
  {
   "cell_type": "markdown",
   "metadata": {},
   "source": [
    "### Function Defination"
   ]
  },
  {
   "cell_type": "code",
   "execution_count": 4,
   "metadata": {},
   "outputs": [],
   "source": [
    "def loan_prediction():\n",
    "    \"\"\"\n",
    "        it will predict wheater a person is eligible for loan or not\n",
    "    \"\"\"\n",
    "    job_type = input(\"Enter Job Type: \")\n",
    "    if job_type == 'government':\n",
    "        print(\"Govt Job\")\n",
    "    elif job_type == 'business':\n",
    "        print(\"Business Job\")\n",
    "    else:\n",
    "        print(\"Private Job\")"
   ]
  },
  {
   "cell_type": "markdown",
   "metadata": {},
   "source": [
    "### Calling of  a Function"
   ]
  },
  {
   "cell_type": "code",
   "execution_count": 5,
   "metadata": {},
   "outputs": [
    {
     "name": "stdout",
     "output_type": "stream",
     "text": [
      "Enter Job Type: government\n",
      "Govt Job\n"
     ]
    }
   ],
   "source": [
    "loan_prediction()"
   ]
  },
  {
   "cell_type": "code",
   "execution_count": 6,
   "metadata": {},
   "outputs": [
    {
     "name": "stdout",
     "output_type": "stream",
     "text": [
      "Enter Job Type: aldjfk\n",
      "Private Job\n",
      "Enter Job Type: sldkfj\n",
      "Private Job\n",
      "Enter Job Type: alsdfj\n",
      "Private Job\n",
      "Enter Job Type: ldjkf\n",
      "Private Job\n",
      "Enter Job Type: business\n",
      "Business Job\n"
     ]
    }
   ],
   "source": [
    "for _ in range(5):\n",
    "    loan_prediction()"
   ]
  },
  {
   "cell_type": "code",
   "execution_count": 7,
   "metadata": {},
   "outputs": [],
   "source": [
    "def can_drink(name, age): # formal parameters\n",
    "    \"\"\"\n",
    "        to check wheather a person can drink or not\n",
    "    \"\"\"\n",
    "    if age >= 18:\n",
    "        print(f\"User {name} can drink alcohol\")\n",
    "    else:\n",
    "        print(f\"User {name} can not drink alcohol\")"
   ]
  },
  {
   "cell_type": "code",
   "execution_count": 10,
   "metadata": {},
   "outputs": [
    {
     "name": "stdout",
     "output_type": "stream",
     "text": [
      "User Sachin can drink alcohol\n"
     ]
    }
   ],
   "source": [
    "can_drink('Sachin', 24) # actual paramenters"
   ]
  },
  {
   "cell_type": "markdown",
   "metadata": {},
   "source": [
    "    flag -> checkpoints for some specific targets or condition,"
   ]
  },
  {
   "cell_type": "code",
   "execution_count": 15,
   "metadata": {},
   "outputs": [],
   "source": [
    "def is_even(number):\n",
    "    \"\"\"\n",
    "        Documentation String for is_even\n",
    "        \n",
    "        funciton will return True if number is even else False\n",
    "    \"\"\"\n",
    "    flag = False\n",
    "    if number % 2 == 0:\n",
    "        flag = True\n",
    "    return flag\n",
    "    "
   ]
  },
  {
   "cell_type": "code",
   "execution_count": 16,
   "metadata": {},
   "outputs": [
    {
     "name": "stdout",
     "output_type": "stream",
     "text": [
      "Help on function is_even in module __main__:\n",
      "\n",
      "is_even(number)\n",
      "    Documentation String for is_even\n",
      "    \n",
      "    funciton will return True if number is even else False\n",
      "\n"
     ]
    }
   ],
   "source": [
    "help(is_even)"
   ]
  },
  {
   "cell_type": "code",
   "execution_count": 17,
   "metadata": {},
   "outputs": [
    {
     "name": "stdout",
     "output_type": "stream",
     "text": [
      "\n",
      "        Documentation String for is_even\n",
      "        \n",
      "        funciton will return True if number is even else False\n",
      "    \n"
     ]
    }
   ],
   "source": [
    "print(is_even.__doc__) # magic methods"
   ]
  },
  {
   "cell_type": "code",
   "execution_count": 13,
   "metadata": {},
   "outputs": [
    {
     "data": {
      "text/plain": [
       "True"
      ]
     },
     "execution_count": 13,
     "metadata": {},
     "output_type": "execute_result"
    }
   ],
   "source": [
    "is_even(14)"
   ]
  },
  {
   "cell_type": "code",
   "execution_count": 14,
   "metadata": {},
   "outputs": [
    {
     "data": {
      "text/plain": [
       "False"
      ]
     },
     "execution_count": 14,
     "metadata": {},
     "output_type": "execute_result"
    }
   ],
   "source": [
    "is_even(13)"
   ]
  },
  {
   "cell_type": "code",
   "execution_count": 18,
   "metadata": {},
   "outputs": [
    {
     "name": "stdout",
     "output_type": "stream",
     "text": [
      "<class 'bool'>\n"
     ]
    }
   ],
   "source": [
    "print(type(True))"
   ]
  },
  {
   "cell_type": "code",
   "execution_count": 19,
   "metadata": {},
   "outputs": [
    {
     "name": "stdout",
     "output_type": "stream",
     "text": [
      "<class 'bool'>\n"
     ]
    }
   ],
   "source": [
    "print(type(False))"
   ]
  },
  {
   "cell_type": "code",
   "execution_count": 20,
   "metadata": {},
   "outputs": [
    {
     "ename": "NameError",
     "evalue": "name 'TRUE' is not defined",
     "output_type": "error",
     "traceback": [
      "\u001b[1;31m---------------------------------------------------------------------------\u001b[0m",
      "\u001b[1;31mNameError\u001b[0m                                 Traceback (most recent call last)",
      "\u001b[1;32m<ipython-input-20-425fdcbd1209>\u001b[0m in \u001b[0;36m<module>\u001b[1;34m\u001b[0m\n\u001b[1;32m----> 1\u001b[1;33m \u001b[0mTRUE\u001b[0m\u001b[1;33m\u001b[0m\u001b[1;33m\u001b[0m\u001b[0m\n\u001b[0m",
      "\u001b[1;31mNameError\u001b[0m: name 'TRUE' is not defined"
     ]
    }
   ],
   "source": [
    "TRUE"
   ]
  },
  {
   "cell_type": "markdown",
   "metadata": {},
   "source": [
    "#### Type of Parameters in Python Functions\n",
    "\n",
    "\n",
    "1. `Positional Arguments`\n",
    "* `Default Arguments`\n",
    "* `Variable length tuple Arguments`\n",
    "* `Variable length key-value Arguments`"
   ]
  },
  {
   "cell_type": "markdown",
   "metadata": {},
   "source": [
    "### Positional Arguments \n",
    "\n",
    "`Compulsory Arguments`"
   ]
  },
  {
   "cell_type": "code",
   "execution_count": 22,
   "metadata": {},
   "outputs": [],
   "source": [
    "# positional, keyword-argument, precautions\n",
    "def print_info(name, age, country): \n",
    "    # name, age, country are formal parameters also keywords to this function\n",
    "    \"\"\"\n",
    "        To print information of a Person\n",
    "    \"\"\"\n",
    "    print(f\"Welcome, user {name}.\")\n",
    "    print(f\"You are {age} years old.\")\n",
    "    print(f\"You belongs from {country}.\")"
   ]
  },
  {
   "cell_type": "code",
   "execution_count": 33,
   "metadata": {},
   "outputs": [
    {
     "name": "stdout",
     "output_type": "stream",
     "text": [
      "Welcome, user Sachin Yadav.\n",
      "You are 24 years old.\n",
      "You belongs from India.\n"
     ]
    }
   ],
   "source": [
    "print_info(\"Sachin Yadav\", 24, country='India')"
   ]
  },
  {
   "cell_type": "code",
   "execution_count": 32,
   "metadata": {},
   "outputs": [
    {
     "ename": "TypeError",
     "evalue": "print_info() got multiple values for argument 'name'",
     "output_type": "error",
     "traceback": [
      "\u001b[1;31m---------------------------------------------------------------------------\u001b[0m",
      "\u001b[1;31mTypeError\u001b[0m                                 Traceback (most recent call last)",
      "\u001b[1;32m<ipython-input-32-70b26d86924e>\u001b[0m in \u001b[0;36m<module>\u001b[1;34m\u001b[0m\n\u001b[1;32m----> 1\u001b[1;33m \u001b[0mprint_info\u001b[0m\u001b[1;33m(\u001b[0m\u001b[1;36m16\u001b[0m\u001b[1;33m,\u001b[0m \u001b[0mname\u001b[0m\u001b[1;33m=\u001b[0m\u001b[1;34m'sachin yadav'\u001b[0m\u001b[1;33m,\u001b[0m \u001b[0mcountry\u001b[0m\u001b[1;33m=\u001b[0m\u001b[1;34m'india'\u001b[0m\u001b[1;33m)\u001b[0m\u001b[1;33m\u001b[0m\u001b[1;33m\u001b[0m\u001b[0m\n\u001b[0m",
      "\u001b[1;31mTypeError\u001b[0m: print_info() got multiple values for argument 'name'"
     ]
    }
   ],
   "source": [
    "print_info(16, name='sachin yadav', country='india')"
   ]
  },
  {
   "cell_type": "code",
   "execution_count": 30,
   "metadata": {},
   "outputs": [
    {
     "ename": "SyntaxError",
     "evalue": "positional argument follows keyword argument (<ipython-input-30-8f92998be356>, line 1)",
     "output_type": "error",
     "traceback": [
      "\u001b[1;36m  File \u001b[1;32m\"<ipython-input-30-8f92998be356>\"\u001b[1;36m, line \u001b[1;32m1\u001b[0m\n\u001b[1;33m    print_info(age=16, \"sachin yadav\", country='india')\u001b[0m\n\u001b[1;37m                       ^\u001b[0m\n\u001b[1;31mSyntaxError\u001b[0m\u001b[1;31m:\u001b[0m positional argument follows keyword argument\n"
     ]
    }
   ],
   "source": [
    "print_info(age=16, \"sachin yadav\", country='india')"
   ]
  },
  {
   "cell_type": "code",
   "execution_count": 31,
   "metadata": {},
   "outputs": [
    {
     "ename": "SyntaxError",
     "evalue": "positional argument follows keyword argument (<ipython-input-31-024a160e78a4>, line 1)",
     "output_type": "error",
     "traceback": [
      "\u001b[1;36m  File \u001b[1;32m\"<ipython-input-31-024a160e78a4>\"\u001b[1;36m, line \u001b[1;32m1\u001b[0m\n\u001b[1;33m    print_info(name='sachin', 16, 'india')\u001b[0m\n\u001b[1;37m                              ^\u001b[0m\n\u001b[1;31mSyntaxError\u001b[0m\u001b[1;31m:\u001b[0m positional argument follows keyword argument\n"
     ]
    }
   ],
   "source": [
    "print_info(name='sachin', 16, 'india')"
   ]
  },
  {
   "cell_type": "code",
   "execution_count": 29,
   "metadata": {},
   "outputs": [
    {
     "name": "stdout",
     "output_type": "stream",
     "text": [
      "Welcome, user Sachin Yadav.\n",
      "You are 16 years old.\n",
      "You belongs from US.\n"
     ]
    }
   ],
   "source": [
    "print_info('Sachin Yadav', country='US', age=16)"
   ]
  },
  {
   "cell_type": "code",
   "execution_count": 28,
   "metadata": {},
   "outputs": [
    {
     "name": "stdout",
     "output_type": "stream",
     "text": [
      "Welcome, user Sachin.\n",
      "You are 24 years old.\n",
      "You belongs from India.\n"
     ]
    }
   ],
   "source": [
    "## We can call function using keywords\n",
    "\n",
    "# keyword arguments\n",
    "\n",
    "print_info(country='India', name='Sachin', age=24)"
   ]
  },
  {
   "cell_type": "code",
   "execution_count": 23,
   "metadata": {},
   "outputs": [
    {
     "name": "stdout",
     "output_type": "stream",
     "text": [
      "Welcome, user Sachin.\n",
      "You are 24 years old.\n",
      "You belongs from India.\n"
     ]
    }
   ],
   "source": [
    "print_info('Sachin', 24, \"India\")"
   ]
  },
  {
   "cell_type": "code",
   "execution_count": 25,
   "metadata": {},
   "outputs": [
    {
     "ename": "TypeError",
     "evalue": "print_info() missing 2 required positional arguments: 'age' and 'country'",
     "output_type": "error",
     "traceback": [
      "\u001b[1;31m---------------------------------------------------------------------------\u001b[0m",
      "\u001b[1;31mTypeError\u001b[0m                                 Traceback (most recent call last)",
      "\u001b[1;32m<ipython-input-25-b4bafcca5de9>\u001b[0m in \u001b[0;36m<module>\u001b[1;34m\u001b[0m\n\u001b[1;32m----> 1\u001b[1;33m \u001b[0mprint_info\u001b[0m\u001b[1;33m(\u001b[0m\u001b[1;34m'sachin'\u001b[0m\u001b[1;33m)\u001b[0m\u001b[1;33m\u001b[0m\u001b[1;33m\u001b[0m\u001b[0m\n\u001b[0m",
      "\u001b[1;31mTypeError\u001b[0m: print_info() missing 2 required positional arguments: 'age' and 'country'"
     ]
    }
   ],
   "source": [
    "print_info('sachin')"
   ]
  },
  {
   "cell_type": "code",
   "execution_count": 26,
   "metadata": {},
   "outputs": [
    {
     "name": "stdout",
     "output_type": "stream",
     "text": [
      "Welcome, user first.\n",
      "You are second years old.\n",
      "You belongs from third.\n"
     ]
    }
   ],
   "source": [
    "print_info('first', 'second', 'third')"
   ]
  },
  {
   "cell_type": "code",
   "execution_count": 27,
   "metadata": {},
   "outputs": [
    {
     "ename": "TypeError",
     "evalue": "print_info() takes 3 positional arguments but 4 were given",
     "output_type": "error",
     "traceback": [
      "\u001b[1;31m---------------------------------------------------------------------------\u001b[0m",
      "\u001b[1;31mTypeError\u001b[0m                                 Traceback (most recent call last)",
      "\u001b[1;32m<ipython-input-27-bc648d022cc2>\u001b[0m in \u001b[0;36m<module>\u001b[1;34m\u001b[0m\n\u001b[1;32m----> 1\u001b[1;33m \u001b[0mprint_info\u001b[0m\u001b[1;33m(\u001b[0m\u001b[1;34m'first'\u001b[0m\u001b[1;33m,\u001b[0m \u001b[1;34m'second'\u001b[0m\u001b[1;33m,\u001b[0m \u001b[1;34m'third'\u001b[0m\u001b[1;33m,\u001b[0m \u001b[1;34m'four'\u001b[0m\u001b[1;33m)\u001b[0m\u001b[1;33m\u001b[0m\u001b[1;33m\u001b[0m\u001b[0m\n\u001b[0m",
      "\u001b[1;31mTypeError\u001b[0m: print_info() takes 3 positional arguments but 4 were given"
     ]
    }
   ],
   "source": [
    "print_info('first', 'second', 'third', 'four')"
   ]
  },
  {
   "cell_type": "markdown",
   "metadata": {},
   "source": [
    "#### Default Arguments"
   ]
  },
  {
   "cell_type": "code",
   "execution_count": 34,
   "metadata": {},
   "outputs": [
    {
     "data": {
      "text/plain": [
       "10"
      ]
     },
     "execution_count": 34,
     "metadata": {},
     "output_type": "execute_result"
    }
   ],
   "source": [
    "sum([1, 2, 3,4 ])"
   ]
  },
  {
   "cell_type": "markdown",
   "metadata": {},
   "source": [
    "a2 + b2"
   ]
  },
  {
   "cell_type": "code",
   "execution_count": 36,
   "metadata": {},
   "outputs": [],
   "source": [
    "def square_sum(a, b):\n",
    "    \"\"\"\n",
    "        will return a^2 + b^2\n",
    "    \"\"\"\n",
    "    print(\"Value of a: \", a)\n",
    "    print(\"Value of b: \", b)\n",
    "    print(\"Square sum a^2 + b^2 = \", a**2 + b ** 2)"
   ]
  },
  {
   "cell_type": "code",
   "execution_count": 37,
   "metadata": {},
   "outputs": [
    {
     "name": "stdout",
     "output_type": "stream",
     "text": [
      "Value of a:  4\n",
      "Value of b:  5\n",
      "Square sum a^2 + b^2 =  41\n"
     ]
    }
   ],
   "source": [
    "square_sum(4, 5)"
   ]
  },
  {
   "cell_type": "code",
   "execution_count": 38,
   "metadata": {},
   "outputs": [
    {
     "name": "stdout",
     "output_type": "stream",
     "text": [
      "Value of a:  20\n",
      "Value of b:  10\n",
      "Square sum a^2 + b^2 =  500\n"
     ]
    }
   ],
   "source": [
    "square_sum(b=10, a=20)"
   ]
  },
  {
   "cell_type": "code",
   "execution_count": 39,
   "metadata": {},
   "outputs": [
    {
     "ename": "TypeError",
     "evalue": "square_sum() missing 1 required positional argument: 'b'",
     "output_type": "error",
     "traceback": [
      "\u001b[1;31m---------------------------------------------------------------------------\u001b[0m",
      "\u001b[1;31mTypeError\u001b[0m                                 Traceback (most recent call last)",
      "\u001b[1;32m<ipython-input-39-83c2c13c9a53>\u001b[0m in \u001b[0;36m<module>\u001b[1;34m\u001b[0m\n\u001b[1;32m----> 1\u001b[1;33m \u001b[0msquare_sum\u001b[0m\u001b[1;33m(\u001b[0m\u001b[1;36m5\u001b[0m\u001b[1;33m)\u001b[0m \u001b[1;31m# what is output ?\u001b[0m\u001b[1;33m\u001b[0m\u001b[1;33m\u001b[0m\u001b[0m\n\u001b[0m",
      "\u001b[1;31mTypeError\u001b[0m: square_sum() missing 1 required positional argument: 'b'"
     ]
    }
   ],
   "source": [
    "square_sum(5) # what is output ? "
   ]
  },
  {
   "cell_type": "code",
   "execution_count": 40,
   "metadata": {},
   "outputs": [],
   "source": [
    "def type_of_shape(height, width):\n",
    "    if height > 0 and width > 0:\n",
    "        if height != width:\n",
    "            print(\"It is a Rectangle\")\n",
    "        else:\n",
    "            print(\"It is a Square\")\n",
    "    else:\n",
    "        print(\"Invalid Shape\")\n",
    "        "
   ]
  },
  {
   "cell_type": "code",
   "execution_count": 41,
   "metadata": {},
   "outputs": [
    {
     "name": "stdout",
     "output_type": "stream",
     "text": [
      "Invalid Shape\n"
     ]
    }
   ],
   "source": [
    "type_of_shape(-100, 0)"
   ]
  },
  {
   "cell_type": "code",
   "execution_count": 42,
   "metadata": {},
   "outputs": [
    {
     "name": "stdout",
     "output_type": "stream",
     "text": [
      "It is a Square\n"
     ]
    }
   ],
   "source": [
    "type_of_shape(100, 100)"
   ]
  },
  {
   "cell_type": "code",
   "execution_count": 43,
   "metadata": {},
   "outputs": [
    {
     "name": "stdout",
     "output_type": "stream",
     "text": [
      "It is a Rectangle\n"
     ]
    }
   ],
   "source": [
    "type_of_shape(100, 200)"
   ]
  },
  {
   "cell_type": "markdown",
   "metadata": {},
   "source": [
    "#### Default"
   ]
  },
  {
   "cell_type": "code",
   "execution_count": 44,
   "metadata": {},
   "outputs": [],
   "source": [
    "def square_sum(a, b=0): # a is positional argument but b is a default argument\n",
    "    # value of a is complusory but value of b is optional\n",
    "    \"\"\"\n",
    "        will return a^2 + b^2\n",
    "    \"\"\"\n",
    "    print(\"Value of a: \", a)\n",
    "    print(\"Value of b: \", b)\n",
    "    print(\"Square sum a^2 + b^2 = \", a**2 + b ** 2)"
   ]
  },
  {
   "cell_type": "code",
   "execution_count": 45,
   "metadata": {},
   "outputs": [
    {
     "name": "stdout",
     "output_type": "stream",
     "text": [
      "Value of a:  10\n",
      "Value of b:  20\n",
      "Square sum a^2 + b^2 =  500\n"
     ]
    }
   ],
   "source": [
    "square_sum(10, 20)"
   ]
  },
  {
   "cell_type": "code",
   "execution_count": 46,
   "metadata": {},
   "outputs": [
    {
     "name": "stdout",
     "output_type": "stream",
     "text": [
      "Value of a:  10\n",
      "Value of b:  0\n",
      "Square sum a^2 + b^2 =  100\n"
     ]
    }
   ],
   "source": [
    "square_sum(10)"
   ]
  },
  {
   "cell_type": "code",
   "execution_count": 47,
   "metadata": {},
   "outputs": [
    {
     "ename": "TypeError",
     "evalue": "square_sum() missing 1 required positional argument: 'a'",
     "output_type": "error",
     "traceback": [
      "\u001b[1;31m---------------------------------------------------------------------------\u001b[0m",
      "\u001b[1;31mTypeError\u001b[0m                                 Traceback (most recent call last)",
      "\u001b[1;32m<ipython-input-47-7740ffc9aa02>\u001b[0m in \u001b[0;36m<module>\u001b[1;34m\u001b[0m\n\u001b[1;32m----> 1\u001b[1;33m \u001b[0msquare_sum\u001b[0m\u001b[1;33m(\u001b[0m\u001b[1;33m)\u001b[0m\u001b[1;33m\u001b[0m\u001b[1;33m\u001b[0m\u001b[0m\n\u001b[0m",
      "\u001b[1;31mTypeError\u001b[0m: square_sum() missing 1 required positional argument: 'a'"
     ]
    }
   ],
   "source": [
    "square_sum()"
   ]
  },
  {
   "cell_type": "code",
   "execution_count": 48,
   "metadata": {},
   "outputs": [
    {
     "name": "stdout",
     "output_type": "stream",
     "text": [
      "Hello World Bye World\n"
     ]
    }
   ],
   "source": [
    "print(\"Hello World\", \"Bye World\") # sep=' ', end='\\n'"
   ]
  },
  {
   "cell_type": "code",
   "execution_count": 49,
   "metadata": {},
   "outputs": [
    {
     "name": "stdout",
     "output_type": "stream",
     "text": [
      "Hello World\n",
      "Bye World\n"
     ]
    }
   ],
   "source": [
    "print(\"Hello World\", \"Bye World\", sep='\\n') # sep=' ', end='\\n'"
   ]
  },
  {
   "cell_type": "code",
   "execution_count": 50,
   "metadata": {},
   "outputs": [],
   "source": [
    "def s_sum(a=0, b=0):\n",
    "    return a**2 + b**2"
   ]
  },
  {
   "cell_type": "code",
   "execution_count": 51,
   "metadata": {},
   "outputs": [
    {
     "name": "stdout",
     "output_type": "stream",
     "text": [
      "0\n"
     ]
    }
   ],
   "source": [
    "print(s_sum())"
   ]
  },
  {
   "cell_type": "code",
   "execution_count": 52,
   "metadata": {},
   "outputs": [
    {
     "name": "stdout",
     "output_type": "stream",
     "text": [
      "100\n"
     ]
    }
   ],
   "source": [
    "print(s_sum(10))"
   ]
  },
  {
   "cell_type": "code",
   "execution_count": 53,
   "metadata": {},
   "outputs": [
    {
     "name": "stdout",
     "output_type": "stream",
     "text": [
      "500\n"
     ]
    }
   ],
   "source": [
    "print(s_sum(10, 20))"
   ]
  },
  {
   "cell_type": "code",
   "execution_count": 54,
   "metadata": {},
   "outputs": [
    {
     "ename": "TypeError",
     "evalue": "s_sum() takes from 0 to 2 positional arguments but 3 were given",
     "output_type": "error",
     "traceback": [
      "\u001b[1;31m---------------------------------------------------------------------------\u001b[0m",
      "\u001b[1;31mTypeError\u001b[0m                                 Traceback (most recent call last)",
      "\u001b[1;32m<ipython-input-54-1ae9836dd4b1>\u001b[0m in \u001b[0;36m<module>\u001b[1;34m\u001b[0m\n\u001b[1;32m----> 1\u001b[1;33m \u001b[0mprint\u001b[0m\u001b[1;33m(\u001b[0m\u001b[0ms_sum\u001b[0m\u001b[1;33m(\u001b[0m\u001b[1;36m1\u001b[0m\u001b[1;33m,\u001b[0m \u001b[1;36m2\u001b[0m\u001b[1;33m,\u001b[0m \u001b[1;36m3\u001b[0m\u001b[1;33m)\u001b[0m\u001b[1;33m)\u001b[0m\u001b[1;33m\u001b[0m\u001b[1;33m\u001b[0m\u001b[0m\n\u001b[0m",
      "\u001b[1;31mTypeError\u001b[0m: s_sum() takes from 0 to 2 positional arguments but 3 were given"
     ]
    }
   ],
   "source": [
    "print(s_sum(1, 2, 3))"
   ]
  },
  {
   "cell_type": "code",
   "execution_count": 55,
   "metadata": {},
   "outputs": [
    {
     "name": "stdout",
     "output_type": "stream",
     "text": [
      "Hello World\n"
     ]
    }
   ],
   "source": [
    "x = print(\"Hello World\")"
   ]
  },
  {
   "cell_type": "code",
   "execution_count": 56,
   "metadata": {},
   "outputs": [
    {
     "name": "stdout",
     "output_type": "stream",
     "text": [
      "None\n"
     ]
    }
   ],
   "source": [
    "print(x)"
   ]
  },
  {
   "cell_type": "code",
   "execution_count": 57,
   "metadata": {},
   "outputs": [
    {
     "name": "stdout",
     "output_type": "stream",
     "text": [
      "some input\n"
     ]
    }
   ],
   "source": [
    "x = input()"
   ]
  },
  {
   "cell_type": "code",
   "execution_count": 58,
   "metadata": {},
   "outputs": [
    {
     "name": "stdout",
     "output_type": "stream",
     "text": [
      "some input\n"
     ]
    }
   ],
   "source": [
    "print(x)"
   ]
  },
  {
   "cell_type": "code",
   "execution_count": 59,
   "metadata": {},
   "outputs": [],
   "source": [
    "s = \"Hello World\""
   ]
  },
  {
   "cell_type": "code",
   "execution_count": 60,
   "metadata": {},
   "outputs": [],
   "source": [
    "r = s.swapcase()"
   ]
  },
  {
   "cell_type": "code",
   "execution_count": 61,
   "metadata": {},
   "outputs": [
    {
     "name": "stdout",
     "output_type": "stream",
     "text": [
      "hELLO wORLD\n"
     ]
    }
   ],
   "source": [
    "print(r)"
   ]
  },
  {
   "cell_type": "code",
   "execution_count": 62,
   "metadata": {},
   "outputs": [],
   "source": [
    "l = [ 'java', 'c']"
   ]
  },
  {
   "cell_type": "code",
   "execution_count": 63,
   "metadata": {},
   "outputs": [],
   "source": [
    "r = l.append('c++')"
   ]
  },
  {
   "cell_type": "code",
   "execution_count": 64,
   "metadata": {},
   "outputs": [
    {
     "name": "stdout",
     "output_type": "stream",
     "text": [
      "None\n"
     ]
    }
   ],
   "source": [
    "print(r)"
   ]
  },
  {
   "cell_type": "code",
   "execution_count": 65,
   "metadata": {},
   "outputs": [
    {
     "name": "stdout",
     "output_type": "stream",
     "text": [
      "Help on built-in function append:\n",
      "\n",
      "append(object, /) method of builtins.list instance\n",
      "    Append object to the end of the list.\n",
      "\n"
     ]
    }
   ],
   "source": [
    "help(l.append)"
   ]
  },
  {
   "cell_type": "code",
   "execution_count": 67,
   "metadata": {},
   "outputs": [
    {
     "name": "stdout",
     "output_type": "stream",
     "text": [
      "Help on built-in function pop:\n",
      "\n",
      "pop(index=-1, /) method of builtins.list instance\n",
      "    Remove and return item at index (default last).\n",
      "    \n",
      "    Raises IndexError if list is empty or index is out of range.\n",
      "\n"
     ]
    }
   ],
   "source": [
    "help(l.pop)"
   ]
  },
  {
   "cell_type": "code",
   "execution_count": 69,
   "metadata": {},
   "outputs": [],
   "source": [
    "def ss(a, b):\n",
    "    print(f\"a = {a}\")\n",
    "    print(f\"b = {b}\")\n",
    "    print(f\"a^2 + b^2 = {a**2 + b**2}\")"
   ]
  },
  {
   "cell_type": "code",
   "execution_count": 71,
   "metadata": {},
   "outputs": [
    {
     "name": "stdout",
     "output_type": "stream",
     "text": [
      "a = 10\n",
      "b = 20\n",
      "a^2 + b^2 = 500\n"
     ]
    }
   ],
   "source": [
    "ss(10, 20) # positional"
   ]
  },
  {
   "cell_type": "code",
   "execution_count": 72,
   "metadata": {},
   "outputs": [],
   "source": [
    "def square_sum(a, b=0):\n",
    "    print(f\"a = {a}\")\n",
    "    print(f\"b = {b}\")\n",
    "    print(f\"a^2 + b^2 = {a**2 + b**2}\")"
   ]
  },
  {
   "cell_type": "code",
   "execution_count": 73,
   "metadata": {},
   "outputs": [
    {
     "name": "stdout",
     "output_type": "stream",
     "text": [
      "a = 10\n",
      "b = 0\n",
      "a^2 + b^2 = 100\n"
     ]
    }
   ],
   "source": [
    "square_sum(10)"
   ]
  },
  {
   "cell_type": "code",
   "execution_count": 74,
   "metadata": {},
   "outputs": [
    {
     "name": "stdout",
     "output_type": "stream",
     "text": [
      "a = 10\n",
      "b = 20\n",
      "a^2 + b^2 = 500\n"
     ]
    }
   ],
   "source": [
    "square_sum(10, 20)"
   ]
  },
  {
   "cell_type": "code",
   "execution_count": 75,
   "metadata": {},
   "outputs": [
    {
     "name": "stdout",
     "output_type": "stream",
     "text": [
      "Help on function square_sum in module __main__:\n",
      "\n",
      "square_sum(a, b=0)\n",
      "\n"
     ]
    }
   ],
   "source": [
    "help(square_sum)"
   ]
  },
  {
   "cell_type": "markdown",
   "metadata": {},
   "source": [
    "#### Variable-length Arguments"
   ]
  },
  {
   "cell_type": "code",
   "execution_count": 76,
   "metadata": {},
   "outputs": [],
   "source": [
    "def square_sum(a, b=0):\n",
    "    return a ** 2 + b ** 2"
   ]
  },
  {
   "cell_type": "code",
   "execution_count": 77,
   "metadata": {},
   "outputs": [],
   "source": [
    "r = square_sum(5, 6)"
   ]
  },
  {
   "cell_type": "code",
   "execution_count": 78,
   "metadata": {},
   "outputs": [
    {
     "name": "stdout",
     "output_type": "stream",
     "text": [
      "61\n"
     ]
    }
   ],
   "source": [
    "print(r)"
   ]
  },
  {
   "cell_type": "code",
   "execution_count": 79,
   "metadata": {},
   "outputs": [
    {
     "name": "stdout",
     "output_type": "stream",
     "text": [
      "25\n"
     ]
    }
   ],
   "source": [
    "r = square_sum(5)\n",
    "print(r)"
   ]
  },
  {
   "cell_type": "code",
   "execution_count": 80,
   "metadata": {},
   "outputs": [
    {
     "ename": "TypeError",
     "evalue": "square_sum() takes from 1 to 2 positional arguments but 4 were given",
     "output_type": "error",
     "traceback": [
      "\u001b[1;31m---------------------------------------------------------------------------\u001b[0m",
      "\u001b[1;31mTypeError\u001b[0m                                 Traceback (most recent call last)",
      "\u001b[1;32m<ipython-input-80-5bf0c1cba234>\u001b[0m in \u001b[0;36m<module>\u001b[1;34m\u001b[0m\n\u001b[1;32m----> 1\u001b[1;33m \u001b[0mr\u001b[0m \u001b[1;33m=\u001b[0m \u001b[0msquare_sum\u001b[0m\u001b[1;33m(\u001b[0m\u001b[1;36m1\u001b[0m\u001b[1;33m,\u001b[0m \u001b[1;36m2\u001b[0m\u001b[1;33m,\u001b[0m \u001b[1;36m3\u001b[0m\u001b[1;33m,\u001b[0m \u001b[1;36m5\u001b[0m\u001b[1;33m)\u001b[0m\u001b[1;33m\u001b[0m\u001b[1;33m\u001b[0m\u001b[0m\n\u001b[0m",
      "\u001b[1;31mTypeError\u001b[0m: square_sum() takes from 1 to 2 positional arguments but 4 were given"
     ]
    }
   ],
   "source": [
    "r = square_sum(1, 2, 3, 5)"
   ]
  },
  {
   "cell_type": "code",
   "execution_count": null,
   "metadata": {},
   "outputs": [],
   "source": []
  },
  {
   "cell_type": "code",
   "execution_count": null,
   "metadata": {},
   "outputs": [],
   "source": []
  },
  {
   "cell_type": "code",
   "execution_count": 84,
   "metadata": {},
   "outputs": [],
   "source": [
    "def ss(nums):\n",
    "    s = 0\n",
    "    for num in nums:\n",
    "        s = s + num**2\n",
    "    return s"
   ]
  },
  {
   "cell_type": "code",
   "execution_count": 86,
   "metadata": {},
   "outputs": [
    {
     "data": {
      "text/plain": [
       "0"
      ]
     },
     "execution_count": 86,
     "metadata": {},
     "output_type": "execute_result"
    }
   ],
   "source": [
    "ss([])"
   ]
  },
  {
   "cell_type": "code",
   "execution_count": 87,
   "metadata": {},
   "outputs": [
    {
     "data": {
      "text/plain": [
       "25"
      ]
     },
     "execution_count": 87,
     "metadata": {},
     "output_type": "execute_result"
    }
   ],
   "source": [
    "ss([5])"
   ]
  },
  {
   "cell_type": "code",
   "execution_count": 88,
   "metadata": {},
   "outputs": [
    {
     "data": {
      "text/plain": [
       "50"
      ]
     },
     "execution_count": 88,
     "metadata": {},
     "output_type": "execute_result"
    }
   ],
   "source": [
    "ss([5, 4, 3])"
   ]
  },
  {
   "cell_type": "code",
   "execution_count": 82,
   "metadata": {},
   "outputs": [
    {
     "name": "stdout",
     "output_type": "stream",
     "text": [
      "[1, 2, 3, 4, 5]\n"
     ]
    }
   ],
   "source": [
    "ss([1, 2, 3, 4, 5])a\n"
   ]
  },
  {
   "cell_type": "markdown",
   "metadata": {},
   "source": [
    "    `*` in print -> unpacking / iteration"
   ]
  },
  {
   "cell_type": "markdown",
   "metadata": {},
   "source": [
    "### Variable Length Argument"
   ]
  },
  {
   "cell_type": "markdown",
   "metadata": {},
   "source": [
    "    * in function defination used to pack values inside a tuple\n",
    "    \n",
    "    * in function calling used to unpack values from any iterable object"
   ]
  },
  {
   "cell_type": "code",
   "execution_count": 89,
   "metadata": {},
   "outputs": [],
   "source": [
    "def sq_sum(*args): # packing\n",
    "    \"\"\"\n",
    "        Example of variable length tuple argument\n",
    "    \"\"\"\n",
    "    print(\"type of args: \", type(args))\n",
    "    print(\"value of args: \", args)"
   ]
  },
  {
   "cell_type": "code",
   "execution_count": 90,
   "metadata": {},
   "outputs": [
    {
     "name": "stdout",
     "output_type": "stream",
     "text": [
      "type of args:  <class 'tuple'>\n",
      "value of args:  ()\n"
     ]
    }
   ],
   "source": [
    "sq_sum()"
   ]
  },
  {
   "cell_type": "code",
   "execution_count": 91,
   "metadata": {},
   "outputs": [
    {
     "name": "stdout",
     "output_type": "stream",
     "text": [
      "type of args:  <class 'tuple'>\n",
      "value of args:  (1,)\n"
     ]
    }
   ],
   "source": [
    "sq_sum(1)"
   ]
  },
  {
   "cell_type": "code",
   "execution_count": 92,
   "metadata": {},
   "outputs": [
    {
     "name": "stdout",
     "output_type": "stream",
     "text": [
      "type of args:  <class 'tuple'>\n",
      "value of args:  (1, 2, 3, 4)\n"
     ]
    }
   ],
   "source": [
    "sq_sum(1, 2,3 ,4 )"
   ]
  },
  {
   "cell_type": "code",
   "execution_count": 93,
   "metadata": {},
   "outputs": [
    {
     "name": "stdout",
     "output_type": "stream",
     "text": [
      "type of args:  <class 'tuple'>\n",
      "value of args:  (1, 2, 3, 4, 5, 3, 2, 45, 6, 7)\n"
     ]
    }
   ],
   "source": [
    "sq_sum(1, 2, 3, 4,5 , 3, 2, 45, 6,7 )"
   ]
  },
  {
   "cell_type": "code",
   "execution_count": 94,
   "metadata": {},
   "outputs": [],
   "source": [
    "t = ('java', 'c', 'c++')"
   ]
  },
  {
   "cell_type": "code",
   "execution_count": 95,
   "metadata": {},
   "outputs": [
    {
     "name": "stdout",
     "output_type": "stream",
     "text": [
      "java\n",
      "c\n",
      "c++\n"
     ]
    }
   ],
   "source": [
    "for value in t:\n",
    "    print(value) # iteration/traversing"
   ]
  },
  {
   "cell_type": "code",
   "execution_count": 97,
   "metadata": {},
   "outputs": [],
   "source": [
    "# positional, default, variable length, keyword only arguments\n",
    "def square_sum(*args):\n",
    "    \"\"\"\n",
    "        will return square sum of all values given by user\n",
    "    \"\"\"\n",
    "    s = 0\n",
    "    for value in args:\n",
    "        s = s + value **2 \n",
    "    return s"
   ]
  },
  {
   "cell_type": "code",
   "execution_count": 98,
   "metadata": {},
   "outputs": [
    {
     "name": "stdout",
     "output_type": "stream",
     "text": [
      "0\n"
     ]
    }
   ],
   "source": [
    "print(square_sum())"
   ]
  },
  {
   "cell_type": "code",
   "execution_count": 99,
   "metadata": {},
   "outputs": [
    {
     "name": "stdout",
     "output_type": "stream",
     "text": [
      "4\n"
     ]
    }
   ],
   "source": [
    "print(square_sum(2))"
   ]
  },
  {
   "cell_type": "code",
   "execution_count": 100,
   "metadata": {},
   "outputs": [
    {
     "name": "stdout",
     "output_type": "stream",
     "text": [
      "55\n"
     ]
    }
   ],
   "source": [
    "print(square_sum(1, 2, 3, 4, 5))"
   ]
  },
  {
   "cell_type": "code",
   "execution_count": 101,
   "metadata": {},
   "outputs": [
    {
     "name": "stdout",
     "output_type": "stream",
     "text": [
      "385\n"
     ]
    }
   ],
   "source": [
    "print(square_sum(*range(1, 11))) # unpacking"
   ]
  },
  {
   "cell_type": "code",
   "execution_count": 106,
   "metadata": {},
   "outputs": [
    {
     "name": "stdout",
     "output_type": "stream",
     "text": [
      "55\n"
     ]
    }
   ],
   "source": [
    "print(square_sum(*[1, 2,3 ,4, 5]))"
   ]
  },
  {
   "cell_type": "code",
   "execution_count": 103,
   "metadata": {},
   "outputs": [
    {
     "name": "stdout",
     "output_type": "stream",
     "text": [
      "1, 2, 3, 4, 5, 6, 7, 8, 9, 10\n"
     ]
    }
   ],
   "source": [
    "print(*range(1, 11), sep=', ')"
   ]
  },
  {
   "cell_type": "code",
   "execution_count": 107,
   "metadata": {},
   "outputs": [
    {
     "data": {
      "text/plain": [
       "10"
      ]
     },
     "execution_count": 107,
     "metadata": {},
     "output_type": "execute_result"
    }
   ],
   "source": [
    "sum([1,2 ,3 ,4 ])"
   ]
  },
  {
   "cell_type": "code",
   "execution_count": 108,
   "metadata": {},
   "outputs": [
    {
     "data": {
      "text/plain": [
       "10"
      ]
     },
     "execution_count": 108,
     "metadata": {},
     "output_type": "execute_result"
    }
   ],
   "source": [
    "sum((1, 2,3 ,4 ))"
   ]
  },
  {
   "cell_type": "code",
   "execution_count": 109,
   "metadata": {},
   "outputs": [
    {
     "ename": "TypeError",
     "evalue": "sum() takes at most 2 arguments (5 given)",
     "output_type": "error",
     "traceback": [
      "\u001b[1;31m---------------------------------------------------------------------------\u001b[0m",
      "\u001b[1;31mTypeError\u001b[0m                                 Traceback (most recent call last)",
      "\u001b[1;32m<ipython-input-109-ef9d537a0703>\u001b[0m in \u001b[0;36m<module>\u001b[1;34m\u001b[0m\n\u001b[1;32m----> 1\u001b[1;33m \u001b[0msum\u001b[0m\u001b[1;33m(\u001b[0m\u001b[1;36m1\u001b[0m\u001b[1;33m,\u001b[0m \u001b[1;36m3\u001b[0m\u001b[1;33m,\u001b[0m \u001b[1;36m4\u001b[0m\u001b[1;33m,\u001b[0m \u001b[1;36m5\u001b[0m\u001b[1;33m,\u001b[0m \u001b[1;36m6\u001b[0m\u001b[1;33m)\u001b[0m\u001b[1;33m\u001b[0m\u001b[1;33m\u001b[0m\u001b[0m\n\u001b[0m",
      "\u001b[1;31mTypeError\u001b[0m: sum() takes at most 2 arguments (5 given)"
     ]
    }
   ],
   "source": [
    "sum(1, 3, 4, 5, 6)"
   ]
  },
  {
   "cell_type": "code",
   "execution_count": 110,
   "metadata": {},
   "outputs": [],
   "source": [
    "def mysum(*values):\n",
    "    s = 0\n",
    "    for value in values:\n",
    "        s += value\n",
    "    return s"
   ]
  },
  {
   "cell_type": "code",
   "execution_count": 111,
   "metadata": {},
   "outputs": [
    {
     "data": {
      "text/plain": [
       "10"
      ]
     },
     "execution_count": 111,
     "metadata": {},
     "output_type": "execute_result"
    }
   ],
   "source": [
    "mysum(1, 2, 3, 4)"
   ]
  },
  {
   "cell_type": "code",
   "execution_count": 112,
   "metadata": {},
   "outputs": [
    {
     "ename": "TypeError",
     "evalue": "unsupported operand type(s) for +=: 'int' and 'list'",
     "output_type": "error",
     "traceback": [
      "\u001b[1;31m---------------------------------------------------------------------------\u001b[0m",
      "\u001b[1;31mTypeError\u001b[0m                                 Traceback (most recent call last)",
      "\u001b[1;32m<ipython-input-112-5b906f4b86bb>\u001b[0m in \u001b[0;36m<module>\u001b[1;34m\u001b[0m\n\u001b[1;32m----> 1\u001b[1;33m \u001b[0mmysum\u001b[0m\u001b[1;33m(\u001b[0m\u001b[1;33m[\u001b[0m\u001b[1;36m1\u001b[0m\u001b[1;33m,\u001b[0m\u001b[1;36m2\u001b[0m \u001b[1;33m,\u001b[0m\u001b[1;36m3\u001b[0m \u001b[1;33m,\u001b[0m\u001b[1;36m4\u001b[0m\u001b[1;33m]\u001b[0m\u001b[1;33m)\u001b[0m\u001b[1;33m\u001b[0m\u001b[1;33m\u001b[0m\u001b[0m\n\u001b[0m",
      "\u001b[1;32m<ipython-input-110-7bc523453a24>\u001b[0m in \u001b[0;36mmysum\u001b[1;34m(*values)\u001b[0m\n\u001b[0;32m      2\u001b[0m     \u001b[0ms\u001b[0m \u001b[1;33m=\u001b[0m \u001b[1;36m0\u001b[0m\u001b[1;33m\u001b[0m\u001b[1;33m\u001b[0m\u001b[0m\n\u001b[0;32m      3\u001b[0m     \u001b[1;32mfor\u001b[0m \u001b[0mvalue\u001b[0m \u001b[1;32min\u001b[0m \u001b[0mvalues\u001b[0m\u001b[1;33m:\u001b[0m\u001b[1;33m\u001b[0m\u001b[1;33m\u001b[0m\u001b[0m\n\u001b[1;32m----> 4\u001b[1;33m         \u001b[0ms\u001b[0m \u001b[1;33m+=\u001b[0m \u001b[0mvalue\u001b[0m\u001b[1;33m\u001b[0m\u001b[1;33m\u001b[0m\u001b[0m\n\u001b[0m\u001b[0;32m      5\u001b[0m     \u001b[1;32mreturn\u001b[0m \u001b[0ms\u001b[0m\u001b[1;33m\u001b[0m\u001b[1;33m\u001b[0m\u001b[0m\n",
      "\u001b[1;31mTypeError\u001b[0m: unsupported operand type(s) for +=: 'int' and 'list'"
     ]
    }
   ],
   "source": [
    "mysum([1,2 ,3 ,4])"
   ]
  },
  {
   "cell_type": "code",
   "execution_count": 113,
   "metadata": {},
   "outputs": [
    {
     "data": {
      "text/plain": [
       "10"
      ]
     },
     "execution_count": 113,
     "metadata": {},
     "output_type": "execute_result"
    }
   ],
   "source": [
    "mysum(*[1, 2,3 , 4])\n",
    "# mysum(1, 2, 3, 4)"
   ]
  },
  {
   "cell_type": "markdown",
   "metadata": {},
   "source": [
    "### variable length keyword argument"
   ]
  },
  {
   "cell_type": "code",
   "execution_count": 114,
   "metadata": {},
   "outputs": [
    {
     "ename": "TypeError",
     "evalue": "mysum() got an unexpected keyword argument 'a'",
     "output_type": "error",
     "traceback": [
      "\u001b[1;31m---------------------------------------------------------------------------\u001b[0m",
      "\u001b[1;31mTypeError\u001b[0m                                 Traceback (most recent call last)",
      "\u001b[1;32m<ipython-input-114-b6437d0f35c8>\u001b[0m in \u001b[0;36m<module>\u001b[1;34m\u001b[0m\n\u001b[1;32m----> 1\u001b[1;33m \u001b[0mmysum\u001b[0m\u001b[1;33m(\u001b[0m\u001b[0ma\u001b[0m\u001b[1;33m=\u001b[0m\u001b[1;36m10\u001b[0m\u001b[1;33m,\u001b[0m \u001b[0mb\u001b[0m\u001b[1;33m=\u001b[0m\u001b[1;36m6\u001b[0m\u001b[1;33m)\u001b[0m\u001b[1;33m\u001b[0m\u001b[1;33m\u001b[0m\u001b[0m\n\u001b[0m",
      "\u001b[1;31mTypeError\u001b[0m: mysum() got an unexpected keyword argument 'a'"
     ]
    }
   ],
   "source": [
    "mysum(a=10, b=6)"
   ]
  },
  {
   "cell_type": "code",
   "execution_count": 115,
   "metadata": {},
   "outputs": [
    {
     "ename": "TypeError",
     "evalue": "mysum() got an unexpected keyword argument 'values'",
     "output_type": "error",
     "traceback": [
      "\u001b[1;31m---------------------------------------------------------------------------\u001b[0m",
      "\u001b[1;31mTypeError\u001b[0m                                 Traceback (most recent call last)",
      "\u001b[1;32m<ipython-input-115-569c74ae00e1>\u001b[0m in \u001b[0;36m<module>\u001b[1;34m\u001b[0m\n\u001b[1;32m----> 1\u001b[1;33m \u001b[0mmysum\u001b[0m\u001b[1;33m(\u001b[0m\u001b[0mvalues\u001b[0m\u001b[1;33m=\u001b[0m\u001b[1;33m(\u001b[0m\u001b[1;36m1\u001b[0m\u001b[1;33m,\u001b[0m \u001b[1;36m2\u001b[0m\u001b[1;33m,\u001b[0m \u001b[1;36m3\u001b[0m\u001b[1;33m,\u001b[0m \u001b[1;36m4\u001b[0m\u001b[1;33m)\u001b[0m\u001b[1;33m)\u001b[0m\u001b[1;33m\u001b[0m\u001b[1;33m\u001b[0m\u001b[0m\n\u001b[0m",
      "\u001b[1;31mTypeError\u001b[0m: mysum() got an unexpected keyword argument 'values'"
     ]
    }
   ],
   "source": [
    "mysum(values=(1, 2, 3, 4))"
   ]
  },
  {
   "cell_type": "code",
   "execution_count": 117,
   "metadata": {},
   "outputs": [],
   "source": [
    "def func(**kwargs):\n",
    "    \"\"\"\n",
    "        to process values with keys, or key-value pair data in function calling\n",
    "    \"\"\"\n",
    "    print(type(kwargs), kwargs)"
   ]
  },
  {
   "cell_type": "code",
   "execution_count": 118,
   "metadata": {},
   "outputs": [
    {
     "name": "stdout",
     "output_type": "stream",
     "text": [
      "<class 'dict'> {}\n"
     ]
    }
   ],
   "source": [
    "func()"
   ]
  },
  {
   "cell_type": "code",
   "execution_count": 119,
   "metadata": {},
   "outputs": [
    {
     "ename": "TypeError",
     "evalue": "func() takes 0 positional arguments but 3 were given",
     "output_type": "error",
     "traceback": [
      "\u001b[1;31m---------------------------------------------------------------------------\u001b[0m",
      "\u001b[1;31mTypeError\u001b[0m                                 Traceback (most recent call last)",
      "\u001b[1;32m<ipython-input-119-0b0e6d51b54e>\u001b[0m in \u001b[0;36m<module>\u001b[1;34m\u001b[0m\n\u001b[1;32m----> 1\u001b[1;33m \u001b[0mfunc\u001b[0m\u001b[1;33m(\u001b[0m\u001b[1;36m1\u001b[0m\u001b[1;33m,\u001b[0m \u001b[1;36m2\u001b[0m\u001b[1;33m,\u001b[0m \u001b[1;36m3\u001b[0m\u001b[1;33m)\u001b[0m\u001b[1;33m\u001b[0m\u001b[1;33m\u001b[0m\u001b[0m\n\u001b[0m",
      "\u001b[1;31mTypeError\u001b[0m: func() takes 0 positional arguments but 3 were given"
     ]
    }
   ],
   "source": [
    "func(1, 2, 3)"
   ]
  },
  {
   "cell_type": "code",
   "execution_count": 120,
   "metadata": {},
   "outputs": [
    {
     "name": "stdout",
     "output_type": "stream",
     "text": [
      "<class 'dict'> {'name': 'sachin', 'age': 24, 'country': 'India', 'blood_group': 'B+ive'}\n"
     ]
    }
   ],
   "source": [
    "func(name='sachin', age=24, country='India', blood_group='B+ive')"
   ]
  },
  {
   "cell_type": "code",
   "execution_count": 121,
   "metadata": {},
   "outputs": [],
   "source": [
    "def print_dict(**kwargs):\n",
    "    \"\"\"\n",
    "        to print a dictionary\n",
    "    \"\"\"\n",
    "    for key, value in kwargs.items():\n",
    "        print(f\"{key:>15} = {value}\")"
   ]
  },
  {
   "cell_type": "code",
   "execution_count": 122,
   "metadata": {},
   "outputs": [],
   "source": [
    "print_dict()"
   ]
  },
  {
   "cell_type": "code",
   "execution_count": 124,
   "metadata": {},
   "outputs": [
    {
     "name": "stdout",
     "output_type": "stream",
     "text": [
      "           name = sachin\n",
      "            age = 24\n"
     ]
    }
   ],
   "source": [
    "print_dict(name='sachin', age=24)"
   ]
  },
  {
   "cell_type": "code",
   "execution_count": 125,
   "metadata": {},
   "outputs": [],
   "source": [
    "info = {'name': 'sachin', 'age': 24, 'country': 'India', 'blood_group': 'B+ive'}"
   ]
  },
  {
   "cell_type": "code",
   "execution_count": 127,
   "metadata": {},
   "outputs": [
    {
     "name": "stdout",
     "output_type": "stream",
     "text": [
      "           name = sachin\n",
      "            age = 24\n",
      "        country = India\n",
      "    blood_group = B+ive\n"
     ]
    }
   ],
   "source": [
    "# *[1, 2, 3, 4] -> 1, 2, 3, 4\n",
    "# **{'key':'value', 'achaa':'haa'} -> key='value', achaa='haa'\n",
    "print_dict(**info)"
   ]
  },
  {
   "cell_type": "markdown",
   "metadata": {},
   "source": [
    "precedence \n",
    "\n",
    "        positional, default, variable length, keyword_only"
   ]
  },
  {
   "cell_type": "code",
   "execution_count": 128,
   "metadata": {},
   "outputs": [],
   "source": [
    "def final_func(pos, default='Awesome', *args, **kwargs):\n",
    "    print(\"Positional: \", pos)\n",
    "    print(\"Default: \", default)\n",
    "    print(\"variable Arguments: \", args)\n",
    "    print(\"variable key-value arguments: \", kwargs)\n",
    "    "
   ]
  },
  {
   "cell_type": "code",
   "execution_count": 129,
   "metadata": {},
   "outputs": [
    {
     "ename": "TypeError",
     "evalue": "final_func() missing 1 required positional argument: 'pos'",
     "output_type": "error",
     "traceback": [
      "\u001b[1;31m---------------------------------------------------------------------------\u001b[0m",
      "\u001b[1;31mTypeError\u001b[0m                                 Traceback (most recent call last)",
      "\u001b[1;32m<ipython-input-129-45b0d0c310b8>\u001b[0m in \u001b[0;36m<module>\u001b[1;34m\u001b[0m\n\u001b[1;32m----> 1\u001b[1;33m \u001b[0mfinal_func\u001b[0m\u001b[1;33m(\u001b[0m\u001b[1;33m)\u001b[0m \u001b[1;31m# ?\u001b[0m\u001b[1;33m\u001b[0m\u001b[1;33m\u001b[0m\u001b[0m\n\u001b[0m",
      "\u001b[1;31mTypeError\u001b[0m: final_func() missing 1 required positional argument: 'pos'"
     ]
    }
   ],
   "source": [
    "final_func() # ? "
   ]
  },
  {
   "cell_type": "code",
   "execution_count": 130,
   "metadata": {},
   "outputs": [
    {
     "name": "stdout",
     "output_type": "stream",
     "text": [
      "Positional:  1\n",
      "Default:  Awesome\n",
      "variable Arguments:  ()\n",
      "variable key-value arguments:  {}\n"
     ]
    }
   ],
   "source": [
    "final_func(1)"
   ]
  },
  {
   "cell_type": "code",
   "execution_count": 131,
   "metadata": {},
   "outputs": [
    {
     "name": "stdout",
     "output_type": "stream",
     "text": [
      "Positional:  1\n",
      "Default:  2\n",
      "variable Arguments:  ()\n",
      "variable key-value arguments:  {}\n"
     ]
    }
   ],
   "source": [
    "final_func(1, 2)"
   ]
  },
  {
   "cell_type": "code",
   "execution_count": 132,
   "metadata": {},
   "outputs": [
    {
     "name": "stdout",
     "output_type": "stream",
     "text": [
      "Positional:  1\n",
      "Default:  2\n",
      "variable Arguments:  (3, 4, 5, 6, 7, 8, 9, 10)\n",
      "variable key-value arguments:  {}\n"
     ]
    }
   ],
   "source": [
    "final_func(1, 2, 3, 4, 5, 6,7 , 8, 9, 10)"
   ]
  },
  {
   "cell_type": "code",
   "execution_count": 134,
   "metadata": {},
   "outputs": [
    {
     "name": "stdout",
     "output_type": "stream",
     "text": [
      "Positional:  1\n",
      "Default:  2\n",
      "variable Arguments:  (3, 4, 5, 6, 7, 8, 9, 10)\n",
      "variable key-value arguments:  {'key': 'value', 'name': 'sachin'}\n"
     ]
    }
   ],
   "source": [
    "final_func(1, 2, 3, 4, 5, 6,7 , 8, 9, 10, key='value', name='sachin')"
   ]
  },
  {
   "cell_type": "code",
   "execution_count": 141,
   "metadata": {},
   "outputs": [],
   "source": [
    "# keyword only\n",
    "def myprint(*values, sep=' ', end='\\n'):\n",
    "    for value in values:\n",
    "        print(value, end=sep)\n",
    "    print(end=end)"
   ]
  },
  {
   "cell_type": "code",
   "execution_count": 142,
   "metadata": {},
   "outputs": [
    {
     "name": "stdout",
     "output_type": "stream",
     "text": [
      "\n"
     ]
    }
   ],
   "source": [
    "myprint()"
   ]
  },
  {
   "cell_type": "code",
   "execution_count": 143,
   "metadata": {},
   "outputs": [
    {
     "name": "stdout",
     "output_type": "stream",
     "text": [
      "hello world how are you ? \n"
     ]
    }
   ],
   "source": [
    "myprint('hello', 'world', 'how', 'are', 'you', '?')"
   ]
  },
  {
   "cell_type": "code",
   "execution_count": 144,
   "metadata": {},
   "outputs": [
    {
     "name": "stdout",
     "output_type": "stream",
     "text": [
      "hello\tworld\thow\tare\tyou\t?\t\n"
     ]
    }
   ],
   "source": [
    "myprint('hello', 'world', 'how', 'are', 'you', '?', sep='\\t')"
   ]
  },
  {
   "cell_type": "code",
   "execution_count": 145,
   "metadata": {},
   "outputs": [
    {
     "name": "stdout",
     "output_type": "stream",
     "text": [
      "hello\n",
      "world\n",
      "how\n",
      "are\n",
      "you\n",
      "?\n",
      "\n"
     ]
    }
   ],
   "source": [
    "myprint('hello', 'world', 'how', 'are', 'you', '?', sep='\\n')"
   ]
  },
  {
   "cell_type": "code",
   "execution_count": 146,
   "metadata": {},
   "outputs": [],
   "source": [
    "from tqdm import tqdm\n",
    "from time import sleep"
   ]
  },
  {
   "cell_type": "code",
   "execution_count": 147,
   "metadata": {},
   "outputs": [
    {
     "name": "stderr",
     "output_type": "stream",
     "text": [
      "100%|██████████████████████████████████████████████████████████████████████████████████| 300/300 [05:03<00:00,  1.01s/it]\n"
     ]
    }
   ],
   "source": [
    "for _ in tqdm(range(300)):\n",
    "    sleep(1)"
   ]
  },
  {
   "cell_type": "markdown",
   "metadata": {},
   "source": [
    "## Scopping"
   ]
  },
  {
   "cell_type": "code",
   "execution_count": 148,
   "metadata": {},
   "outputs": [
    {
     "data": {
      "text/plain": [
       "'__main__'"
      ]
     },
     "execution_count": 148,
     "metadata": {},
     "output_type": "execute_result"
    }
   ],
   "source": [
    "__name__"
   ]
  },
  {
   "cell_type": "code",
   "execution_count": 149,
   "metadata": {},
   "outputs": [
    {
     "name": "stdout",
     "output_type": "stream",
     "text": [
      "__main__\n"
     ]
    }
   ],
   "source": [
    "print(__name__)"
   ]
  },
  {
   "cell_type": "code",
   "execution_count": null,
   "metadata": {},
   "outputs": [],
   "source": []
  },
  {
   "cell_type": "code",
   "execution_count": 150,
   "metadata": {},
   "outputs": [],
   "source": [
    "name = 'Sachin Yadav'"
   ]
  },
  {
   "cell_type": "code",
   "execution_count": 152,
   "metadata": {},
   "outputs": [
    {
     "name": "stdout",
     "output_type": "stream",
     "text": [
      "Sachin Yadav\n"
     ]
    }
   ],
   "source": [
    "print(name) # global variables"
   ]
  },
  {
   "cell_type": "code",
   "execution_count": 153,
   "metadata": {},
   "outputs": [
    {
     "data": {
      "text/plain": [
       "{'__name__': '__main__',\n",
       " '__doc__': 'Automatically created module for IPython interactive environment',\n",
       " '__package__': None,\n",
       " '__loader__': None,\n",
       " '__spec__': None,\n",
       " '__builtin__': <module 'builtins' (built-in)>,\n",
       " '__builtins__': <module 'builtins' (built-in)>,\n",
       " '_ih': ['',\n",
       "  'print(\"Hello World\".center(100)',\n",
       "  'print(\"Hello World\".center(100))',\n",
       "  'def loan_prediction():\\n    \"\"\"\\n        it will predict wheater a person is eligible for loan or not\\n    \"\"\"\\n    job_type = int(input(\"Enter Job Type: \"))\\n    if job_type == \\'government\\':\\n        print(\"Govt Job\")\\n    elif job_type == \\'business\\':\\n        print(\"Business Job\")\\n    else:\\n        print(\"Private Job\")',\n",
       "  'def loan_prediction():\\n    \"\"\"\\n        it will predict wheater a person is eligible for loan or not\\n    \"\"\"\\n    job_type = input(\"Enter Job Type: \")\\n    if job_type == \\'government\\':\\n        print(\"Govt Job\")\\n    elif job_type == \\'business\\':\\n        print(\"Business Job\")\\n    else:\\n        print(\"Private Job\")',\n",
       "  'loan_prediction()',\n",
       "  'for _ in range(5):\\n    loan_prediction()',\n",
       "  'def can_drink(name, age): # formal parameter\\n    \"\"\"\\n        to check wheather a person can drink or not\\n    \"\"\"\\n    if age >= 18:\\n        print(f\"User {name} can drink alcohol\")\\n    else:\\n        print(f\"User {name} can not drink alcohol\")',\n",
       "  \"can_drik('Sachin', 24)\",\n",
       "  \"can_drink('Sachin', 24)\",\n",
       "  \"can_drink('Sachin', 24) # actual paramenters\",\n",
       "  'def is_even(number):\\n    flag = False\\n    if number % 2 == 0:\\n        flag = True\\n    return Falg\\n    ',\n",
       "  'def is_even(number):\\n    flag = False\\n    if number % 2 == 0:\\n        flag = True\\n    return flag\\n    ',\n",
       "  'is_even(14)',\n",
       "  'is_even(13)',\n",
       "  'def is_even(number):\\n    \"\"\"\\n        Documentation String for is_even\\n        \\n        funciton will return True if number is even else False\\n    \"\"\"\\n    flag = False\\n    if number % 2 == 0:\\n        flag = True\\n    return flag\\n    ',\n",
       "  'help(is_even)',\n",
       "  'print(is_even.__doc__)',\n",
       "  'print(type(True))',\n",
       "  'print(type(False))',\n",
       "  'TRUE',\n",
       "  'def print_info(name, age, country):\\n    \"\"\"\\n        To print information of a Person\\n    \"\"\"',\n",
       "  'def print_info(name, age, country):\\n    \"\"\"\\n        To print information of a Person\\n    \"\"\"\\n    print(f\"Welcome, user {name}.\")\\n    print(f\"You are {age} years old.\")\\n    print(f\"You belongs from {country}.\")',\n",
       "  'print_info(\\'Sachin\\', 24, \"India\")',\n",
       "  'print_info()',\n",
       "  \"print_info('sachin')\",\n",
       "  \"print_info('first', 'second', 'third')\",\n",
       "  \"print_info('first', 'second', 'third', 'four')\",\n",
       "  \"## We can call function using keywords\\nprint_info(country='India', name='Sachin', age=24)\",\n",
       "  \"print_info('Sachin Yadav', country='US', age=16)\",\n",
       "  'print_info(age=16, \"sachin yadav\", country=\\'india\\')',\n",
       "  \"print_info(name='sachin', 16, 'india')\",\n",
       "  \"print_info(16, name='sachin yadav', country='india')\",\n",
       "  'print_info(\"Sachin Yadav\", 24, country=\\'India\\')',\n",
       "  'sum([1, 2, 3,4 ])',\n",
       "  'sum(1, 2,3 ,4 )',\n",
       "  'def square_sum(a, b):\\n    \"\"\"\\n        will return a^2 + b^2\\n    \"\"\"\\n    print(\"Value of a: \", a)\\n    print(\"Value of b: \", b)\\n    print(\"Square sum a^2 + b^2 = \", a**2 + b ** 2)',\n",
       "  'square_sum(4, 5)',\n",
       "  'square_sum(b=10, a=20)',\n",
       "  'square_sum(5) # what is output ? ',\n",
       "  'def type_of_shape(height, width):\\n    if height > 0 and width > 0:\\n        if height != width:\\n            print(\"It is a Rectangle\")\\n        else:\\n            print(\"It is a Square\")\\n    else:\\n        print(\"Invalid Shape\")\\n        ',\n",
       "  'type_of_shape(-100, 0)',\n",
       "  'type_of_shape(100, 100)',\n",
       "  'type_of_shape(100, 200)',\n",
       "  'def square_sum(a, b=0): # a is positional argument but b is a default argument\\n    # value of a is complusory but value of b is optional\\n    \"\"\"\\n        will return a^2 + b^2\\n    \"\"\"\\n    print(\"Value of a: \", a)\\n    print(\"Value of b: \", b)\\n    print(\"Square sum a^2 + b^2 = \", a**2 + b ** 2)',\n",
       "  'square_sum(10, 20)',\n",
       "  'square_sum(10)',\n",
       "  'square_sum()',\n",
       "  'print(\"Hello World\", \"Bye World\")',\n",
       "  'print(\"Hello World\", \"Bye World\", sep=\\'\\\\n\\') # sep=\\' \\', end=\\'\\\\n\\'',\n",
       "  'def s_sum(a=0, b=0):\\n    return a**2 + b**2',\n",
       "  'print(s_sum())',\n",
       "  'print(s_sum(10))',\n",
       "  'print(s_sum(10, 20))',\n",
       "  'print(s_sum(1, 2, 3))',\n",
       "  'x = print(\"Hello World\")',\n",
       "  'print(x)',\n",
       "  'x = input()',\n",
       "  'print(x)',\n",
       "  's = \"Hello World\"',\n",
       "  'r = s.swapcase()',\n",
       "  'print(r)',\n",
       "  \"l = [ 'java', 'c']\",\n",
       "  \"r = l.append('c++')\",\n",
       "  'print(r)',\n",
       "  'help(l.append)',\n",
       "  'help(s.swapcase)',\n",
       "  'help(l.pop)',\n",
       "  'def square_sum(a, b=0):\\n    print(f\"a = {a}\")\\n    print(f\"b = {b}\")\\n    print(f\"a^2 + b^2 = {a**2 + b**2}\")',\n",
       "  'def ss(a, b):\\n    print(f\"a = {a}\")\\n    print(f\"b = {b}\")\\n    print(f\"a^2 + b^2 = {a**2 + b**2}\")',\n",
       "  'ss(10)',\n",
       "  'ss(10, 20)',\n",
       "  'def square_sum(a, b=0):\\n    print(f\"a = {a}\")\\n    print(f\"b = {b}\")\\n    print(f\"a^2 + b^2 = {a**2 + b**2}\")',\n",
       "  'square_sum(10)',\n",
       "  'square_sum(10, 20)',\n",
       "  'help(square_sum)',\n",
       "  'def square_sum(a, b=0):\\n    return a ** 2 + b ** 2',\n",
       "  'r = square_sum(5, 6)',\n",
       "  'print(r)',\n",
       "  'r = square_sum(5)\\nprint(r)',\n",
       "  'r = square_sum(1, 2, 3, 5)',\n",
       "  'def ss(nums):\\n    print(nums)',\n",
       "  'ss([1, 2, 3, 4, 5])',\n",
       "  'def ss(nums):\\n    s = 0\\n    for num in nums:\\n        s = s + num**2\\n    reutrn s',\n",
       "  'def ss(nums):\\n    s = 0\\n    for num in nums:\\n        s = s + num**2\\n    return s',\n",
       "  'ss()',\n",
       "  'ss([])',\n",
       "  'ss([5])',\n",
       "  'ss([5, 4, 3])',\n",
       "  'def sq_sum(*args):\\n    \"\"\"\\n        Example of variable length tuple argument\\n    \"\"\"\\n    print(\"type of args: \", type(args))\\n    print(\"value of args: \", args)',\n",
       "  'sq_sum()',\n",
       "  'sq_sum(1)',\n",
       "  'sq_sum(1, 2,3 ,4 )',\n",
       "  'sq_sum(1, 2, 3, 4,5 , 3, 2, 45, 6,7 )',\n",
       "  \"t = ('java', 'c', 'c++')\",\n",
       "  'for value in t:\\n    print(value) # iteration/traversing',\n",
       "  'def square_sum(*args):\\n    \"\"\"\\n        will return square sum of all values given by user\\n    \"\"\"',\n",
       "  'def square_sum(*args):\\n    \"\"\"\\n        will return square sum of all values given by user\\n    \"\"\"\\n    s = 0\\n    for value in args:\\n        s = s + value **2 \\n    return s',\n",
       "  'print(square_sum())',\n",
       "  'print(square_sum(2))',\n",
       "  'print(square_sum(1, 2, 3, 4, 5))',\n",
       "  'print(square_sum(*range(1, 11)))',\n",
       "  \"print(*range(1, 11), sep='\\\\n')\",\n",
       "  \"print(*range(1, 11), sep=', ')\",\n",
       "  'print(square_sum([1, 2,3 ,4 5]))',\n",
       "  'print(square_sum([1, 2,3 ,4, 5]))',\n",
       "  'print(square_sum(*[1, 2,3 ,4, 5]))',\n",
       "  'sum([1,2 ,3 ,4 ])',\n",
       "  'sum((1, 2,3 ,4 ))',\n",
       "  'sum(1, 3, 4, 5, 6)',\n",
       "  'def mysum(*values):\\n    s = 0\\n    for value in values:\\n        s += value\\n    return s',\n",
       "  'mysum(1, 2, 3, 4)',\n",
       "  'mysum([1,2 ,3 ,4])',\n",
       "  'mysum(*[1, 2,3 , 4])',\n",
       "  'mysum(a=10, b=6)',\n",
       "  'mysum(values=(1, 2, 3, 4))',\n",
       "  'def func(**kwargs):',\n",
       "  'def func(**kwargs):\\n    \"\"\"\\n        to process values with keys, or key-value pair data in function calling\\n    \"\"\"\\n    print(type(kwargs), kwargs)',\n",
       "  'func()',\n",
       "  'func(1, 2, 3)',\n",
       "  \"func(name='sachin', age=24, country='India', blood_group='B+ive')\",\n",
       "  'def print_dict(**kwargs):\\n    \"\"\"\\n        to print a dictionary\\n    \"\"\"\\n    for key, value in kwargs.items():\\n        print(f\"{key:>15} = {value}\")',\n",
       "  'print_dict()',\n",
       "  'print_dict(1, 2, 3)',\n",
       "  \"print_dict(name='sachin', age=24)\",\n",
       "  \"info = {'name': 'sachin', 'age': 24, 'country': 'India', 'blood_group': 'B+ive'}\",\n",
       "  'print_dict(info)',\n",
       "  \"# *[1, 2, 3, 4] -> 1, 2, 3, 4\\n# **{'key':'value', 'achaa':'haa'} -> key='value', achaa='haa'\\nprint_dict(**info)\",\n",
       "  'def final_func(pos, default=\\'Awesome\\', *args, **kwargs):\\n    print(\"Positional: \", pos)\\n    print(\"Default: \", default)\\n    print(\"variable Arguments: \", args)\\n    print(\"variable key-value arguments: \", kwargs)\\n    ',\n",
       "  'final_func() # ? ',\n",
       "  'final_func(1)',\n",
       "  'final_func(1, 2)',\n",
       "  'final_func(1, 2, 3, 4, 5, 6,7 , 8, 9, 10)',\n",
       "  \"final_func(1, 2, 3, 4, 5, 6,7 , 8, 9, 10, key='value', name='sahcin')\",\n",
       "  \"final_func(1, 2, 3, 4, 5, 6,7 , 8, 9, 10, key='value', name='sachin')\",\n",
       "  \"# keyword only\\ndef myprint(*values, sep='\\\\t', end='\\\\n'):\\n    for value in values:\\n        print(value, sep=sep, end=end)\",\n",
       "  'myprint()',\n",
       "  \"myprint('hello', 'world', 'how', 'are', 'you', '?')\",\n",
       "  \"# keyword only\\ndef myprint(*values, sep=' ', end='\\\\n'):\\n    for value in values:\\n        print(value, sep=sep, end=end)\",\n",
       "  'myprint()',\n",
       "  \"myprint('hello', 'world', 'how', 'are', 'you', '?')\",\n",
       "  \"# keyword only\\ndef myprint(*values, sep=' ', end='\\\\n'):\\n    for value in values:\\n        print(value, end=sep)\\n    print(end=end)\",\n",
       "  'myprint()',\n",
       "  \"myprint('hello', 'world', 'how', 'are', 'you', '?')\",\n",
       "  \"myprint('hello', 'world', 'how', 'are', 'you', '?', sep='\\\\t')\",\n",
       "  \"myprint('hello', 'world', 'how', 'are', 'you', '?', sep='\\\\n')\",\n",
       "  'from tqdm import tqdm\\nfrom time import sleep',\n",
       "  'for _ in tqdm(range(300)):\\n    sleep(1)',\n",
       "  '__name__',\n",
       "  'print(__name__)',\n",
       "  \"name = 'Sachin Yadav'\",\n",
       "  'print(name)',\n",
       "  'print(name) # global variables',\n",
       "  'globals()'],\n",
       " '_oh': {13: True,\n",
       "  14: False,\n",
       "  34: 10,\n",
       "  86: 0,\n",
       "  87: 25,\n",
       "  88: 50,\n",
       "  107: 10,\n",
       "  108: 10,\n",
       "  111: 10,\n",
       "  113: 10,\n",
       "  148: '__main__'},\n",
       " '_dh': ['C:\\\\Users\\\\sachin\\\\Desktop\\\\PythonBootCamp\\\\ClassCode'],\n",
       " 'In': ['',\n",
       "  'print(\"Hello World\".center(100)',\n",
       "  'print(\"Hello World\".center(100))',\n",
       "  'def loan_prediction():\\n    \"\"\"\\n        it will predict wheater a person is eligible for loan or not\\n    \"\"\"\\n    job_type = int(input(\"Enter Job Type: \"))\\n    if job_type == \\'government\\':\\n        print(\"Govt Job\")\\n    elif job_type == \\'business\\':\\n        print(\"Business Job\")\\n    else:\\n        print(\"Private Job\")',\n",
       "  'def loan_prediction():\\n    \"\"\"\\n        it will predict wheater a person is eligible for loan or not\\n    \"\"\"\\n    job_type = input(\"Enter Job Type: \")\\n    if job_type == \\'government\\':\\n        print(\"Govt Job\")\\n    elif job_type == \\'business\\':\\n        print(\"Business Job\")\\n    else:\\n        print(\"Private Job\")',\n",
       "  'loan_prediction()',\n",
       "  'for _ in range(5):\\n    loan_prediction()',\n",
       "  'def can_drink(name, age): # formal parameter\\n    \"\"\"\\n        to check wheather a person can drink or not\\n    \"\"\"\\n    if age >= 18:\\n        print(f\"User {name} can drink alcohol\")\\n    else:\\n        print(f\"User {name} can not drink alcohol\")',\n",
       "  \"can_drik('Sachin', 24)\",\n",
       "  \"can_drink('Sachin', 24)\",\n",
       "  \"can_drink('Sachin', 24) # actual paramenters\",\n",
       "  'def is_even(number):\\n    flag = False\\n    if number % 2 == 0:\\n        flag = True\\n    return Falg\\n    ',\n",
       "  'def is_even(number):\\n    flag = False\\n    if number % 2 == 0:\\n        flag = True\\n    return flag\\n    ',\n",
       "  'is_even(14)',\n",
       "  'is_even(13)',\n",
       "  'def is_even(number):\\n    \"\"\"\\n        Documentation String for is_even\\n        \\n        funciton will return True if number is even else False\\n    \"\"\"\\n    flag = False\\n    if number % 2 == 0:\\n        flag = True\\n    return flag\\n    ',\n",
       "  'help(is_even)',\n",
       "  'print(is_even.__doc__)',\n",
       "  'print(type(True))',\n",
       "  'print(type(False))',\n",
       "  'TRUE',\n",
       "  'def print_info(name, age, country):\\n    \"\"\"\\n        To print information of a Person\\n    \"\"\"',\n",
       "  'def print_info(name, age, country):\\n    \"\"\"\\n        To print information of a Person\\n    \"\"\"\\n    print(f\"Welcome, user {name}.\")\\n    print(f\"You are {age} years old.\")\\n    print(f\"You belongs from {country}.\")',\n",
       "  'print_info(\\'Sachin\\', 24, \"India\")',\n",
       "  'print_info()',\n",
       "  \"print_info('sachin')\",\n",
       "  \"print_info('first', 'second', 'third')\",\n",
       "  \"print_info('first', 'second', 'third', 'four')\",\n",
       "  \"## We can call function using keywords\\nprint_info(country='India', name='Sachin', age=24)\",\n",
       "  \"print_info('Sachin Yadav', country='US', age=16)\",\n",
       "  'print_info(age=16, \"sachin yadav\", country=\\'india\\')',\n",
       "  \"print_info(name='sachin', 16, 'india')\",\n",
       "  \"print_info(16, name='sachin yadav', country='india')\",\n",
       "  'print_info(\"Sachin Yadav\", 24, country=\\'India\\')',\n",
       "  'sum([1, 2, 3,4 ])',\n",
       "  'sum(1, 2,3 ,4 )',\n",
       "  'def square_sum(a, b):\\n    \"\"\"\\n        will return a^2 + b^2\\n    \"\"\"\\n    print(\"Value of a: \", a)\\n    print(\"Value of b: \", b)\\n    print(\"Square sum a^2 + b^2 = \", a**2 + b ** 2)',\n",
       "  'square_sum(4, 5)',\n",
       "  'square_sum(b=10, a=20)',\n",
       "  'square_sum(5) # what is output ? ',\n",
       "  'def type_of_shape(height, width):\\n    if height > 0 and width > 0:\\n        if height != width:\\n            print(\"It is a Rectangle\")\\n        else:\\n            print(\"It is a Square\")\\n    else:\\n        print(\"Invalid Shape\")\\n        ',\n",
       "  'type_of_shape(-100, 0)',\n",
       "  'type_of_shape(100, 100)',\n",
       "  'type_of_shape(100, 200)',\n",
       "  'def square_sum(a, b=0): # a is positional argument but b is a default argument\\n    # value of a is complusory but value of b is optional\\n    \"\"\"\\n        will return a^2 + b^2\\n    \"\"\"\\n    print(\"Value of a: \", a)\\n    print(\"Value of b: \", b)\\n    print(\"Square sum a^2 + b^2 = \", a**2 + b ** 2)',\n",
       "  'square_sum(10, 20)',\n",
       "  'square_sum(10)',\n",
       "  'square_sum()',\n",
       "  'print(\"Hello World\", \"Bye World\")',\n",
       "  'print(\"Hello World\", \"Bye World\", sep=\\'\\\\n\\') # sep=\\' \\', end=\\'\\\\n\\'',\n",
       "  'def s_sum(a=0, b=0):\\n    return a**2 + b**2',\n",
       "  'print(s_sum())',\n",
       "  'print(s_sum(10))',\n",
       "  'print(s_sum(10, 20))',\n",
       "  'print(s_sum(1, 2, 3))',\n",
       "  'x = print(\"Hello World\")',\n",
       "  'print(x)',\n",
       "  'x = input()',\n",
       "  'print(x)',\n",
       "  's = \"Hello World\"',\n",
       "  'r = s.swapcase()',\n",
       "  'print(r)',\n",
       "  \"l = [ 'java', 'c']\",\n",
       "  \"r = l.append('c++')\",\n",
       "  'print(r)',\n",
       "  'help(l.append)',\n",
       "  'help(s.swapcase)',\n",
       "  'help(l.pop)',\n",
       "  'def square_sum(a, b=0):\\n    print(f\"a = {a}\")\\n    print(f\"b = {b}\")\\n    print(f\"a^2 + b^2 = {a**2 + b**2}\")',\n",
       "  'def ss(a, b):\\n    print(f\"a = {a}\")\\n    print(f\"b = {b}\")\\n    print(f\"a^2 + b^2 = {a**2 + b**2}\")',\n",
       "  'ss(10)',\n",
       "  'ss(10, 20)',\n",
       "  'def square_sum(a, b=0):\\n    print(f\"a = {a}\")\\n    print(f\"b = {b}\")\\n    print(f\"a^2 + b^2 = {a**2 + b**2}\")',\n",
       "  'square_sum(10)',\n",
       "  'square_sum(10, 20)',\n",
       "  'help(square_sum)',\n",
       "  'def square_sum(a, b=0):\\n    return a ** 2 + b ** 2',\n",
       "  'r = square_sum(5, 6)',\n",
       "  'print(r)',\n",
       "  'r = square_sum(5)\\nprint(r)',\n",
       "  'r = square_sum(1, 2, 3, 5)',\n",
       "  'def ss(nums):\\n    print(nums)',\n",
       "  'ss([1, 2, 3, 4, 5])',\n",
       "  'def ss(nums):\\n    s = 0\\n    for num in nums:\\n        s = s + num**2\\n    reutrn s',\n",
       "  'def ss(nums):\\n    s = 0\\n    for num in nums:\\n        s = s + num**2\\n    return s',\n",
       "  'ss()',\n",
       "  'ss([])',\n",
       "  'ss([5])',\n",
       "  'ss([5, 4, 3])',\n",
       "  'def sq_sum(*args):\\n    \"\"\"\\n        Example of variable length tuple argument\\n    \"\"\"\\n    print(\"type of args: \", type(args))\\n    print(\"value of args: \", args)',\n",
       "  'sq_sum()',\n",
       "  'sq_sum(1)',\n",
       "  'sq_sum(1, 2,3 ,4 )',\n",
       "  'sq_sum(1, 2, 3, 4,5 , 3, 2, 45, 6,7 )',\n",
       "  \"t = ('java', 'c', 'c++')\",\n",
       "  'for value in t:\\n    print(value) # iteration/traversing',\n",
       "  'def square_sum(*args):\\n    \"\"\"\\n        will return square sum of all values given by user\\n    \"\"\"',\n",
       "  'def square_sum(*args):\\n    \"\"\"\\n        will return square sum of all values given by user\\n    \"\"\"\\n    s = 0\\n    for value in args:\\n        s = s + value **2 \\n    return s',\n",
       "  'print(square_sum())',\n",
       "  'print(square_sum(2))',\n",
       "  'print(square_sum(1, 2, 3, 4, 5))',\n",
       "  'print(square_sum(*range(1, 11)))',\n",
       "  \"print(*range(1, 11), sep='\\\\n')\",\n",
       "  \"print(*range(1, 11), sep=', ')\",\n",
       "  'print(square_sum([1, 2,3 ,4 5]))',\n",
       "  'print(square_sum([1, 2,3 ,4, 5]))',\n",
       "  'print(square_sum(*[1, 2,3 ,4, 5]))',\n",
       "  'sum([1,2 ,3 ,4 ])',\n",
       "  'sum((1, 2,3 ,4 ))',\n",
       "  'sum(1, 3, 4, 5, 6)',\n",
       "  'def mysum(*values):\\n    s = 0\\n    for value in values:\\n        s += value\\n    return s',\n",
       "  'mysum(1, 2, 3, 4)',\n",
       "  'mysum([1,2 ,3 ,4])',\n",
       "  'mysum(*[1, 2,3 , 4])',\n",
       "  'mysum(a=10, b=6)',\n",
       "  'mysum(values=(1, 2, 3, 4))',\n",
       "  'def func(**kwargs):',\n",
       "  'def func(**kwargs):\\n    \"\"\"\\n        to process values with keys, or key-value pair data in function calling\\n    \"\"\"\\n    print(type(kwargs), kwargs)',\n",
       "  'func()',\n",
       "  'func(1, 2, 3)',\n",
       "  \"func(name='sachin', age=24, country='India', blood_group='B+ive')\",\n",
       "  'def print_dict(**kwargs):\\n    \"\"\"\\n        to print a dictionary\\n    \"\"\"\\n    for key, value in kwargs.items():\\n        print(f\"{key:>15} = {value}\")',\n",
       "  'print_dict()',\n",
       "  'print_dict(1, 2, 3)',\n",
       "  \"print_dict(name='sachin', age=24)\",\n",
       "  \"info = {'name': 'sachin', 'age': 24, 'country': 'India', 'blood_group': 'B+ive'}\",\n",
       "  'print_dict(info)',\n",
       "  \"# *[1, 2, 3, 4] -> 1, 2, 3, 4\\n# **{'key':'value', 'achaa':'haa'} -> key='value', achaa='haa'\\nprint_dict(**info)\",\n",
       "  'def final_func(pos, default=\\'Awesome\\', *args, **kwargs):\\n    print(\"Positional: \", pos)\\n    print(\"Default: \", default)\\n    print(\"variable Arguments: \", args)\\n    print(\"variable key-value arguments: \", kwargs)\\n    ',\n",
       "  'final_func() # ? ',\n",
       "  'final_func(1)',\n",
       "  'final_func(1, 2)',\n",
       "  'final_func(1, 2, 3, 4, 5, 6,7 , 8, 9, 10)',\n",
       "  \"final_func(1, 2, 3, 4, 5, 6,7 , 8, 9, 10, key='value', name='sahcin')\",\n",
       "  \"final_func(1, 2, 3, 4, 5, 6,7 , 8, 9, 10, key='value', name='sachin')\",\n",
       "  \"# keyword only\\ndef myprint(*values, sep='\\\\t', end='\\\\n'):\\n    for value in values:\\n        print(value, sep=sep, end=end)\",\n",
       "  'myprint()',\n",
       "  \"myprint('hello', 'world', 'how', 'are', 'you', '?')\",\n",
       "  \"# keyword only\\ndef myprint(*values, sep=' ', end='\\\\n'):\\n    for value in values:\\n        print(value, sep=sep, end=end)\",\n",
       "  'myprint()',\n",
       "  \"myprint('hello', 'world', 'how', 'are', 'you', '?')\",\n",
       "  \"# keyword only\\ndef myprint(*values, sep=' ', end='\\\\n'):\\n    for value in values:\\n        print(value, end=sep)\\n    print(end=end)\",\n",
       "  'myprint()',\n",
       "  \"myprint('hello', 'world', 'how', 'are', 'you', '?')\",\n",
       "  \"myprint('hello', 'world', 'how', 'are', 'you', '?', sep='\\\\t')\",\n",
       "  \"myprint('hello', 'world', 'how', 'are', 'you', '?', sep='\\\\n')\",\n",
       "  'from tqdm import tqdm\\nfrom time import sleep',\n",
       "  'for _ in tqdm(range(300)):\\n    sleep(1)',\n",
       "  '__name__',\n",
       "  'print(__name__)',\n",
       "  \"name = 'Sachin Yadav'\",\n",
       "  'print(name)',\n",
       "  'print(name) # global variables',\n",
       "  'globals()'],\n",
       " 'Out': {13: True,\n",
       "  14: False,\n",
       "  34: 10,\n",
       "  86: 0,\n",
       "  87: 25,\n",
       "  88: 50,\n",
       "  107: 10,\n",
       "  108: 10,\n",
       "  111: 10,\n",
       "  113: 10,\n",
       "  148: '__main__'},\n",
       " 'get_ipython': <bound method InteractiveShell.get_ipython of <ipykernel.zmqshell.ZMQInteractiveShell object at 0x0000028F370B5190>>,\n",
       " 'exit': <IPython.core.autocall.ZMQExitAutocall at 0x28f37141cd0>,\n",
       " 'quit': <IPython.core.autocall.ZMQExitAutocall at 0x28f37141cd0>,\n",
       " '_': 299,\n",
       " '__': '',\n",
       " '___': '',\n",
       " '_i': 'print(name) # global variables',\n",
       " '_ii': 'print(name)',\n",
       " '_iii': \"name = 'Sachin Yadav'\",\n",
       " '_i1': 'print(\"Hello World\".center(100)',\n",
       " '_i2': 'print(\"Hello World\".center(100))',\n",
       " '_i3': 'def loan_prediction():\\n    \"\"\"\\n        it will predict wheater a person is eligible for loan or not\\n    \"\"\"\\n    job_type = int(input(\"Enter Job Type: \"))\\n    if job_type == \\'government\\':\\n        print(\"Govt Job\")\\n    elif job_type == \\'business\\':\\n        print(\"Business Job\")\\n    else:\\n        print(\"Private Job\")',\n",
       " 'loan_prediction': <function __main__.loan_prediction()>,\n",
       " '_i4': 'def loan_prediction():\\n    \"\"\"\\n        it will predict wheater a person is eligible for loan or not\\n    \"\"\"\\n    job_type = input(\"Enter Job Type: \")\\n    if job_type == \\'government\\':\\n        print(\"Govt Job\")\\n    elif job_type == \\'business\\':\\n        print(\"Business Job\")\\n    else:\\n        print(\"Private Job\")',\n",
       " '_i5': 'loan_prediction()',\n",
       " '_i6': 'for _ in range(5):\\n    loan_prediction()',\n",
       " '_i7': 'def can_drink(name, age): # formal parameter\\n    \"\"\"\\n        to check wheather a person can drink or not\\n    \"\"\"\\n    if age >= 18:\\n        print(f\"User {name} can drink alcohol\")\\n    else:\\n        print(f\"User {name} can not drink alcohol\")',\n",
       " 'can_drink': <function __main__.can_drink(name, age)>,\n",
       " '_i8': \"can_drik('Sachin', 24)\",\n",
       " '_i9': \"can_drink('Sachin', 24)\",\n",
       " '_i10': \"can_drink('Sachin', 24) # actual paramenters\",\n",
       " '_i11': 'def is_even(number):\\n    flag = False\\n    if number % 2 == 0:\\n        flag = True\\n    return Falg\\n    ',\n",
       " 'is_even': <function __main__.is_even(number)>,\n",
       " '_i12': 'def is_even(number):\\n    flag = False\\n    if number % 2 == 0:\\n        flag = True\\n    return flag\\n    ',\n",
       " '_i13': 'is_even(14)',\n",
       " '_13': True,\n",
       " '_i14': 'is_even(13)',\n",
       " '_14': False,\n",
       " '_i15': 'def is_even(number):\\n    \"\"\"\\n        Documentation String for is_even\\n        \\n        funciton will return True if number is even else False\\n    \"\"\"\\n    flag = False\\n    if number % 2 == 0:\\n        flag = True\\n    return flag\\n    ',\n",
       " '_i16': 'help(is_even)',\n",
       " '_i17': 'print(is_even.__doc__)',\n",
       " '_i18': 'print(type(True))',\n",
       " '_i19': 'print(type(False))',\n",
       " '_i20': 'TRUE',\n",
       " '_i21': 'def print_info(name, age, country):\\n    \"\"\"\\n        To print information of a Person\\n    \"\"\"',\n",
       " 'print_info': <function __main__.print_info(name, age, country)>,\n",
       " '_i22': 'def print_info(name, age, country):\\n    \"\"\"\\n        To print information of a Person\\n    \"\"\"\\n    print(f\"Welcome, user {name}.\")\\n    print(f\"You are {age} years old.\")\\n    print(f\"You belongs from {country}.\")',\n",
       " '_i23': 'print_info(\\'Sachin\\', 24, \"India\")',\n",
       " '_i24': 'print_info()',\n",
       " '_i25': \"print_info('sachin')\",\n",
       " '_i26': \"print_info('first', 'second', 'third')\",\n",
       " '_i27': \"print_info('first', 'second', 'third', 'four')\",\n",
       " '_i28': \"## We can call function using keywords\\nprint_info(country='India', name='Sachin', age=24)\",\n",
       " '_i29': \"print_info('Sachin Yadav', country='US', age=16)\",\n",
       " '_i30': 'print_info(age=16, \"sachin yadav\", country=\\'india\\')',\n",
       " '_i31': \"print_info(name='sachin', 16, 'india')\",\n",
       " '_i32': \"print_info(16, name='sachin yadav', country='india')\",\n",
       " '_i33': 'print_info(\"Sachin Yadav\", 24, country=\\'India\\')',\n",
       " '_i34': 'sum([1, 2, 3,4 ])',\n",
       " '_34': 10,\n",
       " '_i35': 'sum(1, 2,3 ,4 )',\n",
       " '_i36': 'def square_sum(a, b):\\n    \"\"\"\\n        will return a^2 + b^2\\n    \"\"\"\\n    print(\"Value of a: \", a)\\n    print(\"Value of b: \", b)\\n    print(\"Square sum a^2 + b^2 = \", a**2 + b ** 2)',\n",
       " 'square_sum': <function __main__.square_sum(*args)>,\n",
       " '_i37': 'square_sum(4, 5)',\n",
       " '_i38': 'square_sum(b=10, a=20)',\n",
       " '_i39': 'square_sum(5) # what is output ? ',\n",
       " '_i40': 'def type_of_shape(height, width):\\n    if height > 0 and width > 0:\\n        if height != width:\\n            print(\"It is a Rectangle\")\\n        else:\\n            print(\"It is a Square\")\\n    else:\\n        print(\"Invalid Shape\")\\n        ',\n",
       " 'type_of_shape': <function __main__.type_of_shape(height, width)>,\n",
       " '_i41': 'type_of_shape(-100, 0)',\n",
       " '_i42': 'type_of_shape(100, 100)',\n",
       " '_i43': 'type_of_shape(100, 200)',\n",
       " '_i44': 'def square_sum(a, b=0): # a is positional argument but b is a default argument\\n    # value of a is complusory but value of b is optional\\n    \"\"\"\\n        will return a^2 + b^2\\n    \"\"\"\\n    print(\"Value of a: \", a)\\n    print(\"Value of b: \", b)\\n    print(\"Square sum a^2 + b^2 = \", a**2 + b ** 2)',\n",
       " '_i45': 'square_sum(10, 20)',\n",
       " '_i46': 'square_sum(10)',\n",
       " '_i47': 'square_sum()',\n",
       " '_i48': 'print(\"Hello World\", \"Bye World\")',\n",
       " '_i49': 'print(\"Hello World\", \"Bye World\", sep=\\'\\\\n\\') # sep=\\' \\', end=\\'\\\\n\\'',\n",
       " '_i50': 'def s_sum(a=0, b=0):\\n    return a**2 + b**2',\n",
       " 's_sum': <function __main__.s_sum(a=0, b=0)>,\n",
       " '_i51': 'print(s_sum())',\n",
       " '_i52': 'print(s_sum(10))',\n",
       " '_i53': 'print(s_sum(10, 20))',\n",
       " '_i54': 'print(s_sum(1, 2, 3))',\n",
       " '_i55': 'x = print(\"Hello World\")',\n",
       " 'x': 'some input',\n",
       " '_i56': 'print(x)',\n",
       " '_i57': 'x = input()',\n",
       " '_i58': 'print(x)',\n",
       " '_i59': 's = \"Hello World\"',\n",
       " 's': 'Hello World',\n",
       " '_i60': 'r = s.swapcase()',\n",
       " 'r': 25,\n",
       " '_i61': 'print(r)',\n",
       " '_i62': \"l = [ 'java', 'c']\",\n",
       " 'l': ['java', 'c', 'c++'],\n",
       " '_i63': \"r = l.append('c++')\",\n",
       " '_i64': 'print(r)',\n",
       " '_i65': 'help(l.append)',\n",
       " '_i66': 'help(s.swapcase)',\n",
       " '_i67': 'help(l.pop)',\n",
       " '_i68': 'def square_sum(a, b=0):\\n    print(f\"a = {a}\")\\n    print(f\"b = {b}\")\\n    print(f\"a^2 + b^2 = {a**2 + b**2}\")',\n",
       " '_i69': 'def ss(a, b):\\n    print(f\"a = {a}\")\\n    print(f\"b = {b}\")\\n    print(f\"a^2 + b^2 = {a**2 + b**2}\")',\n",
       " 'ss': <function __main__.ss(nums)>,\n",
       " '_i70': 'ss(10)',\n",
       " '_i71': 'ss(10, 20)',\n",
       " '_i72': 'def square_sum(a, b=0):\\n    print(f\"a = {a}\")\\n    print(f\"b = {b}\")\\n    print(f\"a^2 + b^2 = {a**2 + b**2}\")',\n",
       " '_i73': 'square_sum(10)',\n",
       " '_i74': 'square_sum(10, 20)',\n",
       " '_i75': 'help(square_sum)',\n",
       " '_i76': 'def square_sum(a, b=0):\\n    return a ** 2 + b ** 2',\n",
       " '_i77': 'r = square_sum(5, 6)',\n",
       " '_i78': 'print(r)',\n",
       " '_i79': 'r = square_sum(5)\\nprint(r)',\n",
       " '_i80': 'r = square_sum(1, 2, 3, 5)',\n",
       " '_i81': 'def ss(nums):\\n    print(nums)',\n",
       " '_i82': 'ss([1, 2, 3, 4, 5])',\n",
       " '_i83': 'def ss(nums):\\n    s = 0\\n    for num in nums:\\n        s = s + num**2\\n    reutrn s',\n",
       " '_i84': 'def ss(nums):\\n    s = 0\\n    for num in nums:\\n        s = s + num**2\\n    return s',\n",
       " '_i85': 'ss()',\n",
       " '_i86': 'ss([])',\n",
       " '_86': 0,\n",
       " '_i87': 'ss([5])',\n",
       " '_87': 25,\n",
       " '_i88': 'ss([5, 4, 3])',\n",
       " '_88': 50,\n",
       " '_i89': 'def sq_sum(*args):\\n    \"\"\"\\n        Example of variable length tuple argument\\n    \"\"\"\\n    print(\"type of args: \", type(args))\\n    print(\"value of args: \", args)',\n",
       " 'sq_sum': <function __main__.sq_sum(*args)>,\n",
       " '_i90': 'sq_sum()',\n",
       " '_i91': 'sq_sum(1)',\n",
       " '_i92': 'sq_sum(1, 2,3 ,4 )',\n",
       " '_i93': 'sq_sum(1, 2, 3, 4,5 , 3, 2, 45, 6,7 )',\n",
       " '_i94': \"t = ('java', 'c', 'c++')\",\n",
       " 't': ('java', 'c', 'c++'),\n",
       " '_i95': 'for value in t:\\n    print(value) # iteration/traversing',\n",
       " 'value': 'c++',\n",
       " '_i96': 'def square_sum(*args):\\n    \"\"\"\\n        will return square sum of all values given by user\\n    \"\"\"',\n",
       " '_i97': 'def square_sum(*args):\\n    \"\"\"\\n        will return square sum of all values given by user\\n    \"\"\"\\n    s = 0\\n    for value in args:\\n        s = s + value **2 \\n    return s',\n",
       " '_i98': 'print(square_sum())',\n",
       " '_i99': 'print(square_sum(2))',\n",
       " '_i100': 'print(square_sum(1, 2, 3, 4, 5))',\n",
       " '_i101': 'print(square_sum(*range(1, 11)))',\n",
       " '_i102': \"print(*range(1, 11), sep='\\\\n')\",\n",
       " '_i103': \"print(*range(1, 11), sep=', ')\",\n",
       " '_i104': 'print(square_sum([1, 2,3 ,4 5]))',\n",
       " '_i105': 'print(square_sum([1, 2,3 ,4, 5]))',\n",
       " '_i106': 'print(square_sum(*[1, 2,3 ,4, 5]))',\n",
       " '_i107': 'sum([1,2 ,3 ,4 ])',\n",
       " '_107': 10,\n",
       " '_i108': 'sum((1, 2,3 ,4 ))',\n",
       " '_108': 10,\n",
       " '_i109': 'sum(1, 3, 4, 5, 6)',\n",
       " '_i110': 'def mysum(*values):\\n    s = 0\\n    for value in values:\\n        s += value\\n    return s',\n",
       " 'mysum': <function __main__.mysum(*values)>,\n",
       " '_i111': 'mysum(1, 2, 3, 4)',\n",
       " '_111': 10,\n",
       " '_i112': 'mysum([1,2 ,3 ,4])',\n",
       " '_i113': 'mysum(*[1, 2,3 , 4])',\n",
       " '_113': 10,\n",
       " '_i114': 'mysum(a=10, b=6)',\n",
       " '_i115': 'mysum(values=(1, 2, 3, 4))',\n",
       " '_i116': 'def func(**kwargs):',\n",
       " '_i117': 'def func(**kwargs):\\n    \"\"\"\\n        to process values with keys, or key-value pair data in function calling\\n    \"\"\"\\n    print(type(kwargs), kwargs)',\n",
       " 'func': <function __main__.func(**kwargs)>,\n",
       " '_i118': 'func()',\n",
       " '_i119': 'func(1, 2, 3)',\n",
       " '_i120': \"func(name='sachin', age=24, country='India', blood_group='B+ive')\",\n",
       " '_i121': 'def print_dict(**kwargs):\\n    \"\"\"\\n        to print a dictionary\\n    \"\"\"\\n    for key, value in kwargs.items():\\n        print(f\"{key:>15} = {value}\")',\n",
       " 'print_dict': <function __main__.print_dict(**kwargs)>,\n",
       " '_i122': 'print_dict()',\n",
       " '_i123': 'print_dict(1, 2, 3)',\n",
       " '_i124': \"print_dict(name='sachin', age=24)\",\n",
       " '_i125': \"info = {'name': 'sachin', 'age': 24, 'country': 'India', 'blood_group': 'B+ive'}\",\n",
       " 'info': {'name': 'sachin',\n",
       "  'age': 24,\n",
       "  'country': 'India',\n",
       "  'blood_group': 'B+ive'},\n",
       " '_i126': 'print_dict(info)',\n",
       " '_i127': \"# *[1, 2, 3, 4] -> 1, 2, 3, 4\\n# **{'key':'value', 'achaa':'haa'} -> key='value', achaa='haa'\\nprint_dict(**info)\",\n",
       " '_i128': 'def final_func(pos, default=\\'Awesome\\', *args, **kwargs):\\n    print(\"Positional: \", pos)\\n    print(\"Default: \", default)\\n    print(\"variable Arguments: \", args)\\n    print(\"variable key-value arguments: \", kwargs)\\n    ',\n",
       " 'final_func': <function __main__.final_func(pos, default='Awesome', *args, **kwargs)>,\n",
       " '_i129': 'final_func() # ? ',\n",
       " '_i130': 'final_func(1)',\n",
       " '_i131': 'final_func(1, 2)',\n",
       " '_i132': 'final_func(1, 2, 3, 4, 5, 6,7 , 8, 9, 10)',\n",
       " '_i133': \"final_func(1, 2, 3, 4, 5, 6,7 , 8, 9, 10, key='value', name='sahcin')\",\n",
       " '_i134': \"final_func(1, 2, 3, 4, 5, 6,7 , 8, 9, 10, key='value', name='sachin')\",\n",
       " '_i135': \"# keyword only\\ndef myprint(*values, sep='\\\\t', end='\\\\n'):\\n    for value in values:\\n        print(value, sep=sep, end=end)\",\n",
       " 'myprint': <function __main__.myprint(*values, sep=' ', end='\\n')>,\n",
       " '_i136': 'myprint()',\n",
       " '_i137': \"myprint('hello', 'world', 'how', 'are', 'you', '?')\",\n",
       " '_i138': \"# keyword only\\ndef myprint(*values, sep=' ', end='\\\\n'):\\n    for value in values:\\n        print(value, sep=sep, end=end)\",\n",
       " '_i139': 'myprint()',\n",
       " '_i140': \"myprint('hello', 'world', 'how', 'are', 'you', '?')\",\n",
       " '_i141': \"# keyword only\\ndef myprint(*values, sep=' ', end='\\\\n'):\\n    for value in values:\\n        print(value, end=sep)\\n    print(end=end)\",\n",
       " '_i142': 'myprint()',\n",
       " '_i143': \"myprint('hello', 'world', 'how', 'are', 'you', '?')\",\n",
       " '_i144': \"myprint('hello', 'world', 'how', 'are', 'you', '?', sep='\\\\t')\",\n",
       " '_i145': \"myprint('hello', 'world', 'how', 'are', 'you', '?', sep='\\\\n')\",\n",
       " '_i146': 'from tqdm import tqdm\\nfrom time import sleep',\n",
       " 'tqdm': tqdm.std.tqdm,\n",
       " 'sleep': <function time.sleep>,\n",
       " '_i147': 'for _ in tqdm(range(300)):\\n    sleep(1)',\n",
       " '_i148': '__name__',\n",
       " '_148': '__main__',\n",
       " '_i149': 'print(__name__)',\n",
       " '_i150': \"name = 'Sachin Yadav'\",\n",
       " 'name': 'Sachin Yadav',\n",
       " '_i151': 'print(name)',\n",
       " '_i152': 'print(name) # global variables',\n",
       " '_i153': 'globals()'}"
      ]
     },
     "execution_count": 153,
     "metadata": {},
     "output_type": "execute_result"
    }
   ],
   "source": [
    "globals() # variables stored in a global space"
   ]
  },
  {
   "cell_type": "code",
   "execution_count": 155,
   "metadata": {},
   "outputs": [
    {
     "name": "stdout",
     "output_type": "stream",
     "text": [
      "Sachin Yadav\n"
     ]
    }
   ],
   "source": [
    "print(name)"
   ]
  },
  {
   "cell_type": "code",
   "execution_count": 156,
   "metadata": {},
   "outputs": [
    {
     "name": "stdout",
     "output_type": "stream",
     "text": [
      "hi helll\n"
     ]
    }
   ],
   "source": [
    "print('hi helll')"
   ]
  },
  {
   "cell_type": "code",
   "execution_count": 157,
   "metadata": {},
   "outputs": [
    {
     "name": "stdout",
     "output_type": "stream",
     "text": [
      "Sachin Yadav\n"
     ]
    }
   ],
   "source": [
    "print(name) # global variable "
   ]
  },
  {
   "cell_type": "code",
   "execution_count": 1,
   "metadata": {},
   "outputs": [
    {
     "ename": "NameError",
     "evalue": "name 'name' is not defined",
     "output_type": "error",
     "traceback": [
      "\u001b[1;31m---------------------------------------------------------------------------\u001b[0m",
      "\u001b[1;31mNameError\u001b[0m                                 Traceback (most recent call last)",
      "\u001b[1;32m<ipython-input-1-9bc0cb2ed6de>\u001b[0m in \u001b[0;36m<module>\u001b[1;34m\u001b[0m\n\u001b[1;32m----> 1\u001b[1;33m \u001b[0mname\u001b[0m\u001b[1;33m\u001b[0m\u001b[1;33m\u001b[0m\u001b[0m\n\u001b[0m",
      "\u001b[1;31mNameError\u001b[0m: name 'name' is not defined"
     ]
    }
   ],
   "source": [
    "name"
   ]
  },
  {
   "cell_type": "code",
   "execution_count": 2,
   "metadata": {},
   "outputs": [
    {
     "name": "stdout",
     "output_type": "stream",
     "text": [
      "hello world\n"
     ]
    }
   ],
   "source": [
    "print(\"hello world\")"
   ]
  },
  {
   "cell_type": "code",
   "execution_count": 3,
   "metadata": {},
   "outputs": [],
   "source": [
    "p = print"
   ]
  },
  {
   "cell_type": "code",
   "execution_count": 4,
   "metadata": {},
   "outputs": [
    {
     "name": "stdout",
     "output_type": "stream",
     "text": [
      "1690141920848\n"
     ]
    }
   ],
   "source": [
    "print(id(p))"
   ]
  },
  {
   "cell_type": "code",
   "execution_count": 5,
   "metadata": {},
   "outputs": [
    {
     "name": "stdout",
     "output_type": "stream",
     "text": [
      "1690141920848\n"
     ]
    }
   ],
   "source": [
    "print(id(print))"
   ]
  },
  {
   "cell_type": "code",
   "execution_count": 6,
   "metadata": {},
   "outputs": [
    {
     "name": "stdout",
     "output_type": "stream",
     "text": [
      "Hello World\n"
     ]
    }
   ],
   "source": [
    "p(\"Hello World\")"
   ]
  },
  {
   "cell_type": "code",
   "execution_count": 7,
   "metadata": {},
   "outputs": [
    {
     "name": "stdout",
     "output_type": "stream",
     "text": [
      "Help on built-in function print in module builtins:\n",
      "\n",
      "print(...)\n",
      "    print(value, ..., sep=' ', end='\\n', file=sys.stdout, flush=False)\n",
      "    \n",
      "    Prints the values to a stream, or to sys.stdout by default.\n",
      "    Optional keyword arguments:\n",
      "    file:  a file-like object (stream); defaults to the current sys.stdout.\n",
      "    sep:   string inserted between values, default a space.\n",
      "    end:   string appended after the last value, default a newline.\n",
      "    flush: whether to forcibly flush the stream.\n",
      "\n"
     ]
    }
   ],
   "source": [
    "help(p)"
   ]
  },
  {
   "cell_type": "code",
   "execution_count": 8,
   "metadata": {},
   "outputs": [],
   "source": [
    "i = input # alias"
   ]
  },
  {
   "cell_type": "code",
   "execution_count": 9,
   "metadata": {},
   "outputs": [
    {
     "name": "stdout",
     "output_type": "stream",
     "text": [
      "'hello'\n"
     ]
    },
    {
     "data": {
      "text/plain": [
       "\"'hello'\""
      ]
     },
     "execution_count": 9,
     "metadata": {},
     "output_type": "execute_result"
    }
   ],
   "source": [
    "i()"
   ]
  },
  {
   "cell_type": "code",
   "execution_count": 10,
   "metadata": {},
   "outputs": [
    {
     "data": {
      "text/plain": [
       "builtin_function_or_method"
      ]
     },
     "execution_count": 10,
     "metadata": {},
     "output_type": "execute_result"
    }
   ],
   "source": [
    "type(print)"
   ]
  },
  {
   "cell_type": "code",
   "execution_count": 11,
   "metadata": {},
   "outputs": [],
   "source": [
    "def hello(name):\n",
    "    print(\"Hello World\", name)"
   ]
  },
  {
   "cell_type": "code",
   "execution_count": 12,
   "metadata": {},
   "outputs": [
    {
     "name": "stdout",
     "output_type": "stream",
     "text": [
      "Hello World sachin\n"
     ]
    }
   ],
   "source": [
    "hello('sachin')"
   ]
  },
  {
   "cell_type": "code",
   "execution_count": 13,
   "metadata": {},
   "outputs": [
    {
     "name": "stdout",
     "output_type": "stream",
     "text": [
      "<class 'function'>\n"
     ]
    }
   ],
   "source": [
    "print(type(hello))"
   ]
  },
  {
   "cell_type": "code",
   "execution_count": null,
   "metadata": {},
   "outputs": [],
   "source": []
  },
  {
   "cell_type": "code",
   "execution_count": null,
   "metadata": {},
   "outputs": [],
   "source": []
  },
  {
   "cell_type": "code",
   "execution_count": null,
   "metadata": {},
   "outputs": [],
   "source": []
  },
  {
   "cell_type": "code",
   "execution_count": null,
   "metadata": {},
   "outputs": [],
   "source": []
  },
  {
   "cell_type": "code",
   "execution_count": null,
   "metadata": {},
   "outputs": [],
   "source": []
  },
  {
   "cell_type": "code",
   "execution_count": null,
   "metadata": {},
   "outputs": [],
   "source": []
  },
  {
   "cell_type": "code",
   "execution_count": null,
   "metadata": {},
   "outputs": [],
   "source": []
  },
  {
   "cell_type": "code",
   "execution_count": null,
   "metadata": {},
   "outputs": [],
   "source": []
  },
  {
   "cell_type": "code",
   "execution_count": null,
   "metadata": {},
   "outputs": [],
   "source": []
  },
  {
   "cell_type": "markdown",
   "metadata": {},
   "source": [
    "### Scope"
   ]
  },
  {
   "cell_type": "code",
   "execution_count": 1,
   "metadata": {},
   "outputs": [],
   "source": [
    "def hello(name):\n",
    "    print(\"Hello, \", name)"
   ]
  },
  {
   "cell_type": "code",
   "execution_count": 2,
   "metadata": {},
   "outputs": [
    {
     "name": "stdout",
     "output_type": "stream",
     "text": [
      "Hello,  Sachin yadav\n"
     ]
    }
   ],
   "source": [
    "hello(\"Sachin yadav\")"
   ]
  },
  {
   "cell_type": "code",
   "execution_count": 3,
   "metadata": {},
   "outputs": [
    {
     "ename": "NameError",
     "evalue": "name 'name' is not defined",
     "output_type": "error",
     "traceback": [
      "\u001b[1;31m---------------------------------------------------------------------------\u001b[0m",
      "\u001b[1;31mNameError\u001b[0m                                 Traceback (most recent call last)",
      "\u001b[1;32m<ipython-input-3-9ba126b17b03>\u001b[0m in \u001b[0;36m<module>\u001b[1;34m\u001b[0m\n\u001b[1;32m----> 1\u001b[1;33m \u001b[0mprint\u001b[0m\u001b[1;33m(\u001b[0m\u001b[0mname\u001b[0m\u001b[1;33m)\u001b[0m\u001b[1;33m\u001b[0m\u001b[1;33m\u001b[0m\u001b[0m\n\u001b[0m",
      "\u001b[1;31mNameError\u001b[0m: name 'name' is not defined"
     ]
    }
   ],
   "source": [
    "print(name)"
   ]
  },
  {
   "cell_type": "markdown",
   "metadata": {},
   "source": [
    "__Scoping__"
   ]
  },
  {
   "cell_type": "code",
   "execution_count": null,
   "metadata": {},
   "outputs": [],
   "source": []
  },
  {
   "cell_type": "code",
   "execution_count": null,
   "metadata": {},
   "outputs": [],
   "source": [
    "1-2 projects"
   ]
  },
  {
   "cell_type": "markdown",
   "metadata": {},
   "source": [
    "    File-Handling & Data Serilization"
   ]
  },
  {
   "cell_type": "markdown",
   "metadata": {},
   "source": [
    "map, reduce\n",
    "\n",
    "OOPS\n",
    "\n",
    "Exception Handling\n",
    "\n",
    "Libraries\n",
    "\n",
    "Data Structure\n",
    "\n",
    "Web Development\n",
    "\n",
    "Graphical Application\n",
    "\n"
   ]
  },
  {
   "cell_type": "markdown",
   "metadata": {},
   "source": [
    "50-60 % "
   ]
  },
  {
   "cell_type": "code",
   "execution_count": 6,
   "metadata": {},
   "outputs": [],
   "source": [
    "from tqdm import tqdm"
   ]
  },
  {
   "cell_type": "code",
   "execution_count": 9,
   "metadata": {},
   "outputs": [],
   "source": [
    "from time import sleep"
   ]
  },
  {
   "cell_type": "code",
   "execution_count": 10,
   "metadata": {},
   "outputs": [
    {
     "name": "stderr",
     "output_type": "stream",
     "text": [
      "\n",
      "  0%|                                                                                              | 0/6 [00:00<?, ?it/s]\u001b[A"
     ]
    },
    {
     "name": "stdout",
     "output_type": "stream",
     "text": [
      "s\n"
     ]
    },
    {
     "name": "stderr",
     "output_type": "stream",
     "text": [
      "\n",
      " 17%|██████████████▎                                                                       | 1/6 [00:01<00:05,  1.01s/it]\u001b[A"
     ]
    },
    {
     "name": "stdout",
     "output_type": "stream",
     "text": [
      "a\n"
     ]
    },
    {
     "name": "stderr",
     "output_type": "stream",
     "text": [
      "\n",
      " 33%|████████████████████████████▋                                                         | 2/6 [00:02<00:04,  1.01s/it]\u001b[A"
     ]
    },
    {
     "name": "stdout",
     "output_type": "stream",
     "text": [
      "c\n"
     ]
    },
    {
     "name": "stderr",
     "output_type": "stream",
     "text": [
      "\n",
      " 50%|███████████████████████████████████████████                                           | 3/6 [00:03<00:03,  1.01s/it]\u001b[A"
     ]
    },
    {
     "name": "stdout",
     "output_type": "stream",
     "text": [
      "h\n"
     ]
    },
    {
     "name": "stderr",
     "output_type": "stream",
     "text": [
      "\n",
      " 67%|█████████████████████████████████████████████████████████▎                            | 4/6 [00:04<00:02,  1.01s/it]\u001b[A"
     ]
    },
    {
     "name": "stdout",
     "output_type": "stream",
     "text": [
      "i\n"
     ]
    },
    {
     "name": "stderr",
     "output_type": "stream",
     "text": [
      "\n",
      " 83%|███████████████████████████████████████████████████████████████████████▋              | 5/6 [00:05<00:01,  1.01s/it]\u001b[A"
     ]
    },
    {
     "name": "stdout",
     "output_type": "stream",
     "text": [
      "n\n"
     ]
    },
    {
     "name": "stderr",
     "output_type": "stream",
     "text": [
      "\n",
      "100%|██████████████████████████████████████████████████████████████████████████████████████| 6/6 [00:06<00:00,  1.01s/it]\u001b[A\n"
     ]
    }
   ],
   "source": [
    "for var in tqdm(\"sachin\"):\n",
    "    print(var)\n",
    "    sleep(1)"
   ]
  },
  {
   "cell_type": "markdown",
   "metadata": {},
   "source": [
    "    for var in tqdm(*\"sachin\"):\n",
    "        print(var)\n",
    "        sleep(1)"
   ]
  },
  {
   "cell_type": "code",
   "execution_count": 11,
   "metadata": {},
   "outputs": [
    {
     "ename": "AttributeError",
     "evalue": "'str' object has no attribute 'write'",
     "output_type": "error",
     "traceback": [
      "\u001b[1;31m---------------------------------------------------------------------------\u001b[0m",
      "\u001b[1;31mAttributeError\u001b[0m                            Traceback (most recent call last)",
      "\u001b[1;32m<ipython-input-11-6cc0361e40a2>\u001b[0m in \u001b[0;36m<module>\u001b[1;34m\u001b[0m\n\u001b[1;32m----> 1\u001b[1;33m \u001b[0mtqdm\u001b[0m\u001b[1;33m(\u001b[0m\u001b[1;34m's'\u001b[0m\u001b[1;33m,\u001b[0m \u001b[1;34m'a'\u001b[0m\u001b[1;33m,\u001b[0m \u001b[1;34m'c'\u001b[0m\u001b[1;33m,\u001b[0m \u001b[1;34m'h'\u001b[0m\u001b[1;33m,\u001b[0m \u001b[1;34m'i'\u001b[0m\u001b[1;33m,\u001b[0m \u001b[1;34m'n'\u001b[0m\u001b[1;33m)\u001b[0m\u001b[1;33m\u001b[0m\u001b[1;33m\u001b[0m\u001b[0m\n\u001b[0m",
      "\u001b[1;32mC:\\ProgramData\\Anaconda3\\lib\\site-packages\\tqdm\\std.py\u001b[0m in \u001b[0;36m__init__\u001b[1;34m(self, iterable, desc, total, leave, file, ncols, mininterval, maxinterval, miniters, ascii, disable, unit, unit_scale, dynamic_ncols, smoothing, bar_format, initial, position, postfix, unit_divisor, write_bytes, lock_args, nrows, gui, **kwargs)\u001b[0m\n\u001b[0;32m   1048\u001b[0m             \u001b[1;31m# Initialize the screen printer\u001b[0m\u001b[1;33m\u001b[0m\u001b[1;33m\u001b[0m\u001b[1;33m\u001b[0m\u001b[0m\n\u001b[0;32m   1049\u001b[0m             \u001b[0mself\u001b[0m\u001b[1;33m.\u001b[0m\u001b[0msp\u001b[0m \u001b[1;33m=\u001b[0m \u001b[0mself\u001b[0m\u001b[1;33m.\u001b[0m\u001b[0mstatus_printer\u001b[0m\u001b[1;33m(\u001b[0m\u001b[0mself\u001b[0m\u001b[1;33m.\u001b[0m\u001b[0mfp\u001b[0m\u001b[1;33m)\u001b[0m\u001b[1;33m\u001b[0m\u001b[1;33m\u001b[0m\u001b[0m\n\u001b[1;32m-> 1050\u001b[1;33m             \u001b[0mself\u001b[0m\u001b[1;33m.\u001b[0m\u001b[0mrefresh\u001b[0m\u001b[1;33m(\u001b[0m\u001b[0mlock_args\u001b[0m\u001b[1;33m=\u001b[0m\u001b[0mself\u001b[0m\u001b[1;33m.\u001b[0m\u001b[0mlock_args\u001b[0m\u001b[1;33m)\u001b[0m\u001b[1;33m\u001b[0m\u001b[1;33m\u001b[0m\u001b[0m\n\u001b[0m\u001b[0;32m   1051\u001b[0m \u001b[1;33m\u001b[0m\u001b[0m\n\u001b[0;32m   1052\u001b[0m         \u001b[1;31m# Init the time counter\u001b[0m\u001b[1;33m\u001b[0m\u001b[1;33m\u001b[0m\u001b[1;33m\u001b[0m\u001b[0m\n",
      "\u001b[1;32mC:\\ProgramData\\Anaconda3\\lib\\site-packages\\tqdm\\std.py\u001b[0m in \u001b[0;36mrefresh\u001b[1;34m(self, nolock, lock_args)\u001b[0m\n\u001b[0;32m   1336\u001b[0m             \u001b[1;32melse\u001b[0m\u001b[1;33m:\u001b[0m\u001b[1;33m\u001b[0m\u001b[1;33m\u001b[0m\u001b[0m\n\u001b[0;32m   1337\u001b[0m                 \u001b[0mself\u001b[0m\u001b[1;33m.\u001b[0m\u001b[0m_lock\u001b[0m\u001b[1;33m.\u001b[0m\u001b[0macquire\u001b[0m\u001b[1;33m(\u001b[0m\u001b[1;33m)\u001b[0m\u001b[1;33m\u001b[0m\u001b[1;33m\u001b[0m\u001b[0m\n\u001b[1;32m-> 1338\u001b[1;33m         \u001b[0mself\u001b[0m\u001b[1;33m.\u001b[0m\u001b[0mdisplay\u001b[0m\u001b[1;33m(\u001b[0m\u001b[1;33m)\u001b[0m\u001b[1;33m\u001b[0m\u001b[1;33m\u001b[0m\u001b[0m\n\u001b[0m\u001b[0;32m   1339\u001b[0m         \u001b[1;32mif\u001b[0m \u001b[1;32mnot\u001b[0m \u001b[0mnolock\u001b[0m\u001b[1;33m:\u001b[0m\u001b[1;33m\u001b[0m\u001b[1;33m\u001b[0m\u001b[0m\n\u001b[0;32m   1340\u001b[0m             \u001b[0mself\u001b[0m\u001b[1;33m.\u001b[0m\u001b[0m_lock\u001b[0m\u001b[1;33m.\u001b[0m\u001b[0mrelease\u001b[0m\u001b[1;33m(\u001b[0m\u001b[1;33m)\u001b[0m\u001b[1;33m\u001b[0m\u001b[1;33m\u001b[0m\u001b[0m\n",
      "\u001b[1;32mC:\\ProgramData\\Anaconda3\\lib\\site-packages\\tqdm\\std.py\u001b[0m in \u001b[0;36mdisplay\u001b[1;34m(self, msg, pos)\u001b[0m\n\u001b[0;32m   1468\u001b[0m \u001b[1;33m\u001b[0m\u001b[0m\n\u001b[0;32m   1469\u001b[0m         \u001b[1;32mif\u001b[0m \u001b[0mpos\u001b[0m\u001b[1;33m:\u001b[0m\u001b[1;33m\u001b[0m\u001b[1;33m\u001b[0m\u001b[0m\n\u001b[1;32m-> 1470\u001b[1;33m             \u001b[0mself\u001b[0m\u001b[1;33m.\u001b[0m\u001b[0mmoveto\u001b[0m\u001b[1;33m(\u001b[0m\u001b[0mpos\u001b[0m\u001b[1;33m)\u001b[0m\u001b[1;33m\u001b[0m\u001b[1;33m\u001b[0m\u001b[0m\n\u001b[0m\u001b[0;32m   1471\u001b[0m         \u001b[0mself\u001b[0m\u001b[1;33m.\u001b[0m\u001b[0msp\u001b[0m\u001b[1;33m(\u001b[0m\u001b[0mself\u001b[0m\u001b[1;33m.\u001b[0m\u001b[0m__repr__\u001b[0m\u001b[1;33m(\u001b[0m\u001b[1;33m)\u001b[0m \u001b[1;32mif\u001b[0m \u001b[0mmsg\u001b[0m \u001b[1;32mis\u001b[0m \u001b[1;32mNone\u001b[0m \u001b[1;32melse\u001b[0m \u001b[0mmsg\u001b[0m\u001b[1;33m)\u001b[0m\u001b[1;33m\u001b[0m\u001b[1;33m\u001b[0m\u001b[0m\n\u001b[0;32m   1472\u001b[0m         \u001b[1;32mif\u001b[0m \u001b[0mpos\u001b[0m\u001b[1;33m:\u001b[0m\u001b[1;33m\u001b[0m\u001b[1;33m\u001b[0m\u001b[0m\n",
      "\u001b[1;32mC:\\ProgramData\\Anaconda3\\lib\\site-packages\\tqdm\\std.py\u001b[0m in \u001b[0;36mmoveto\u001b[1;34m(self, n)\u001b[0m\n\u001b[0;32m   1424\u001b[0m     \u001b[1;32mdef\u001b[0m \u001b[0mmoveto\u001b[0m\u001b[1;33m(\u001b[0m\u001b[0mself\u001b[0m\u001b[1;33m,\u001b[0m \u001b[0mn\u001b[0m\u001b[1;33m)\u001b[0m\u001b[1;33m:\u001b[0m\u001b[1;33m\u001b[0m\u001b[1;33m\u001b[0m\u001b[0m\n\u001b[0;32m   1425\u001b[0m         \u001b[1;31m# TODO: private method\u001b[0m\u001b[1;33m\u001b[0m\u001b[1;33m\u001b[0m\u001b[1;33m\u001b[0m\u001b[0m\n\u001b[1;32m-> 1426\u001b[1;33m         \u001b[0mself\u001b[0m\u001b[1;33m.\u001b[0m\u001b[0mfp\u001b[0m\u001b[1;33m.\u001b[0m\u001b[0mwrite\u001b[0m\u001b[1;33m(\u001b[0m\u001b[0m_unicode\u001b[0m\u001b[1;33m(\u001b[0m\u001b[1;34m'\\n'\u001b[0m \u001b[1;33m*\u001b[0m \u001b[0mn\u001b[0m \u001b[1;33m+\u001b[0m \u001b[0m_term_move_up\u001b[0m\u001b[1;33m(\u001b[0m\u001b[1;33m)\u001b[0m \u001b[1;33m*\u001b[0m \u001b[1;33m-\u001b[0m\u001b[0mn\u001b[0m\u001b[1;33m)\u001b[0m\u001b[1;33m)\u001b[0m\u001b[1;33m\u001b[0m\u001b[1;33m\u001b[0m\u001b[0m\n\u001b[0m\u001b[0;32m   1427\u001b[0m         \u001b[0mself\u001b[0m\u001b[1;33m.\u001b[0m\u001b[0mfp\u001b[0m\u001b[1;33m.\u001b[0m\u001b[0mflush\u001b[0m\u001b[1;33m(\u001b[0m\u001b[1;33m)\u001b[0m\u001b[1;33m\u001b[0m\u001b[1;33m\u001b[0m\u001b[0m\n\u001b[0;32m   1428\u001b[0m \u001b[1;33m\u001b[0m\u001b[0m\n",
      "\u001b[1;31mAttributeError\u001b[0m: 'str' object has no attribute 'write'"
     ]
    }
   ],
   "source": [
    "tqdm('s', 'a', 'c', 'h', 'i', 'n')"
   ]
  },
  {
   "cell_type": "markdown",
   "metadata": {},
   "source": [
    "### Multiple Inputs"
   ]
  },
  {
   "cell_type": "markdown",
   "metadata": {},
   "source": [
    "task find greatest number\n",
    "\n",
    "\n",
    "Input - space seprated input\n",
    "\n",
    "    10 30 40\n",
    "\n",
    "output \n",
    "\n",
    "    40\n",
    " "
   ]
  },
  {
   "cell_type": "code",
   "execution_count": 12,
   "metadata": {},
   "outputs": [
    {
     "name": "stdout",
     "output_type": "stream",
     "text": [
      "10 30 40\n"
     ]
    }
   ],
   "source": [
    "m = input()"
   ]
  },
  {
   "cell_type": "code",
   "execution_count": 13,
   "metadata": {},
   "outputs": [
    {
     "data": {
      "text/plain": [
       "'10 30 40'"
      ]
     },
     "execution_count": 13,
     "metadata": {},
     "output_type": "execute_result"
    }
   ],
   "source": [
    "m"
   ]
  },
  {
   "cell_type": "code",
   "execution_count": 15,
   "metadata": {},
   "outputs": [],
   "source": [
    "x = m.split(' ')"
   ]
  },
  {
   "cell_type": "code",
   "execution_count": 16,
   "metadata": {},
   "outputs": [
    {
     "data": {
      "text/plain": [
       "['10', '30', '40']"
      ]
     },
     "execution_count": 16,
     "metadata": {},
     "output_type": "execute_result"
    }
   ],
   "source": [
    "x"
   ]
  },
  {
   "cell_type": "code",
   "execution_count": 17,
   "metadata": {},
   "outputs": [],
   "source": [
    "i = []\n",
    "\n",
    "for value in x:\n",
    "    i.append(int(value))"
   ]
  },
  {
   "cell_type": "code",
   "execution_count": 18,
   "metadata": {},
   "outputs": [
    {
     "data": {
      "text/plain": [
       "[10, 30, 40]"
      ]
     },
     "execution_count": 18,
     "metadata": {},
     "output_type": "execute_result"
    }
   ],
   "source": [
    "i"
   ]
  },
  {
   "cell_type": "code",
   "execution_count": 19,
   "metadata": {},
   "outputs": [],
   "source": [
    "a, b, c = i # tuple packing"
   ]
  },
  {
   "cell_type": "code",
   "execution_count": 20,
   "metadata": {},
   "outputs": [
    {
     "data": {
      "text/plain": [
       "10"
      ]
     },
     "execution_count": 20,
     "metadata": {},
     "output_type": "execute_result"
    }
   ],
   "source": [
    "a"
   ]
  },
  {
   "cell_type": "code",
   "execution_count": 21,
   "metadata": {},
   "outputs": [
    {
     "data": {
      "text/plain": [
       "30"
      ]
     },
     "execution_count": 21,
     "metadata": {},
     "output_type": "execute_result"
    }
   ],
   "source": [
    "b"
   ]
  },
  {
   "cell_type": "code",
   "execution_count": 22,
   "metadata": {},
   "outputs": [
    {
     "data": {
      "text/plain": [
       "40"
      ]
     },
     "execution_count": 22,
     "metadata": {},
     "output_type": "execute_result"
    }
   ],
   "source": [
    "c"
   ]
  },
  {
   "cell_type": "markdown",
   "metadata": {},
   "source": [
    "Hacker -> input "
   ]
  },
  {
   "cell_type": "code",
   "execution_count": 25,
   "metadata": {},
   "outputs": [
    {
     "name": "stdout",
     "output_type": "stream",
     "text": [
      "10 20 30\n"
     ]
    }
   ],
   "source": [
    "a, b, c = map(int,  input().split(' '))"
   ]
  },
  {
   "cell_type": "code",
   "execution_count": 26,
   "metadata": {},
   "outputs": [
    {
     "data": {
      "text/plain": [
       "10"
      ]
     },
     "execution_count": 26,
     "metadata": {},
     "output_type": "execute_result"
    }
   ],
   "source": [
    "a"
   ]
  },
  {
   "cell_type": "code",
   "execution_count": 27,
   "metadata": {},
   "outputs": [
    {
     "data": {
      "text/plain": [
       "20"
      ]
     },
     "execution_count": 27,
     "metadata": {},
     "output_type": "execute_result"
    }
   ],
   "source": [
    "b"
   ]
  },
  {
   "cell_type": "code",
   "execution_count": 28,
   "metadata": {},
   "outputs": [
    {
     "data": {
      "text/plain": [
       "30"
      ]
     },
     "execution_count": 28,
     "metadata": {},
     "output_type": "execute_result"
    }
   ],
   "source": [
    "c"
   ]
  },
  {
   "cell_type": "code",
   "execution_count": 29,
   "metadata": {},
   "outputs": [
    {
     "name": "stdout",
     "output_type": "stream",
     "text": [
      "1 2 3 4 5\n"
     ]
    }
   ],
   "source": [
    "l = list(map(int, input().split(' ')))"
   ]
  },
  {
   "cell_type": "code",
   "execution_count": 30,
   "metadata": {},
   "outputs": [
    {
     "data": {
      "text/plain": [
       "[1, 2, 3, 4, 5]"
      ]
     },
     "execution_count": 30,
     "metadata": {},
     "output_type": "execute_result"
    }
   ],
   "source": [
    "l"
   ]
  },
  {
   "cell_type": "code",
   "execution_count": 31,
   "metadata": {},
   "outputs": [],
   "source": [
    "def func(num):\n",
    "    return num ** 2 "
   ]
  },
  {
   "cell_type": "code",
   "execution_count": 33,
   "metadata": {},
   "outputs": [],
   "source": [
    "result = func(5)"
   ]
  },
  {
   "cell_type": "code",
   "execution_count": 34,
   "metadata": {},
   "outputs": [
    {
     "name": "stdout",
     "output_type": "stream",
     "text": [
      "25\n"
     ]
    }
   ],
   "source": [
    "print(result)"
   ]
  },
  {
   "cell_type": "code",
   "execution_count": 35,
   "metadata": {},
   "outputs": [
    {
     "ename": "NameError",
     "evalue": "name 'num' is not defined",
     "output_type": "error",
     "traceback": [
      "\u001b[1;31m---------------------------------------------------------------------------\u001b[0m",
      "\u001b[1;31mNameError\u001b[0m                                 Traceback (most recent call last)",
      "\u001b[1;32m<ipython-input-35-c774dac2b598>\u001b[0m in \u001b[0;36m<module>\u001b[1;34m\u001b[0m\n\u001b[1;32m----> 1\u001b[1;33m \u001b[0mnum\u001b[0m\u001b[1;33m\u001b[0m\u001b[1;33m\u001b[0m\u001b[0m\n\u001b[0m",
      "\u001b[1;31mNameError\u001b[0m: name 'num' is not defined"
     ]
    }
   ],
   "source": [
    "num"
   ]
  },
  {
   "cell_type": "code",
   "execution_count": 39,
   "metadata": {},
   "outputs": [],
   "source": [
    "def hello(*vars, key='value'): # keyword only argumng\n",
    "    print(\"vars\", vars)\n",
    "    print(\"key \", key)"
   ]
  },
  {
   "cell_type": "code",
   "execution_count": 38,
   "metadata": {},
   "outputs": [
    {
     "ename": "SyntaxError",
     "evalue": "positional argument follows keyword argument (<ipython-input-38-6aaed2cd3f28>, line 1)",
     "output_type": "error",
     "traceback": [
      "\u001b[1;36m  File \u001b[1;32m\"<ipython-input-38-6aaed2cd3f28>\"\u001b[1;36m, line \u001b[1;32m1\u001b[0m\n\u001b[1;33m    hello(key='hi', 1, 2,3 ,4 )\u001b[0m\n\u001b[1;37m                    ^\u001b[0m\n\u001b[1;31mSyntaxError\u001b[0m\u001b[1;31m:\u001b[0m positional argument follows keyword argument\n"
     ]
    }
   ],
   "source": [
    "hello(key='hi', 1, 2,3 ,4 )"
   ]
  },
  {
   "cell_type": "code",
   "execution_count": 41,
   "metadata": {},
   "outputs": [
    {
     "name": "stdout",
     "output_type": "stream",
     "text": [
      "vars (1, 2, 3, 4)\n",
      "key  new value\n"
     ]
    }
   ],
   "source": [
    "hello(1, 2,3 ,4 , key='new value')"
   ]
  },
  {
   "cell_type": "code",
   "execution_count": 42,
   "metadata": {},
   "outputs": [
    {
     "name": "stdout",
     "output_type": "stream",
     "text": [
      "vars (1, 2, 3)\n",
      "key  value\n"
     ]
    }
   ],
   "source": [
    "hello(1, 2, 3)"
   ]
  },
  {
   "cell_type": "code",
   "execution_count": 43,
   "metadata": {},
   "outputs": [],
   "source": [
    "# source code --> program --> run --> function defination "
   ]
  },
  {
   "cell_type": "code",
   "execution_count": null,
   "metadata": {},
   "outputs": [],
   "source": [
    "# data temprory --> global / local "
   ]
  }
 ],
 "metadata": {
  "kernelspec": {
   "display_name": "Python 3",
   "language": "python",
   "name": "python3"
  },
  "language_info": {
   "codemirror_mode": {
    "name": "ipython",
    "version": 3
   },
   "file_extension": ".py",
   "mimetype": "text/x-python",
   "name": "python",
   "nbconvert_exporter": "python",
   "pygments_lexer": "ipython3",
   "version": "3.8.3"
  }
 },
 "nbformat": 4,
 "nbformat_minor": 4
}
